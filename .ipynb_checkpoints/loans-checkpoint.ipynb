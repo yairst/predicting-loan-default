{
 "cells": [
  {
   "cell_type": "code",
   "execution_count": 1,
   "metadata": {
    "collapsed": true
   },
   "outputs": [],
   "source": [
    "# for auto-reload user code (imported py file) on each execution of code from it\n",
    "# need to be executed only once\n",
    "%load_ext autoreload\n",
    "%autoreload 2"
   ]
  },
  {
   "cell_type": "code",
   "execution_count": 2,
   "metadata": {
    "collapsed": true
   },
   "outputs": [],
   "source": [
    "import pandas as pd\n",
    "import matplotlib.pyplot as plt\n",
    "import seaborn as sns\n",
    "import plot_utils\n",
    "import numpy as np\n",
    "from sklearn.model_selection import train_test_split, GridSearchCV, StratifiedKFold\n",
    "from sklearn.preprocessing import StandardScaler, LabelEncoder, OneHotEncoder\n",
    "from sklearn.feature_extraction import DictVectorizer\n",
    "from sklearn.metrics import accuracy_score, f1_score, confusion_matrix, classification_report, roc_auc_score\n",
    "from sklearn.svm import LinearSVC, SVC\n",
    "from sklearn.feature_selection import SelectFromModel, RFECV\n",
    "from sklearn.ensemble import RandomForestClassifier\n",
    "from sklearn.base import BaseEstimator, TransformerMixin\n",
    "from sklearn.pipeline import Pipeline, FeatureUnion\n",
    "from sklearn.naive_bayes import BernoulliNB, GaussianNB\n",
    "\n",
    "sns.set()\n",
    "% matplotlib inline"
   ]
  },
  {
   "cell_type": "markdown",
   "metadata": {},
   "source": [
    "## TODO\n",
    "categorize numerical features using pandas.cut, pandas.qcut or numpy.histogram"
   ]
  },
  {
   "cell_type": "markdown",
   "metadata": {},
   "source": [
    "first glance at the dataset:"
   ]
  },
  {
   "cell_type": "code",
   "execution_count": 3,
   "metadata": {},
   "outputs": [
    {
     "data": {
      "text/html": [
       "<div>\n",
       "<style>\n",
       "    .dataframe thead tr:only-child th {\n",
       "        text-align: right;\n",
       "    }\n",
       "\n",
       "    .dataframe thead th {\n",
       "        text-align: left;\n",
       "    }\n",
       "\n",
       "    .dataframe tbody tr th {\n",
       "        vertical-align: top;\n",
       "    }\n",
       "</style>\n",
       "<table border=\"1\" class=\"dataframe\">\n",
       "  <thead>\n",
       "    <tr style=\"text-align: right;\">\n",
       "      <th></th>\n",
       "      <th>checking_status</th>\n",
       "      <th>duration</th>\n",
       "      <th>credit_history</th>\n",
       "      <th>purpose</th>\n",
       "      <th>credit_amount</th>\n",
       "      <th>savings_status</th>\n",
       "      <th>employment</th>\n",
       "      <th>installment_commitment</th>\n",
       "      <th>personal_status</th>\n",
       "      <th>other_parties</th>\n",
       "      <th>...</th>\n",
       "      <th>property_magnitude</th>\n",
       "      <th>age</th>\n",
       "      <th>other_payment_plans</th>\n",
       "      <th>housing</th>\n",
       "      <th>existing_credits</th>\n",
       "      <th>job</th>\n",
       "      <th>num_dependents</th>\n",
       "      <th>own_telephone</th>\n",
       "      <th>foreign_worker</th>\n",
       "      <th>class</th>\n",
       "    </tr>\n",
       "  </thead>\n",
       "  <tbody>\n",
       "    <tr>\n",
       "      <th>0</th>\n",
       "      <td>'&lt;0'</td>\n",
       "      <td>6</td>\n",
       "      <td>'critical/other existing credit'</td>\n",
       "      <td>radio/tv</td>\n",
       "      <td>1169</td>\n",
       "      <td>'no known savings'</td>\n",
       "      <td>'&gt;=7'</td>\n",
       "      <td>4</td>\n",
       "      <td>'male single'</td>\n",
       "      <td>none</td>\n",
       "      <td>...</td>\n",
       "      <td>'real estate'</td>\n",
       "      <td>67</td>\n",
       "      <td>none</td>\n",
       "      <td>own</td>\n",
       "      <td>2</td>\n",
       "      <td>skilled</td>\n",
       "      <td>1</td>\n",
       "      <td>yes</td>\n",
       "      <td>yes</td>\n",
       "      <td>good</td>\n",
       "    </tr>\n",
       "    <tr>\n",
       "      <th>1</th>\n",
       "      <td>'0&lt;=X&lt;200'</td>\n",
       "      <td>48</td>\n",
       "      <td>'existing paid'</td>\n",
       "      <td>radio/tv</td>\n",
       "      <td>5951</td>\n",
       "      <td>'&lt;100'</td>\n",
       "      <td>'1&lt;=X&lt;4'</td>\n",
       "      <td>2</td>\n",
       "      <td>'female div/dep/mar'</td>\n",
       "      <td>none</td>\n",
       "      <td>...</td>\n",
       "      <td>'real estate'</td>\n",
       "      <td>22</td>\n",
       "      <td>none</td>\n",
       "      <td>own</td>\n",
       "      <td>1</td>\n",
       "      <td>skilled</td>\n",
       "      <td>1</td>\n",
       "      <td>none</td>\n",
       "      <td>yes</td>\n",
       "      <td>bad</td>\n",
       "    </tr>\n",
       "    <tr>\n",
       "      <th>2</th>\n",
       "      <td>'no checking'</td>\n",
       "      <td>12</td>\n",
       "      <td>'critical/other existing credit'</td>\n",
       "      <td>education</td>\n",
       "      <td>2096</td>\n",
       "      <td>'&lt;100'</td>\n",
       "      <td>'4&lt;=X&lt;7'</td>\n",
       "      <td>2</td>\n",
       "      <td>'male single'</td>\n",
       "      <td>none</td>\n",
       "      <td>...</td>\n",
       "      <td>'real estate'</td>\n",
       "      <td>49</td>\n",
       "      <td>none</td>\n",
       "      <td>own</td>\n",
       "      <td>1</td>\n",
       "      <td>'unskilled resident'</td>\n",
       "      <td>2</td>\n",
       "      <td>none</td>\n",
       "      <td>yes</td>\n",
       "      <td>good</td>\n",
       "    </tr>\n",
       "    <tr>\n",
       "      <th>3</th>\n",
       "      <td>'&lt;0'</td>\n",
       "      <td>42</td>\n",
       "      <td>'existing paid'</td>\n",
       "      <td>furniture/equipment</td>\n",
       "      <td>7882</td>\n",
       "      <td>'&lt;100'</td>\n",
       "      <td>'4&lt;=X&lt;7'</td>\n",
       "      <td>2</td>\n",
       "      <td>'male single'</td>\n",
       "      <td>guarantor</td>\n",
       "      <td>...</td>\n",
       "      <td>'life insurance'</td>\n",
       "      <td>45</td>\n",
       "      <td>none</td>\n",
       "      <td>'for free'</td>\n",
       "      <td>1</td>\n",
       "      <td>skilled</td>\n",
       "      <td>2</td>\n",
       "      <td>none</td>\n",
       "      <td>yes</td>\n",
       "      <td>good</td>\n",
       "    </tr>\n",
       "    <tr>\n",
       "      <th>4</th>\n",
       "      <td>'&lt;0'</td>\n",
       "      <td>24</td>\n",
       "      <td>'delayed previously'</td>\n",
       "      <td>'new car'</td>\n",
       "      <td>4870</td>\n",
       "      <td>'&lt;100'</td>\n",
       "      <td>'1&lt;=X&lt;4'</td>\n",
       "      <td>3</td>\n",
       "      <td>'male single'</td>\n",
       "      <td>none</td>\n",
       "      <td>...</td>\n",
       "      <td>'no known property'</td>\n",
       "      <td>53</td>\n",
       "      <td>none</td>\n",
       "      <td>'for free'</td>\n",
       "      <td>2</td>\n",
       "      <td>skilled</td>\n",
       "      <td>2</td>\n",
       "      <td>none</td>\n",
       "      <td>yes</td>\n",
       "      <td>bad</td>\n",
       "    </tr>\n",
       "  </tbody>\n",
       "</table>\n",
       "<p>5 rows × 21 columns</p>\n",
       "</div>"
      ],
      "text/plain": [
       "  checking_status  duration                    credit_history  \\\n",
       "0            '<0'         6  'critical/other existing credit'   \n",
       "1      '0<=X<200'        48                   'existing paid'   \n",
       "2   'no checking'        12  'critical/other existing credit'   \n",
       "3            '<0'        42                   'existing paid'   \n",
       "4            '<0'        24              'delayed previously'   \n",
       "\n",
       "               purpose  credit_amount      savings_status employment  \\\n",
       "0             radio/tv           1169  'no known savings'      '>=7'   \n",
       "1             radio/tv           5951              '<100'   '1<=X<4'   \n",
       "2            education           2096              '<100'   '4<=X<7'   \n",
       "3  furniture/equipment           7882              '<100'   '4<=X<7'   \n",
       "4            'new car'           4870              '<100'   '1<=X<4'   \n",
       "\n",
       "   installment_commitment       personal_status other_parties  ...   \\\n",
       "0                       4         'male single'          none  ...    \n",
       "1                       2  'female div/dep/mar'          none  ...    \n",
       "2                       2         'male single'          none  ...    \n",
       "3                       2         'male single'     guarantor  ...    \n",
       "4                       3         'male single'          none  ...    \n",
       "\n",
       "    property_magnitude age  other_payment_plans     housing existing_credits  \\\n",
       "0        'real estate'  67                 none         own                2   \n",
       "1        'real estate'  22                 none         own                1   \n",
       "2        'real estate'  49                 none         own                1   \n",
       "3     'life insurance'  45                 none  'for free'                1   \n",
       "4  'no known property'  53                 none  'for free'                2   \n",
       "\n",
       "                    job num_dependents  own_telephone foreign_worker class  \n",
       "0               skilled              1            yes            yes  good  \n",
       "1               skilled              1           none            yes   bad  \n",
       "2  'unskilled resident'              2           none            yes  good  \n",
       "3               skilled              2           none            yes  good  \n",
       "4               skilled              2           none            yes   bad  \n",
       "\n",
       "[5 rows x 21 columns]"
      ]
     },
     "execution_count": 3,
     "metadata": {},
     "output_type": "execute_result"
    }
   ],
   "source": [
    "df = pd.read_csv('dataset.csv')\n",
    "df.head()"
   ]
  },
  {
   "cell_type": "markdown",
   "metadata": {},
   "source": [
    "# Reports"
   ]
  },
  {
   "cell_type": "markdown",
   "metadata": {},
   "source": [
    "### Credit amount as function of purpose"
   ]
  },
  {
   "cell_type": "markdown",
   "metadata": {},
   "source": [
    "graph:"
   ]
  },
  {
   "cell_type": "code",
   "execution_count": 4,
   "metadata": {},
   "outputs": [
    {
     "data": {
      "text/plain": [
       "<matplotlib.axes._subplots.AxesSubplot at 0x1d22ccf6400>"
      ]
     },
     "execution_count": 4,
     "metadata": {},
     "output_type": "execute_result"
    },
    {
     "data": {
      "image/png": "[encoded data removed]",
      "text/plain": [
       "<matplotlib.figure.Figure at 0x1d22ccea160>"
      ]
     },
     "metadata": {},
     "output_type": "display_data"
    }
   ],
   "source": [
    "plt.figure(figsize=(15,10))\n",
    "sns.boxplot(x=\"purpose\", y=\"credit_amount\", data=df)"
   ]
  },
  {
   "cell_type": "markdown",
   "metadata": {},
   "source": [
    "In general the credits are higher for used car or buisness loans."
   ]
  },
  {
   "cell_type": "markdown",
   "metadata": {},
   "source": [
    "table:"
   ]
  },
  {
   "cell_type": "code",
   "execution_count": 5,
   "metadata": {},
   "outputs": [
    {
     "data": {
      "text/html": [
       "<div>\n",
       "<style>\n",
       "    .dataframe thead tr:only-child th {\n",
       "        text-align: right;\n",
       "    }\n",
       "\n",
       "    .dataframe thead th {\n",
       "        text-align: left;\n",
       "    }\n",
       "\n",
       "    .dataframe tbody tr th {\n",
       "        vertical-align: top;\n",
       "    }\n",
       "</style>\n",
       "<table border=\"1\" class=\"dataframe\">\n",
       "  <thead>\n",
       "    <tr style=\"text-align: right;\">\n",
       "      <th></th>\n",
       "      <th>count</th>\n",
       "      <th>mean</th>\n",
       "      <th>std</th>\n",
       "      <th>min</th>\n",
       "      <th>25%</th>\n",
       "      <th>50%</th>\n",
       "      <th>75%</th>\n",
       "      <th>max</th>\n",
       "    </tr>\n",
       "    <tr>\n",
       "      <th>purpose</th>\n",
       "      <th></th>\n",
       "      <th></th>\n",
       "      <th></th>\n",
       "      <th></th>\n",
       "      <th></th>\n",
       "      <th></th>\n",
       "      <th></th>\n",
       "      <th></th>\n",
       "    </tr>\n",
       "  </thead>\n",
       "  <tbody>\n",
       "    <tr>\n",
       "      <th>other</th>\n",
       "      <td>12.0</td>\n",
       "      <td>8209.333333</td>\n",
       "      <td>6112.703156</td>\n",
       "      <td>1164.0</td>\n",
       "      <td>2410.50</td>\n",
       "      <td>6948.0</td>\n",
       "      <td>12649.00</td>\n",
       "      <td>18424.0</td>\n",
       "    </tr>\n",
       "    <tr>\n",
       "      <th>'used car'</th>\n",
       "      <td>103.0</td>\n",
       "      <td>5370.223301</td>\n",
       "      <td>2890.972185</td>\n",
       "      <td>1236.0</td>\n",
       "      <td>2917.00</td>\n",
       "      <td>4788.0</td>\n",
       "      <td>7498.00</td>\n",
       "      <td>12976.0</td>\n",
       "    </tr>\n",
       "    <tr>\n",
       "      <th>business</th>\n",
       "      <td>97.0</td>\n",
       "      <td>4158.041237</td>\n",
       "      <td>3231.484456</td>\n",
       "      <td>609.0</td>\n",
       "      <td>1908.00</td>\n",
       "      <td>3161.0</td>\n",
       "      <td>5293.00</td>\n",
       "      <td>15945.0</td>\n",
       "    </tr>\n",
       "    <tr>\n",
       "      <th>education</th>\n",
       "      <td>50.0</td>\n",
       "      <td>3180.400000</td>\n",
       "      <td>3017.942000</td>\n",
       "      <td>392.0</td>\n",
       "      <td>1198.25</td>\n",
       "      <td>1884.5</td>\n",
       "      <td>4425.25</td>\n",
       "      <td>12612.0</td>\n",
       "    </tr>\n",
       "    <tr>\n",
       "      <th>furniture/equipment</th>\n",
       "      <td>181.0</td>\n",
       "      <td>3066.988950</td>\n",
       "      <td>2034.146228</td>\n",
       "      <td>428.0</td>\n",
       "      <td>1747.00</td>\n",
       "      <td>2578.0</td>\n",
       "      <td>3643.00</td>\n",
       "      <td>14179.0</td>\n",
       "    </tr>\n",
       "    <tr>\n",
       "      <th>'new car'</th>\n",
       "      <td>234.0</td>\n",
       "      <td>3063.025641</td>\n",
       "      <td>2962.645077</td>\n",
       "      <td>250.0</td>\n",
       "      <td>1241.50</td>\n",
       "      <td>1980.0</td>\n",
       "      <td>3632.50</td>\n",
       "      <td>14896.0</td>\n",
       "    </tr>\n",
       "    <tr>\n",
       "      <th>repairs</th>\n",
       "      <td>22.0</td>\n",
       "      <td>2728.090909</td>\n",
       "      <td>2627.490364</td>\n",
       "      <td>454.0</td>\n",
       "      <td>1214.50</td>\n",
       "      <td>1749.0</td>\n",
       "      <td>3203.25</td>\n",
       "      <td>11998.0</td>\n",
       "    </tr>\n",
       "    <tr>\n",
       "      <th>radio/tv</th>\n",
       "      <td>280.0</td>\n",
       "      <td>2487.653571</td>\n",
       "      <td>2073.693150</td>\n",
       "      <td>338.0</td>\n",
       "      <td>1261.00</td>\n",
       "      <td>1890.0</td>\n",
       "      <td>3038.00</td>\n",
       "      <td>15653.0</td>\n",
       "    </tr>\n",
       "    <tr>\n",
       "      <th>'domestic appliance'</th>\n",
       "      <td>12.0</td>\n",
       "      <td>1498.000000</td>\n",
       "      <td>1012.510741</td>\n",
       "      <td>343.0</td>\n",
       "      <td>1131.25</td>\n",
       "      <td>1249.0</td>\n",
       "      <td>1359.50</td>\n",
       "      <td>3990.0</td>\n",
       "    </tr>\n",
       "    <tr>\n",
       "      <th>retraining</th>\n",
       "      <td>9.0</td>\n",
       "      <td>1205.888889</td>\n",
       "      <td>891.481274</td>\n",
       "      <td>339.0</td>\n",
       "      <td>894.00</td>\n",
       "      <td>932.0</td>\n",
       "      <td>1238.00</td>\n",
       "      <td>3447.0</td>\n",
       "    </tr>\n",
       "  </tbody>\n",
       "</table>\n",
       "</div>"
      ],
      "text/plain": [
       "                      count         mean          std     min      25%  \\\n",
       "purpose                                                                  \n",
       "other                  12.0  8209.333333  6112.703156  1164.0  2410.50   \n",
       "'used car'            103.0  5370.223301  2890.972185  1236.0  2917.00   \n",
       "business               97.0  4158.041237  3231.484456   609.0  1908.00   \n",
       "education              50.0  3180.400000  3017.942000   392.0  1198.25   \n",
       "furniture/equipment   181.0  3066.988950  2034.146228   428.0  1747.00   \n",
       "'new car'             234.0  3063.025641  2962.645077   250.0  1241.50   \n",
       "repairs                22.0  2728.090909  2627.490364   454.0  1214.50   \n",
       "radio/tv              280.0  2487.653571  2073.693150   338.0  1261.00   \n",
       "'domestic appliance'   12.0  1498.000000  1012.510741   343.0  1131.25   \n",
       "retraining              9.0  1205.888889   891.481274   339.0   894.00   \n",
       "\n",
       "                         50%       75%      max  \n",
       "purpose                                          \n",
       "other                 6948.0  12649.00  18424.0  \n",
       "'used car'            4788.0   7498.00  12976.0  \n",
       "business              3161.0   5293.00  15945.0  \n",
       "education             1884.5   4425.25  12612.0  \n",
       "furniture/equipment   2578.0   3643.00  14179.0  \n",
       "'new car'             1980.0   3632.50  14896.0  \n",
       "repairs               1749.0   3203.25  11998.0  \n",
       "radio/tv              1890.0   3038.00  15653.0  \n",
       "'domestic appliance'  1249.0   1359.50   3990.0  \n",
       "retraining             932.0   1238.00   3447.0  "
      ]
     },
     "execution_count": 5,
     "metadata": {},
     "output_type": "execute_result"
    }
   ],
   "source": [
    "grouped = df.groupby('purpose')\n",
    "grouped['credit_amount'].describe().sort_values('mean', ascending = False)"
   ]
  },
  {
   "cell_type": "markdown",
   "metadata": {
    "collapsed": true
   },
   "source": [
    "### Total amount of loans greater than 10,000 that were given to unemployed males over the age of 30 "
   ]
  },
  {
   "cell_type": "code",
   "execution_count": 6,
   "metadata": {},
   "outputs": [
    {
     "name": "stdout",
     "output_type": "stream",
     "text": [
      "[\"'male single'\" \"'female div/dep/mar'\" \"'male div/sep'\" \"'male mar/wid'\"]\n"
     ]
    }
   ],
   "source": [
    "print(df.personal_status.unique())\n"
   ]
  },
  {
   "cell_type": "code",
   "execution_count": 7,
   "metadata": {},
   "outputs": [
    {
     "data": {
      "text/plain": [
       "28026"
      ]
     },
     "execution_count": 7,
     "metadata": {},
     "output_type": "execute_result"
    }
   ],
   "source": [
    "(df[(df['personal_status'] != \"'female div/dep/mar'\") &\n",
    "          (df['employment'] == \"unemployed\") &\n",
    "          (df['age'] > 30) &\n",
    "          (df['credit_amount'] > 10000)].credit_amount.sum())\n",
    " "
   ]
  },
  {
   "cell_type": "markdown",
   "metadata": {},
   "source": [
    "### Credit Amount distribution as function of personal status"
   ]
  },
  {
   "cell_type": "markdown",
   "metadata": {},
   "source": [
    "graph:"
   ]
  },
  {
   "cell_type": "code",
   "execution_count": 8,
   "metadata": {},
   "outputs": [
    {
     "data": {
      "text/plain": [
       "<matplotlib.axes._subplots.AxesSubplot at 0x1d22d19e2e8>"
      ]
     },
     "execution_count": 8,
     "metadata": {},
     "output_type": "execute_result"
    },
    {
     "data": {
      "image/png": "[encoded data removed]",
      "text/plain": [
       "<matplotlib.figure.Figure at 0x1d22d511668>"
      ]
     },
     "metadata": {},
     "output_type": "display_data"
    }
   ],
   "source": [
    "plt.figure(figsize=(15,10))\n",
    "sns.violinplot(x=\"personal_status\", y=\"credit_amount\", data=df)"
   ]
  },
  {
   "cell_type": "markdown",
   "metadata": {},
   "source": [
    "table:"
   ]
  },
  {
   "cell_type": "code",
   "execution_count": 9,
   "metadata": {},
   "outputs": [
    {
     "data": {
      "text/html": [
       "<div>\n",
       "<style>\n",
       "    .dataframe thead tr:only-child th {\n",
       "        text-align: right;\n",
       "    }\n",
       "\n",
       "    .dataframe thead th {\n",
       "        text-align: left;\n",
       "    }\n",
       "\n",
       "    .dataframe tbody tr th {\n",
       "        vertical-align: top;\n",
       "    }\n",
       "</style>\n",
       "<table border=\"1\" class=\"dataframe\">\n",
       "  <thead>\n",
       "    <tr style=\"text-align: right;\">\n",
       "      <th></th>\n",
       "      <th>count</th>\n",
       "      <th>mean</th>\n",
       "      <th>std</th>\n",
       "      <th>min</th>\n",
       "      <th>25%</th>\n",
       "      <th>50%</th>\n",
       "      <th>75%</th>\n",
       "      <th>max</th>\n",
       "    </tr>\n",
       "    <tr>\n",
       "      <th>personal_status</th>\n",
       "      <th></th>\n",
       "      <th></th>\n",
       "      <th></th>\n",
       "      <th></th>\n",
       "      <th></th>\n",
       "      <th></th>\n",
       "      <th></th>\n",
       "      <th></th>\n",
       "    </tr>\n",
       "  </thead>\n",
       "  <tbody>\n",
       "    <tr>\n",
       "      <th>'male div/sep'</th>\n",
       "      <td>50.0</td>\n",
       "      <td>3684.700000</td>\n",
       "      <td>3060.555874</td>\n",
       "      <td>640.0</td>\n",
       "      <td>1641.00</td>\n",
       "      <td>2793.5</td>\n",
       "      <td>4021.25</td>\n",
       "      <td>15857.0</td>\n",
       "    </tr>\n",
       "    <tr>\n",
       "      <th>'male single'</th>\n",
       "      <td>548.0</td>\n",
       "      <td>3661.903285</td>\n",
       "      <td>2980.373319</td>\n",
       "      <td>338.0</td>\n",
       "      <td>1543.50</td>\n",
       "      <td>2666.0</td>\n",
       "      <td>4680.75</td>\n",
       "      <td>15945.0</td>\n",
       "    </tr>\n",
       "    <tr>\n",
       "      <th>'female div/dep/mar'</th>\n",
       "      <td>310.0</td>\n",
       "      <td>2877.774194</td>\n",
       "      <td>2603.141613</td>\n",
       "      <td>250.0</td>\n",
       "      <td>1247.50</td>\n",
       "      <td>1959.0</td>\n",
       "      <td>3606.50</td>\n",
       "      <td>18424.0</td>\n",
       "    </tr>\n",
       "    <tr>\n",
       "      <th>'male mar/wid'</th>\n",
       "      <td>92.0</td>\n",
       "      <td>2045.543478</td>\n",
       "      <td>1721.921597</td>\n",
       "      <td>276.0</td>\n",
       "      <td>1019.75</td>\n",
       "      <td>1476.0</td>\n",
       "      <td>2256.25</td>\n",
       "      <td>9398.0</td>\n",
       "    </tr>\n",
       "  </tbody>\n",
       "</table>\n",
       "</div>"
      ],
      "text/plain": [
       "                      count         mean          std    min      25%     50%  \\\n",
       "personal_status                                                                 \n",
       "'male div/sep'         50.0  3684.700000  3060.555874  640.0  1641.00  2793.5   \n",
       "'male single'         548.0  3661.903285  2980.373319  338.0  1543.50  2666.0   \n",
       "'female div/dep/mar'  310.0  2877.774194  2603.141613  250.0  1247.50  1959.0   \n",
       "'male mar/wid'         92.0  2045.543478  1721.921597  276.0  1019.75  1476.0   \n",
       "\n",
       "                          75%      max  \n",
       "personal_status                         \n",
       "'male div/sep'        4021.25  15857.0  \n",
       "'male single'         4680.75  15945.0  \n",
       "'female div/dep/mar'  3606.50  18424.0  \n",
       "'male mar/wid'        2256.25   9398.0  "
      ]
     },
     "execution_count": 9,
     "metadata": {},
     "output_type": "execute_result"
    }
   ],
   "source": [
    "df.groupby('personal_status').credit_amount.describe().sort_values(by='mean', ascending = False)"
   ]
  },
  {
   "cell_type": "markdown",
   "metadata": {},
   "source": [
    "### Number of Customers who are employed over 4 years"
   ]
  },
  {
   "cell_type": "code",
   "execution_count": 10,
   "metadata": {},
   "outputs": [
    {
     "data": {
      "text/plain": [
       "array([\"'>=7'\", \"'1<=X<4'\", \"'4<=X<7'\", 'unemployed', \"'<1'\"], dtype=object)"
      ]
     },
     "execution_count": 10,
     "metadata": {},
     "output_type": "execute_result"
    }
   ],
   "source": [
    "df['employment'].unique()"
   ]
  },
  {
   "cell_type": "code",
   "execution_count": 11,
   "metadata": {},
   "outputs": [
    {
     "data": {
      "text/plain": [
       "427"
      ]
     },
     "execution_count": 11,
     "metadata": {},
     "output_type": "execute_result"
    }
   ],
   "source": [
    "((df['employment'] == \"'>=7'\") | (df['employment'] == \"'4<=X<7'\")).sum()"
   ]
  },
  {
   "cell_type": "markdown",
   "metadata": {},
   "source": [
    "## Train a Model, Test and Evaluate"
   ]
  },
  {
   "cell_type": "markdown",
   "metadata": {},
   "source": [
    "split to train and test:"
   ]
  },
  {
   "cell_type": "code",
   "execution_count": 12,
   "metadata": {},
   "outputs": [
    {
     "data": {
      "text/html": [
       "<div>\n",
       "<style>\n",
       "    .dataframe thead tr:only-child th {\n",
       "        text-align: right;\n",
       "    }\n",
       "\n",
       "    .dataframe thead th {\n",
       "        text-align: left;\n",
       "    }\n",
       "\n",
       "    .dataframe tbody tr th {\n",
       "        vertical-align: top;\n",
       "    }\n",
       "</style>\n",
       "<table border=\"1\" class=\"dataframe\">\n",
       "  <thead>\n",
       "    <tr style=\"text-align: right;\">\n",
       "      <th></th>\n",
       "      <th>checking_status</th>\n",
       "      <th>duration</th>\n",
       "      <th>credit_history</th>\n",
       "      <th>purpose</th>\n",
       "      <th>credit_amount</th>\n",
       "      <th>savings_status</th>\n",
       "      <th>employment</th>\n",
       "      <th>installment_commitment</th>\n",
       "      <th>personal_status</th>\n",
       "      <th>other_parties</th>\n",
       "      <th>residence_since</th>\n",
       "      <th>property_magnitude</th>\n",
       "      <th>age</th>\n",
       "      <th>other_payment_plans</th>\n",
       "      <th>housing</th>\n",
       "      <th>existing_credits</th>\n",
       "      <th>job</th>\n",
       "      <th>num_dependents</th>\n",
       "      <th>own_telephone</th>\n",
       "      <th>foreign_worker</th>\n",
       "    </tr>\n",
       "  </thead>\n",
       "  <tbody>\n",
       "    <tr>\n",
       "      <th>29</th>\n",
       "      <td>'&lt;0'</td>\n",
       "      <td>60</td>\n",
       "      <td>'delayed previously'</td>\n",
       "      <td>business</td>\n",
       "      <td>6836</td>\n",
       "      <td>'&lt;100'</td>\n",
       "      <td>'&gt;=7'</td>\n",
       "      <td>3</td>\n",
       "      <td>'male single'</td>\n",
       "      <td>none</td>\n",
       "      <td>4</td>\n",
       "      <td>'no known property'</td>\n",
       "      <td>63</td>\n",
       "      <td>none</td>\n",
       "      <td>own</td>\n",
       "      <td>2</td>\n",
       "      <td>skilled</td>\n",
       "      <td>1</td>\n",
       "      <td>yes</td>\n",
       "      <td>yes</td>\n",
       "    </tr>\n",
       "    <tr>\n",
       "      <th>535</th>\n",
       "      <td>'&gt;=200'</td>\n",
       "      <td>21</td>\n",
       "      <td>'critical/other existing credit'</td>\n",
       "      <td>education</td>\n",
       "      <td>2319</td>\n",
       "      <td>'&lt;100'</td>\n",
       "      <td>'&lt;1'</td>\n",
       "      <td>2</td>\n",
       "      <td>'male div/sep'</td>\n",
       "      <td>none</td>\n",
       "      <td>1</td>\n",
       "      <td>car</td>\n",
       "      <td>33</td>\n",
       "      <td>none</td>\n",
       "      <td>rent</td>\n",
       "      <td>1</td>\n",
       "      <td>skilled</td>\n",
       "      <td>1</td>\n",
       "      <td>none</td>\n",
       "      <td>yes</td>\n",
       "    </tr>\n",
       "    <tr>\n",
       "      <th>695</th>\n",
       "      <td>'no checking'</td>\n",
       "      <td>6</td>\n",
       "      <td>'existing paid'</td>\n",
       "      <td>'used car'</td>\n",
       "      <td>1236</td>\n",
       "      <td>'500&lt;=X&lt;1000'</td>\n",
       "      <td>'1&lt;=X&lt;4'</td>\n",
       "      <td>2</td>\n",
       "      <td>'male single'</td>\n",
       "      <td>none</td>\n",
       "      <td>4</td>\n",
       "      <td>'life insurance'</td>\n",
       "      <td>50</td>\n",
       "      <td>none</td>\n",
       "      <td>rent</td>\n",
       "      <td>1</td>\n",
       "      <td>skilled</td>\n",
       "      <td>1</td>\n",
       "      <td>none</td>\n",
       "      <td>yes</td>\n",
       "    </tr>\n",
       "    <tr>\n",
       "      <th>557</th>\n",
       "      <td>'no checking'</td>\n",
       "      <td>21</td>\n",
       "      <td>'no credits/all paid'</td>\n",
       "      <td>'new car'</td>\n",
       "      <td>5003</td>\n",
       "      <td>'no known savings'</td>\n",
       "      <td>'1&lt;=X&lt;4'</td>\n",
       "      <td>1</td>\n",
       "      <td>'female div/dep/mar'</td>\n",
       "      <td>none</td>\n",
       "      <td>4</td>\n",
       "      <td>'life insurance'</td>\n",
       "      <td>29</td>\n",
       "      <td>bank</td>\n",
       "      <td>own</td>\n",
       "      <td>2</td>\n",
       "      <td>skilled</td>\n",
       "      <td>1</td>\n",
       "      <td>yes</td>\n",
       "      <td>yes</td>\n",
       "    </tr>\n",
       "    <tr>\n",
       "      <th>836</th>\n",
       "      <td>'no checking'</td>\n",
       "      <td>12</td>\n",
       "      <td>'existing paid'</td>\n",
       "      <td>radio/tv</td>\n",
       "      <td>886</td>\n",
       "      <td>'no known savings'</td>\n",
       "      <td>'1&lt;=X&lt;4'</td>\n",
       "      <td>4</td>\n",
       "      <td>'female div/dep/mar'</td>\n",
       "      <td>none</td>\n",
       "      <td>2</td>\n",
       "      <td>car</td>\n",
       "      <td>21</td>\n",
       "      <td>none</td>\n",
       "      <td>own</td>\n",
       "      <td>1</td>\n",
       "      <td>skilled</td>\n",
       "      <td>1</td>\n",
       "      <td>none</td>\n",
       "      <td>yes</td>\n",
       "    </tr>\n",
       "  </tbody>\n",
       "</table>\n",
       "</div>"
      ],
      "text/plain": [
       "    checking_status  duration                    credit_history     purpose  \\\n",
       "29             '<0'        60              'delayed previously'    business   \n",
       "535         '>=200'        21  'critical/other existing credit'   education   \n",
       "695   'no checking'         6                   'existing paid'  'used car'   \n",
       "557   'no checking'        21             'no credits/all paid'   'new car'   \n",
       "836   'no checking'        12                   'existing paid'    radio/tv   \n",
       "\n",
       "     credit_amount      savings_status employment  installment_commitment  \\\n",
       "29            6836              '<100'      '>=7'                       3   \n",
       "535           2319              '<100'       '<1'                       2   \n",
       "695           1236       '500<=X<1000'   '1<=X<4'                       2   \n",
       "557           5003  'no known savings'   '1<=X<4'                       1   \n",
       "836            886  'no known savings'   '1<=X<4'                       4   \n",
       "\n",
       "          personal_status other_parties  residence_since   property_magnitude  \\\n",
       "29          'male single'          none                4  'no known property'   \n",
       "535        'male div/sep'          none                1                  car   \n",
       "695         'male single'          none                4     'life insurance'   \n",
       "557  'female div/dep/mar'          none                4     'life insurance'   \n",
       "836  'female div/dep/mar'          none                2                  car   \n",
       "\n",
       "     age other_payment_plans housing  existing_credits      job  \\\n",
       "29    63                none     own                 2  skilled   \n",
       "535   33                none    rent                 1  skilled   \n",
       "695   50                none    rent                 1  skilled   \n",
       "557   29                bank     own                 2  skilled   \n",
       "836   21                none     own                 1  skilled   \n",
       "\n",
       "     num_dependents own_telephone foreign_worker  \n",
       "29                1           yes            yes  \n",
       "535               1          none            yes  \n",
       "695               1          none            yes  \n",
       "557               1           yes            yes  \n",
       "836               1          none            yes  "
      ]
     },
     "execution_count": 12,
     "metadata": {},
     "output_type": "execute_result"
    }
   ],
   "source": [
    "TRAIN_FRAC = 0.8\n",
    "df_train, df_test, y_train, y_test = train_test_split(df.drop(['class'], axis = 1), df['class'], test_size=0.2, random_state=42)\n",
    "df_train.head()"
   ]
  },
  {
   "cell_type": "markdown",
   "metadata": {},
   "source": [
    "check the types of the columns:"
   ]
  },
  {
   "cell_type": "code",
   "execution_count": 13,
   "metadata": {},
   "outputs": [
    {
     "data": {
      "text/plain": [
       "checking_status           object\n",
       "duration                   int64\n",
       "credit_history            object\n",
       "purpose                   object\n",
       "credit_amount              int64\n",
       "savings_status            object\n",
       "employment                object\n",
       "installment_commitment     int64\n",
       "personal_status           object\n",
       "other_parties             object\n",
       "residence_since            int64\n",
       "property_magnitude        object\n",
       "age                        int64\n",
       "other_payment_plans       object\n",
       "housing                   object\n",
       "existing_credits           int64\n",
       "job                       object\n",
       "num_dependents             int64\n",
       "own_telephone             object\n",
       "foreign_worker            object\n",
       "dtype: object"
      ]
     },
     "execution_count": 13,
     "metadata": {},
     "output_type": "execute_result"
    }
   ],
   "source": [
    "df_train.dtypes"
   ]
  },
  {
   "cell_type": "markdown",
   "metadata": {},
   "source": [
    "statistics of the numerical columns:"
   ]
  },
  {
   "cell_type": "code",
   "execution_count": 14,
   "metadata": {
    "scrolled": true
   },
   "outputs": [
    {
     "data": {
      "text/html": [
       "<div>\n",
       "<style>\n",
       "    .dataframe thead tr:only-child th {\n",
       "        text-align: right;\n",
       "    }\n",
       "\n",
       "    .dataframe thead th {\n",
       "        text-align: left;\n",
       "    }\n",
       "\n",
       "    .dataframe tbody tr th {\n",
       "        vertical-align: top;\n",
       "    }\n",
       "</style>\n",
       "<table border=\"1\" class=\"dataframe\">\n",
       "  <thead>\n",
       "    <tr style=\"text-align: right;\">\n",
       "      <th></th>\n",
       "      <th>duration</th>\n",
       "      <th>credit_amount</th>\n",
       "      <th>installment_commitment</th>\n",
       "      <th>residence_since</th>\n",
       "      <th>age</th>\n",
       "      <th>existing_credits</th>\n",
       "      <th>num_dependents</th>\n",
       "    </tr>\n",
       "  </thead>\n",
       "  <tbody>\n",
       "    <tr>\n",
       "      <th>count</th>\n",
       "      <td>800.000000</td>\n",
       "      <td>800.000000</td>\n",
       "      <td>800.000000</td>\n",
       "      <td>800.000000</td>\n",
       "      <td>800.000000</td>\n",
       "      <td>800.000000</td>\n",
       "      <td>800.000000</td>\n",
       "    </tr>\n",
       "    <tr>\n",
       "      <th>mean</th>\n",
       "      <td>21.095000</td>\n",
       "      <td>3360.618750</td>\n",
       "      <td>2.965000</td>\n",
       "      <td>2.846250</td>\n",
       "      <td>35.558750</td>\n",
       "      <td>1.411250</td>\n",
       "      <td>1.143750</td>\n",
       "    </tr>\n",
       "    <tr>\n",
       "      <th>std</th>\n",
       "      <td>11.807211</td>\n",
       "      <td>2898.174863</td>\n",
       "      <td>1.122653</td>\n",
       "      <td>1.105277</td>\n",
       "      <td>11.411587</td>\n",
       "      <td>0.578828</td>\n",
       "      <td>0.351056</td>\n",
       "    </tr>\n",
       "    <tr>\n",
       "      <th>min</th>\n",
       "      <td>4.000000</td>\n",
       "      <td>250.000000</td>\n",
       "      <td>1.000000</td>\n",
       "      <td>1.000000</td>\n",
       "      <td>19.000000</td>\n",
       "      <td>1.000000</td>\n",
       "      <td>1.000000</td>\n",
       "    </tr>\n",
       "    <tr>\n",
       "      <th>25%</th>\n",
       "      <td>12.000000</td>\n",
       "      <td>1380.000000</td>\n",
       "      <td>2.000000</td>\n",
       "      <td>2.000000</td>\n",
       "      <td>27.000000</td>\n",
       "      <td>1.000000</td>\n",
       "      <td>1.000000</td>\n",
       "    </tr>\n",
       "    <tr>\n",
       "      <th>50%</th>\n",
       "      <td>18.000000</td>\n",
       "      <td>2333.000000</td>\n",
       "      <td>3.000000</td>\n",
       "      <td>3.000000</td>\n",
       "      <td>33.000000</td>\n",
       "      <td>1.000000</td>\n",
       "      <td>1.000000</td>\n",
       "    </tr>\n",
       "    <tr>\n",
       "      <th>75%</th>\n",
       "      <td>24.000000</td>\n",
       "      <td>4154.500000</td>\n",
       "      <td>4.000000</td>\n",
       "      <td>4.000000</td>\n",
       "      <td>42.000000</td>\n",
       "      <td>2.000000</td>\n",
       "      <td>1.000000</td>\n",
       "    </tr>\n",
       "    <tr>\n",
       "      <th>max</th>\n",
       "      <td>60.000000</td>\n",
       "      <td>18424.000000</td>\n",
       "      <td>4.000000</td>\n",
       "      <td>4.000000</td>\n",
       "      <td>75.000000</td>\n",
       "      <td>4.000000</td>\n",
       "      <td>2.000000</td>\n",
       "    </tr>\n",
       "  </tbody>\n",
       "</table>\n",
       "</div>"
      ],
      "text/plain": [
       "         duration  credit_amount  installment_commitment  residence_since  \\\n",
       "count  800.000000     800.000000              800.000000       800.000000   \n",
       "mean    21.095000    3360.618750                2.965000         2.846250   \n",
       "std     11.807211    2898.174863                1.122653         1.105277   \n",
       "min      4.000000     250.000000                1.000000         1.000000   \n",
       "25%     12.000000    1380.000000                2.000000         2.000000   \n",
       "50%     18.000000    2333.000000                3.000000         3.000000   \n",
       "75%     24.000000    4154.500000                4.000000         4.000000   \n",
       "max     60.000000   18424.000000                4.000000         4.000000   \n",
       "\n",
       "              age  existing_credits  num_dependents  \n",
       "count  800.000000        800.000000      800.000000  \n",
       "mean    35.558750          1.411250        1.143750  \n",
       "std     11.411587          0.578828        0.351056  \n",
       "min     19.000000          1.000000        1.000000  \n",
       "25%     27.000000          1.000000        1.000000  \n",
       "50%     33.000000          1.000000        1.000000  \n",
       "75%     42.000000          2.000000        1.000000  \n",
       "max     75.000000          4.000000        2.000000  "
      ]
     },
     "execution_count": 14,
     "metadata": {},
     "output_type": "execute_result"
    }
   ],
   "source": [
    "df_train.describe()"
   ]
  },
  {
   "cell_type": "markdown",
   "metadata": {},
   "source": [
    "1. From the numeric columns, only duration, credit amount and age can be treated as numbers and the rest as categoricals.\n",
    "2. There are no missing values."
   ]
  },
  {
   "cell_type": "markdown",
   "metadata": {},
   "source": [
    "statistics of the categorical columns:"
   ]
  },
  {
   "cell_type": "code",
   "execution_count": 15,
   "metadata": {
    "scrolled": false
   },
   "outputs": [
    {
     "data": {
      "text/html": [
       "<div>\n",
       "<style>\n",
       "    .dataframe thead tr:only-child th {\n",
       "        text-align: right;\n",
       "    }\n",
       "\n",
       "    .dataframe thead th {\n",
       "        text-align: left;\n",
       "    }\n",
       "\n",
       "    .dataframe tbody tr th {\n",
       "        vertical-align: top;\n",
       "    }\n",
       "</style>\n",
       "<table border=\"1\" class=\"dataframe\">\n",
       "  <thead>\n",
       "    <tr style=\"text-align: right;\">\n",
       "      <th></th>\n",
       "      <th>checking_status</th>\n",
       "      <th>credit_history</th>\n",
       "      <th>purpose</th>\n",
       "      <th>savings_status</th>\n",
       "      <th>employment</th>\n",
       "      <th>personal_status</th>\n",
       "      <th>other_parties</th>\n",
       "      <th>property_magnitude</th>\n",
       "      <th>other_payment_plans</th>\n",
       "      <th>housing</th>\n",
       "      <th>job</th>\n",
       "      <th>own_telephone</th>\n",
       "      <th>foreign_worker</th>\n",
       "    </tr>\n",
       "  </thead>\n",
       "  <tbody>\n",
       "    <tr>\n",
       "      <th>count</th>\n",
       "      <td>800</td>\n",
       "      <td>800</td>\n",
       "      <td>800</td>\n",
       "      <td>800</td>\n",
       "      <td>800</td>\n",
       "      <td>800</td>\n",
       "      <td>800</td>\n",
       "      <td>800</td>\n",
       "      <td>800</td>\n",
       "      <td>800</td>\n",
       "      <td>800</td>\n",
       "      <td>800</td>\n",
       "      <td>800</td>\n",
       "    </tr>\n",
       "    <tr>\n",
       "      <th>unique</th>\n",
       "      <td>4</td>\n",
       "      <td>5</td>\n",
       "      <td>10</td>\n",
       "      <td>5</td>\n",
       "      <td>5</td>\n",
       "      <td>4</td>\n",
       "      <td>3</td>\n",
       "      <td>4</td>\n",
       "      <td>3</td>\n",
       "      <td>3</td>\n",
       "      <td>4</td>\n",
       "      <td>2</td>\n",
       "      <td>2</td>\n",
       "    </tr>\n",
       "    <tr>\n",
       "      <th>top</th>\n",
       "      <td>'no checking'</td>\n",
       "      <td>'existing paid'</td>\n",
       "      <td>radio/tv</td>\n",
       "      <td>'&lt;100'</td>\n",
       "      <td>'1&lt;=X&lt;4'</td>\n",
       "      <td>'male single'</td>\n",
       "      <td>none</td>\n",
       "      <td>car</td>\n",
       "      <td>none</td>\n",
       "      <td>own</td>\n",
       "      <td>skilled</td>\n",
       "      <td>none</td>\n",
       "      <td>yes</td>\n",
       "    </tr>\n",
       "    <tr>\n",
       "      <th>freq</th>\n",
       "      <td>323</td>\n",
       "      <td>420</td>\n",
       "      <td>226</td>\n",
       "      <td>474</td>\n",
       "      <td>270</td>\n",
       "      <td>440</td>\n",
       "      <td>720</td>\n",
       "      <td>269</td>\n",
       "      <td>656</td>\n",
       "      <td>573</td>\n",
       "      <td>505</td>\n",
       "      <td>464</td>\n",
       "      <td>772</td>\n",
       "    </tr>\n",
       "  </tbody>\n",
       "</table>\n",
       "</div>"
      ],
      "text/plain": [
       "       checking_status   credit_history   purpose savings_status employment  \\\n",
       "count              800              800       800            800        800   \n",
       "unique               4                5        10              5          5   \n",
       "top      'no checking'  'existing paid'  radio/tv         '<100'   '1<=X<4'   \n",
       "freq               323              420       226            474        270   \n",
       "\n",
       "       personal_status other_parties property_magnitude other_payment_plans  \\\n",
       "count              800           800                800                 800   \n",
       "unique               4             3                  4                   3   \n",
       "top      'male single'          none                car                none   \n",
       "freq               440           720                269                 656   \n",
       "\n",
       "       housing      job own_telephone foreign_worker  \n",
       "count      800      800           800            800  \n",
       "unique       3        4             2              2  \n",
       "top        own  skilled          none            yes  \n",
       "freq       573      505           464            772  "
      ]
     },
     "execution_count": 15,
     "metadata": {},
     "output_type": "execute_result"
    }
   ],
   "source": [
    "df_train.describe(include = ['O'])"
   ]
  },
  {
   "cell_type": "markdown",
   "metadata": {},
   "source": [
    "1. It seems that all the categoricals features have small amount of unique values - no need in aggregation\n",
    "2. No missing values"
   ]
  },
  {
   "cell_type": "markdown",
   "metadata": {},
   "source": [
    "Distribution of the numericals and their log:"
   ]
  },
  {
   "cell_type": "code",
   "execution_count": 16,
   "metadata": {},
   "outputs": [
    {
     "data": {
      "text/plain": [
       "<matplotlib.text.Text at 0x1d22d9cd2b0>"
      ]
     },
     "execution_count": 16,
     "metadata": {},
     "output_type": "execute_result"
    },
    {
     "data": {
      "image/png": "[encoded data removed]",
      "text/plain": [
       "<matplotlib.figure.Figure at 0x1d22d476e10>"
      ]
     },
     "metadata": {},
     "output_type": "display_data"
    }
   ],
   "source": [
    "plt.figure(figsize=(18,20))\n",
    "ax1 = plt.subplot(3,2,1)\n",
    "sns.distplot(df_train.age, ax = ax1)\n",
    "ax2 = plt.subplot(3,2,2)\n",
    "sns.distplot(np.log(df_train.age), ax = ax2)\n",
    "plt.xlabel('log age')\n",
    "\n",
    "ax3 = plt.subplot(3,2,3)\n",
    "sns.distplot(df_train.duration, ax = ax3)\n",
    "ax4 = plt.subplot(3,2,4)\n",
    "sns.distplot(np.log(df_train.duration), ax = ax4)\n",
    "plt.xlabel('log duration')\n",
    "\n",
    "ax5 = plt.subplot(3,2,5)\n",
    "sns.distplot(df_train.credit_amount, ax = ax5)\n",
    "ax6 = plt.subplot(3,2,6)\n",
    "sns.distplot(np.log(df_train.credit_amount), ax = ax6)\n",
    "plt.xlabel('log credit_amount')\n"
   ]
  },
  {
   "cell_type": "markdown",
   "metadata": {},
   "source": [
    "Since the distributions of the log of the numerics are more close to a normal dist. it make sense to add them as features.\n",
    "Also, first the numeric features will be used as is. After, based on the first results, maybe some of them will be categorized in order to improve performance."
   ]
  },
  {
   "cell_type": "markdown",
   "metadata": {},
   "source": [
    "Define categoricals and numericals column names lists:"
   ]
  },
  {
   "cell_type": "code",
   "execution_count": 17,
   "metadata": {},
   "outputs": [
    {
     "data": {
      "text/plain": [
       "Index(['checking_status', 'duration', 'credit_history', 'purpose',\n",
       "       'credit_amount', 'savings_status', 'employment',\n",
       "       'installment_commitment', 'personal_status', 'other_parties',\n",
       "       'residence_since', 'property_magnitude', 'age', 'other_payment_plans',\n",
       "       'housing', 'existing_credits', 'job', 'num_dependents', 'own_telephone',\n",
       "       'foreign_worker'],\n",
       "      dtype='object')"
      ]
     },
     "execution_count": 17,
     "metadata": {},
     "output_type": "execute_result"
    }
   ],
   "source": [
    "df_train.columns"
   ]
  },
  {
   "cell_type": "code",
   "execution_count": 18,
   "metadata": {
    "collapsed": true
   },
   "outputs": [],
   "source": [
    "categorical_features = ['checking_status', 'credit_history', 'purpose', 'savings_status', 'employment',\n",
    "       'installment_commitment', 'personal_status', 'other_parties', 'residence_since', 'property_magnitude',\n",
    "        'other_payment_plans', 'housing', 'existing_credits', 'job', 'num_dependents', 'own_telephone', 'foreign_worker']\n",
    "numerical_features = ['duration', 'credit_amount', 'age']"
   ]
  },
  {
   "cell_type": "code",
   "execution_count": 19,
   "metadata": {},
   "outputs": [
    {
     "data": {
      "text/plain": [
       "['duration', 'credit_amount', 'age']"
      ]
     },
     "execution_count": 19,
     "metadata": {},
     "output_type": "execute_result"
    }
   ],
   "source": [
    "numerical_features"
   ]
  },
  {
   "cell_type": "markdown",
   "metadata": {},
   "source": [
    "add the log of the numericals:"
   ]
  },
  {
   "cell_type": "code",
   "execution_count": 20,
   "metadata": {},
   "outputs": [
    {
     "data": {
      "text/plain": [
       "['duration',\n",
       " 'credit_amount',\n",
       " 'age',\n",
       " 'log_duration',\n",
       " 'log_credit_amount',\n",
       " 'log_age']"
      ]
     },
     "execution_count": 20,
     "metadata": {},
     "output_type": "execute_result"
    }
   ],
   "source": [
    "log_numericals = []\n",
    "for numerical in numerical_features:\n",
    "    df_train['log_' + numerical] = np.log(df_train[numerical])\n",
    "    df_test['log_' + numerical] = np.log(df_test[numerical])\n",
    "    log_numericals += ['log_' + numerical]\n",
    "numerical_features += log_numericals\n",
    "numerical_features"
   ]
  },
  {
   "cell_type": "code",
   "execution_count": 21,
   "metadata": {},
   "outputs": [
    {
     "data": {
      "text/html": [
       "<div>\n",
       "<style>\n",
       "    .dataframe thead tr:only-child th {\n",
       "        text-align: right;\n",
       "    }\n",
       "\n",
       "    .dataframe thead th {\n",
       "        text-align: left;\n",
       "    }\n",
       "\n",
       "    .dataframe tbody tr th {\n",
       "        vertical-align: top;\n",
       "    }\n",
       "</style>\n",
       "<table border=\"1\" class=\"dataframe\">\n",
       "  <thead>\n",
       "    <tr style=\"text-align: right;\">\n",
       "      <th></th>\n",
       "      <th>duration</th>\n",
       "      <th>credit_amount</th>\n",
       "      <th>age</th>\n",
       "      <th>log_duration</th>\n",
       "      <th>log_credit_amount</th>\n",
       "      <th>log_age</th>\n",
       "    </tr>\n",
       "  </thead>\n",
       "  <tbody>\n",
       "    <tr>\n",
       "      <th>29</th>\n",
       "      <td>60</td>\n",
       "      <td>6836</td>\n",
       "      <td>63</td>\n",
       "      <td>4.094345</td>\n",
       "      <td>8.829958</td>\n",
       "      <td>4.143135</td>\n",
       "    </tr>\n",
       "    <tr>\n",
       "      <th>535</th>\n",
       "      <td>21</td>\n",
       "      <td>2319</td>\n",
       "      <td>33</td>\n",
       "      <td>3.044522</td>\n",
       "      <td>7.748891</td>\n",
       "      <td>3.496508</td>\n",
       "    </tr>\n",
       "    <tr>\n",
       "      <th>695</th>\n",
       "      <td>6</td>\n",
       "      <td>1236</td>\n",
       "      <td>50</td>\n",
       "      <td>1.791759</td>\n",
       "      <td>7.119636</td>\n",
       "      <td>3.912023</td>\n",
       "    </tr>\n",
       "    <tr>\n",
       "      <th>557</th>\n",
       "      <td>21</td>\n",
       "      <td>5003</td>\n",
       "      <td>29</td>\n",
       "      <td>3.044522</td>\n",
       "      <td>8.517793</td>\n",
       "      <td>3.367296</td>\n",
       "    </tr>\n",
       "    <tr>\n",
       "      <th>836</th>\n",
       "      <td>12</td>\n",
       "      <td>886</td>\n",
       "      <td>21</td>\n",
       "      <td>2.484907</td>\n",
       "      <td>6.786717</td>\n",
       "      <td>3.044522</td>\n",
       "    </tr>\n",
       "  </tbody>\n",
       "</table>\n",
       "</div>"
      ],
      "text/plain": [
       "     duration  credit_amount  age  log_duration  log_credit_amount   log_age\n",
       "29         60           6836   63      4.094345           8.829958  4.143135\n",
       "535        21           2319   33      3.044522           7.748891  3.496508\n",
       "695         6           1236   50      1.791759           7.119636  3.912023\n",
       "557        21           5003   29      3.044522           8.517793  3.367296\n",
       "836        12            886   21      2.484907           6.786717  3.044522"
      ]
     },
     "execution_count": 21,
     "metadata": {},
     "output_type": "execute_result"
    }
   ],
   "source": [
    "# check that the log of the numericals added correctly:\n",
    "df_train[numerical_features].head()"
   ]
  },
  {
   "cell_type": "code",
   "execution_count": 28,
   "metadata": {},
   "outputs": [
    {
     "data": {
      "text/plain": [
       "<seaborn.axisgrid.PairGrid at 0x1d233301fd0>"
      ]
     },
     "execution_count": 28,
     "metadata": {},
     "output_type": "execute_result"
    },
    {
     "data": {
      "image/png": "[encoded data removed]",
      "text/plain": [
       "<matplotlib.figure.Figure at 0x1d2333c8358>"
      ]
     },
     "metadata": {},
     "output_type": "display_data"
    }
   ],
   "source": [
    "sns.pairplot(pd.concat((df_train[log_numericals],y_train),axis=1), hue='class', diag_kind='kde')"
   ]
  },
  {
   "cell_type": "markdown",
   "metadata": {},
   "source": [
    "vectorize categoricals and scale numericals of the train data:"
   ]
  },
  {
   "cell_type": "code",
   "execution_count": 22,
   "metadata": {},
   "outputs": [
    {
     "data": {
      "text/plain": [
       "(800, 64)"
      ]
     },
     "execution_count": 22,
     "metadata": {},
     "output_type": "execute_result"
    }
   ],
   "source": [
    "cat_dict = df_train[categorical_features].to_dict('records')\n",
    "dict_vect = DictVectorizer()\n",
    "X_train = dict_vect.fit_transform(cat_dict).todense()\n",
    "\n",
    "scaler = StandardScaler()\n",
    "numerical_train_scaled = scaler.fit_transform(df_train[numerical_features])\n",
    "\n",
    "X_train = np.hstack((X_train, numerical_train_scaled))\n",
    "# df_train = pd.concat((pd.get_dummies(df_train[categorical_features]), df_train[numerical_features]), axis = 1)\n",
    "\n",
    "X_train.shape"
   ]
  },
  {
   "cell_type": "code",
   "execution_count": 23,
   "metadata": {},
   "outputs": [
    {
     "name": "stdout",
     "output_type": "stream",
     "text": [
      "[\"checking_status='0<=X<200'\", \"checking_status='<0'\", \"checking_status='>=200'\", \"checking_status='no checking'\", \"credit_history='all paid'\", \"credit_history='critical/other existing credit'\", \"credit_history='delayed previously'\", \"credit_history='existing paid'\", \"credit_history='no credits/all paid'\", \"employment='1<=X<4'\", \"employment='4<=X<7'\", \"employment='<1'\", \"employment='>=7'\", 'employment=unemployed', 'existing_credits', 'foreign_worker=no', 'foreign_worker=yes', \"housing='for free'\", 'housing=own', 'housing=rent', 'installment_commitment', \"job='high qualif/self emp/mgmt'\", \"job='unemp/unskilled non res'\", \"job='unskilled resident'\", 'job=skilled', 'num_dependents', \"other_parties='co applicant'\", 'other_parties=guarantor', 'other_parties=none', 'other_payment_plans=bank', 'other_payment_plans=none', 'other_payment_plans=stores', 'own_telephone=none', 'own_telephone=yes', \"personal_status='female div/dep/mar'\", \"personal_status='male div/sep'\", \"personal_status='male mar/wid'\", \"personal_status='male single'\", \"property_magnitude='life insurance'\", \"property_magnitude='no known property'\", \"property_magnitude='real estate'\", 'property_magnitude=car', \"purpose='domestic appliance'\", \"purpose='new car'\", \"purpose='used car'\", 'purpose=business', 'purpose=education', 'purpose=furniture/equipment', 'purpose=other', 'purpose=radio/tv', 'purpose=repairs', 'purpose=retraining', 'residence_since', \"savings_status='100<=X<500'\", \"savings_status='500<=X<1000'\", \"savings_status='<100'\", \"savings_status='>=1000'\", \"savings_status='no known savings'\"]\n"
     ]
    }
   ],
   "source": [
    "print(dict_vect.feature_names_)"
   ]
  },
  {
   "cell_type": "code",
   "execution_count": 24,
   "metadata": {},
   "outputs": [
    {
     "data": {
      "text/plain": [
       "(200, 64)"
      ]
     },
     "execution_count": 24,
     "metadata": {},
     "output_type": "execute_result"
    }
   ],
   "source": [
    "# vectorize categoricals and scale numericals for the test data:\n",
    "\n",
    "cat_dict_test = df_test[categorical_features].to_dict('records')\n",
    "X_test = dict_vect.transform(cat_dict_test).todense()\n",
    "\n",
    "numerical_test_scaled = scaler.transform(df_test[numerical_features])\n",
    "X_test = np.hstack((X_test, numerical_test_scaled))\n",
    "\n",
    "X_test.shape"
   ]
  },
  {
   "cell_type": "markdown",
   "metadata": {},
   "source": [
    "transform the target to 0/1:"
   ]
  },
  {
   "cell_type": "code",
   "execution_count": 25,
   "metadata": {},
   "outputs": [
    {
     "data": {
      "text/plain": [
       "array(['bad', 'good'], dtype=object)"
      ]
     },
     "execution_count": 25,
     "metadata": {},
     "output_type": "execute_result"
    }
   ],
   "source": [
    "le = LabelEncoder()\n",
    "y_train = le.fit_transform(y_train)\n",
    "y_test = le.transform(y_test)\n",
    "le.classes_"
   ]
  },
  {
   "cell_type": "code",
   "execution_count": 26,
   "metadata": {},
   "outputs": [
    {
     "data": {
      "text/plain": [
       "array([0, 0, 1, 0, 1, 0, 1, 0, 0, 1], dtype=int64)"
      ]
     },
     "execution_count": 26,
     "metadata": {},
     "output_type": "execute_result"
    }
   ],
   "source": [
    "y_train[:10]"
   ]
  },
  {
   "cell_type": "code",
   "execution_count": 27,
   "metadata": {},
   "outputs": [
    {
     "data": {
      "text/plain": [
       "array(['bad', 'bad', 'good', 'bad', 'good', 'bad', 'good', 'bad', 'bad',\n",
       "       'good'], dtype=object)"
      ]
     },
     "execution_count": 27,
     "metadata": {},
     "output_type": "execute_result"
    }
   ],
   "source": [
    "le.inverse_transform(y_train[:10])"
   ]
  },
  {
   "cell_type": "code",
   "execution_count": 28,
   "metadata": {},
   "outputs": [
    {
     "data": {
      "text/plain": [
       "0.69874999999999998"
      ]
     },
     "execution_count": 28,
     "metadata": {},
     "output_type": "execute_result"
    }
   ],
   "source": [
    "y_train.sum()/len(y_train)"
   ]
  },
  {
   "cell_type": "markdown",
   "metadata": {},
   "source": [
    "70% of the loans are good - the data is naturally imbalanced (most of the pepole return the loan...) hence we can't use accuracy as performance measure (just predict all as good loans and we get accuracy of 70%...).\n",
    "\n",
    "Under the general purpose of 80% \"success\" we need to refine the goal. In our case of loans, we want to detect as much as bad loans but we also want to ensure not to reject too much potenially good loans. Now if we define bad loans as the positive class (1) and good loans as negative (0) that's mean we want to maximaize recall and minimize false positive rate (FPR). Thats exactly what The ROC curve gives along with the AUC-score which give us a single number of the goodness of the ROC.\n",
    "\n",
    "Nonetheless due to the imbalance of the data it should be noted that it is quite \"easy\" to get good/low FPR and even if the recall is not so high, still get good auc score. To take care of it we will also look at the f1-score which concentrates on the performance of detecting the positive class (harmonic mean of the precision and recall)."
   ]
  },
  {
   "cell_type": "code",
   "execution_count": 29,
   "metadata": {
    "collapsed": true
   },
   "outputs": [],
   "source": [
    "# since the label encoder define bad as 0 and good as 1 and we are focused on the performance of the bad class\n",
    "# we will invert the target values:\n",
    "y_train = 1 - y_train\n",
    "y_test = 1 - y_test"
   ]
  },
  {
   "cell_type": "code",
   "execution_count": 30,
   "metadata": {},
   "outputs": [
    {
     "data": {
      "text/plain": [
       "0.30125000000000002"
      ]
     },
     "execution_count": 30,
     "metadata": {},
     "output_type": "execute_result"
    }
   ],
   "source": [
    "y_train.sum()/len(y_train)"
   ]
  },
  {
   "cell_type": "markdown",
   "metadata": {},
   "source": [
    "start with logistic regression with default parameters:"
   ]
  },
  {
   "cell_type": "code",
   "execution_count": 31,
   "metadata": {},
   "outputs": [
    {
     "data": {
      "text/plain": [
       "LogisticRegression(C=1.0, class_weight=None, dual=False, fit_intercept=True,\n",
       "          intercept_scaling=1, max_iter=100, multi_class='ovr', n_jobs=1,\n",
       "          penalty='l2', random_state=42, solver='liblinear', tol=0.0001,\n",
       "          verbose=0, warm_start=False)"
      ]
     },
     "execution_count": 31,
     "metadata": {},
     "output_type": "execute_result"
    }
   ],
   "source": [
    "from sklearn.linear_model import LogisticRegression\n",
    "\n",
    "# Train the model\n",
    "model = LogisticRegression(random_state=42)\n",
    "model.fit(X_train, y_train)"
   ]
  },
  {
   "cell_type": "code",
   "execution_count": 32,
   "metadata": {},
   "outputs": [
    {
     "name": "stdout",
     "output_type": "stream",
     "text": [
      "train auc score:  0.832020724619\n",
      "train f1-score:  0.589622641509\n",
      "             precision    recall  f1-score   support\n",
      "\n",
      "          0       0.81      0.90      0.85       559\n",
      "          1       0.68      0.52      0.59       241\n",
      "\n",
      "avg / total       0.77      0.78      0.77       800\n",
      "\n",
      "[[501  58]\n",
      " [116 125]]\n",
      "test auc score:  0.824858757062\n",
      "test f1-score:  0.622641509434\n",
      "             precision    recall  f1-score   support\n",
      "\n",
      "          0       0.83      0.90      0.86       141\n",
      "          1       0.70      0.56      0.62        59\n",
      "\n",
      "avg / total       0.79      0.80      0.79       200\n",
      "\n",
      "[[127  14]\n",
      " [ 26  33]]\n"
     ]
    }
   ],
   "source": [
    "# Predict\n",
    "pred_train = model.predict(X_train)\n",
    "pred_test = model.predict(X_test)\n",
    "\n",
    "y_train_score = model.decision_function(X_train)\n",
    "print('train auc score: ', roc_auc_score(y_train, y_train_score))\n",
    "print('train f1-score: ', f1_score(y_train, pred_train))\n",
    "print(classification_report(y_train, pred_train))\n",
    "print(confusion_matrix(y_train, pred_train))\n",
    "\n",
    "y_test_score = model.decision_function(X_test)\n",
    "print('test auc score: ', roc_auc_score(y_test, y_test_score))\n",
    "print('test f1-score: ', f1_score(y_test, pred_test))\n",
    "print(classification_report(y_test, pred_test))\n",
    "print(confusion_matrix(y_test, pred_test))"
   ]
  },
  {
   "cell_type": "code",
   "execution_count": 33,
   "metadata": {},
   "outputs": [
    {
     "data": {
      "image/png": "[encoded data removed]",
      "text/plain": [
       "<matplotlib.figure.Figure at 0x2d6c9afa198>"
      ]
     },
     "metadata": {},
     "output_type": "display_data"
    }
   ],
   "source": [
    "plot_utils.plot_roc_curve(model, X_test, y_test)"
   ]
  },
  {
   "cell_type": "markdown",
   "metadata": {},
   "source": [
    "### First try and we got satisfing results! the test auc score is 0.82 - larger than 0.8!\n",
    "\n",
    "Anyway, if we dig deeper we find that while the model keeps FPR rate low (10%)as needed, the recall is (very) low - only 0.56, and it is reflected in test f1-score of only 0.62.\n",
    "\n",
    "So, we can stop here and be content with the current results or the seek for better models that treat the positive class better (not on the expense of low FPR).\n",
    "\n",
    "Train vs test error:\n",
    "We can see that the test score is even higher than the training, so there is no overfitting but maybe there is too much regularization (maybe we need higher C value). Let's try with no regularization (very high C value):"
   ]
  },
  {
   "cell_type": "code",
   "execution_count": 34,
   "metadata": {},
   "outputs": [
    {
     "data": {
      "text/plain": [
       "LogisticRegression(C=10000, class_weight=None, dual=False, fit_intercept=True,\n",
       "          intercept_scaling=1, max_iter=100, multi_class='ovr', n_jobs=1,\n",
       "          penalty='l2', random_state=42, solver='liblinear', tol=0.0001,\n",
       "          verbose=0, warm_start=False)"
      ]
     },
     "execution_count": 34,
     "metadata": {},
     "output_type": "execute_result"
    }
   ],
   "source": [
    "from sklearn.linear_model import LogisticRegression\n",
    "\n",
    "# Train the model\n",
    "model = LogisticRegression(C = 10000, random_state=42)\n",
    "model.fit(X_train, y_train)"
   ]
  },
  {
   "cell_type": "code",
   "execution_count": 35,
   "metadata": {},
   "outputs": [
    {
     "name": "stdout",
     "output_type": "stream",
     "text": [
      "train auc score:  0.833401376198\n",
      "train f1-score:  0.591549295775\n",
      "             precision    recall  f1-score   support\n",
      "\n",
      "          0       0.81      0.89      0.85       559\n",
      "          1       0.68      0.52      0.59       241\n",
      "\n",
      "avg / total       0.77      0.78      0.77       800\n",
      "\n",
      "[[500  59]\n",
      " [115 126]]\n",
      "test auc score:  0.825219377329\n",
      "test f1-score:  0.636363636364\n",
      "             precision    recall  f1-score   support\n",
      "\n",
      "          0       0.84      0.89      0.86       141\n",
      "          1       0.69      0.59      0.64        59\n",
      "\n",
      "avg / total       0.79      0.80      0.80       200\n",
      "\n",
      "[[125  16]\n",
      " [ 24  35]]\n"
     ]
    },
    {
     "data": {
      "image/png": "[encoded data removed]",
      "text/plain": [
       "<matplotlib.figure.Figure at 0x2d6c93ac9b0>"
      ]
     },
     "metadata": {},
     "output_type": "display_data"
    }
   ],
   "source": [
    "# Predict\n",
    "pred_train = model.predict(X_train)\n",
    "pred_test = model.predict(X_test)\n",
    "\n",
    "y_train_score = model.decision_function(X_train)\n",
    "print('train auc score: ', roc_auc_score(y_train, y_train_score))\n",
    "print('train f1-score: ', f1_score(y_train, pred_train))\n",
    "print(classification_report(y_train, pred_train))\n",
    "print(confusion_matrix(y_train, pred_train))\n",
    "\n",
    "y_test_score = model.decision_function(X_test)\n",
    "print('test auc score: ', roc_auc_score(y_test, y_test_score))\n",
    "print('test f1-score: ', f1_score(y_test, pred_test))\n",
    "print(classification_report(y_test, pred_test))\n",
    "print(confusion_matrix(y_test, pred_test))\n",
    "\n",
    "plot_utils.plot_roc_curve(model, X_test, y_test)"
   ]
  },
  {
   "cell_type": "markdown",
   "metadata": {},
   "source": [
    "A very little improvement with no regularization. And since with no regularization both train and test results are similiar, we are not in high variance situation. Does it mean that the model has high bias? depends... formally no, because we already meet the goal. But if we look only on the f1-score: 0.64 is still low. we want better. so from this prespective the model still have high bias and we need to refine it / to increase its complexity which mean: more parameters, eliminate possible bugs in our feature extraction step and/or other algorithm..."
   ]
  },
  {
   "cell_type": "markdown",
   "metadata": {},
   "source": [
    "### feature importance/ selection:"
   ]
  },
  {
   "cell_type": "markdown",
   "metadata": {},
   "source": [
    "Altough we are not in high variance situation (so we don't need to reduce the number of features) it is interesting to see which are the more important predictors:"
   ]
  },
  {
   "cell_type": "code",
   "execution_count": 36,
   "metadata": {},
   "outputs": [
    {
     "data": {
      "text/plain": [
       "array([[ 0.17623733,  0.59054948, -0.49406765, -0.98544414,  0.45556473,\n",
       "        -0.99359841, -0.5658243 , -0.17636935,  0.56750236, -0.04775379,\n",
       "        -0.52229693, -0.06868687, -0.22538851,  0.15140111,  0.33762041,\n",
       "        -1.03143398,  0.31870901, -0.30290713, -0.4756625 ,  0.06584466,\n",
       "         0.29182256,  0.12443595, -0.87146123, -0.05507995,  0.08938026,\n",
       "         0.30839074,  0.09600239, -0.8199179 ,  0.01119053,  0.07290624,\n",
       "        -0.65929625, -0.12633496, -0.22676655, -0.48595842, -0.21779483,\n",
       "         0.34623846, -0.16351249, -0.67765612, -0.13676747,  0.1282125 ,\n",
       "        -0.46930329, -0.23486671,  0.25319775,  0.77674561, -0.9091556 ,\n",
       "         0.1104018 ,  1.0660239 , -0.19180175, -0.52075123, -0.17738263,\n",
       "         0.32688113, -1.44688396,  0.01023146,  0.15872017, -0.07184477,\n",
       "         0.30417502, -0.70886979, -0.3949056 , -0.05669398,  0.59369492,\n",
       "         0.43943133,  0.38386153, -0.278192  , -0.75967287]])"
      ]
     },
     "execution_count": 36,
     "metadata": {},
     "output_type": "execute_result"
    }
   ],
   "source": [
    "# first glance at the coefs:\n",
    "model.coef_"
   ]
  },
  {
   "cell_type": "code",
   "execution_count": 37,
   "metadata": {},
   "outputs": [
    {
     "data": {
      "text/plain": [
       "array([51, 46, 15,  5,  3, 44, 22, 27, 43, 63, 56, 37, 30, 59,  1,  8,  6,\n",
       "       10, 48,  2, 33, 18, 40,  4, 60, 57, 61, 35, 14, 50, 16, 25, 55, 17,\n",
       "       20, 62, 42, 41, 32, 12, 34, 47, 49,  7,  0, 36, 53, 13, 38, 39, 31,\n",
       "       21, 45, 26, 24, 29, 54, 11, 19, 58, 23,  9, 28, 52], dtype=int64)"
      ]
     },
     "execution_count": 37,
     "metadata": {},
     "output_type": "execute_result"
    }
   ],
   "source": [
    "# let sort them w.r.t thier abs value:\n",
    "importance_idx = np.argsort(abs(model.coef_[0]))[::-1]\n",
    "importance_idx"
   ]
  },
  {
   "cell_type": "code",
   "execution_count": 38,
   "metadata": {
    "collapsed": true
   },
   "outputs": [],
   "source": [
    "# extract feature name list:\n",
    "features_names = dict_vect.feature_names_ + numerical_features"
   ]
  },
  {
   "cell_type": "code",
   "execution_count": 39,
   "metadata": {},
   "outputs": [
    {
     "data": {
      "text/plain": [
       "['purpose=retraining',\n",
       " 'purpose=education',\n",
       " 'foreign_worker=no',\n",
       " \"credit_history='critical/other existing credit'\",\n",
       " \"checking_status='no checking'\",\n",
       " \"purpose='used car'\",\n",
       " \"job='unemp/unskilled non res'\",\n",
       " 'other_parties=guarantor',\n",
       " \"purpose='new car'\",\n",
       " 'log_age',\n",
       " \"savings_status='>=1000'\",\n",
       " \"personal_status='male single'\",\n",
       " 'other_payment_plans=none',\n",
       " 'credit_amount',\n",
       " \"checking_status='<0'\",\n",
       " \"credit_history='no credits/all paid'\",\n",
       " \"credit_history='delayed previously'\",\n",
       " \"employment='4<=X<7'\",\n",
       " 'purpose=other',\n",
       " \"checking_status='>=200'\",\n",
       " 'own_telephone=yes',\n",
       " 'housing=own',\n",
       " \"property_magnitude='real estate'\",\n",
       " \"credit_history='all paid'\",\n",
       " 'age',\n",
       " \"savings_status='no known savings'\",\n",
       " 'log_duration',\n",
       " \"personal_status='male div/sep'\",\n",
       " 'existing_credits',\n",
       " 'purpose=repairs',\n",
       " 'foreign_worker=yes',\n",
       " 'num_dependents',\n",
       " \"savings_status='<100'\",\n",
       " \"housing='for free'\",\n",
       " 'installment_commitment',\n",
       " 'log_credit_amount',\n",
       " \"purpose='domestic appliance'\",\n",
       " 'property_magnitude=car',\n",
       " 'own_telephone=none',\n",
       " \"employment='>=7'\",\n",
       " \"personal_status='female div/dep/mar'\",\n",
       " 'purpose=furniture/equipment',\n",
       " 'purpose=radio/tv',\n",
       " \"credit_history='existing paid'\",\n",
       " \"checking_status='0<=X<200'\",\n",
       " \"personal_status='male mar/wid'\",\n",
       " \"savings_status='100<=X<500'\",\n",
       " 'employment=unemployed',\n",
       " \"property_magnitude='life insurance'\",\n",
       " \"property_magnitude='no known property'\",\n",
       " 'other_payment_plans=stores',\n",
       " \"job='high qualif/self emp/mgmt'\",\n",
       " 'purpose=business',\n",
       " \"other_parties='co applicant'\",\n",
       " 'job=skilled',\n",
       " 'other_payment_plans=bank',\n",
       " \"savings_status='500<=X<1000'\",\n",
       " \"employment='<1'\",\n",
       " 'housing=rent',\n",
       " 'duration',\n",
       " \"job='unskilled resident'\",\n",
       " \"employment='1<=X<4'\",\n",
       " 'other_parties=none',\n",
       " 'residence_since']"
      ]
     },
     "execution_count": 39,
     "metadata": {},
     "output_type": "execute_result"
    }
   ],
   "source": [
    "# feature sorted by importance:\n",
    "[features_names[idx] for idx in importance_idx]"
   ]
  },
  {
   "cell_type": "markdown",
   "metadata": {},
   "source": [
    "plot the most N important features:"
   ]
  },
  {
   "cell_type": "code",
   "execution_count": 40,
   "metadata": {},
   "outputs": [
    {
     "data": {
      "text/plain": [
       "(array([0, 1, 2, 3, 4, 5, 6, 7, 8, 9]), <a list of 10 Text xticklabel objects>)"
      ]
     },
     "execution_count": 40,
     "metadata": {},
     "output_type": "execute_result"
    },
    {
     "data": {
      "image/png": "[encoded data removed]",
      "text/plain": [
       "<matplotlib.figure.Figure at 0x2d6c93a3080>"
      ]
     },
     "metadata": {},
     "output_type": "display_data"
    }
   ],
   "source": [
    "plt.figure(figsize=(18,14))\n",
    "# ax = plt.bar(np.arange(10), model.coef_[0][importance_idx][:10],\n",
    "#              tick_label = [features_names[idx] for idx in importance_idx][:10])\n",
    "sns.barplot([features_names[idx] for idx in importance_idx][:10], model.coef_[0][importance_idx][:10])\n",
    "plt.xticks(rotation = 45, size = 12)"
   ]
  },
  {
   "cell_type": "markdown",
   "metadata": {},
   "source": [
    "From the top 10 we can see that there aren't features with significant higher importance (the coefs value decrease slowly from the begining).\n",
    "\n",
    "Some insights:\n",
    "1. loan purposes of education or new car are good predictors of bad loans..\n",
    "2. log age (and not age... as we concluded earlier) is good predictor. since its coef is negative (and good loan = 0) it can be concluded that as the customer is older the probability of good loan increases"
   ]
  },
  {
   "cell_type": "markdown",
   "metadata": {},
   "source": [
    "an overall look on feature importance:"
   ]
  },
  {
   "cell_type": "code",
   "execution_count": 41,
   "metadata": {},
   "outputs": [
    {
     "data": {
      "text/plain": [
       "<matplotlib.axes._subplots.AxesSubplot at 0x2d6c944f0f0>"
      ]
     },
     "execution_count": 41,
     "metadata": {},
     "output_type": "execute_result"
    },
    {
     "data": {
      "image/png": "[encoded data removed]",
      "text/plain": [
       "<matplotlib.figure.Figure at 0x2d6c9b92cf8>"
      ]
     },
     "metadata": {},
     "output_type": "display_data"
    }
   ],
   "source": [
    "plt.figure(figsize=(18,10))\n",
    "sns.barplot([features_names[idx] for idx in importance_idx], model.coef_[0][importance_idx])"
   ]
  },
  {
   "cell_type": "markdown",
   "metadata": {},
   "source": [
    "predictors of bad loans:"
   ]
  },
  {
   "cell_type": "code",
   "execution_count": 42,
   "metadata": {},
   "outputs": [
    {
     "name": "stdout",
     "output_type": "stream",
     "text": [
      "['purpose=education', \"purpose='new car'\", 'credit_amount', \"checking_status='<0'\", \"credit_history='no credits/all paid'\", \"credit_history='all paid'\", 'age', 'log_duration', \"personal_status='male div/sep'\", 'existing_credits', 'purpose=repairs', 'foreign_worker=yes', 'num_dependents', \"savings_status='<100'\", 'installment_commitment', \"purpose='domestic appliance'\", \"checking_status='0<=X<200'\", \"savings_status='100<=X<500'\", 'employment=unemployed', \"property_magnitude='no known property'\", \"job='high qualif/self emp/mgmt'\", 'purpose=business', \"other_parties='co applicant'\", 'job=skilled', 'other_payment_plans=bank', 'housing=rent', 'other_parties=none', 'residence_since']\n"
     ]
    }
   ],
   "source": [
    "print([features_names[idx] for idx in importance_idx if model.coef_[0,idx] > 0 ])"
   ]
  },
  {
   "cell_type": "markdown",
   "metadata": {},
   "source": [
    "predictors of good loans:"
   ]
  },
  {
   "cell_type": "code",
   "execution_count": 43,
   "metadata": {
    "scrolled": true
   },
   "outputs": [
    {
     "name": "stdout",
     "output_type": "stream",
     "text": [
      "['purpose=retraining', 'foreign_worker=no', \"credit_history='critical/other existing credit'\", \"checking_status='no checking'\", \"purpose='used car'\", \"job='unemp/unskilled non res'\", 'other_parties=guarantor', 'log_age', \"savings_status='>=1000'\", \"personal_status='male single'\", 'other_payment_plans=none', \"credit_history='delayed previously'\", \"employment='4<=X<7'\", 'purpose=other', \"checking_status='>=200'\", 'own_telephone=yes', 'housing=own', \"property_magnitude='real estate'\", \"savings_status='no known savings'\", \"housing='for free'\", 'log_credit_amount', 'property_magnitude=car', 'own_telephone=none', \"employment='>=7'\", \"personal_status='female div/dep/mar'\", 'purpose=furniture/equipment', 'purpose=radio/tv', \"credit_history='existing paid'\", \"personal_status='male mar/wid'\", \"property_magnitude='life insurance'\", 'other_payment_plans=stores', \"savings_status='500<=X<1000'\", \"employment='<1'\", 'duration', \"job='unskilled resident'\", \"employment='1<=X<4'\"]\n"
     ]
    }
   ],
   "source": [
    "print([features_names[idx] for idx in importance_idx if model.coef_[0,idx] < 0 ])"
   ]
  },
  {
   "cell_type": "markdown",
   "metadata": {},
   "source": [
    "From inspection of the predictors above there are some which make sense ,like high credit amount -> bad loan, but not a few which not make sense, like job='unemp/unskilled non res'-> good loan. Thats correspond with the low f1-score of the current model."
   ]
  },
  {
   "cell_type": "markdown",
   "metadata": {},
   "source": [
    "A function to inspect samples and their prediction, compared to the true value:"
   ]
  },
  {
   "cell_type": "code",
   "execution_count": 44,
   "metadata": {
    "collapsed": true
   },
   "outputs": [],
   "source": [
    "def examine_predictions(sample_num):\n",
    "    for i in range(10):\n",
    "        print([features_names[idx] for idx in importance_idx][i].ljust(50) + str(X_train[sample_num,importance_idx[i]]))\n",
    "    print()\n",
    "    print('true class value: {}'.format('bad' if y_train[sample_num] == 1 else 'good'))\n",
    "    print('predicted class value: {}'.format('bad' if pred_train[sample_num] == 1 else 'good'))"
   ]
  },
  {
   "cell_type": "code",
   "execution_count": 45,
   "metadata": {},
   "outputs": [
    {
     "name": "stdout",
     "output_type": "stream",
     "text": [
      "purpose=retraining                                0.0\n",
      "purpose=education                                 0.0\n",
      "foreign_worker=no                                 1.0\n",
      "credit_history='critical/other existing credit'   1.0\n",
      "checking_status='no checking'                     1.0\n",
      "purpose='used car'                                0.0\n",
      "job='unemp/unskilled non res'                     0.0\n",
      "other_parties=guarantor                           0.0\n",
      "purpose='new car'                                 0.0\n",
      "log_age                                           -0.887226739622\n",
      "\n",
      "true class value: good\n",
      "predicted class value: good\n"
     ]
    }
   ],
   "source": [
    "examine_predictions(200)"
   ]
  },
  {
   "cell_type": "markdown",
   "metadata": {},
   "source": [
    "To further validate that we not having high variance situation and hence we don't need to reduce the number of features, recursive feature selection tool is activated:"
   ]
  },
  {
   "cell_type": "code",
   "execution_count": 46,
   "metadata": {
    "scrolled": true
   },
   "outputs": [
    {
     "name": "stdout",
     "output_type": "stream",
     "text": [
      "Optimal number of features : 49\n"
     ]
    },
    {
     "data": {
      "image/png": "[encoded data removed]",
      "text/plain": [
       "<matplotlib.figure.Figure at 0x2d6c95f26d8>"
      ]
     },
     "metadata": {},
     "output_type": "display_data"
    }
   ],
   "source": [
    "# Create the RFE object and compute a cross-validated score.\n",
    "svc = LinearSVC(random_state=42)\n",
    "\n",
    "rfecv = RFECV(estimator=svc, scoring='roc_auc')\n",
    "rfecv.fit(X_train, y_train)\n",
    "\n",
    "print(\"Optimal number of features : %d\" % rfecv.n_features_)\n",
    "\n",
    "# Plot number of features VS. cross-validation scores\n",
    "plt.figure()\n",
    "plt.xlabel(\"Number of features selected\")\n",
    "plt.ylabel(\"Cross validation score (f1 score)\")\n",
    "plt.plot(range(1, len(rfecv.grid_scores_) + 1), rfecv.grid_scores_)\n",
    "plt.show()"
   ]
  },
  {
   "cell_type": "markdown",
   "metadata": {},
   "source": [
    "Indeed, from the 64 features, the algorithm point out most of them, 49, as the optimal number and even so there is a flato and not decline in the performance as we add more features (in compliance with that the the model doesn't have high variance). let's check what happen if we choose only those 52 features (we expect to get the same performance or little worse):"
   ]
  },
  {
   "cell_type": "code",
   "execution_count": 47,
   "metadata": {
    "collapsed": true
   },
   "outputs": [],
   "source": [
    "X_train_new = X_train[:,rfecv.get_support()]\n",
    "X_test_new = X_test[:,rfecv.get_support()]"
   ]
  },
  {
   "cell_type": "code",
   "execution_count": 48,
   "metadata": {},
   "outputs": [
    {
     "name": "stdout",
     "output_type": "stream",
     "text": [
      "[\"checking_status='<0'\", \"checking_status='>=200'\", \"checking_status='no checking'\", \"credit_history='all paid'\", \"credit_history='critical/other existing credit'\", \"credit_history='delayed previously'\", \"credit_history='existing paid'\", \"credit_history='no credits/all paid'\", \"employment='4<=X<7'\", \"employment='>=7'\", 'employment=unemployed', 'existing_credits', 'foreign_worker=no', 'foreign_worker=yes', \"housing='for free'\", 'housing=own', 'installment_commitment', \"job='unemp/unskilled non res'\", 'job=skilled', 'num_dependents', 'other_parties=guarantor', 'other_payment_plans=none', 'other_payment_plans=stores', 'own_telephone=none', 'own_telephone=yes', \"personal_status='female div/dep/mar'\", \"personal_status='male div/sep'\", \"personal_status='male mar/wid'\", \"personal_status='male single'\", \"property_magnitude='no known property'\", \"property_magnitude='real estate'\", \"purpose='domestic appliance'\", \"purpose='new car'\", \"purpose='used car'\", 'purpose=education', 'purpose=furniture/equipment', 'purpose=other', 'purpose=radio/tv', 'purpose=repairs', 'purpose=retraining', \"savings_status='100<=X<500'\", \"savings_status='<100'\", \"savings_status='>=1000'\", \"savings_status='no known savings'\", 'credit_amount', 'age', 'log_duration', 'log_credit_amount', 'log_age']\n"
     ]
    }
   ],
   "source": [
    "print([name for i, name in enumerate(features_names) if rfecv.get_support()[i]])"
   ]
  },
  {
   "cell_type": "code",
   "execution_count": 49,
   "metadata": {},
   "outputs": [
    {
     "data": {
      "text/plain": [
       "(800, 49)"
      ]
     },
     "execution_count": 49,
     "metadata": {},
     "output_type": "execute_result"
    }
   ],
   "source": [
    "X_train_new.shape"
   ]
  },
  {
   "cell_type": "code",
   "execution_count": 50,
   "metadata": {},
   "outputs": [
    {
     "name": "stdout",
     "output_type": "stream",
     "text": [
      "train auc score:  0.833074770448\n",
      "train f1-score:  0.590163934426\n",
      "             precision    recall  f1-score   support\n",
      "\n",
      "          0       0.81      0.89      0.85       559\n",
      "          1       0.68      0.52      0.59       241\n",
      "\n",
      "avg / total       0.77      0.78      0.77       800\n",
      "\n",
      "[[499  60]\n",
      " [115 126]]\n",
      "test auc score:  0.825099170573\n",
      "test f1-score:  0.623853211009\n",
      "             precision    recall  f1-score   support\n",
      "\n",
      "          0       0.83      0.89      0.86       141\n",
      "          1       0.68      0.58      0.62        59\n",
      "\n",
      "avg / total       0.79      0.80      0.79       200\n",
      "\n",
      "[[125  16]\n",
      " [ 25  34]]\n"
     ]
    },
    {
     "data": {
      "image/png": "[encoded data removed]",
      "text/plain": [
       "<matplotlib.figure.Figure at 0x2d6cb3e8f98>"
      ]
     },
     "metadata": {},
     "output_type": "display_data"
    }
   ],
   "source": [
    "model = LogisticRegression(C = 10000, random_state=42)\n",
    "model.fit(X_train_new, y_train)\n",
    "\n",
    "# Predict\n",
    "pred_train = model.predict(X_train_new)\n",
    "pred_test = model.predict(X_test_new)\n",
    "\n",
    "y_train_score = model.decision_function(X_train_new)\n",
    "print('train auc score: ', roc_auc_score(y_train, y_train_score))\n",
    "print('train f1-score: ', f1_score(y_train, pred_train))\n",
    "print(classification_report(y_train, pred_train))\n",
    "print(confusion_matrix(y_train, pred_train))\n",
    "\n",
    "y_test_score = model.decision_function(X_test_new)\n",
    "print('test auc score: ', roc_auc_score(y_test, y_test_score))\n",
    "print('test f1-score: ', f1_score(y_test, pred_test))\n",
    "print(classification_report(y_test, pred_test))\n",
    "print(confusion_matrix(y_test, pred_test))\n",
    "\n",
    "plot_utils.plot_roc_curve(model, X_test_new, y_test)"
   ]
  },
  {
   "cell_type": "markdown",
   "metadata": {},
   "source": [
    "Indeed, using only those 49 features are enough to get the same results as with all the 64."
   ]
  },
  {
   "cell_type": "markdown",
   "metadata": {},
   "source": [
    "## Tries to improve results"
   ]
  },
  {
   "cell_type": "markdown",
   "metadata": {},
   "source": [
    "let add another feature: The credit amount-duration ratio:"
   ]
  },
  {
   "cell_type": "code",
   "execution_count": 51,
   "metadata": {
    "collapsed": true
   },
   "outputs": [],
   "source": [
    "df_train['credit_duration_ratio'] = df_train['credit_amount'] / df_train['duration']\n",
    "df_test['credit_duration_ratio'] = df_test['credit_amount'] / df_test['duration']"
   ]
  },
  {
   "cell_type": "code",
   "execution_count": 52,
   "metadata": {
    "scrolled": true
   },
   "outputs": [
    {
     "data": {
      "text/plain": [
       "<matplotlib.text.Text at 0x2d6c9177080>"
      ]
     },
     "execution_count": 52,
     "metadata": {},
     "output_type": "execute_result"
    },
    {
     "data": {
      "image/png": "[encoded data removed]",
      "text/plain": [
       "<matplotlib.figure.Figure at 0x2d6c9579f28>"
      ]
     },
     "metadata": {},
     "output_type": "display_data"
    }
   ],
   "source": [
    "plt.figure(figsize=(18,6))\n",
    "ax1 = plt.subplot(1,2,1)\n",
    "sns.distplot(df_train.credit_duration_ratio, ax = ax1)\n",
    "ax2 = plt.subplot(1,2,2)\n",
    "sns.distplot(np.log(df_train.credit_duration_ratio), ax = ax2)\n",
    "plt.xlabel('log credit_duration_ratio')"
   ]
  },
  {
   "cell_type": "markdown",
   "metadata": {},
   "source": [
    "From the graph it seems that the log of the principal may be a good/ better feature. need to add it:"
   ]
  },
  {
   "cell_type": "code",
   "execution_count": 53,
   "metadata": {
    "collapsed": true
   },
   "outputs": [],
   "source": [
    "df_train['log_credit_duration_ratio'] = np.log(df_train['credit_duration_ratio'])\n",
    "df_test['log_credit_duration_ratio'] = np.log(df_test['credit_duration_ratio'])"
   ]
  },
  {
   "cell_type": "code",
   "execution_count": 54,
   "metadata": {},
   "outputs": [
    {
     "data": {
      "text/plain": [
       "['duration',\n",
       " 'credit_amount',\n",
       " 'age',\n",
       " 'log_duration',\n",
       " 'log_credit_amount',\n",
       " 'log_age',\n",
       " 'credit_duration_ratio',\n",
       " 'log_credit_duration_ratio']"
      ]
     },
     "execution_count": 54,
     "metadata": {},
     "output_type": "execute_result"
    }
   ],
   "source": [
    "numerical_features = numerical_features + ['credit_duration_ratio', 'log_credit_duration_ratio']\n",
    "features_names += ['credit_duration_ratio', 'log_credit_duration_ratio']\n",
    "numerical_features"
   ]
  },
  {
   "cell_type": "markdown",
   "metadata": {},
   "source": [
    "update X_train and X_test with the new 2 features:"
   ]
  },
  {
   "cell_type": "code",
   "execution_count": 55,
   "metadata": {},
   "outputs": [
    {
     "data": {
      "text/plain": [
       "(800, 66)"
      ]
     },
     "execution_count": 55,
     "metadata": {},
     "output_type": "execute_result"
    }
   ],
   "source": [
    "X_train = X_train[:,:-6]\n",
    "\n",
    "scaler = StandardScaler()\n",
    "numerical_train_scaled = scaler.fit_transform(df_train[numerical_features])\n",
    "\n",
    "X_train = np.hstack((X_train, numerical_train_scaled))\n",
    "# df_train = pd.concat((pd.get_dummies(df_train[categorical_features]), df_train[numerical_features]), axis = 1)\n",
    "\n",
    "X_train.shape"
   ]
  },
  {
   "cell_type": "code",
   "execution_count": 56,
   "metadata": {},
   "outputs": [
    {
     "data": {
      "text/plain": [
       "(200, 66)"
      ]
     },
     "execution_count": 56,
     "metadata": {},
     "output_type": "execute_result"
    }
   ],
   "source": [
    "X_test = X_test[:,:-6]\n",
    "\n",
    "numerical_test_scaled = scaler.transform(df_test[numerical_features])\n",
    "\n",
    "X_test = np.hstack((X_test, numerical_test_scaled))\n",
    "# df_test = pd.concat((pd.get_dummies(df_test[categorical_features]), df_test[numerical_features]), axis = 1)\n",
    "\n",
    "X_test.shape"
   ]
  },
  {
   "cell_type": "markdown",
   "metadata": {},
   "source": [
    "let's check if it does something to the results:"
   ]
  },
  {
   "cell_type": "code",
   "execution_count": 57,
   "metadata": {
    "scrolled": true
   },
   "outputs": [
    {
     "name": "stdout",
     "output_type": "stream",
     "text": [
      "train auc score:  0.837669519518\n",
      "train f1-score:  0.590163934426\n",
      "             precision    recall  f1-score   support\n",
      "\n",
      "          0       0.81      0.89      0.85       559\n",
      "          1       0.68      0.52      0.59       241\n",
      "\n",
      "avg / total       0.77      0.78      0.77       800\n",
      "\n",
      "[[499  60]\n",
      " [115 126]]\n",
      "test auc score:  0.828705373242\n",
      "test f1-score:  0.623853211009\n",
      "             precision    recall  f1-score   support\n",
      "\n",
      "          0       0.83      0.89      0.86       141\n",
      "          1       0.68      0.58      0.62        59\n",
      "\n",
      "avg / total       0.79      0.80      0.79       200\n",
      "\n",
      "[[125  16]\n",
      " [ 25  34]]\n"
     ]
    },
    {
     "data": {
      "image/png": "[encoded data removed]",
      "text/plain": [
       "<matplotlib.figure.Figure at 0x2d6cb6e0400>"
      ]
     },
     "metadata": {},
     "output_type": "display_data"
    }
   ],
   "source": [
    "model = LogisticRegression(C = 10000, random_state=42) \n",
    "model.fit(X_train, y_train)\n",
    "\n",
    "y_train_score = model.decision_function(X_train)\n",
    "print('train auc score: ', roc_auc_score(y_train, y_train_score))\n",
    "print('train f1-score: ', f1_score(y_train, pred_train))\n",
    "print(classification_report(y_train, pred_train))\n",
    "print(confusion_matrix(y_train, pred_train))\n",
    "\n",
    "y_test_score = model.decision_function(X_test)\n",
    "print('test auc score: ', roc_auc_score(y_test, y_test_score))\n",
    "print('test f1-score: ', f1_score(y_test, pred_test))\n",
    "print(classification_report(y_test, pred_test))\n",
    "print(confusion_matrix(y_test, pred_test))\n",
    "\n",
    "plot_utils.plot_roc_curve(model, X_test, y_test)"
   ]
  },
  {
   "cell_type": "markdown",
   "metadata": {},
   "source": [
    "Nice. The new 2 features add some little improvement to the results. Let's validate it:"
   ]
  },
  {
   "cell_type": "code",
   "execution_count": 58,
   "metadata": {
    "scrolled": true
   },
   "outputs": [
    {
     "data": {
      "text/plain": [
       "['purpose=retraining',\n",
       " \"job='unemp/unskilled non res'\",\n",
       " 'purpose=education',\n",
       " 'foreign_worker=no',\n",
       " \"credit_history='critical/other existing credit'\",\n",
       " \"checking_status='no checking'\",\n",
       " \"purpose='used car'\",\n",
       " 'other_parties=guarantor',\n",
       " \"purpose='new car'\",\n",
       " 'credit_duration_ratio',\n",
       " 'log_age',\n",
       " \"savings_status='>=1000'\",\n",
       " \"personal_status='male single'\",\n",
       " 'other_payment_plans=none',\n",
       " \"credit_history='no credits/all paid'\",\n",
       " \"checking_status='<0'\",\n",
       " \"credit_history='delayed previously'\",\n",
       " \"employment='4<=X<7'\",\n",
       " 'housing=own',\n",
       " 'log_credit_duration_ratio']"
      ]
     },
     "execution_count": 58,
     "metadata": {},
     "output_type": "execute_result"
    }
   ],
   "source": [
    "importance_idx = np.argsort(abs(model.coef_[0]))[::-1]\n",
    "[features_names[idx] for idx in importance_idx[:20]]"
   ]
  },
  {
   "cell_type": "markdown",
   "metadata": {},
   "source": [
    "Indeed, the credit-duration-ratio is the 10th most important feature and the log of it is the 20th.."
   ]
  },
  {
   "cell_type": "markdown",
   "metadata": {},
   "source": [
    "After examine the features list it seems that some of the categoricals are not as they should be. Specifically, the categoricals that represented as integers, like 'existing_credits' and 'residence_since'. Let's check how DictVectorizer treated them:"
   ]
  },
  {
   "cell_type": "code",
   "execution_count": 59,
   "metadata": {},
   "outputs": [
    {
     "data": {
      "text/plain": [
       "matrix([[ 2.,  4.],\n",
       "        [ 1.,  1.],\n",
       "        [ 1.,  4.],\n",
       "        [ 2.,  4.],\n",
       "        [ 1.,  2.],\n",
       "        [ 2.,  4.],\n",
       "        [ 1.,  2.],\n",
       "        [ 1.,  1.],\n",
       "        [ 1.,  4.],\n",
       "        [ 2.,  2.]])"
      ]
     },
     "execution_count": 59,
     "metadata": {},
     "output_type": "execute_result"
    }
   ],
   "source": [
    "# check to numerical integers features - it seems that dictVectorizer doesn't work well for them:\n",
    "check_dict = df_train[['existing_credits','residence_since']].to_dict('records')\n",
    "dict_vect_check = DictVectorizer()\n",
    "temp = dict_vect_check.fit_transform(check_dict).todense()\n",
    "temp[:10,:]"
   ]
  },
  {
   "cell_type": "markdown",
   "metadata": {},
   "source": [
    "yes... it seems that dictVectorizer doesn't binarize integers... we need to do it with OneHotEncoder."
   ]
  },
  {
   "cell_type": "code",
   "execution_count": 60,
   "metadata": {},
   "outputs": [
    {
     "data": {
      "text/plain": [
       "checking_status               object\n",
       "duration                       int64\n",
       "credit_history                object\n",
       "purpose                       object\n",
       "credit_amount                  int64\n",
       "savings_status                object\n",
       "employment                    object\n",
       "installment_commitment         int64\n",
       "personal_status               object\n",
       "other_parties                 object\n",
       "residence_since                int64\n",
       "property_magnitude            object\n",
       "age                            int64\n",
       "other_payment_plans           object\n",
       "housing                       object\n",
       "existing_credits               int64\n",
       "job                           object\n",
       "num_dependents                 int64\n",
       "own_telephone                 object\n",
       "foreign_worker                object\n",
       "log_duration                 float64\n",
       "log_credit_amount            float64\n",
       "log_age                      float64\n",
       "credit_duration_ratio        float64\n",
       "log_credit_duration_ratio    float64\n",
       "dtype: object"
      ]
     },
     "execution_count": 60,
     "metadata": {},
     "output_type": "execute_result"
    }
   ],
   "source": [
    "df_train.dtypes"
   ]
  },
  {
   "cell_type": "code",
   "execution_count": 61,
   "metadata": {},
   "outputs": [
    {
     "name": "stdout",
     "output_type": "stream",
     "text": [
      "Index(['checking_status', 'duration', 'credit_history', 'purpose',\n",
      "       'credit_amount', 'savings_status', 'employment',\n",
      "       'installment_commitment', 'personal_status', 'other_parties',\n",
      "       'residence_since', 'property_magnitude', 'age', 'other_payment_plans',\n",
      "       'housing', 'existing_credits', 'job', 'num_dependents', 'own_telephone',\n",
      "       'foreign_worker', 'log_duration', 'log_credit_amount', 'log_age',\n",
      "       'credit_duration_ratio', 'log_credit_duration_ratio'],\n",
      "      dtype='object')\n",
      "25\n"
     ]
    }
   ],
   "source": [
    "print(df_train.columns)\n",
    "print(len(df_train.columns))"
   ]
  },
  {
   "cell_type": "markdown",
   "metadata": {},
   "source": [
    "we need to seperate the integers categorical from the text categoricals:"
   ]
  },
  {
   "cell_type": "code",
   "execution_count": 62,
   "metadata": {},
   "outputs": [
    {
     "name": "stdout",
     "output_type": "stream",
     "text": [
      "25\n"
     ]
    }
   ],
   "source": [
    "categorical_features = ['checking_status', 'credit_history', 'purpose', 'savings_status', 'employment',\n",
    "        'personal_status', 'other_parties', 'property_magnitude',\n",
    "        'other_payment_plans', 'housing', 'job', 'own_telephone', 'foreign_worker']\n",
    "int_features = ['installment_commitment','residence_since','existing_credits', 'num_dependents']\n",
    "numerical_features = ['duration', 'credit_amount', 'age', 'credit_duration_ratio', 'log_duration', 'log_credit_amount', 'log_age',\n",
    "                     'log_credit_duration_ratio']\n",
    "print(len(categorical_features+int_features+numerical_features))"
   ]
  },
  {
   "cell_type": "code",
   "execution_count": 63,
   "metadata": {},
   "outputs": [
    {
     "data": {
      "text/html": [
       "<div>\n",
       "<style>\n",
       "    .dataframe thead tr:only-child th {\n",
       "        text-align: right;\n",
       "    }\n",
       "\n",
       "    .dataframe thead th {\n",
       "        text-align: left;\n",
       "    }\n",
       "\n",
       "    .dataframe tbody tr th {\n",
       "        vertical-align: top;\n",
       "    }\n",
       "</style>\n",
       "<table border=\"1\" class=\"dataframe\">\n",
       "  <thead>\n",
       "    <tr style=\"text-align: right;\">\n",
       "      <th></th>\n",
       "      <th>duration</th>\n",
       "      <th>credit_amount</th>\n",
       "      <th>age</th>\n",
       "      <th>credit_duration_ratio</th>\n",
       "      <th>log_duration</th>\n",
       "      <th>log_credit_amount</th>\n",
       "      <th>log_age</th>\n",
       "      <th>log_credit_duration_ratio</th>\n",
       "    </tr>\n",
       "  </thead>\n",
       "  <tbody>\n",
       "    <tr>\n",
       "      <th>29</th>\n",
       "      <td>60</td>\n",
       "      <td>6836</td>\n",
       "      <td>63</td>\n",
       "      <td>113.933333</td>\n",
       "      <td>4.094345</td>\n",
       "      <td>8.829958</td>\n",
       "      <td>4.143135</td>\n",
       "      <td>4.735613</td>\n",
       "    </tr>\n",
       "    <tr>\n",
       "      <th>535</th>\n",
       "      <td>21</td>\n",
       "      <td>2319</td>\n",
       "      <td>33</td>\n",
       "      <td>110.428571</td>\n",
       "      <td>3.044522</td>\n",
       "      <td>7.748891</td>\n",
       "      <td>3.496508</td>\n",
       "      <td>4.704369</td>\n",
       "    </tr>\n",
       "    <tr>\n",
       "      <th>695</th>\n",
       "      <td>6</td>\n",
       "      <td>1236</td>\n",
       "      <td>50</td>\n",
       "      <td>206.000000</td>\n",
       "      <td>1.791759</td>\n",
       "      <td>7.119636</td>\n",
       "      <td>3.912023</td>\n",
       "      <td>5.327876</td>\n",
       "    </tr>\n",
       "    <tr>\n",
       "      <th>557</th>\n",
       "      <td>21</td>\n",
       "      <td>5003</td>\n",
       "      <td>29</td>\n",
       "      <td>238.238095</td>\n",
       "      <td>3.044522</td>\n",
       "      <td>8.517793</td>\n",
       "      <td>3.367296</td>\n",
       "      <td>5.473271</td>\n",
       "    </tr>\n",
       "    <tr>\n",
       "      <th>836</th>\n",
       "      <td>12</td>\n",
       "      <td>886</td>\n",
       "      <td>21</td>\n",
       "      <td>73.833333</td>\n",
       "      <td>2.484907</td>\n",
       "      <td>6.786717</td>\n",
       "      <td>3.044522</td>\n",
       "      <td>4.301810</td>\n",
       "    </tr>\n",
       "  </tbody>\n",
       "</table>\n",
       "</div>"
      ],
      "text/plain": [
       "     duration  credit_amount  age  credit_duration_ratio  log_duration  \\\n",
       "29         60           6836   63             113.933333      4.094345   \n",
       "535        21           2319   33             110.428571      3.044522   \n",
       "695         6           1236   50             206.000000      1.791759   \n",
       "557        21           5003   29             238.238095      3.044522   \n",
       "836        12            886   21              73.833333      2.484907   \n",
       "\n",
       "     log_credit_amount   log_age  log_credit_duration_ratio  \n",
       "29            8.829958  4.143135                   4.735613  \n",
       "535           7.748891  3.496508                   4.704369  \n",
       "695           7.119636  3.912023                   5.327876  \n",
       "557           8.517793  3.367296                   5.473271  \n",
       "836           6.786717  3.044522                   4.301810  "
      ]
     },
     "execution_count": 63,
     "metadata": {},
     "output_type": "execute_result"
    }
   ],
   "source": [
    "df_train[numerical_features].head()"
   ]
  },
  {
   "cell_type": "code",
   "execution_count": 64,
   "metadata": {
    "scrolled": true
   },
   "outputs": [
    {
     "data": {
      "text/html": [
       "<div>\n",
       "<style>\n",
       "    .dataframe thead tr:only-child th {\n",
       "        text-align: right;\n",
       "    }\n",
       "\n",
       "    .dataframe thead th {\n",
       "        text-align: left;\n",
       "    }\n",
       "\n",
       "    .dataframe tbody tr th {\n",
       "        vertical-align: top;\n",
       "    }\n",
       "</style>\n",
       "<table border=\"1\" class=\"dataframe\">\n",
       "  <thead>\n",
       "    <tr style=\"text-align: right;\">\n",
       "      <th></th>\n",
       "      <th>installment_commitment</th>\n",
       "      <th>residence_since</th>\n",
       "      <th>existing_credits</th>\n",
       "      <th>num_dependents</th>\n",
       "    </tr>\n",
       "  </thead>\n",
       "  <tbody>\n",
       "    <tr>\n",
       "      <th>29</th>\n",
       "      <td>3</td>\n",
       "      <td>4</td>\n",
       "      <td>2</td>\n",
       "      <td>1</td>\n",
       "    </tr>\n",
       "    <tr>\n",
       "      <th>535</th>\n",
       "      <td>2</td>\n",
       "      <td>1</td>\n",
       "      <td>1</td>\n",
       "      <td>1</td>\n",
       "    </tr>\n",
       "    <tr>\n",
       "      <th>695</th>\n",
       "      <td>2</td>\n",
       "      <td>4</td>\n",
       "      <td>1</td>\n",
       "      <td>1</td>\n",
       "    </tr>\n",
       "    <tr>\n",
       "      <th>557</th>\n",
       "      <td>1</td>\n",
       "      <td>4</td>\n",
       "      <td>2</td>\n",
       "      <td>1</td>\n",
       "    </tr>\n",
       "    <tr>\n",
       "      <th>836</th>\n",
       "      <td>4</td>\n",
       "      <td>2</td>\n",
       "      <td>1</td>\n",
       "      <td>1</td>\n",
       "    </tr>\n",
       "  </tbody>\n",
       "</table>\n",
       "</div>"
      ],
      "text/plain": [
       "     installment_commitment  residence_since  existing_credits  num_dependents\n",
       "29                        3                4                 2               1\n",
       "535                       2                1                 1               1\n",
       "695                       2                4                 1               1\n",
       "557                       1                4                 2               1\n",
       "836                       4                2                 1               1"
      ]
     },
     "execution_count": 64,
     "metadata": {},
     "output_type": "execute_result"
    }
   ],
   "source": [
    "df_train[int_features].head()"
   ]
  },
  {
   "cell_type": "markdown",
   "metadata": {},
   "source": [
    "And now vectorize the categoricals sperately for text and integers:"
   ]
  },
  {
   "cell_type": "code",
   "execution_count": 65,
   "metadata": {},
   "outputs": [
    {
     "data": {
      "text/plain": [
       "(800, 76)"
      ]
     },
     "execution_count": 65,
     "metadata": {},
     "output_type": "execute_result"
    }
   ],
   "source": [
    "# vectorize categoricals and scale numericals for the train data:\n",
    "\n",
    "cat_dict = df_train[categorical_features].to_dict('records')\n",
    "dict_vect = DictVectorizer(sparse = False)\n",
    "X_train = dict_vect.fit_transform(cat_dict)\n",
    "\n",
    "one_hot = OneHotEncoder(sparse = False)\n",
    "one_hot_train = one_hot.fit_transform(df_train[int_features])\n",
    "\n",
    "scaler = StandardScaler()\n",
    "numerical_train_scaled = scaler.fit_transform(df_train[numerical_features])\n",
    "\n",
    "X_train = np.hstack((X_train, one_hot_train, numerical_train_scaled))\n",
    "# df_train = pd.concat((pd.get_dummies(df_train[categorical_features]), df_train[numerical_features]), axis = 1)\n",
    "\n",
    "X_train.shape"
   ]
  },
  {
   "cell_type": "markdown",
   "metadata": {},
   "source": [
    "Unfortunately oneHotEncoder doesn't preserve the original names of the features (as in dictVectorizer) so we need to do it manually."
   ]
  },
  {
   "cell_type": "markdown",
   "metadata": {},
   "source": [
    "First let's extract the unique values of those features:"
   ]
  },
  {
   "cell_type": "code",
   "execution_count": 66,
   "metadata": {
    "scrolled": true
   },
   "outputs": [
    {
     "name": "stdout",
     "output_type": "stream",
     "text": [
      "[3 2 1 4]\n",
      "[4 1 2 3]\n",
      "[2 1 4 3]\n",
      "[1 2]\n"
     ]
    }
   ],
   "source": [
    "for int_feat in int_features:\n",
    "    print(df_train[int_feat].unique())"
   ]
  },
  {
   "cell_type": "markdown",
   "metadata": {},
   "source": [
    "Make a list of one hot encoding feature names (asumes that the oneHotEncoder sort the unique values before fitting):"
   ]
  },
  {
   "cell_type": "code",
   "execution_count": 67,
   "metadata": {},
   "outputs": [
    {
     "data": {
      "text/plain": [
       "['installment_commitment_1',\n",
       " 'installment_commitment_2',\n",
       " 'installment_commitment_3',\n",
       " 'installment_commitment_4',\n",
       " 'residence_since_1',\n",
       " 'residence_since_2',\n",
       " 'residence_since_3',\n",
       " 'residence_since_4',\n",
       " 'existing_credits_1',\n",
       " 'existing_credits_2',\n",
       " 'existing_credits_3',\n",
       " 'existing_credits_4',\n",
       " 'num_dependents_1',\n",
       " 'num_dependents_2']"
      ]
     },
     "execution_count": 67,
     "metadata": {},
     "output_type": "execute_result"
    }
   ],
   "source": [
    "start_idx_of_one_hot = len(dict_vect.feature_names_)\n",
    "end_idx_of_one_hot = start_idx_of_one_hot + len(one_hot.active_features_) - 1\n",
    "one_hot_names = []\n",
    "for feat_name in int_features:\n",
    "    for feat_val in sorted(df_train[feat_name].unique()):\n",
    "        one_hot_names += [feat_name + '_' + str(feat_val)]\n",
    "one_hot_names"
   ]
  },
  {
   "cell_type": "markdown",
   "metadata": {},
   "source": [
    "sanity check: check that indeed the enoding is as it should be after sort the unique values and according to the order of one_hot_names:"
   ]
  },
  {
   "cell_type": "code",
   "execution_count": 68,
   "metadata": {
    "scrolled": true
   },
   "outputs": [
    {
     "name": "stdout",
     "output_type": "stream",
     "text": [
      "[ 1.  0.  0.  1.  0.  1.  0.  0.  0.  1.]\n",
      "existing_credits_2\n",
      "29     2\n",
      "535    1\n",
      "695    1\n",
      "557    2\n",
      "836    1\n",
      "596    2\n",
      "165    1\n",
      "918    1\n",
      "495    1\n",
      "824    2\n",
      "Name: existing_credits, dtype: int64\n"
     ]
    }
   ],
   "source": [
    "print(one_hot_train[:10,9]) # chose column num from 0 to 13 (3 features * 4 values for each + 1 feature * 2 values)\n",
    "print(one_hot_names[9]) # choose the same index\n",
    "print(df_train[int_features[2]].head(10)) "
   ]
  },
  {
   "cell_type": "markdown",
   "metadata": {},
   "source": [
    "sanity check passed!"
   ]
  },
  {
   "cell_type": "code",
   "execution_count": 69,
   "metadata": {},
   "outputs": [
    {
     "name": "stdout",
     "output_type": "stream",
     "text": [
      "76\n",
      "[\"checking_status='0<=X<200'\", \"checking_status='<0'\", \"checking_status='>=200'\", \"checking_status='no checking'\", \"credit_history='all paid'\", \"credit_history='critical/other existing credit'\", \"credit_history='delayed previously'\", \"credit_history='existing paid'\", \"credit_history='no credits/all paid'\", \"employment='1<=X<4'\", \"employment='4<=X<7'\", \"employment='<1'\", \"employment='>=7'\", 'employment=unemployed', 'foreign_worker=no', 'foreign_worker=yes', \"housing='for free'\", 'housing=own', 'housing=rent', \"job='high qualif/self emp/mgmt'\", \"job='unemp/unskilled non res'\", \"job='unskilled resident'\", 'job=skilled', \"other_parties='co applicant'\", 'other_parties=guarantor', 'other_parties=none', 'other_payment_plans=bank', 'other_payment_plans=none', 'other_payment_plans=stores', 'own_telephone=none', 'own_telephone=yes', \"personal_status='female div/dep/mar'\", \"personal_status='male div/sep'\", \"personal_status='male mar/wid'\", \"personal_status='male single'\", \"property_magnitude='life insurance'\", \"property_magnitude='no known property'\", \"property_magnitude='real estate'\", 'property_magnitude=car', \"purpose='domestic appliance'\", \"purpose='new car'\", \"purpose='used car'\", 'purpose=business', 'purpose=education', 'purpose=furniture/equipment', 'purpose=other', 'purpose=radio/tv', 'purpose=repairs', 'purpose=retraining', \"savings_status='100<=X<500'\", \"savings_status='500<=X<1000'\", \"savings_status='<100'\", \"savings_status='>=1000'\", \"savings_status='no known savings'\", 'installment_commitment_1', 'installment_commitment_2', 'installment_commitment_3', 'installment_commitment_4', 'residence_since_1', 'residence_since_2', 'residence_since_3', 'residence_since_4', 'existing_credits_1', 'existing_credits_2', 'existing_credits_3', 'existing_credits_4', 'num_dependents_1', 'num_dependents_2', 'duration', 'credit_amount', 'age', 'credit_duration_ratio', 'log_duration', 'log_credit_amount', 'log_age', 'log_credit_duration_ratio']\n"
     ]
    }
   ],
   "source": [
    "# concatenating all the names\n",
    "feature_names = dict_vect.feature_names_ + one_hot_names + numerical_features\n",
    "print(len(feature_names))\n",
    "print(feature_names)"
   ]
  },
  {
   "cell_type": "code",
   "execution_count": 70,
   "metadata": {},
   "outputs": [
    {
     "data": {
      "text/plain": [
       "(200, 76)"
      ]
     },
     "execution_count": 70,
     "metadata": {},
     "output_type": "execute_result"
    }
   ],
   "source": [
    "# vectorize categoricals and scale numericals for the test data:\n",
    "\n",
    "cat_dict = df_test[categorical_features].to_dict('records')\n",
    "X_test = dict_vect.transform(cat_dict)\n",
    "\n",
    "one_hot_test = one_hot.transform(df_test[int_features])\n",
    "\n",
    "numerical_test_scaled = scaler.transform(df_test[numerical_features])\n",
    "\n",
    "X_test = np.hstack((X_test, one_hot_test, numerical_test_scaled))\n",
    "\n",
    "X_test.shape"
   ]
  },
  {
   "cell_type": "code",
   "execution_count": 71,
   "metadata": {},
   "outputs": [
    {
     "name": "stdout",
     "output_type": "stream",
     "text": [
      "train auc score:  0.841959931413\n",
      "train f1-score:  0.609699769053\n",
      "             precision    recall  f1-score   support\n",
      "\n",
      "          0       0.82      0.89      0.86       559\n",
      "          1       0.69      0.55      0.61       241\n",
      "\n",
      "avg / total       0.78      0.79      0.78       800\n",
      "\n",
      "[[499  60]\n",
      " [109 132]]\n",
      "test auc score:  0.823656689506\n",
      "test f1-score:  0.62962962963\n",
      "             precision    recall  f1-score   support\n",
      "\n",
      "          0       0.83      0.89      0.86       141\n",
      "          1       0.69      0.58      0.63        59\n",
      "\n",
      "avg / total       0.79      0.80      0.79       200\n",
      "\n",
      "[[126  15]\n",
      " [ 25  34]]\n"
     ]
    },
    {
     "data": {
      "image/png": "[encoded data removed]",
      "text/plain": [
       "<matplotlib.figure.Figure at 0x2d6cb6e0630>"
      ]
     },
     "metadata": {},
     "output_type": "display_data"
    }
   ],
   "source": [
    "model = LogisticRegression(C = 10000, random_state=42) \n",
    "model.fit(X_train, y_train)\n",
    "\n",
    "# Predict\n",
    "pred_train = model.predict(X_train)\n",
    "pred_test = model.predict(X_test)\n",
    "\n",
    "y_train_score = model.decision_function(X_train)\n",
    "print('train auc score: ', roc_auc_score(y_train, y_train_score))\n",
    "print('train f1-score: ', f1_score(y_train, pred_train))\n",
    "print(classification_report(y_train, pred_train))\n",
    "print(confusion_matrix(y_train, pred_train))\n",
    "\n",
    "y_test_score = model.decision_function(X_test)\n",
    "print('test auc score: ', roc_auc_score(y_test, y_test_score))\n",
    "print('test f1-score: ', f1_score(y_test, pred_test))\n",
    "print(classification_report(y_test, pred_test))\n",
    "print(confusion_matrix(y_test, pred_test))\n",
    "\n",
    "plot_utils.plot_roc_curve(model, X_test, y_test)"
   ]
  },
  {
   "cell_type": "markdown",
   "metadata": {},
   "source": [
    "Interestingly, adding the last categroical features seems to be the straw that broke the camel's back where while the train results improved a little, there is a small decrease in the test auc score. This may suggest that with this amount of data we cannot get a beeter results and every addition of features will cause to over-fitting. But still, since the efeect is not so clear we will keep try."
   ]
  },
  {
   "cell_type": "markdown",
   "metadata": {},
   "source": [
    "## Summary"
   ]
  },
  {
   "cell_type": "markdown",
   "metadata": {},
   "source": [
    "Linear regression with no regularization and default features seems to get the desired results with 83% success to predict the quality of the loan, or more precisely the model has probability of 0.83 to rank a randomly chosen positive example (bad loan) above a randomly chosen negative one (good loan).\n",
    "\n",
    "While the results are good there is more to do in order to improve recall and precision of predicting bad loans."
   ]
  },
  {
   "cell_type": "markdown",
   "metadata": {},
   "source": [
    "## Try non-linear classifier:"
   ]
  },
  {
   "cell_type": "code",
   "execution_count": 72,
   "metadata": {},
   "outputs": [
    {
     "data": {
      "text/plain": [
       "SVC(C=1.0, cache_size=200, class_weight='balanced', coef0=0.0,\n",
       "  decision_function_shape=None, degree=3, gamma='auto', kernel='rbf',\n",
       "  max_iter=-1, probability=False, random_state=42, shrinking=True,\n",
       "  tol=0.001, verbose=False)"
      ]
     },
     "execution_count": 72,
     "metadata": {},
     "output_type": "execute_result"
    }
   ],
   "source": [
    "model_svc = SVC(class_weight='balanced', random_state=42)\n",
    "model_svc.fit(X_train, y_train)"
   ]
  },
  {
   "cell_type": "code",
   "execution_count": 73,
   "metadata": {},
   "outputs": [
    {
     "name": "stdout",
     "output_type": "stream",
     "text": [
      "train auc score:  0.848261937811\n",
      "train f1-score:  0.663194444444\n",
      "             precision    recall  f1-score   support\n",
      "\n",
      "          0       0.89      0.74      0.81       559\n",
      "          1       0.57      0.79      0.66       241\n",
      "\n",
      "avg / total       0.80      0.76      0.77       800\n",
      "\n",
      "[[415 144]\n",
      " [ 50 191]]\n",
      "test auc score:  0.820771727371\n",
      "test f1-score:  0.63309352518\n",
      "             precision    recall  f1-score   support\n",
      "\n",
      "          0       0.88      0.74      0.80       141\n",
      "          1       0.55      0.75      0.63        59\n",
      "\n",
      "avg / total       0.78      0.74      0.75       200\n",
      "\n",
      "[[105  36]\n",
      " [ 15  44]]\n"
     ]
    },
    {
     "data": {
      "image/png": "[encoded data removed]",
      "text/plain": [
       "<matplotlib.figure.Figure at 0x2d6cb5520b8>"
      ]
     },
     "metadata": {},
     "output_type": "display_data"
    }
   ],
   "source": [
    "# Predict\n",
    "pred_train = model_svc.predict(X_train)\n",
    "pred_test = model_svc.predict(X_test)\n",
    "\n",
    "y_train_score = model_svc.decision_function(X_train)\n",
    "print('train auc score: ', roc_auc_score(y_train, y_train_score))\n",
    "print('train f1-score: ', f1_score(y_train, pred_train))\n",
    "print(classification_report(y_train, pred_train))\n",
    "print(confusion_matrix(y_train, pred_train))\n",
    "\n",
    "y_test_score = model_svc.decision_function(X_test)\n",
    "print('test auc score: ', roc_auc_score(y_test, y_test_score))\n",
    "print('test f1-score: ', f1_score(y_test, pred_test))\n",
    "print(classification_report(y_test, pred_test))\n",
    "print(confusion_matrix(y_test, pred_test))\n",
    "\n",
    "plot_utils.plot_roc_curve(model_svc, X_test, y_test)"
   ]
  },
  {
   "cell_type": "markdown",
   "metadata": {},
   "source": [
    "With non-linear classifier, svc with rbf kernel, we achieved same auc score as lr. However, the svc threshold lie in different point on the roc curve with higher recall on the expense on undesirable FPR of 0.26.\n",
    "\n",
    "Anyway this is only a prilaminary results there is a need to do hyper-parameter tuning and maybe check for other algorithms."
   ]
  },
  {
   "cell_type": "markdown",
   "metadata": {
    "collapsed": true
   },
   "source": [
    "## Random Forest"
   ]
  },
  {
   "cell_type": "code",
   "execution_count": 74,
   "metadata": {},
   "outputs": [
    {
     "data": {
      "text/plain": [
       "RandomForestClassifier(bootstrap=True, class_weight='balanced',\n",
       "            criterion='gini', max_depth=4, max_features='auto',\n",
       "            max_leaf_nodes=None, min_impurity_split=1e-07,\n",
       "            min_samples_leaf=1, min_samples_split=2,\n",
       "            min_weight_fraction_leaf=0.0, n_estimators=12, n_jobs=1,\n",
       "            oob_score=False, random_state=42, verbose=0, warm_start=False)"
      ]
     },
     "execution_count": 74,
     "metadata": {},
     "output_type": "execute_result"
    }
   ],
   "source": [
    "model_rf = RandomForestClassifier(class_weight='balanced', n_estimators=12, max_depth=4, random_state=42)\n",
    "model_rf.fit(X_train, y_train)"
   ]
  },
  {
   "cell_type": "code",
   "execution_count": 75,
   "metadata": {},
   "outputs": [
    {
     "name": "stdout",
     "output_type": "stream",
     "text": [
      "train auc score:  0.857310401651\n",
      "train f1-score:  0.673952641166\n",
      "             precision    recall  f1-score   support\n",
      "\n",
      "          0       0.89      0.78      0.83       559\n",
      "          1       0.60      0.77      0.67       241\n",
      "\n",
      "avg / total       0.80      0.78      0.78       800\n",
      "\n",
      "[[436 123]\n",
      " [ 56 185]]\n",
      "test auc score:  0.746003125376\n",
      "test f1-score:  0.569230769231\n",
      "             precision    recall  f1-score   support\n",
      "\n",
      "          0       0.83      0.76      0.79       141\n",
      "          1       0.52      0.63      0.57        59\n",
      "\n",
      "avg / total       0.74      0.72      0.73       200\n",
      "\n",
      "[[107  34]\n",
      " [ 22  37]]\n"
     ]
    },
    {
     "data": {
      "image/png": "[encoded data removed]",
      "text/plain": [
       "<matplotlib.figure.Figure at 0x2d6cb5bb358>"
      ]
     },
     "metadata": {},
     "output_type": "display_data"
    }
   ],
   "source": [
    "# Predict\n",
    "pred_train = model_rf.predict(X_train)\n",
    "pred_test = model_rf.predict(X_test)\n",
    "\n",
    "y_train_score = model_rf.predict_proba(X_train)[:,1]\n",
    "print('train auc score: ', roc_auc_score(y_train, y_train_score))\n",
    "print('train f1-score: ', f1_score(y_train, pred_train))\n",
    "print(classification_report(y_train, pred_train))\n",
    "print(confusion_matrix(y_train, pred_train))\n",
    "\n",
    "y_test_score = model_rf.predict_proba(X_test)[:,1]\n",
    "print('test auc score: ', roc_auc_score(y_test, y_test_score))\n",
    "print('test f1-score: ', f1_score(y_test, pred_test))\n",
    "print(classification_report(y_test, pred_test))\n",
    "print(confusion_matrix(y_test, pred_test))\n",
    "\n",
    "plot_utils.plot_roc_curve(model_rf, X_test, y_test)"
   ]
  },
  {
   "cell_type": "markdown",
   "metadata": {},
   "source": [
    "random forest with arbitrary parameters gives over-fitted model. Lets try tuning hyper parameters with cross-validated grid search. To prevent data leakage we need to do different pre-processing for each fold. For that we will use customized class (more about using customized class and its benefit and importance while using pipline and grid-search cv you can find [in this link](https://ramhiser.com/post/2018-04-16-building-scikit-learn-pipeline-with-pandas-dataframe/)."
   ]
  },
  {
   "cell_type": "code",
   "execution_count": 76,
   "metadata": {
    "collapsed": true
   },
   "outputs": [],
   "source": [
    "# a cusotm transformer class wich enables transform, pre and/or post-processing on part of the data \n",
    "# good to use in FeatureUnion class\n",
    "class DfFeatures(BaseEstimator, TransformerMixin):\n",
    "    def __init__(self, cols=None, trf = None, to_dict = False, sparse = False, to_array = False):\n",
    "#         print(\"in init\")\n",
    "#         print(trf)\n",
    "        self.cols = cols\n",
    "        self.trf = trf\n",
    "        self.to_dict = to_dict\n",
    "        self.sparse = sparse\n",
    "        self.to_array = to_array\n",
    "        \n",
    "    def df_pre_process(self, df):\n",
    "        if self.cols is not None:\n",
    "            df = df[self.cols]\n",
    "        if self.to_dict:\n",
    "            df = df.to_dict('records')\n",
    "        return df\n",
    "    \n",
    "    def df_post_process(self, U):\n",
    "        if self.sparse:\n",
    "            U = coo_matrix(U)\n",
    "        if self.to_array:\n",
    "            U = U.toarray()\n",
    "        return U\n",
    "    \n",
    "    def transform(self, df):\n",
    "        X = self.df_pre_process(df)\n",
    "        U = self.trf.transform(X) if self.trf is not None else X\n",
    "        U = self.df_post_process(U)\n",
    "        return U\n",
    "    \n",
    "    def fit_transform(self, df, y=None):\n",
    "        X = self.df_pre_process(df)\n",
    "        U = self.trf.fit_transform(X) if self.trf is not None else X       \n",
    "        U = self.df_post_process(U)\n",
    "        return U"
   ]
  },
  {
   "cell_type": "markdown",
   "metadata": {},
   "source": [
    "hyper-parameter optimization for random forest:"
   ]
  },
  {
   "cell_type": "code",
   "execution_count": 77,
   "metadata": {},
   "outputs": [
    {
     "name": "stdout",
     "output_type": "stream",
     "text": [
      "Fitting 3 folds for each of 30 candidates, totalling 90 fits\n"
     ]
    },
    {
     "name": "stderr",
     "output_type": "stream",
     "text": [
      "[Parallel(n_jobs=1)]: Done  90 out of  90 | elapsed:    5.5s finished\n"
     ]
    },
    {
     "data": {
      "text/plain": [
       "GridSearchCV(cv=None, error_score='raise',\n",
       "       estimator=Pipeline(steps=[('f_union', FeatureUnion(n_jobs=1,\n",
       "       transformer_list=[('cat_to_vect', DfFeatures(cols=['checking_status', 'credit_history', 'purpose', 'savings_status', 'employment', 'personal_status', 'other_parties', 'property_magnitude', 'other_payment_plans', 'housing', 'job', 'own_telephone', 'for...stimators=10, n_jobs=1,\n",
       "            oob_score=False, random_state=42, verbose=0, warm_start=False))]),\n",
       "       fit_params={}, iid=True, n_jobs=1,\n",
       "       param_grid={'rnd_forest__max_depth': [2, 3, 4, 5, 6], 'rnd_forest__n_estimators': [5, 7, 10, 12, 15, 18]},\n",
       "       pre_dispatch='2*n_jobs', refit=True, return_train_score=True,\n",
       "       scoring='roc_auc', verbose=1)"
      ]
     },
     "execution_count": 77,
     "metadata": {},
     "output_type": "execute_result"
    }
   ],
   "source": [
    "# FeatureUnion is used to concatenate different features. We must use it because we want GridSearchCV to do it seperately \n",
    "# for each fold to prevent data leakage (until now we did it to the entire train data). Since each transformer does not applied\n",
    "# to all the data we need the customized class, DFfeaures, that enables choosing only part of the data for each transformer.\n",
    "f_union = (FeatureUnion([('cat_to_vect', DfFeatures(cols = categorical_features, trf = DictVectorizer(sparse = False), to_dict = True)),\n",
    "                        ('scale_numericals',DfFeatures(cols = numerical_features, trf = StandardScaler())),\n",
    "                        ('ohe', DfFeatures(cols = int_features, trf = OneHotEncoder(sparse = False)))]))\n",
    "estimators = [('f_union', f_union), ('rnd_forest', RandomForestClassifier(class_weight='balanced', random_state=42))]\n",
    "pipe = Pipeline(estimators)\n",
    "param_grid = dict(rnd_forest__max_depth = [2, 3 ,4, 5, 6], rnd_forest__n_estimators = [5, 7, 10, 12, 15, 18])\n",
    "clf = GridSearchCV(pipe, param_grid=param_grid, verbose = 1, scoring= 'roc_auc', return_train_score = True)\n",
    "clf.fit(df_train, y_train)"
   ]
  },
  {
   "cell_type": "code",
   "execution_count": 78,
   "metadata": {},
   "outputs": [
    {
     "data": {
      "text/html": [
       "<div>\n",
       "<style>\n",
       "    .dataframe thead tr:only-child th {\n",
       "        text-align: right;\n",
       "    }\n",
       "\n",
       "    .dataframe thead th {\n",
       "        text-align: left;\n",
       "    }\n",
       "\n",
       "    .dataframe tbody tr th {\n",
       "        vertical-align: top;\n",
       "    }\n",
       "</style>\n",
       "<table border=\"1\" class=\"dataframe\">\n",
       "  <thead>\n",
       "    <tr style=\"text-align: right;\">\n",
       "      <th></th>\n",
       "      <th>mean_fit_time</th>\n",
       "      <th>mean_score_time</th>\n",
       "      <th>mean_test_score</th>\n",
       "      <th>mean_train_score</th>\n",
       "      <th>param_rnd_forest__max_depth</th>\n",
       "      <th>param_rnd_forest__n_estimators</th>\n",
       "      <th>params</th>\n",
       "      <th>rank_test_score</th>\n",
       "      <th>split0_test_score</th>\n",
       "      <th>split0_train_score</th>\n",
       "      <th>split1_test_score</th>\n",
       "      <th>split1_train_score</th>\n",
       "      <th>split2_test_score</th>\n",
       "      <th>split2_train_score</th>\n",
       "      <th>std_fit_time</th>\n",
       "      <th>std_score_time</th>\n",
       "      <th>std_test_score</th>\n",
       "      <th>std_train_score</th>\n",
       "    </tr>\n",
       "  </thead>\n",
       "  <tbody>\n",
       "    <tr>\n",
       "      <th>0</th>\n",
       "      <td>0.024653</td>\n",
       "      <td>0.010659</td>\n",
       "      <td>0.730603</td>\n",
       "      <td>0.766076</td>\n",
       "      <td>2</td>\n",
       "      <td>5</td>\n",
       "      <td>{'rnd_forest__max_depth': 2, 'rnd_forest__n_es...</td>\n",
       "      <td>25</td>\n",
       "      <td>0.703473</td>\n",
       "      <td>0.767347</td>\n",
       "      <td>0.743347</td>\n",
       "      <td>0.776564</td>\n",
       "      <td>0.745195</td>\n",
       "      <td>0.754317</td>\n",
       "      <td>0.000942</td>\n",
       "      <td>4.703071e-04</td>\n",
       "      <td>0.019271</td>\n",
       "      <td>0.009127</td>\n",
       "    </tr>\n",
       "    <tr>\n",
       "      <th>1</th>\n",
       "      <td>0.025317</td>\n",
       "      <td>0.008682</td>\n",
       "      <td>0.739628</td>\n",
       "      <td>0.778935</td>\n",
       "      <td>2</td>\n",
       "      <td>7</td>\n",
       "      <td>{'rnd_forest__max_depth': 2, 'rnd_forest__n_es...</td>\n",
       "      <td>18</td>\n",
       "      <td>0.707665</td>\n",
       "      <td>0.772421</td>\n",
       "      <td>0.752319</td>\n",
       "      <td>0.790976</td>\n",
       "      <td>0.759140</td>\n",
       "      <td>0.773408</td>\n",
       "      <td>0.000469</td>\n",
       "      <td>2.586872e-03</td>\n",
       "      <td>0.022856</td>\n",
       "      <td>0.008524</td>\n",
       "    </tr>\n",
       "    <tr>\n",
       "      <th>2</th>\n",
       "      <td>0.031859</td>\n",
       "      <td>0.010661</td>\n",
       "      <td>0.740697</td>\n",
       "      <td>0.793651</td>\n",
       "      <td>2</td>\n",
       "      <td>10</td>\n",
       "      <td>{'rnd_forest__max_depth': 2, 'rnd_forest__n_es...</td>\n",
       "      <td>17</td>\n",
       "      <td>0.698950</td>\n",
       "      <td>0.791633</td>\n",
       "      <td>0.771203</td>\n",
       "      <td>0.806463</td>\n",
       "      <td>0.752251</td>\n",
       "      <td>0.782858</td>\n",
       "      <td>0.004145</td>\n",
       "      <td>4.713279e-04</td>\n",
       "      <td>0.030621</td>\n",
       "      <td>0.009741</td>\n",
       "    </tr>\n",
       "    <tr>\n",
       "      <th>3</th>\n",
       "      <td>0.031309</td>\n",
       "      <td>0.010333</td>\n",
       "      <td>0.732739</td>\n",
       "      <td>0.794702</td>\n",
       "      <td>2</td>\n",
       "      <td>12</td>\n",
       "      <td>{'rnd_forest__max_depth': 2, 'rnd_forest__n_es...</td>\n",
       "      <td>22</td>\n",
       "      <td>0.699809</td>\n",
       "      <td>0.797723</td>\n",
       "      <td>0.755108</td>\n",
       "      <td>0.805372</td>\n",
       "      <td>0.743548</td>\n",
       "      <td>0.781010</td>\n",
       "      <td>0.000474</td>\n",
       "      <td>4.792378e-04</td>\n",
       "      <td>0.023843</td>\n",
       "      <td>0.010173</td>\n",
       "    </tr>\n",
       "    <tr>\n",
       "      <th>4</th>\n",
       "      <td>0.034569</td>\n",
       "      <td>0.010994</td>\n",
       "      <td>0.734571</td>\n",
       "      <td>0.801207</td>\n",
       "      <td>2</td>\n",
       "      <td>15</td>\n",
       "      <td>{'rnd_forest__max_depth': 2, 'rnd_forest__n_es...</td>\n",
       "      <td>20</td>\n",
       "      <td>0.699941</td>\n",
       "      <td>0.796623</td>\n",
       "      <td>0.755679</td>\n",
       "      <td>0.811242</td>\n",
       "      <td>0.748353</td>\n",
       "      <td>0.795755</td>\n",
       "      <td>0.001581</td>\n",
       "      <td>4.052337e-07</td>\n",
       "      <td>0.024760</td>\n",
       "      <td>0.007105</td>\n",
       "    </tr>\n",
       "    <tr>\n",
       "      <th>5</th>\n",
       "      <td>0.040321</td>\n",
       "      <td>0.008692</td>\n",
       "      <td>0.742848</td>\n",
       "      <td>0.803569</td>\n",
       "      <td>2</td>\n",
       "      <td>18</td>\n",
       "      <td>{'rnd_forest__max_depth': 2, 'rnd_forest__n_es...</td>\n",
       "      <td>13</td>\n",
       "      <td>0.713310</td>\n",
       "      <td>0.802403</td>\n",
       "      <td>0.763138</td>\n",
       "      <td>0.810392</td>\n",
       "      <td>0.752319</td>\n",
       "      <td>0.797912</td>\n",
       "      <td>0.005445</td>\n",
       "      <td>3.258402e-03</td>\n",
       "      <td>0.021424</td>\n",
       "      <td>0.005162</td>\n",
       "    </tr>\n",
       "    <tr>\n",
       "      <th>6</th>\n",
       "      <td>0.024322</td>\n",
       "      <td>0.010328</td>\n",
       "      <td>0.723615</td>\n",
       "      <td>0.811877</td>\n",
       "      <td>3</td>\n",
       "      <td>5</td>\n",
       "      <td>{'rnd_forest__max_depth': 3, 'rnd_forest__n_es...</td>\n",
       "      <td>29</td>\n",
       "      <td>0.718030</td>\n",
       "      <td>0.804629</td>\n",
       "      <td>0.711895</td>\n",
       "      <td>0.819260</td>\n",
       "      <td>0.740961</td>\n",
       "      <td>0.811741</td>\n",
       "      <td>0.000474</td>\n",
       "      <td>4.703588e-04</td>\n",
       "      <td>0.012497</td>\n",
       "      <td>0.005974</td>\n",
       "    </tr>\n",
       "    <tr>\n",
       "      <th>7</th>\n",
       "      <td>0.021839</td>\n",
       "      <td>0.011875</td>\n",
       "      <td>0.725923</td>\n",
       "      <td>0.830288</td>\n",
       "      <td>3</td>\n",
       "      <td>7</td>\n",
       "      <td>{'rnd_forest__max_depth': 3, 'rnd_forest__n_es...</td>\n",
       "      <td>27</td>\n",
       "      <td>0.703077</td>\n",
       "      <td>0.811979</td>\n",
       "      <td>0.715995</td>\n",
       "      <td>0.842189</td>\n",
       "      <td>0.758871</td>\n",
       "      <td>0.836694</td>\n",
       "      <td>0.005174</td>\n",
       "      <td>2.660028e-03</td>\n",
       "      <td>0.023845</td>\n",
       "      <td>0.013139</td>\n",
       "    </tr>\n",
       "    <tr>\n",
       "      <th>8</th>\n",
       "      <td>0.028981</td>\n",
       "      <td>0.010327</td>\n",
       "      <td>0.731761</td>\n",
       "      <td>0.843022</td>\n",
       "      <td>3</td>\n",
       "      <td>10</td>\n",
       "      <td>{'rnd_forest__max_depth': 3, 'rnd_forest__n_es...</td>\n",
       "      <td>24</td>\n",
       "      <td>0.691721</td>\n",
       "      <td>0.835845</td>\n",
       "      <td>0.752789</td>\n",
       "      <td>0.849766</td>\n",
       "      <td>0.751075</td>\n",
       "      <td>0.843455</td>\n",
       "      <td>0.000004</td>\n",
       "      <td>4.710332e-04</td>\n",
       "      <td>0.028428</td>\n",
       "      <td>0.005691</td>\n",
       "    </tr>\n",
       "    <tr>\n",
       "      <th>9</th>\n",
       "      <td>0.031108</td>\n",
       "      <td>0.008035</td>\n",
       "      <td>0.733103</td>\n",
       "      <td>0.846168</td>\n",
       "      <td>3</td>\n",
       "      <td>12</td>\n",
       "      <td>{'rnd_forest__max_depth': 3, 'rnd_forest__n_es...</td>\n",
       "      <td>21</td>\n",
       "      <td>0.697993</td>\n",
       "      <td>0.842918</td>\n",
       "      <td>0.756149</td>\n",
       "      <td>0.851506</td>\n",
       "      <td>0.745430</td>\n",
       "      <td>0.844079</td>\n",
       "      <td>0.000654</td>\n",
       "      <td>4.196652e-03</td>\n",
       "      <td>0.025300</td>\n",
       "      <td>0.003804</td>\n",
       "    </tr>\n",
       "    <tr>\n",
       "      <th>10</th>\n",
       "      <td>0.034315</td>\n",
       "      <td>0.010994</td>\n",
       "      <td>0.745053</td>\n",
       "      <td>0.850355</td>\n",
       "      <td>3</td>\n",
       "      <td>15</td>\n",
       "      <td>{'rnd_forest__max_depth': 3, 'rnd_forest__n_es...</td>\n",
       "      <td>10</td>\n",
       "      <td>0.709117</td>\n",
       "      <td>0.843481</td>\n",
       "      <td>0.758972</td>\n",
       "      <td>0.855478</td>\n",
       "      <td>0.767339</td>\n",
       "      <td>0.852106</td>\n",
       "      <td>0.000474</td>\n",
       "      <td>1.123916e-07</td>\n",
       "      <td>0.025733</td>\n",
       "      <td>0.005052</td>\n",
       "    </tr>\n",
       "    <tr>\n",
       "      <th>11</th>\n",
       "      <td>0.035071</td>\n",
       "      <td>0.012538</td>\n",
       "      <td>0.751101</td>\n",
       "      <td>0.851333</td>\n",
       "      <td>3</td>\n",
       "      <td>18</td>\n",
       "      <td>{'rnd_forest__max_depth': 3, 'rnd_forest__n_es...</td>\n",
       "      <td>6</td>\n",
       "      <td>0.720902</td>\n",
       "      <td>0.853243</td>\n",
       "      <td>0.764550</td>\n",
       "      <td>0.852922</td>\n",
       "      <td>0.768078</td>\n",
       "      <td>0.847834</td>\n",
       "      <td>0.002694</td>\n",
       "      <td>2.184724e-03</td>\n",
       "      <td>0.021482</td>\n",
       "      <td>0.002477</td>\n",
       "    </tr>\n",
       "    <tr>\n",
       "      <th>12</th>\n",
       "      <td>0.023987</td>\n",
       "      <td>0.010327</td>\n",
       "      <td>0.736086</td>\n",
       "      <td>0.852021</td>\n",
       "      <td>4</td>\n",
       "      <td>5</td>\n",
       "      <td>{'rnd_forest__max_depth': 4, 'rnd_forest__n_es...</td>\n",
       "      <td>19</td>\n",
       "      <td>0.713970</td>\n",
       "      <td>0.863592</td>\n",
       "      <td>0.747715</td>\n",
       "      <td>0.846186</td>\n",
       "      <td>0.746741</td>\n",
       "      <td>0.846286</td>\n",
       "      <td>0.000816</td>\n",
       "      <td>4.713718e-04</td>\n",
       "      <td>0.015703</td>\n",
       "      <td>0.008182</td>\n",
       "    </tr>\n",
       "    <tr>\n",
       "      <th>13</th>\n",
       "      <td>0.027740</td>\n",
       "      <td>0.006662</td>\n",
       "      <td>0.744804</td>\n",
       "      <td>0.868191</td>\n",
       "      <td>4</td>\n",
       "      <td>7</td>\n",
       "      <td>{'rnd_forest__max_depth': 4, 'rnd_forest__n_es...</td>\n",
       "      <td>11</td>\n",
       "      <td>0.732521</td>\n",
       "      <td>0.875008</td>\n",
       "      <td>0.752117</td>\n",
       "      <td>0.865968</td>\n",
       "      <td>0.749866</td>\n",
       "      <td>0.863595</td>\n",
       "      <td>0.002481</td>\n",
       "      <td>4.711006e-03</td>\n",
       "      <td>0.008766</td>\n",
       "      <td>0.004917</td>\n",
       "    </tr>\n",
       "    <tr>\n",
       "      <th>14</th>\n",
       "      <td>0.029983</td>\n",
       "      <td>0.010322</td>\n",
       "      <td>0.741633</td>\n",
       "      <td>0.880813</td>\n",
       "      <td>4</td>\n",
       "      <td>10</td>\n",
       "      <td>{'rnd_forest__max_depth': 4, 'rnd_forest__n_es...</td>\n",
       "      <td>15</td>\n",
       "      <td>0.725457</td>\n",
       "      <td>0.895539</td>\n",
       "      <td>0.753293</td>\n",
       "      <td>0.871538</td>\n",
       "      <td>0.746270</td>\n",
       "      <td>0.875360</td>\n",
       "      <td>0.000816</td>\n",
       "      <td>4.754254e-04</td>\n",
       "      <td>0.011833</td>\n",
       "      <td>0.010530</td>\n",
       "    </tr>\n",
       "    <tr>\n",
       "      <th>15</th>\n",
       "      <td>0.031648</td>\n",
       "      <td>0.010995</td>\n",
       "      <td>0.741512</td>\n",
       "      <td>0.883727</td>\n",
       "      <td>4</td>\n",
       "      <td>12</td>\n",
       "      <td>{'rnd_forest__max_depth': 4, 'rnd_forest__n_es...</td>\n",
       "      <td>16</td>\n",
       "      <td>0.718459</td>\n",
       "      <td>0.896699</td>\n",
       "      <td>0.751344</td>\n",
       "      <td>0.873279</td>\n",
       "      <td>0.754906</td>\n",
       "      <td>0.881205</td>\n",
       "      <td>0.000942</td>\n",
       "      <td>1.910657e-06</td>\n",
       "      <td>0.016426</td>\n",
       "      <td>0.009726</td>\n",
       "    </tr>\n",
       "    <tr>\n",
       "      <th>16</th>\n",
       "      <td>0.034310</td>\n",
       "      <td>0.010996</td>\n",
       "      <td>0.749816</td>\n",
       "      <td>0.889206</td>\n",
       "      <td>4</td>\n",
       "      <td>15</td>\n",
       "      <td>{'rnd_forest__max_depth': 4, 'rnd_forest__n_es...</td>\n",
       "      <td>7</td>\n",
       "      <td>0.727240</td>\n",
       "      <td>0.898505</td>\n",
       "      <td>0.760820</td>\n",
       "      <td>0.879831</td>\n",
       "      <td>0.761559</td>\n",
       "      <td>0.889281</td>\n",
       "      <td>0.000470</td>\n",
       "      <td>8.177038e-04</td>\n",
       "      <td>0.016027</td>\n",
       "      <td>0.007624</td>\n",
       "    </tr>\n",
       "    <tr>\n",
       "      <th>17</th>\n",
       "      <td>0.038482</td>\n",
       "      <td>0.012870</td>\n",
       "      <td>0.753060</td>\n",
       "      <td>0.889536</td>\n",
       "      <td>4</td>\n",
       "      <td>18</td>\n",
       "      <td>{'rnd_forest__max_depth': 4, 'rnd_forest__n_es...</td>\n",
       "      <td>4</td>\n",
       "      <td>0.732653</td>\n",
       "      <td>0.906947</td>\n",
       "      <td>0.763105</td>\n",
       "      <td>0.877442</td>\n",
       "      <td>0.763575</td>\n",
       "      <td>0.884219</td>\n",
       "      <td>0.010212</td>\n",
       "      <td>1.989175e-03</td>\n",
       "      <td>0.014485</td>\n",
       "      <td>0.012619</td>\n",
       "    </tr>\n",
       "    <tr>\n",
       "      <th>18</th>\n",
       "      <td>0.024320</td>\n",
       "      <td>0.009994</td>\n",
       "      <td>0.714798</td>\n",
       "      <td>0.880080</td>\n",
       "      <td>5</td>\n",
       "      <td>5</td>\n",
       "      <td>{'rnd_forest__max_depth': 5, 'rnd_forest__n_es...</td>\n",
       "      <td>30</td>\n",
       "      <td>0.721529</td>\n",
       "      <td>0.880494</td>\n",
       "      <td>0.684039</td>\n",
       "      <td>0.870789</td>\n",
       "      <td>0.738777</td>\n",
       "      <td>0.888956</td>\n",
       "      <td>0.000471</td>\n",
       "      <td>2.247832e-07</td>\n",
       "      <td>0.022824</td>\n",
       "      <td>0.007423</td>\n",
       "    </tr>\n",
       "    <tr>\n",
       "      <th>19</th>\n",
       "      <td>0.028408</td>\n",
       "      <td>0.012204</td>\n",
       "      <td>0.727324</td>\n",
       "      <td>0.899713</td>\n",
       "      <td>5</td>\n",
       "      <td>7</td>\n",
       "      <td>{'rnd_forest__max_depth': 5, 'rnd_forest__n_es...</td>\n",
       "      <td>26</td>\n",
       "      <td>0.737506</td>\n",
       "      <td>0.893632</td>\n",
       "      <td>0.701008</td>\n",
       "      <td>0.898198</td>\n",
       "      <td>0.743380</td>\n",
       "      <td>0.907307</td>\n",
       "      <td>0.002017</td>\n",
       "      <td>2.455329e-03</td>\n",
       "      <td>0.018727</td>\n",
       "      <td>0.005684</td>\n",
       "    </tr>\n",
       "    <tr>\n",
       "      <th>20</th>\n",
       "      <td>0.029979</td>\n",
       "      <td>0.011660</td>\n",
       "      <td>0.743671</td>\n",
       "      <td>0.915466</td>\n",
       "      <td>5</td>\n",
       "      <td>10</td>\n",
       "      <td>{'rnd_forest__max_depth': 5, 'rnd_forest__n_es...</td>\n",
       "      <td>12</td>\n",
       "      <td>0.740180</td>\n",
       "      <td>0.922018</td>\n",
       "      <td>0.735753</td>\n",
       "      <td>0.906100</td>\n",
       "      <td>0.755108</td>\n",
       "      <td>0.918281</td>\n",
       "      <td>0.000811</td>\n",
       "      <td>4.711456e-04</td>\n",
       "      <td>0.008272</td>\n",
       "      <td>0.006796</td>\n",
       "    </tr>\n",
       "    <tr>\n",
       "      <th>21</th>\n",
       "      <td>0.031653</td>\n",
       "      <td>0.010661</td>\n",
       "      <td>0.745538</td>\n",
       "      <td>0.923234</td>\n",
       "      <td>5</td>\n",
       "      <td>12</td>\n",
       "      <td>{'rnd_forest__max_depth': 5, 'rnd_forest__n_es...</td>\n",
       "      <td>9</td>\n",
       "      <td>0.736615</td>\n",
       "      <td>0.924630</td>\n",
       "      <td>0.737097</td>\n",
       "      <td>0.919188</td>\n",
       "      <td>0.762970</td>\n",
       "      <td>0.925882</td>\n",
       "      <td>0.000465</td>\n",
       "      <td>4.712580e-04</td>\n",
       "      <td>0.012305</td>\n",
       "      <td>0.002906</td>\n",
       "    </tr>\n",
       "    <tr>\n",
       "      <th>22</th>\n",
       "      <td>0.035319</td>\n",
       "      <td>0.011326</td>\n",
       "      <td>0.751928</td>\n",
       "      <td>0.928230</td>\n",
       "      <td>5</td>\n",
       "      <td>15</td>\n",
       "      <td>{'rnd_forest__max_depth': 5, 'rnd_forest__n_es...</td>\n",
       "      <td>5</td>\n",
       "      <td>0.746484</td>\n",
       "      <td>0.928797</td>\n",
       "      <td>0.739651</td>\n",
       "      <td>0.926132</td>\n",
       "      <td>0.769691</td>\n",
       "      <td>0.929762</td>\n",
       "      <td>0.000470</td>\n",
       "      <td>4.694035e-04</td>\n",
       "      <td>0.012844</td>\n",
       "      <td>0.001535</td>\n",
       "    </tr>\n",
       "    <tr>\n",
       "      <th>23</th>\n",
       "      <td>0.038637</td>\n",
       "      <td>0.011332</td>\n",
       "      <td>0.756707</td>\n",
       "      <td>0.930900</td>\n",
       "      <td>5</td>\n",
       "      <td>18</td>\n",
       "      <td>{'rnd_forest__max_depth': 5, 'rnd_forest__n_es...</td>\n",
       "      <td>2</td>\n",
       "      <td>0.747475</td>\n",
       "      <td>0.932342</td>\n",
       "      <td>0.753293</td>\n",
       "      <td>0.933242</td>\n",
       "      <td>0.769422</td>\n",
       "      <td>0.927114</td>\n",
       "      <td>0.000475</td>\n",
       "      <td>4.794064e-04</td>\n",
       "      <td>0.009284</td>\n",
       "      <td>0.002702</td>\n",
       "    </tr>\n",
       "    <tr>\n",
       "      <th>24</th>\n",
       "      <td>0.027110</td>\n",
       "      <td>0.009311</td>\n",
       "      <td>0.724696</td>\n",
       "      <td>0.920906</td>\n",
       "      <td>6</td>\n",
       "      <td>5</td>\n",
       "      <td>{'rnd_forest__max_depth': 6, 'rnd_forest__n_es...</td>\n",
       "      <td>28</td>\n",
       "      <td>0.696310</td>\n",
       "      <td>0.934316</td>\n",
       "      <td>0.713710</td>\n",
       "      <td>0.910146</td>\n",
       "      <td>0.764281</td>\n",
       "      <td>0.918256</td>\n",
       "      <td>0.002926</td>\n",
       "      <td>7.339244e-03</td>\n",
       "      <td>0.028829</td>\n",
       "      <td>0.010044</td>\n",
       "    </tr>\n",
       "    <tr>\n",
       "      <th>25</th>\n",
       "      <td>0.026986</td>\n",
       "      <td>0.010655</td>\n",
       "      <td>0.732232</td>\n",
       "      <td>0.938156</td>\n",
       "      <td>6</td>\n",
       "      <td>7</td>\n",
       "      <td>{'rnd_forest__max_depth': 6, 'rnd_forest__n_es...</td>\n",
       "      <td>23</td>\n",
       "      <td>0.713772</td>\n",
       "      <td>0.944153</td>\n",
       "      <td>0.736626</td>\n",
       "      <td>0.933725</td>\n",
       "      <td>0.746438</td>\n",
       "      <td>0.936589</td>\n",
       "      <td>0.000818</td>\n",
       "      <td>4.667172e-04</td>\n",
       "      <td>0.013700</td>\n",
       "      <td>0.004399</td>\n",
       "    </tr>\n",
       "    <tr>\n",
       "      <th>26</th>\n",
       "      <td>0.030312</td>\n",
       "      <td>0.010994</td>\n",
       "      <td>0.742823</td>\n",
       "      <td>0.950369</td>\n",
       "      <td>6</td>\n",
       "      <td>10</td>\n",
       "      <td>{'rnd_forest__max_depth': 6, 'rnd_forest__n_es...</td>\n",
       "      <td>14</td>\n",
       "      <td>0.723774</td>\n",
       "      <td>0.957846</td>\n",
       "      <td>0.763978</td>\n",
       "      <td>0.937472</td>\n",
       "      <td>0.740860</td>\n",
       "      <td>0.955789</td>\n",
       "      <td>0.000465</td>\n",
       "      <td>1.946680e-07</td>\n",
       "      <td>0.016482</td>\n",
       "      <td>0.009158</td>\n",
       "    </tr>\n",
       "    <tr>\n",
       "      <th>27</th>\n",
       "      <td>0.032653</td>\n",
       "      <td>0.010994</td>\n",
       "      <td>0.746573</td>\n",
       "      <td>0.953507</td>\n",
       "      <td>6</td>\n",
       "      <td>12</td>\n",
       "      <td>{'rnd_forest__max_depth': 6, 'rnd_forest__n_es...</td>\n",
       "      <td>8</td>\n",
       "      <td>0.725094</td>\n",
       "      <td>0.960400</td>\n",
       "      <td>0.761492</td>\n",
       "      <td>0.945165</td>\n",
       "      <td>0.753293</td>\n",
       "      <td>0.954956</td>\n",
       "      <td>0.000465</td>\n",
       "      <td>6.257699e-07</td>\n",
       "      <td>0.015607</td>\n",
       "      <td>0.006303</td>\n",
       "    </tr>\n",
       "    <tr>\n",
       "      <th>28</th>\n",
       "      <td>0.034407</td>\n",
       "      <td>0.012872</td>\n",
       "      <td>0.755285</td>\n",
       "      <td>0.961245</td>\n",
       "      <td>6</td>\n",
       "      <td>15</td>\n",
       "      <td>{'rnd_forest__max_depth': 6, 'rnd_forest__n_es...</td>\n",
       "      <td>3</td>\n",
       "      <td>0.732290</td>\n",
       "      <td>0.964197</td>\n",
       "      <td>0.763172</td>\n",
       "      <td>0.955273</td>\n",
       "      <td>0.770565</td>\n",
       "      <td>0.964265</td>\n",
       "      <td>0.002366</td>\n",
       "      <td>1.985085e-03</td>\n",
       "      <td>0.016597</td>\n",
       "      <td>0.004223</td>\n",
       "    </tr>\n",
       "    <tr>\n",
       "      <th>29</th>\n",
       "      <td>0.039971</td>\n",
       "      <td>0.011331</td>\n",
       "      <td>0.757971</td>\n",
       "      <td>0.964327</td>\n",
       "      <td>6</td>\n",
       "      <td>18</td>\n",
       "      <td>{'rnd_forest__max_depth': 6, 'rnd_forest__n_es...</td>\n",
       "      <td>1</td>\n",
       "      <td>0.743646</td>\n",
       "      <td>0.970346</td>\n",
       "      <td>0.759409</td>\n",
       "      <td>0.959169</td>\n",
       "      <td>0.770968</td>\n",
       "      <td>0.963466</td>\n",
       "      <td>0.000812</td>\n",
       "      <td>4.680832e-04</td>\n",
       "      <td>0.011207</td>\n",
       "      <td>0.004603</td>\n",
       "    </tr>\n",
       "  </tbody>\n",
       "</table>\n",
       "</div>"
      ],
      "text/plain": [
       "    mean_fit_time  mean_score_time  mean_test_score  mean_train_score  \\\n",
       "0        0.024653         0.010659         0.730603          0.766076   \n",
       "1        0.025317         0.008682         0.739628          0.778935   \n",
       "2        0.031859         0.010661         0.740697          0.793651   \n",
       "3        0.031309         0.010333         0.732739          0.794702   \n",
       "4        0.034569         0.010994         0.734571          0.801207   \n",
       "5        0.040321         0.008692         0.742848          0.803569   \n",
       "6        0.024322         0.010328         0.723615          0.811877   \n",
       "7        0.021839         0.011875         0.725923          0.830288   \n",
       "8        0.028981         0.010327         0.731761          0.843022   \n",
       "9        0.031108         0.008035         0.733103          0.846168   \n",
       "10       0.034315         0.010994         0.745053          0.850355   \n",
       "11       0.035071         0.012538         0.751101          0.851333   \n",
       "12       0.023987         0.010327         0.736086          0.852021   \n",
       "13       0.027740         0.006662         0.744804          0.868191   \n",
       "14       0.029983         0.010322         0.741633          0.880813   \n",
       "15       0.031648         0.010995         0.741512          0.883727   \n",
       "16       0.034310         0.010996         0.749816          0.889206   \n",
       "17       0.038482         0.012870         0.753060          0.889536   \n",
       "18       0.024320         0.009994         0.714798          0.880080   \n",
       "19       0.028408         0.012204         0.727324          0.899713   \n",
       "20       0.029979         0.011660         0.743671          0.915466   \n",
       "21       0.031653         0.010661         0.745538          0.923234   \n",
       "22       0.035319         0.011326         0.751928          0.928230   \n",
       "23       0.038637         0.011332         0.756707          0.930900   \n",
       "24       0.027110         0.009311         0.724696          0.920906   \n",
       "25       0.026986         0.010655         0.732232          0.938156   \n",
       "26       0.030312         0.010994         0.742823          0.950369   \n",
       "27       0.032653         0.010994         0.746573          0.953507   \n",
       "28       0.034407         0.012872         0.755285          0.961245   \n",
       "29       0.039971         0.011331         0.757971          0.964327   \n",
       "\n",
       "   param_rnd_forest__max_depth param_rnd_forest__n_estimators  \\\n",
       "0                            2                              5   \n",
       "1                            2                              7   \n",
       "2                            2                             10   \n",
       "3                            2                             12   \n",
       "4                            2                             15   \n",
       "5                            2                             18   \n",
       "6                            3                              5   \n",
       "7                            3                              7   \n",
       "8                            3                             10   \n",
       "9                            3                             12   \n",
       "10                           3                             15   \n",
       "11                           3                             18   \n",
       "12                           4                              5   \n",
       "13                           4                              7   \n",
       "14                           4                             10   \n",
       "15                           4                             12   \n",
       "16                           4                             15   \n",
       "17                           4                             18   \n",
       "18                           5                              5   \n",
       "19                           5                              7   \n",
       "20                           5                             10   \n",
       "21                           5                             12   \n",
       "22                           5                             15   \n",
       "23                           5                             18   \n",
       "24                           6                              5   \n",
       "25                           6                              7   \n",
       "26                           6                             10   \n",
       "27                           6                             12   \n",
       "28                           6                             15   \n",
       "29                           6                             18   \n",
       "\n",
       "                                               params  rank_test_score  \\\n",
       "0   {'rnd_forest__max_depth': 2, 'rnd_forest__n_es...               25   \n",
       "1   {'rnd_forest__max_depth': 2, 'rnd_forest__n_es...               18   \n",
       "2   {'rnd_forest__max_depth': 2, 'rnd_forest__n_es...               17   \n",
       "3   {'rnd_forest__max_depth': 2, 'rnd_forest__n_es...               22   \n",
       "4   {'rnd_forest__max_depth': 2, 'rnd_forest__n_es...               20   \n",
       "5   {'rnd_forest__max_depth': 2, 'rnd_forest__n_es...               13   \n",
       "6   {'rnd_forest__max_depth': 3, 'rnd_forest__n_es...               29   \n",
       "7   {'rnd_forest__max_depth': 3, 'rnd_forest__n_es...               27   \n",
       "8   {'rnd_forest__max_depth': 3, 'rnd_forest__n_es...               24   \n",
       "9   {'rnd_forest__max_depth': 3, 'rnd_forest__n_es...               21   \n",
       "10  {'rnd_forest__max_depth': 3, 'rnd_forest__n_es...               10   \n",
       "11  {'rnd_forest__max_depth': 3, 'rnd_forest__n_es...                6   \n",
       "12  {'rnd_forest__max_depth': 4, 'rnd_forest__n_es...               19   \n",
       "13  {'rnd_forest__max_depth': 4, 'rnd_forest__n_es...               11   \n",
       "14  {'rnd_forest__max_depth': 4, 'rnd_forest__n_es...               15   \n",
       "15  {'rnd_forest__max_depth': 4, 'rnd_forest__n_es...               16   \n",
       "16  {'rnd_forest__max_depth': 4, 'rnd_forest__n_es...                7   \n",
       "17  {'rnd_forest__max_depth': 4, 'rnd_forest__n_es...                4   \n",
       "18  {'rnd_forest__max_depth': 5, 'rnd_forest__n_es...               30   \n",
       "19  {'rnd_forest__max_depth': 5, 'rnd_forest__n_es...               26   \n",
       "20  {'rnd_forest__max_depth': 5, 'rnd_forest__n_es...               12   \n",
       "21  {'rnd_forest__max_depth': 5, 'rnd_forest__n_es...                9   \n",
       "22  {'rnd_forest__max_depth': 5, 'rnd_forest__n_es...                5   \n",
       "23  {'rnd_forest__max_depth': 5, 'rnd_forest__n_es...                2   \n",
       "24  {'rnd_forest__max_depth': 6, 'rnd_forest__n_es...               28   \n",
       "25  {'rnd_forest__max_depth': 6, 'rnd_forest__n_es...               23   \n",
       "26  {'rnd_forest__max_depth': 6, 'rnd_forest__n_es...               14   \n",
       "27  {'rnd_forest__max_depth': 6, 'rnd_forest__n_es...                8   \n",
       "28  {'rnd_forest__max_depth': 6, 'rnd_forest__n_es...                3   \n",
       "29  {'rnd_forest__max_depth': 6, 'rnd_forest__n_es...                1   \n",
       "\n",
       "    split0_test_score  split0_train_score  split1_test_score  \\\n",
       "0            0.703473            0.767347           0.743347   \n",
       "1            0.707665            0.772421           0.752319   \n",
       "2            0.698950            0.791633           0.771203   \n",
       "3            0.699809            0.797723           0.755108   \n",
       "4            0.699941            0.796623           0.755679   \n",
       "5            0.713310            0.802403           0.763138   \n",
       "6            0.718030            0.804629           0.711895   \n",
       "7            0.703077            0.811979           0.715995   \n",
       "8            0.691721            0.835845           0.752789   \n",
       "9            0.697993            0.842918           0.756149   \n",
       "10           0.709117            0.843481           0.758972   \n",
       "11           0.720902            0.853243           0.764550   \n",
       "12           0.713970            0.863592           0.747715   \n",
       "13           0.732521            0.875008           0.752117   \n",
       "14           0.725457            0.895539           0.753293   \n",
       "15           0.718459            0.896699           0.751344   \n",
       "16           0.727240            0.898505           0.760820   \n",
       "17           0.732653            0.906947           0.763105   \n",
       "18           0.721529            0.880494           0.684039   \n",
       "19           0.737506            0.893632           0.701008   \n",
       "20           0.740180            0.922018           0.735753   \n",
       "21           0.736615            0.924630           0.737097   \n",
       "22           0.746484            0.928797           0.739651   \n",
       "23           0.747475            0.932342           0.753293   \n",
       "24           0.696310            0.934316           0.713710   \n",
       "25           0.713772            0.944153           0.736626   \n",
       "26           0.723774            0.957846           0.763978   \n",
       "27           0.725094            0.960400           0.761492   \n",
       "28           0.732290            0.964197           0.763172   \n",
       "29           0.743646            0.970346           0.759409   \n",
       "\n",
       "    split1_train_score  split2_test_score  split2_train_score  std_fit_time  \\\n",
       "0             0.776564           0.745195            0.754317      0.000942   \n",
       "1             0.790976           0.759140            0.773408      0.000469   \n",
       "2             0.806463           0.752251            0.782858      0.004145   \n",
       "3             0.805372           0.743548            0.781010      0.000474   \n",
       "4             0.811242           0.748353            0.795755      0.001581   \n",
       "5             0.810392           0.752319            0.797912      0.005445   \n",
       "6             0.819260           0.740961            0.811741      0.000474   \n",
       "7             0.842189           0.758871            0.836694      0.005174   \n",
       "8             0.849766           0.751075            0.843455      0.000004   \n",
       "9             0.851506           0.745430            0.844079      0.000654   \n",
       "10            0.855478           0.767339            0.852106      0.000474   \n",
       "11            0.852922           0.768078            0.847834      0.002694   \n",
       "12            0.846186           0.746741            0.846286      0.000816   \n",
       "13            0.865968           0.749866            0.863595      0.002481   \n",
       "14            0.871538           0.746270            0.875360      0.000816   \n",
       "15            0.873279           0.754906            0.881205      0.000942   \n",
       "16            0.879831           0.761559            0.889281      0.000470   \n",
       "17            0.877442           0.763575            0.884219      0.010212   \n",
       "18            0.870789           0.738777            0.888956      0.000471   \n",
       "19            0.898198           0.743380            0.907307      0.002017   \n",
       "20            0.906100           0.755108            0.918281      0.000811   \n",
       "21            0.919188           0.762970            0.925882      0.000465   \n",
       "22            0.926132           0.769691            0.929762      0.000470   \n",
       "23            0.933242           0.769422            0.927114      0.000475   \n",
       "24            0.910146           0.764281            0.918256      0.002926   \n",
       "25            0.933725           0.746438            0.936589      0.000818   \n",
       "26            0.937472           0.740860            0.955789      0.000465   \n",
       "27            0.945165           0.753293            0.954956      0.000465   \n",
       "28            0.955273           0.770565            0.964265      0.002366   \n",
       "29            0.959169           0.770968            0.963466      0.000812   \n",
       "\n",
       "    std_score_time  std_test_score  std_train_score  \n",
       "0     4.703071e-04        0.019271         0.009127  \n",
       "1     2.586872e-03        0.022856         0.008524  \n",
       "2     4.713279e-04        0.030621         0.009741  \n",
       "3     4.792378e-04        0.023843         0.010173  \n",
       "4     4.052337e-07        0.024760         0.007105  \n",
       "5     3.258402e-03        0.021424         0.005162  \n",
       "6     4.703588e-04        0.012497         0.005974  \n",
       "7     2.660028e-03        0.023845         0.013139  \n",
       "8     4.710332e-04        0.028428         0.005691  \n",
       "9     4.196652e-03        0.025300         0.003804  \n",
       "10    1.123916e-07        0.025733         0.005052  \n",
       "11    2.184724e-03        0.021482         0.002477  \n",
       "12    4.713718e-04        0.015703         0.008182  \n",
       "13    4.711006e-03        0.008766         0.004917  \n",
       "14    4.754254e-04        0.011833         0.010530  \n",
       "15    1.910657e-06        0.016426         0.009726  \n",
       "16    8.177038e-04        0.016027         0.007624  \n",
       "17    1.989175e-03        0.014485         0.012619  \n",
       "18    2.247832e-07        0.022824         0.007423  \n",
       "19    2.455329e-03        0.018727         0.005684  \n",
       "20    4.711456e-04        0.008272         0.006796  \n",
       "21    4.712580e-04        0.012305         0.002906  \n",
       "22    4.694035e-04        0.012844         0.001535  \n",
       "23    4.794064e-04        0.009284         0.002702  \n",
       "24    7.339244e-03        0.028829         0.010044  \n",
       "25    4.667172e-04        0.013700         0.004399  \n",
       "26    1.946680e-07        0.016482         0.009158  \n",
       "27    6.257699e-07        0.015607         0.006303  \n",
       "28    1.985085e-03        0.016597         0.004223  \n",
       "29    4.680832e-04        0.011207         0.004603  "
      ]
     },
     "execution_count": 78,
     "metadata": {},
     "output_type": "execute_result"
    }
   ],
   "source": [
    "pd.DataFrame(clf.cv_results_)"
   ]
  },
  {
   "cell_type": "code",
   "execution_count": 79,
   "metadata": {
    "scrolled": true
   },
   "outputs": [
    {
     "name": "stdout",
     "output_type": "stream",
     "text": [
      "Grid best parameter (max. roc_auc):  {'rnd_forest__max_depth': 6, 'rnd_forest__n_estimators': 18}\n",
      "Grid best score (roc_auc):  0.757971412549\n",
      "             precision    recall  f1-score   support\n",
      "\n",
      "          0       0.80      0.87      0.83       141\n",
      "          1       0.60      0.49      0.54        59\n",
      "\n",
      "avg / total       0.74      0.76      0.75       200\n",
      "\n"
     ]
    },
    {
     "data": {
      "image/png": "[encoded data removed]",
      "text/plain": [
       "<matplotlib.figure.Figure at 0x2d6cb5cac88>"
      ]
     },
     "metadata": {},
     "output_type": "display_data"
    }
   ],
   "source": [
    "print('Grid best parameter (max. roc_auc): ', clf.best_params_)\n",
    "print('Grid best score (roc_auc): ', clf.best_score_)\n",
    "print(classification_report(y_test,clf.predict(df_test)))\n",
    "plot_utils.plot_roc_curve(clf, df_test, y_test)"
   ]
  },
  {
   "cell_type": "markdown",
   "metadata": {},
   "source": [
    "The hyper-parameter optimization helped elliminate the over-fitting but the results are still worse than Logistic regression. Notice that scaling was used on the numericals. Since random forest does not need scaling lets try it without it:"
   ]
  },
  {
   "cell_type": "code",
   "execution_count": 80,
   "metadata": {},
   "outputs": [
    {
     "name": "stdout",
     "output_type": "stream",
     "text": [
      "Fitting 3 folds for each of 30 candidates, totalling 90 fits\n"
     ]
    },
    {
     "name": "stderr",
     "output_type": "stream",
     "text": [
      "[Parallel(n_jobs=1)]: Done  90 out of  90 | elapsed:    5.1s finished\n"
     ]
    },
    {
     "data": {
      "text/plain": [
       "GridSearchCV(cv=None, error_score='raise',\n",
       "       estimator=Pipeline(steps=[('f_union', FeatureUnion(n_jobs=1,\n",
       "       transformer_list=[('cat_to_vect', DfFeatures(cols=['checking_status', 'credit_history', 'purpose', 'savings_status', 'employment', 'personal_status', 'other_parties', 'property_magnitude', 'other_payment_plans', 'housing', 'job', 'own_telephone', 'for...stimators=10, n_jobs=1,\n",
       "            oob_score=False, random_state=42, verbose=0, warm_start=False))]),\n",
       "       fit_params={}, iid=True, n_jobs=1,\n",
       "       param_grid={'rnd_forest__max_depth': [2, 3, 4, 5, 6], 'rnd_forest__n_estimators': [5, 7, 10, 12, 15, 18]},\n",
       "       pre_dispatch='2*n_jobs', refit=True, return_train_score=True,\n",
       "       scoring='roc_auc', verbose=1)"
      ]
     },
     "execution_count": 80,
     "metadata": {},
     "output_type": "execute_result"
    }
   ],
   "source": [
    "f_union = (FeatureUnion([('cat_to_vect', DfFeatures(cols = categorical_features, trf = DictVectorizer(sparse = False), to_dict = True)),\n",
    "                        ('numericals',DfFeatures(cols = numerical_features + int_features))]))\n",
    "estimators = [('f_union', f_union), ('rnd_forest', RandomForestClassifier(class_weight='balanced', random_state=42))]\n",
    "pipe = Pipeline(estimators)\n",
    "param_grid = dict(rnd_forest__max_depth = [2, 3 ,4, 5, 6], rnd_forest__n_estimators = [5, 7, 10, 12, 15, 18])\n",
    "clf = GridSearchCV(pipe, param_grid=param_grid, verbose = 1, scoring= 'roc_auc', return_train_score = True)\n",
    "clf.fit(df_train, y_train)"
   ]
  },
  {
   "cell_type": "code",
   "execution_count": 81,
   "metadata": {},
   "outputs": [
    {
     "name": "stdout",
     "output_type": "stream",
     "text": [
      "Grid best parameter (max. roc_auc):  {'rnd_forest__max_depth': 5, 'rnd_forest__n_estimators': 18}\n",
      "Grid best score (roc_auc):  0.768681657924\n",
      "             precision    recall  f1-score   support\n",
      "\n",
      "          0       0.84      0.80      0.82       141\n",
      "          1       0.58      0.64      0.61        59\n",
      "\n",
      "avg / total       0.76      0.76      0.76       200\n",
      "\n"
     ]
    },
    {
     "data": {
      "image/png": "[encoded data removed]",
      "text/plain": [
       "<matplotlib.figure.Figure at 0x2d6cb8f90f0>"
      ]
     },
     "metadata": {},
     "output_type": "display_data"
    }
   ],
   "source": [
    "print('Grid best parameter (max. roc_auc): ', clf.best_params_)\n",
    "print('Grid best score (roc_auc): ', clf.best_score_)\n",
    "print(classification_report(y_test,clf.predict(df_test)))\n",
    "plot_utils.plot_roc_curve(clf, df_test, y_test)"
   ]
  },
  {
   "cell_type": "markdown",
   "metadata": {},
   "source": [
    "A better test result but the train cv results is the same so we cannot conclude nothing. Lets try grid search on svc:"
   ]
  },
  {
   "cell_type": "code",
   "execution_count": 82,
   "metadata": {},
   "outputs": [
    {
     "name": "stdout",
     "output_type": "stream",
     "text": [
      "Fitting 3 folds for each of 56 candidates, totalling 168 fits\n"
     ]
    },
    {
     "name": "stderr",
     "output_type": "stream",
     "text": [
      "[Parallel(n_jobs=1)]: Done 168 out of 168 | elapsed:   17.0s finished\n"
     ]
    },
    {
     "data": {
      "text/plain": [
       "GridSearchCV(cv=None, error_score='raise',\n",
       "       estimator=Pipeline(steps=[('f_union', FeatureUnion(n_jobs=1,\n",
       "       transformer_list=[('cat_to_vect', DfFeatures(cols=['checking_status', 'credit_history', 'purpose', 'savings_status', 'employment', 'personal_status', 'other_parties', 'property_magnitude', 'other_payment_plans', 'housing', 'job', 'own_telephone', 'for...f',\n",
       "  max_iter=-1, probability=False, random_state=42, shrinking=True,\n",
       "  tol=0.001, verbose=False))]),\n",
       "       fit_params={}, iid=True, n_jobs=1,\n",
       "       param_grid={'svc__C': [0.01, 0.03, 0.1, 0.3, 1, 3, 10, 30], 'svc__gamma': [0.001, 0.003, 0.01, 0.03, 0.1, 0.3, 1]},\n",
       "       pre_dispatch='2*n_jobs', refit=True, return_train_score=True,\n",
       "       scoring='roc_auc', verbose=1)"
      ]
     },
     "execution_count": 82,
     "metadata": {},
     "output_type": "execute_result"
    }
   ],
   "source": [
    "f_union = (FeatureUnion([('cat_to_vect', DfFeatures(cols = categorical_features, trf = DictVectorizer(sparse = False), to_dict = True)),\n",
    "                        ('scale_numericals',DfFeatures(cols = numerical_features, trf = StandardScaler())),\n",
    "                        ('ohe', DfFeatures(cols = int_features, trf = OneHotEncoder(sparse = False)))]))\n",
    "estimators = [('f_union', f_union), ('svc', SVC(class_weight='balanced', random_state=42))]\n",
    "pipe = Pipeline(estimators)\n",
    "param_grid = dict(svc__C = [0.01 , 0.03, 0.1, 0.3, 1, 3, 10, 30], svc__gamma = [0.001, 0.003, 0.01, 0.03, 0.1, 0.3, 1])\n",
    "clf = GridSearchCV(pipe, param_grid=param_grid, verbose = 1, scoring= 'roc_auc', return_train_score = True)\n",
    "clf.fit(df_train, y_train)"
   ]
  },
  {
   "cell_type": "code",
   "execution_count": 83,
   "metadata": {},
   "outputs": [
    {
     "name": "stdout",
     "output_type": "stream",
     "text": [
      "Grid best parameter (max. roc_auc):  {'svc__C': 1, 'svc__gamma': 0.01}\n",
      "Grid best score (roc_auc):  0.775879699676\n",
      "             precision    recall  f1-score   support\n",
      "\n",
      "          0       0.88      0.70      0.78       141\n",
      "          1       0.52      0.76      0.62        59\n",
      "\n",
      "avg / total       0.77      0.72      0.73       200\n",
      "\n"
     ]
    },
    {
     "data": {
      "image/png": "[encoded data removed]",
      "text/plain": [
       "<matplotlib.figure.Figure at 0x2d6cb5bfa20>"
      ]
     },
     "metadata": {},
     "output_type": "display_data"
    }
   ],
   "source": [
    "print('Grid best parameter (max. roc_auc): ', clf.best_params_)\n",
    "print('Grid best score (roc_auc): ', clf.best_score_)\n",
    "print(classification_report(y_test,clf.predict(df_test)))\n",
    "plot_utils.plot_roc_curve(clf, df_test, y_test)"
   ]
  },
  {
   "cell_type": "markdown",
   "metadata": {},
   "source": [
    "Interestingly the deafult parameters are the best one... C = 1 and gamma = 0.01 ~= 1/n_feauters (the auto defualt number) and the result is the same. However notice that the train score is lower than the case we use all the train data. This is reasonable due the small amount of data -> the model is trained only on 66% of the data each time..."
   ]
  },
  {
   "cell_type": "markdown",
   "metadata": {
    "collapsed": true
   },
   "source": [
    "Let's check naive Bayes. first, only on the categoricals:"
   ]
  },
  {
   "cell_type": "code",
   "execution_count": 84,
   "metadata": {},
   "outputs": [
    {
     "name": "stdout",
     "output_type": "stream",
     "text": [
      "[ 3.29708155 -0.00805096 -1.27925578 -0.00805096 -0.77077385  0.24619\n",
      " -1.27925578  0.24619     0.24619    -0.26229193]\n",
      "[ 0.  0.  0.  0.  0.  0.  0.  0.  0.  0.]\n"
     ]
    }
   ],
   "source": [
    "print(X_train[:10,-8])\n",
    "print(X_train[:10,-9])"
   ]
  },
  {
   "cell_type": "code",
   "execution_count": 85,
   "metadata": {},
   "outputs": [
    {
     "data": {
      "text/plain": [
       "BernoulliNB(alpha=1.0, binarize=0.0, class_prior=None, fit_prior=True)"
      ]
     },
     "execution_count": 85,
     "metadata": {},
     "output_type": "execute_result"
    }
   ],
   "source": [
    "model_nb = BernoulliNB()\n",
    "X_train_cat = X_train[:,:-8]\n",
    "model_nb.fit(X_train_cat, y_train)"
   ]
  },
  {
   "cell_type": "code",
   "execution_count": 86,
   "metadata": {},
   "outputs": [
    {
     "name": "stdout",
     "output_type": "stream",
     "text": [
      "train auc score:  0.795522532085\n",
      "train f1-score:  0.583162217659\n",
      "             precision    recall  f1-score   support\n",
      "\n",
      "          0       0.82      0.81      0.82       559\n",
      "          1       0.58      0.59      0.58       241\n",
      "\n",
      "avg / total       0.75      0.75      0.75       800\n",
      "\n",
      "[[455 104]\n",
      " [ 99 142]]\n",
      "test auc score:  0.800336578916\n",
      "test f1-score:  0.610687022901\n",
      "             precision    recall  f1-score   support\n",
      "\n",
      "          0       0.85      0.77      0.81       141\n",
      "          1       0.56      0.68      0.61        59\n",
      "\n",
      "avg / total       0.76      0.74      0.75       200\n",
      "\n",
      "[[109  32]\n",
      " [ 19  40]]\n"
     ]
    },
    {
     "data": {
      "image/png": "[encoded data removed]",
      "text/plain": [
       "<matplotlib.figure.Figure at 0x2d6cb5d1f60>"
      ]
     },
     "metadata": {},
     "output_type": "display_data"
    }
   ],
   "source": [
    "# Predict\n",
    "X_test_cat = X_test[:,:-8]\n",
    "pred_train = model_nb.predict(X_train_cat)\n",
    "pred_test = model_nb.predict(X_test_cat)\n",
    "\n",
    "y_train_score_nb = model_nb.predict_proba(X_train_cat)\n",
    "print('train auc score: ', roc_auc_score(y_train, y_train_score_nb[:,1]))\n",
    "print('train f1-score: ', f1_score(y_train, pred_train))\n",
    "print(classification_report(y_train, pred_train))\n",
    "print(confusion_matrix(y_train, pred_train))\n",
    "\n",
    "y_test_score_nb = model_nb.predict_proba(X_test_cat)\n",
    "print('test auc score: ', roc_auc_score(y_test, y_test_score_nb[:,1]))\n",
    "print('test f1-score: ', f1_score(y_test, pred_test))\n",
    "print(classification_report(y_test, pred_test))\n",
    "print(confusion_matrix(y_test, pred_test))\n",
    "\n",
    "plot_utils.plot_roc_curve(model_nb, X_test_cat, y_test)"
   ]
  },
  {
   "cell_type": "markdown",
   "metadata": {},
   "source": [
    "Not bad with NB only with the categoricals. Now, only the numericals:"
   ]
  },
  {
   "cell_type": "code",
   "execution_count": 87,
   "metadata": {},
   "outputs": [
    {
     "data": {
      "text/plain": [
       "GaussianNB(priors=None)"
      ]
     },
     "execution_count": 87,
     "metadata": {},
     "output_type": "execute_result"
    }
   ],
   "source": [
    "model_gnb = GaussianNB()\n",
    "X_train_num = X_train[:,-8:]\n",
    "model_gnb.fit(X_train_num, y_train)"
   ]
  },
  {
   "cell_type": "code",
   "execution_count": 88,
   "metadata": {},
   "outputs": [
    {
     "name": "stdout",
     "output_type": "stream",
     "text": [
      "train auc score:  0.665125186499\n",
      "train f1-score:  0.373401534527\n",
      "             precision    recall  f1-score   support\n",
      "\n",
      "          0       0.74      0.86      0.80       559\n",
      "          1       0.49      0.30      0.37       241\n",
      "\n",
      "avg / total       0.66      0.69      0.67       800\n",
      "\n",
      "[[482  77]\n",
      " [168  73]]\n",
      "test auc score:  0.602957086188\n",
      "test f1-score:  0.263736263736\n",
      "             precision    recall  f1-score   support\n",
      "\n",
      "          0       0.72      0.86      0.78       141\n",
      "          1       0.38      0.20      0.26        59\n",
      "\n",
      "avg / total       0.62      0.67      0.63       200\n",
      "\n",
      "[[121  20]\n",
      " [ 47  12]]\n"
     ]
    },
    {
     "data": {
      "image/png": "[encoded data removed]",
      "text/plain": [
       "<matplotlib.figure.Figure at 0x2d6c976ec50>"
      ]
     },
     "metadata": {},
     "output_type": "display_data"
    }
   ],
   "source": [
    "# Predict\n",
    "X_test_num = X_test[:,-8:]\n",
    "pred_train = model_gnb.predict(X_train_num)\n",
    "pred_test = model_gnb.predict(X_test_num)\n",
    "\n",
    "y_train_score_gnb = model_gnb.predict_proba(X_train_num)\n",
    "print('train auc score: ', roc_auc_score(y_train, y_train_score_gnb[:,1]))\n",
    "print('train f1-score: ', f1_score(y_train, pred_train))\n",
    "print(classification_report(y_train, pred_train))\n",
    "print(confusion_matrix(y_train, pred_train))\n",
    "\n",
    "y_test_score_gnb = model_gnb.predict_proba(X_test_num)\n",
    "print('test auc score: ', roc_auc_score(y_test, y_test_score_gnb[:,1]))\n",
    "print('test f1-score: ', f1_score(y_test, pred_test))\n",
    "print(classification_report(y_test, pred_test))\n",
    "print(confusion_matrix(y_test, pred_test))\n",
    "\n",
    "plot_utils.plot_roc_curve(model_gnb, X_test_num, y_test)"
   ]
  },
  {
   "cell_type": "markdown",
   "metadata": {},
   "source": [
    "As expected - very bad results. The categoricals are much better predictors than the numericals. Lets try to combine the results for the categoricals and the numericals (maybe there will be sinergetic effect). First we will use a soft voting based on the predicted probabilities of each classifier - we will choose the class that have the higher sum of probabilities:"
   ]
  },
  {
   "cell_type": "code",
   "execution_count": 89,
   "metadata": {},
   "outputs": [
    {
     "name": "stdout",
     "output_type": "stream",
     "text": [
      "train auc score:  0.798692092429\n",
      "train f1-score:  0.531764705882\n",
      "             precision    recall  f1-score   support\n",
      "\n",
      "          0       0.79      0.87      0.83       559\n",
      "          1       0.61      0.47      0.53       241\n",
      "\n",
      "avg / total       0.74      0.75      0.74       800\n",
      "\n",
      "[[488  71]\n",
      " [128 113]]\n",
      "test auc score:  0.751893256401\n",
      "test f1-score:  0.484848484848\n",
      "             precision    recall  f1-score   support\n",
      "\n",
      "          0       0.78      0.89      0.83       141\n",
      "          1       0.60      0.41      0.48        59\n",
      "\n",
      "avg / total       0.73      0.74      0.73       200\n",
      "\n",
      "[[125  16]\n",
      " [ 35  24]]\n"
     ]
    }
   ],
   "source": [
    "train_prob_sum = y_train_score_nb + y_train_score_gnb\n",
    "pred_train = np.argmax(train_prob_sum,axis = 1)\n",
    "print('train auc score: ', roc_auc_score(y_train, train_prob_sum[:,1]/2))\n",
    "print('train f1-score: ', f1_score(y_train, pred_train))\n",
    "print(classification_report(y_train, pred_train))\n",
    "print(confusion_matrix(y_train, pred_train))\n",
    "\n",
    "test_prob_sum = y_test_score_nb + y_test_score_gnb\n",
    "pred_test = np.argmax(test_prob_sum,axis = 1)\n",
    "print('test auc score: ', roc_auc_score(y_test, test_prob_sum[:,1]/2))\n",
    "print('test f1-score: ', f1_score(y_test, pred_test))\n",
    "print(classification_report(y_test, pred_test))\n",
    "print(confusion_matrix(y_test, pred_test))"
   ]
  },
  {
   "cell_type": "markdown",
   "metadata": {},
   "source": [
    "No. Worse results than only with categoricals. Lets try to add weights to the probabilities: the weight will be higher as the probability is closer to 0 or 1 (meaning the model is more confident with its decision):"
   ]
  },
  {
   "cell_type": "code",
   "execution_count": 90,
   "metadata": {},
   "outputs": [
    {
     "name": "stdout",
     "output_type": "stream",
     "text": [
      "train auc score:  0.793533206155\n",
      "train f1-score:  0.531764705882\n",
      "             precision    recall  f1-score   support\n",
      "\n",
      "          0       0.79      0.87      0.83       559\n",
      "          1       0.61      0.47      0.53       241\n",
      "\n",
      "avg / total       0.74      0.75      0.74       800\n",
      "\n",
      "[[488  71]\n",
      " [128 113]]\n"
     ]
    }
   ],
   "source": [
    "w_cat_train = np.abs(y_train_score_nb[:,1] - 0.5)\n",
    "w_num_train = np.abs(y_train_score_gnb[:,1] - 0.5)\n",
    "sum_w_train = w_cat_train + w_num_train\n",
    "w_train_probs = (w_cat_train * y_train_score_nb[:,1] + w_num_train * y_train_score_gnb[:,1]) / sum_w_train\n",
    "pred_train = w_train_probs > 0.5\n",
    "\n",
    "print('train auc score: ', roc_auc_score(y_train, w_train_probs))\n",
    "print('train f1-score: ', f1_score(y_train, pred_train))\n",
    "print(classification_report(y_train, pred_train))\n",
    "print(confusion_matrix(y_train, pred_train))"
   ]
  },
  {
   "cell_type": "markdown",
   "metadata": {},
   "source": [
    "No improvement in train data -> there's no point in trying with test data "
   ]
  },
  {
   "cell_type": "markdown",
   "metadata": {
    "collapsed": true
   },
   "source": [
    "2 of the categoricals are in fact ordinal:  saving status and employment. lets see their unique values:"
   ]
  },
  {
   "cell_type": "code",
   "execution_count": 91,
   "metadata": {},
   "outputs": [
    {
     "name": "stdout",
     "output_type": "stream",
     "text": [
      "[\"'<100'\" \"'500<=X<1000'\" \"'no known savings'\" \"'100<=X<500'\" \"'>=1000'\"]\n",
      "[\"'>=7'\" \"'<1'\" \"'1<=X<4'\" \"'4<=X<7'\" 'unemployed']\n"
     ]
    }
   ],
   "source": [
    "print(df_train['savings_status'].unique())\n",
    "print(df_train['employment'].unique())"
   ]
  },
  {
   "cell_type": "markdown",
   "metadata": {},
   "source": [
    "So lets add numerical integer features so maybe the random forest classifier will take advantage of them:"
   ]
  },
  {
   "cell_type": "code",
   "execution_count": 92,
   "metadata": {
    "collapsed": true
   },
   "outputs": [],
   "source": [
    "savings_dict = dict([(\"'no known savings'\",0),(\"'<100'\",50),(\"'100<=X<500'\",300),(\"'500<=X<1000'\",750),(\"'>=1000'\",1000)])\n",
    "employment_dict = dict([('unemployed',0),(\"'<1'\",1),(\"'1<=X<4'\",2.5),(\"'4<=X<7'\",5.5),(\"'>=7'\",7)])\n",
    "df_train['savings_status_ord'] = df_train['savings_status'].apply(lambda x: savings_dict[x])\n",
    "df_train['employment_ord'] = df_train['employment'].apply(lambda x: employment_dict[x])\n",
    "df_test['savings_status_ord'] = df_test['savings_status'].apply(lambda x: savings_dict[x])\n",
    "df_test['employment_ord'] = df_test['employment'].apply(lambda x: employment_dict[x])\n",
    "ordinal_features = ['savings_status_ord','employment_ord']"
   ]
  },
  {
   "cell_type": "markdown",
   "metadata": {},
   "source": [
    "lets try random forest with this 2 new ordinal features:"
   ]
  },
  {
   "cell_type": "code",
   "execution_count": 93,
   "metadata": {},
   "outputs": [
    {
     "name": "stdout",
     "output_type": "stream",
     "text": [
      "Fitting 3 folds for each of 30 candidates, totalling 90 fits\n"
     ]
    },
    {
     "name": "stderr",
     "output_type": "stream",
     "text": [
      "[Parallel(n_jobs=1)]: Done  90 out of  90 | elapsed:    5.1s finished\n"
     ]
    },
    {
     "data": {
      "text/plain": [
       "GridSearchCV(cv=None, error_score='raise',\n",
       "       estimator=Pipeline(steps=[('f_union', FeatureUnion(n_jobs=1,\n",
       "       transformer_list=[('cat_to_vect', DfFeatures(cols=['checking_status', 'credit_history', 'purpose', 'savings_status', 'employment', 'personal_status', 'other_parties', 'property_magnitude', 'other_payment_plans', 'housing', 'job', 'own_telephone', 'for...stimators=10, n_jobs=1,\n",
       "            oob_score=False, random_state=42, verbose=0, warm_start=False))]),\n",
       "       fit_params={}, iid=True, n_jobs=1,\n",
       "       param_grid={'rnd_forest__max_depth': [2, 3, 4, 5, 6], 'rnd_forest__n_estimators': [5, 7, 10, 12, 15, 18]},\n",
       "       pre_dispatch='2*n_jobs', refit=True, return_train_score=True,\n",
       "       scoring='roc_auc', verbose=1)"
      ]
     },
     "execution_count": 93,
     "metadata": {},
     "output_type": "execute_result"
    }
   ],
   "source": [
    "f_union = (FeatureUnion([('cat_to_vect', DfFeatures(cols = categorical_features, trf = DictVectorizer(sparse = False), to_dict = True)),\n",
    "                        ('numericals',DfFeatures(cols = numerical_features + int_features + ordinal_features))]))\n",
    "estimators = [('f_union', f_union), ('rnd_forest', RandomForestClassifier(class_weight='balanced', random_state=42))]\n",
    "pipe = Pipeline(estimators)\n",
    "param_grid = dict(rnd_forest__max_depth = [2, 3 ,4, 5, 6], rnd_forest__n_estimators = [5, 7, 10, 12, 15, 18])\n",
    "clf = GridSearchCV(pipe, param_grid=param_grid, verbose = 1, scoring= 'roc_auc', return_train_score = True)\n",
    "clf.fit(df_train, y_train)"
   ]
  },
  {
   "cell_type": "code",
   "execution_count": 94,
   "metadata": {},
   "outputs": [
    {
     "name": "stdout",
     "output_type": "stream",
     "text": [
      "Grid best parameter (max. roc_auc):  {'rnd_forest__max_depth': 5, 'rnd_forest__n_estimators': 15}\n",
      "Grid best score (roc_auc):  0.755799261857\n",
      "             precision    recall  f1-score   support\n",
      "\n",
      "          0       0.81      0.72      0.76       141\n",
      "          1       0.47      0.61      0.53        59\n",
      "\n",
      "avg / total       0.71      0.69      0.69       200\n",
      "\n"
     ]
    },
    {
     "data": {
      "image/png": "[encoded data removed]",
      "text/plain": [
       "<matplotlib.figure.Figure at 0x2d6c972cba8>"
      ]
     },
     "metadata": {},
     "output_type": "display_data"
    }
   ],
   "source": [
    "print('Grid best parameter (max. roc_auc): ', clf.best_params_)\n",
    "print('Grid best score (roc_auc): ', clf.best_score_)\n",
    "print(classification_report(y_test,clf.predict(df_test)))\n",
    "plot_utils.plot_roc_curve(clf, df_test, y_test)"
   ]
  },
  {
   "cell_type": "markdown",
   "metadata": {},
   "source": [
    "no improvement"
   ]
  },
  {
   "cell_type": "code",
   "execution_count": 95,
   "metadata": {},
   "outputs": [
    {
     "data": {
      "text/plain": [
       "array([ 0.00560883,  0.05214608,  0.00711015,  0.10847387,  0.0170766 ,\n",
       "        0.05314603,  0.01077153,  0.00480139,  0.00897651,  0.00654667,\n",
       "        0.00482131,  0.00168191,  0.00487747,  0.007829  ,  0.        ,\n",
       "        0.00541948,  0.00576348,  0.02803811,  0.01211701,  0.00633868,\n",
       "        0.        ,  0.00292834,  0.00495328,  0.00312619,  0.01269532,\n",
       "        0.00535399,  0.01696271,  0.01041326,  0.00432915,  0.00095803,\n",
       "        0.00302852,  0.01517293,  0.00519024,  0.00228587,  0.01016622,\n",
       "        0.00507256,  0.00801404,  0.01106112,  0.00403472,  0.        ,\n",
       "        0.01413111,  0.01081966,  0.00171526,  0.00205789,  0.00244057,\n",
       "        0.        ,  0.00069404,  0.00618385,  0.        ,  0.00418719,\n",
       "        0.00125675,  0.01658952,  0.00086114,  0.00093845,  0.06557264,\n",
       "        0.0322018 ,  0.034333  ,  0.03945751,  0.0778511 ,  0.02179244,\n",
       "        0.05258806,  0.04052745,  0.02560506,  0.01110812,  0.00509856,\n",
       "        0.00703535,  0.02161915,  0.02604368])"
      ]
     },
     "execution_count": 95,
     "metadata": {},
     "output_type": "execute_result"
    }
   ],
   "source": [
    "clf.best_estimator_.named_steps['rnd_forest'].feature_importances_"
   ]
  },
  {
   "cell_type": "code",
   "execution_count": 96,
   "metadata": {},
   "outputs": [
    {
     "data": {
      "text/plain": [
       "[\"checking_status='no checking'\",\n",
       " 'log_duration',\n",
       " 'duration',\n",
       " \"credit_history='critical/other existing credit'\",\n",
       " 'log_age',\n",
       " \"checking_status='<0'\",\n",
       " 'log_credit_duration_ratio',\n",
       " 'credit_duration_ratio',\n",
       " 'age',\n",
       " 'credit_amount',\n",
       " 'housing=own',\n",
       " 'employment_ord',\n",
       " 'installment_commitment',\n",
       " 'log_credit_amount',\n",
       " 'savings_status_ord',\n",
       " \"credit_history='all paid'\",\n",
       " 'other_payment_plans=bank',\n",
       " \"savings_status='<100'\",\n",
       " \"personal_status='female div/dep/mar'\",\n",
       " \"purpose='new car'\",\n",
       " 'other_parties=guarantor',\n",
       " 'housing=rent',\n",
       " 'residence_since',\n",
       " \"property_magnitude='real estate'\",\n",
       " \"purpose='used car'\",\n",
       " \"credit_history='delayed previously'\",\n",
       " 'other_payment_plans=none',\n",
       " \"personal_status='male single'\",\n",
       " \"credit_history='no credits/all paid'\",\n",
       " \"property_magnitude='no known property'\",\n",
       " 'employment=unemployed',\n",
       " \"checking_status='>=200'\",\n",
       " 'num_dependents',\n",
       " \"employment='1<=X<4'\",\n",
       " \"job='high qualif/self emp/mgmt'\",\n",
       " 'purpose=repairs',\n",
       " \"housing='for free'\",\n",
       " \"checking_status='0<=X<200'\",\n",
       " 'foreign_worker=yes',\n",
       " 'other_parties=none',\n",
       " \"personal_status='male div/sep'\",\n",
       " 'existing_credits',\n",
       " \"property_magnitude='life insurance'\",\n",
       " 'job=skilled',\n",
       " \"employment='>=7'\",\n",
       " \"employment='4<=X<7'\",\n",
       " \"credit_history='existing paid'\",\n",
       " 'other_payment_plans=stores',\n",
       " \"savings_status='100<=X<500'\",\n",
       " 'property_magnitude=car',\n",
       " \"other_parties='co applicant'\",\n",
       " 'own_telephone=yes',\n",
       " \"job='unskilled resident'\",\n",
       " 'purpose=furniture/equipment',\n",
       " \"personal_status='male mar/wid'\",\n",
       " 'purpose=education',\n",
       " 'purpose=business',\n",
       " \"employment='<1'\",\n",
       " \"savings_status='500<=X<1000'\",\n",
       " 'own_telephone=none',\n",
       " \"savings_status='no known savings'\",\n",
       " \"savings_status='>=1000'\",\n",
       " 'purpose=radio/tv']"
      ]
     },
     "execution_count": 96,
     "metadata": {},
     "output_type": "execute_result"
    }
   ],
   "source": [
    "feature_names = dict_vect.feature_names_ + numerical_features + int_features + ordinal_features\n",
    "feature_importances = clf.best_estimator_.named_steps['rnd_forest'].feature_importances_\n",
    "importance_idx = np.argsort(abs(feature_importances))[::-1]\n",
    "[feature_names[idx] for idx in importance_idx if feature_importances[idx] > 0]\n",
    "# print(len(feature_names))\n",
    "# print(len(importance_idx))"
   ]
  },
  {
   "cell_type": "markdown",
   "metadata": {},
   "source": [
    "However we can see that these 2 new features are in the top 15 "
   ]
  },
  {
   "cell_type": "markdown",
   "metadata": {},
   "source": [
    "Lets try adding the categorized continous features as new features:"
   ]
  },
  {
   "cell_type": "code",
   "execution_count": null,
   "metadata": {
    "collapsed": true
   },
   "outputs": [],
   "source": [
    "numericals_cat_features = []\n",
    "for feature in numerical_features[:len(numerical_features)//2]: # /2 because we want to categorize only the original features,\n",
    "# not the log of them\n",
    "    df_train[feature + '_cat'], bins = pd.qcut(df_train[feature],4, retbins=True)\n",
    "    df_train[feature + '_cat'] = df_train[feature + '_cat'].astype(str)\n",
    "    df_test[feature + '_cat'] = pd.cut(df_test[feature],bins=bins)\n",
    "    df_test[feature + '_cat'] = df_test[feature + '_cat'].astype(str)\n",
    "    numericals_cat_features += [feature + '_cat']\n",
    "num_cat_dict = df_train[numericals_cat_features].to_dict('records')\n",
    "dict_vect_num = DictVectorizer(sparse = False)\n",
    "num_cat_train = dict_vect_num.fit_transform(num_cat_dict)\n",
    "X_train = np.hstack((X_train, num_cat_train))\n",
    "\n",
    "num_cat_dict = df_test[numericals_cat_features].to_dict('records')\n",
    "num_cat_test = dict_vect_num.transform(num_cat_dict)\n",
    "X_test = np.hstack((X_test, num_cat_test))"
   ]
  },
  {
   "cell_type": "markdown",
   "metadata": {},
   "source": [
    "We expect to get 76 (the former number of features) + 4 * 4 = 92 feauters. (4*4 becuase we categorize into quartiles and there is 4 numerical features):"
   ]
  },
  {
   "cell_type": "code",
   "execution_count": 132,
   "metadata": {
    "scrolled": true
   },
   "outputs": [
    {
     "name": "stdout",
     "output_type": "stream",
     "text": [
      "92\n",
      "[\"checking_status='0<=X<200'\", \"checking_status='<0'\", \"checking_status='>=200'\", \"checking_status='no checking'\", \"credit_history='all paid'\", \"credit_history='critical/other existing credit'\", \"credit_history='delayed previously'\", \"credit_history='existing paid'\", \"credit_history='no credits/all paid'\", \"employment='1<=X<4'\", \"employment='4<=X<7'\", \"employment='<1'\", \"employment='>=7'\", 'employment=unemployed', 'foreign_worker=no', 'foreign_worker=yes', \"housing='for free'\", 'housing=own', 'housing=rent', \"job='high qualif/self emp/mgmt'\", \"job='unemp/unskilled non res'\", \"job='unskilled resident'\", 'job=skilled', \"other_parties='co applicant'\", 'other_parties=guarantor', 'other_parties=none', 'other_payment_plans=bank', 'other_payment_plans=none', 'other_payment_plans=stores', 'own_telephone=none', 'own_telephone=yes', \"personal_status='female div/dep/mar'\", \"personal_status='male div/sep'\", \"personal_status='male mar/wid'\", \"personal_status='male single'\", \"property_magnitude='life insurance'\", \"property_magnitude='no known property'\", \"property_magnitude='real estate'\", 'property_magnitude=car', \"purpose='domestic appliance'\", \"purpose='new car'\", \"purpose='used car'\", 'purpose=business', 'purpose=education', 'purpose=furniture/equipment', 'purpose=other', 'purpose=radio/tv', 'purpose=repairs', 'purpose=retraining', \"savings_status='100<=X<500'\", \"savings_status='500<=X<1000'\", \"savings_status='<100'\", \"savings_status='>=1000'\", \"savings_status='no known savings'\", 'installment_commitment_1', 'installment_commitment_2', 'installment_commitment_3', 'installment_commitment_4', 'residence_since_1', 'residence_since_2', 'residence_since_3', 'residence_since_4', 'existing_credits_1', 'existing_credits_2', 'existing_credits_3', 'existing_credits_4', 'num_dependents_1', 'num_dependents_2', 'duration', 'credit_amount', 'age', 'credit_duration_ratio', 'log_duration', 'log_credit_amount', 'log_age', 'log_credit_duration_ratio', 'age_cat=(18.999, 27.0]', 'age_cat=(27.0, 33.0]', 'age_cat=(33.0, 42.0]', 'age_cat=(42.0, 75.0]', 'credit_amount_cat=(1380.0, 2333.0]', 'credit_amount_cat=(2333.0, 4154.5]', 'credit_amount_cat=(249.999, 1380.0]', 'credit_amount_cat=(4154.5, 18424.0]', 'credit_duration_ratio_cat=(130.742, 208.125]', 'credit_duration_ratio_cat=(208.125, 2425.833]', 'credit_duration_ratio_cat=(24.055, 90.229]', 'credit_duration_ratio_cat=(90.229, 130.742]', 'duration_cat=(12.0, 18.0]', 'duration_cat=(18.0, 24.0]', 'duration_cat=(24.0, 60.0]', 'duration_cat=(3.999, 12.0]']\n"
     ]
    }
   ],
   "source": [
    "feature_names = dict_vect.feature_names_ + one_hot_names + numerical_features + dict_vect_num.feature_names_\n",
    "print(len(feature_names))\n",
    "print(feature_names)"
   ]
  },
  {
   "cell_type": "code",
   "execution_count": 131,
   "metadata": {},
   "outputs": [
    {
     "data": {
      "text/plain": [
       "(800, 92)"
      ]
     },
     "execution_count": 131,
     "metadata": {},
     "output_type": "execute_result"
    }
   ],
   "source": [
    "X_train.shape"
   ]
  },
  {
   "cell_type": "markdown",
   "metadata": {},
   "source": [
    "Yes. we got 92. Now lets try lr on the new data:"
   ]
  },
  {
   "cell_type": "code",
   "execution_count": 133,
   "metadata": {
    "scrolled": true
   },
   "outputs": [
    {
     "name": "stdout",
     "output_type": "stream",
     "text": [
      "train auc score:  0.850681789503\n",
      "train f1-score:  0.531764705882\n",
      "             precision    recall  f1-score   support\n",
      "\n",
      "          0       0.79      0.87      0.83       559\n",
      "          1       0.61      0.47      0.53       241\n",
      "\n",
      "avg / total       0.74      0.75      0.74       800\n",
      "\n",
      "[[488  71]\n",
      " [128 113]]\n",
      "test auc score:  0.796970789758\n",
      "test f1-score:  0.484848484848\n",
      "             precision    recall  f1-score   support\n",
      "\n",
      "          0       0.78      0.89      0.83       141\n",
      "          1       0.60      0.41      0.48        59\n",
      "\n",
      "avg / total       0.73      0.74      0.73       200\n",
      "\n",
      "[[125  16]\n",
      " [ 35  24]]\n"
     ]
    },
    {
     "data": {
      "image/png": "[encoded data removed]",
      "text/plain": [
       "<matplotlib.figure.Figure at 0x2d6cb6e9128>"
      ]
     },
     "metadata": {},
     "output_type": "display_data"
    }
   ],
   "source": [
    "model = LogisticRegression(C = 10000, random_state=42) \n",
    "model.fit(X_train, y_train)\n",
    "\n",
    "y_train_score = model.decision_function(X_train)\n",
    "print('train auc score: ', roc_auc_score(y_train, y_train_score))\n",
    "print('train f1-score: ', f1_score(y_train, pred_train))\n",
    "print(classification_report(y_train, pred_train))\n",
    "print(confusion_matrix(y_train, pred_train))\n",
    "\n",
    "y_test_score = model.decision_function(X_test)\n",
    "print('test auc score: ', roc_auc_score(y_test, y_test_score))\n",
    "print('test f1-score: ', f1_score(y_test, pred_test))\n",
    "print(classification_report(y_test, pred_test))\n",
    "print(confusion_matrix(y_test, pred_test))\n",
    "\n",
    "plot_utils.plot_roc_curve(model, X_test, y_test)"
   ]
  },
  {
   "cell_type": "markdown",
   "metadata": {},
   "source": [
    "Ok, now the over-fitting is well seen. So the one-hot encoding was the opening shot and now with the addition of of the above categoricals features the over-fitiing is clear... So:\n",
    "### It seems that with the given amount of data a roc-auc of 0.82-3 is the best we can get."
   ]
  },
  {
   "cell_type": "markdown",
   "metadata": {},
   "source": [
    "Though we have over-fitiing it is interesting to see if the new features are in the top 20:"
   ]
  },
  {
   "cell_type": "code",
   "execution_count": 135,
   "metadata": {
    "scrolled": true
   },
   "outputs": [
    {
     "data": {
      "text/plain": [
       "['purpose=retraining',\n",
       " 'purpose=education',\n",
       " 'log_duration',\n",
       " \"credit_history='critical/other existing credit'\",\n",
       " \"purpose='used car'\",\n",
       " \"checking_status='no checking'\",\n",
       " \"job='unemp/unskilled non res'\",\n",
       " 'foreign_worker=no',\n",
       " \"checking_status='<0'\",\n",
       " 'credit_amount_cat=(2333.0, 4154.5]',\n",
       " \"credit_history='no credits/all paid'\",\n",
       " 'log_credit_amount',\n",
       " 'log_age',\n",
       " 'other_parties=guarantor',\n",
       " \"purpose='new car'\",\n",
       " 'credit_amount_cat=(249.999, 1380.0]',\n",
       " \"savings_status='>=1000'\",\n",
       " 'duration_cat=(3.999, 12.0]',\n",
       " 'foreign_worker=yes',\n",
       " \"personal_status='male single'\"]"
      ]
     },
     "execution_count": 135,
     "metadata": {},
     "output_type": "execute_result"
    }
   ],
   "source": [
    "importance_idx = np.argsort(abs(model.coef_[0]))[::-1]\n",
    "[feature_names[idx] for idx in importance_idx[:20]]"
   ]
  },
  {
   "cell_type": "markdown",
   "metadata": {},
   "source": [
    "Yes, 3 of them"
   ]
  },
  {
   "cell_type": "code",
   "execution_count": null,
   "metadata": {
    "collapsed": true
   },
   "outputs": [],
   "source": []
  }
 ],
 "metadata": {
  "anaconda-cloud": {},
  "kernelspec": {
   "display_name": "Python [default]",
   "language": "python",
   "name": "python3"
  },
  "language_info": {
   "codemirror_mode": {
    "name": "ipython",
    "version": 3
   },
   "file_extension": ".py",
   "mimetype": "text/x-python",
   "name": "python",
   "nbconvert_exporter": "python",
   "pygments_lexer": "ipython3",
   "version": "3.5.2"
  }
 },
 "nbformat": 4,
 "nbformat_minor": 2
}
