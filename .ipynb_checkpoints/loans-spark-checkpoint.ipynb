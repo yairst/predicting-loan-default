{
 "cells": [
  {
   "cell_type": "code",
   "execution_count": 1,
   "metadata": {},
   "outputs": [],
   "source": [
    "# for auto-reload user code (imported py file) on each execution of code from it\n",
    "# need to be executed only once\n",
    "%load_ext autoreload\n",
    "%autoreload 2"
   ]
  },
  {
   "cell_type": "code",
   "execution_count": 2,
   "metadata": {},
   "outputs": [],
   "source": [
    "import findspark\n",
    "findspark.init()\n",
    "\n",
    "from pyspark.sql import SparkSession\n",
    "from pyspark.sql import functions as F"
   ]
  },
  {
   "cell_type": "code",
   "execution_count": 3,
   "metadata": {},
   "outputs": [],
   "source": [
    "spark = SparkSession.builder.config(\"spark.sql.warehouse.dir\",\n",
    "                                    \"file:///C:/temp\").appName(\"loans\").getOrCreate()"
   ]
  },
  {
   "cell_type": "code",
   "execution_count": 4,
   "metadata": {},
   "outputs": [],
   "source": [
    "import pandas as pd\n",
    "import matplotlib.pyplot as plt\n",
    "import seaborn as sns\n",
    "import plot_utils_spark\n",
    "import utils\n",
    "import numpy as np\n",
    "# from sklearn.model_selection import train_test_split, GridSearchCV, StratifiedKFold\n",
    "# from sklearn.preprocessing import StandardScaler, LabelEncoder, OneHotEncoder\n",
    "# from sklearn.feature_extraction import DictVectorizer\n",
    "# from sklearn.metrics import accuracy_score, f1_score, confusion_matrix, classification_report, roc_auc_score\n",
    "# from sklearn.svm import LinearSVC, SVC\n",
    "# from sklearn.feature_selection import SelectFromModel, RFECV\n",
    "# from sklearn.ensemble import RandomForestClassifier\n",
    "# from sklearn.base import BaseEstimator, TransformerMixin\n",
    "# from sklearn.pipeline import Pipeline, FeatureUnion\n",
    "# from sklearn.naive_bayes import BernoulliNB, GaussianNB\n",
    "\n",
    "sns.set()\n",
    "% matplotlib inline"
   ]
  },
  {
   "cell_type": "markdown",
   "metadata": {},
   "source": [
    "## TODO\n",
    "categorize numerical features using pandas.cut, pandas.qcut or numpy.histogram"
   ]
  },
  {
   "cell_type": "markdown",
   "metadata": {},
   "source": [
    "first glance at the dataset:"
   ]
  },
  {
   "cell_type": "code",
   "execution_count": 5,
   "metadata": {},
   "outputs": [
    {
     "data": {
      "text/plain": [
       "DataFrame[checking_status: string, duration: int, credit_history: string, purpose: string, credit_amount: int, savings_status: string, employment: string, installment_commitment: int, personal_status: string, other_parties: string, residence_since: int, property_magnitude: string, age: int, other_payment_plans: string, housing: string, existing_credits: int, job: string, num_dependents: int, own_telephone: string, foreign_worker: string, class: string]"
      ]
     },
     "execution_count": 5,
     "metadata": {},
     "output_type": "execute_result"
    }
   ],
   "source": [
    "df = spark.read.csv('dataset.csv', header=True, inferSchema=True)\n",
    "df"
   ]
  },
  {
   "cell_type": "code",
   "execution_count": 6,
   "metadata": {},
   "outputs": [],
   "source": [
    "# function to sample dataframe relative to its size .\n",
    "# use case example: plot a distribution\n",
    "def sample_df(df, by=None, byFractions = None, seed=None):\n",
    "    df_len = df.count()\n",
    "    sample_frac = 1.0\n",
    "    if df_len > 10000:\n",
    "        sample_frac = 10000 / df_len\n",
    "    if by:\n",
    "        if byFractions:\n",
    "            fractions = byFractions\n",
    "        else:\n",
    "            fractions = df.groupby(by).agg(F.lit(sample_frac)).rdd.collectAsMap()\n",
    "        return df.sampleBy(by,fractions,seed)\n",
    "    return df.sample(False, sample_frac, seed)    "
   ]
  },
  {
   "cell_type": "code",
   "execution_count": 7,
   "metadata": {},
   "outputs": [
    {
     "name": "stdout",
     "output_type": "stream",
     "text": [
      "Wall time: 292 ms\n"
     ]
    },
    {
     "data": {
      "text/html": [
       "<div>\n",
       "<style scoped>\n",
       "    .dataframe tbody tr th:only-of-type {\n",
       "        vertical-align: middle;\n",
       "    }\n",
       "\n",
       "    .dataframe tbody tr th {\n",
       "        vertical-align: top;\n",
       "    }\n",
       "\n",
       "    .dataframe thead th {\n",
       "        text-align: right;\n",
       "    }\n",
       "</style>\n",
       "<table border=\"1\" class=\"dataframe\">\n",
       "  <thead>\n",
       "    <tr style=\"text-align: right;\">\n",
       "      <th></th>\n",
       "      <th>checking_status</th>\n",
       "      <th>duration</th>\n",
       "      <th>credit_history</th>\n",
       "      <th>purpose</th>\n",
       "      <th>credit_amount</th>\n",
       "      <th>savings_status</th>\n",
       "      <th>employment</th>\n",
       "      <th>installment_commitment</th>\n",
       "      <th>personal_status</th>\n",
       "      <th>other_parties</th>\n",
       "      <th>...</th>\n",
       "      <th>property_magnitude</th>\n",
       "      <th>age</th>\n",
       "      <th>other_payment_plans</th>\n",
       "      <th>housing</th>\n",
       "      <th>existing_credits</th>\n",
       "      <th>job</th>\n",
       "      <th>num_dependents</th>\n",
       "      <th>own_telephone</th>\n",
       "      <th>foreign_worker</th>\n",
       "      <th>class</th>\n",
       "    </tr>\n",
       "  </thead>\n",
       "  <tbody>\n",
       "    <tr>\n",
       "      <th>0</th>\n",
       "      <td>'&lt;0'</td>\n",
       "      <td>6</td>\n",
       "      <td>'critical/other existing credit'</td>\n",
       "      <td>radio/tv</td>\n",
       "      <td>1169</td>\n",
       "      <td>'no known savings'</td>\n",
       "      <td>'&gt;=7'</td>\n",
       "      <td>4</td>\n",
       "      <td>'male single'</td>\n",
       "      <td>none</td>\n",
       "      <td>...</td>\n",
       "      <td>'real estate'</td>\n",
       "      <td>67</td>\n",
       "      <td>none</td>\n",
       "      <td>own</td>\n",
       "      <td>2</td>\n",
       "      <td>skilled</td>\n",
       "      <td>1</td>\n",
       "      <td>yes</td>\n",
       "      <td>yes</td>\n",
       "      <td>good</td>\n",
       "    </tr>\n",
       "    <tr>\n",
       "      <th>1</th>\n",
       "      <td>'0&lt;=X&lt;200'</td>\n",
       "      <td>48</td>\n",
       "      <td>'existing paid'</td>\n",
       "      <td>radio/tv</td>\n",
       "      <td>5951</td>\n",
       "      <td>'&lt;100'</td>\n",
       "      <td>'1&lt;=X&lt;4'</td>\n",
       "      <td>2</td>\n",
       "      <td>'female div/dep/mar'</td>\n",
       "      <td>none</td>\n",
       "      <td>...</td>\n",
       "      <td>'real estate'</td>\n",
       "      <td>22</td>\n",
       "      <td>none</td>\n",
       "      <td>own</td>\n",
       "      <td>1</td>\n",
       "      <td>skilled</td>\n",
       "      <td>1</td>\n",
       "      <td>none</td>\n",
       "      <td>yes</td>\n",
       "      <td>bad</td>\n",
       "    </tr>\n",
       "    <tr>\n",
       "      <th>2</th>\n",
       "      <td>'no checking'</td>\n",
       "      <td>12</td>\n",
       "      <td>'critical/other existing credit'</td>\n",
       "      <td>education</td>\n",
       "      <td>2096</td>\n",
       "      <td>'&lt;100'</td>\n",
       "      <td>'4&lt;=X&lt;7'</td>\n",
       "      <td>2</td>\n",
       "      <td>'male single'</td>\n",
       "      <td>none</td>\n",
       "      <td>...</td>\n",
       "      <td>'real estate'</td>\n",
       "      <td>49</td>\n",
       "      <td>none</td>\n",
       "      <td>own</td>\n",
       "      <td>1</td>\n",
       "      <td>'unskilled resident'</td>\n",
       "      <td>2</td>\n",
       "      <td>none</td>\n",
       "      <td>yes</td>\n",
       "      <td>good</td>\n",
       "    </tr>\n",
       "    <tr>\n",
       "      <th>3</th>\n",
       "      <td>'&lt;0'</td>\n",
       "      <td>42</td>\n",
       "      <td>'existing paid'</td>\n",
       "      <td>furniture/equipment</td>\n",
       "      <td>7882</td>\n",
       "      <td>'&lt;100'</td>\n",
       "      <td>'4&lt;=X&lt;7'</td>\n",
       "      <td>2</td>\n",
       "      <td>'male single'</td>\n",
       "      <td>guarantor</td>\n",
       "      <td>...</td>\n",
       "      <td>'life insurance'</td>\n",
       "      <td>45</td>\n",
       "      <td>none</td>\n",
       "      <td>'for free'</td>\n",
       "      <td>1</td>\n",
       "      <td>skilled</td>\n",
       "      <td>2</td>\n",
       "      <td>none</td>\n",
       "      <td>yes</td>\n",
       "      <td>good</td>\n",
       "    </tr>\n",
       "    <tr>\n",
       "      <th>4</th>\n",
       "      <td>'&lt;0'</td>\n",
       "      <td>24</td>\n",
       "      <td>'delayed previously'</td>\n",
       "      <td>'new car'</td>\n",
       "      <td>4870</td>\n",
       "      <td>'&lt;100'</td>\n",
       "      <td>'1&lt;=X&lt;4'</td>\n",
       "      <td>3</td>\n",
       "      <td>'male single'</td>\n",
       "      <td>none</td>\n",
       "      <td>...</td>\n",
       "      <td>'no known property'</td>\n",
       "      <td>53</td>\n",
       "      <td>none</td>\n",
       "      <td>'for free'</td>\n",
       "      <td>2</td>\n",
       "      <td>skilled</td>\n",
       "      <td>2</td>\n",
       "      <td>none</td>\n",
       "      <td>yes</td>\n",
       "      <td>bad</td>\n",
       "    </tr>\n",
       "  </tbody>\n",
       "</table>\n",
       "<p>5 rows × 21 columns</p>\n",
       "</div>"
      ],
      "text/plain": [
       "  checking_status  duration                    credit_history  \\\n",
       "0            '<0'         6  'critical/other existing credit'   \n",
       "1      '0<=X<200'        48                   'existing paid'   \n",
       "2   'no checking'        12  'critical/other existing credit'   \n",
       "3            '<0'        42                   'existing paid'   \n",
       "4            '<0'        24              'delayed previously'   \n",
       "\n",
       "               purpose  credit_amount      savings_status employment  \\\n",
       "0             radio/tv           1169  'no known savings'      '>=7'   \n",
       "1             radio/tv           5951              '<100'   '1<=X<4'   \n",
       "2            education           2096              '<100'   '4<=X<7'   \n",
       "3  furniture/equipment           7882              '<100'   '4<=X<7'   \n",
       "4            'new car'           4870              '<100'   '1<=X<4'   \n",
       "\n",
       "   installment_commitment       personal_status other_parties  ...   \\\n",
       "0                       4         'male single'          none  ...    \n",
       "1                       2  'female div/dep/mar'          none  ...    \n",
       "2                       2         'male single'          none  ...    \n",
       "3                       2         'male single'     guarantor  ...    \n",
       "4                       3         'male single'          none  ...    \n",
       "\n",
       "    property_magnitude age  other_payment_plans     housing existing_credits  \\\n",
       "0        'real estate'  67                 none         own                2   \n",
       "1        'real estate'  22                 none         own                1   \n",
       "2        'real estate'  49                 none         own                1   \n",
       "3     'life insurance'  45                 none  'for free'                1   \n",
       "4  'no known property'  53                 none  'for free'                2   \n",
       "\n",
       "                    job num_dependents  own_telephone foreign_worker class  \n",
       "0               skilled              1            yes            yes  good  \n",
       "1               skilled              1           none            yes   bad  \n",
       "2  'unskilled resident'              2           none            yes  good  \n",
       "3               skilled              2           none            yes  good  \n",
       "4               skilled              2           none            yes   bad  \n",
       "\n",
       "[5 rows x 21 columns]"
      ]
     },
     "execution_count": 7,
     "metadata": {},
     "output_type": "execute_result"
    }
   ],
   "source": [
    "%%time\n",
    "df.limit(5).toPandas()"
   ]
  },
  {
   "cell_type": "markdown",
   "metadata": {},
   "source": [
    "# Reports"
   ]
  },
  {
   "cell_type": "markdown",
   "metadata": {},
   "source": [
    "### Credit amount as function of purpose"
   ]
  },
  {
   "cell_type": "markdown",
   "metadata": {},
   "source": [
    "graph:"
   ]
  },
  {
   "cell_type": "code",
   "execution_count": 8,
   "metadata": {},
   "outputs": [],
   "source": [
    "n_samples = df.count()"
   ]
  },
  {
   "cell_type": "code",
   "execution_count": 9,
   "metadata": {},
   "outputs": [
    {
     "name": "stderr",
     "output_type": "stream",
     "text": [
      "C:\\Users\\Yair\\Anaconda3\\lib\\site-packages\\seaborn\\categorical.py:454: FutureWarning: remove_na is deprecated and is a private function. Do not use.\n",
      "  box_data = remove_na(group_data)\n"
     ]
    },
    {
     "data": {
      "text/plain": [
       "<matplotlib.axes._subplots.AxesSubplot at 0x1d3931615f8>"
      ]
     },
     "execution_count": 9,
     "metadata": {},
     "output_type": "execute_result"
    },
    {
     "data": {
      "image/png": "[encoded data removed]",
      "text/plain": [
       "<matplotlib.figure.Figure at 0x1d393108a58>"
      ]
     },
     "metadata": {
      "needs_background": "light"
     },
     "output_type": "display_data"
    }
   ],
   "source": [
    "# in general, when we deal with big data and we need to plot distributions, we need to sample\n",
    "# the data for sake of time efficiency. Ofcourse the sample need to be stratified according to\n",
    "# the chosen categories (in our case by \"purpose\"). Here, because the dataset is very small I \n",
    "# choose sample of 0.8. In case of big data that should be fitted to memory and can be 0.01 or even less.\n",
    "fractions = df.groupby(\"purpose\").agg(F.lit(0.8)).rdd.collectAsMap()\n",
    "#fractions = df.select('purpose').distinct().withColumn(\"fraction\", F.lit(0.8)).rdd.collectAsMap() # another option\n",
    "plt.figure(figsize=(15,10))\n",
    "sns.boxplot(x=\"purpose\", y=\"credit_amount\", data=df.sampleBy(\"purpose\",fractions).toPandas())"
   ]
  },
  {
   "cell_type": "markdown",
   "metadata": {},
   "source": [
    "In general the credits are higher for used car or buisness loans."
   ]
  },
  {
   "cell_type": "markdown",
   "metadata": {},
   "source": [
    "table:"
   ]
  },
  {
   "cell_type": "code",
   "execution_count": 10,
   "metadata": {},
   "outputs": [
    {
     "data": {
      "text/html": [
       "<div>\n",
       "<style scoped>\n",
       "    .dataframe tbody tr th:only-of-type {\n",
       "        vertical-align: middle;\n",
       "    }\n",
       "\n",
       "    .dataframe tbody tr th {\n",
       "        vertical-align: top;\n",
       "    }\n",
       "\n",
       "    .dataframe thead th {\n",
       "        text-align: right;\n",
       "    }\n",
       "</style>\n",
       "<table border=\"1\" class=\"dataframe\">\n",
       "  <thead>\n",
       "    <tr style=\"text-align: right;\">\n",
       "      <th></th>\n",
       "      <th>purpose</th>\n",
       "      <th>avg(credit_amount)</th>\n",
       "      <th>max(credit_amount)</th>\n",
       "      <th>min(credit_amount)</th>\n",
       "      <th>sum(credit_amount)</th>\n",
       "      <th>count(credit_amount)</th>\n",
       "    </tr>\n",
       "  </thead>\n",
       "  <tbody>\n",
       "    <tr>\n",
       "      <th>4</th>\n",
       "      <td>other</td>\n",
       "      <td>8209.333333</td>\n",
       "      <td>18424</td>\n",
       "      <td>1164</td>\n",
       "      <td>98512</td>\n",
       "      <td>12</td>\n",
       "    </tr>\n",
       "    <tr>\n",
       "      <th>5</th>\n",
       "      <td>'used car'</td>\n",
       "      <td>5370.223301</td>\n",
       "      <td>12976</td>\n",
       "      <td>1236</td>\n",
       "      <td>553133</td>\n",
       "      <td>103</td>\n",
       "    </tr>\n",
       "    <tr>\n",
       "      <th>7</th>\n",
       "      <td>business</td>\n",
       "      <td>4158.041237</td>\n",
       "      <td>15945</td>\n",
       "      <td>609</td>\n",
       "      <td>403330</td>\n",
       "      <td>97</td>\n",
       "    </tr>\n",
       "    <tr>\n",
       "      <th>1</th>\n",
       "      <td>education</td>\n",
       "      <td>3180.400000</td>\n",
       "      <td>12612</td>\n",
       "      <td>392</td>\n",
       "      <td>159020</td>\n",
       "      <td>50</td>\n",
       "    </tr>\n",
       "    <tr>\n",
       "      <th>9</th>\n",
       "      <td>furniture/equipment</td>\n",
       "      <td>3066.988950</td>\n",
       "      <td>14179</td>\n",
       "      <td>428</td>\n",
       "      <td>555125</td>\n",
       "      <td>181</td>\n",
       "    </tr>\n",
       "    <tr>\n",
       "      <th>2</th>\n",
       "      <td>'new car'</td>\n",
       "      <td>3063.025641</td>\n",
       "      <td>14896</td>\n",
       "      <td>250</td>\n",
       "      <td>716748</td>\n",
       "      <td>234</td>\n",
       "    </tr>\n",
       "    <tr>\n",
       "      <th>8</th>\n",
       "      <td>repairs</td>\n",
       "      <td>2728.090909</td>\n",
       "      <td>11998</td>\n",
       "      <td>454</td>\n",
       "      <td>60018</td>\n",
       "      <td>22</td>\n",
       "    </tr>\n",
       "    <tr>\n",
       "      <th>0</th>\n",
       "      <td>radio/tv</td>\n",
       "      <td>2487.653571</td>\n",
       "      <td>15653</td>\n",
       "      <td>338</td>\n",
       "      <td>696543</td>\n",
       "      <td>280</td>\n",
       "    </tr>\n",
       "    <tr>\n",
       "      <th>3</th>\n",
       "      <td>'domestic appliance'</td>\n",
       "      <td>1498.000000</td>\n",
       "      <td>3990</td>\n",
       "      <td>343</td>\n",
       "      <td>17976</td>\n",
       "      <td>12</td>\n",
       "    </tr>\n",
       "    <tr>\n",
       "      <th>6</th>\n",
       "      <td>retraining</td>\n",
       "      <td>1205.888889</td>\n",
       "      <td>3447</td>\n",
       "      <td>339</td>\n",
       "      <td>10853</td>\n",
       "      <td>9</td>\n",
       "    </tr>\n",
       "  </tbody>\n",
       "</table>\n",
       "</div>"
      ],
      "text/plain": [
       "                purpose  avg(credit_amount)  max(credit_amount)  \\\n",
       "4                 other         8209.333333               18424   \n",
       "5            'used car'         5370.223301               12976   \n",
       "7              business         4158.041237               15945   \n",
       "1             education         3180.400000               12612   \n",
       "9   furniture/equipment         3066.988950               14179   \n",
       "2             'new car'         3063.025641               14896   \n",
       "8               repairs         2728.090909               11998   \n",
       "0              radio/tv         2487.653571               15653   \n",
       "3  'domestic appliance'         1498.000000                3990   \n",
       "6            retraining         1205.888889                3447   \n",
       "\n",
       "   min(credit_amount)  sum(credit_amount)  count(credit_amount)  \n",
       "4                1164               98512                    12  \n",
       "5                1236              553133                   103  \n",
       "7                 609              403330                    97  \n",
       "1                 392              159020                    50  \n",
       "9                 428              555125                   181  \n",
       "2                 250              716748                   234  \n",
       "8                 454               60018                    22  \n",
       "0                 338              696543                   280  \n",
       "3                 343               17976                    12  \n",
       "6                 339               10853                     9  "
      ]
     },
     "execution_count": 10,
     "metadata": {},
     "output_type": "execute_result"
    }
   ],
   "source": [
    "from pyspark.sql import functions as F\n",
    "# in pandas we can get the statistics easily by:\n",
    "# grouped['credit_amount'].describe().sort_values('mean', ascending = False)\n",
    "# since a pandas groupby object has describe() method. Unfortunley, a pyspark.sql groupby\n",
    "# object doesn't have one so we need to define it explicitly:\n",
    "\n",
    "grouped = df.groupby('purpose')\n",
    "agg_funcs = ['avg', 'max', 'min', 'sum', 'count']\n",
    "aggFuncList = [eval('F.' + agg_func + '(df.credit_amount)') for agg_func in agg_funcs] \n",
    "grouped.agg(*aggFuncList).toPandas().sort_values('avg(credit_amount)', ascending = False)"
   ]
  },
  {
   "cell_type": "markdown",
   "metadata": {
    "collapsed": true
   },
   "source": [
    "### Total amount of loans greater than 10,000 that were given to unemployed males over the age of 30 "
   ]
  },
  {
   "cell_type": "code",
   "execution_count": 11,
   "metadata": {},
   "outputs": [
    {
     "name": "stdout",
     "output_type": "stream",
     "text": [
      "+--------------------+\n",
      "|     personal_status|\n",
      "+--------------------+\n",
      "|'female div/dep/mar'|\n",
      "|      'male div/sep'|\n",
      "|       'male single'|\n",
      "|      'male mar/wid'|\n",
      "+--------------------+\n",
      "\n"
     ]
    }
   ],
   "source": [
    "df.select('personal_status').distinct().show()"
   ]
  },
  {
   "cell_type": "code",
   "execution_count": 12,
   "metadata": {},
   "outputs": [
    {
     "name": "stdout",
     "output_type": "stream",
     "text": [
      "+------------------+\n",
      "|sum(credit_amount)|\n",
      "+------------------+\n",
      "|             28026|\n",
      "+------------------+\n",
      "\n"
     ]
    }
   ],
   "source": [
    "(df[(df['personal_status'] != \"'female div/dep/mar'\") &\n",
    "          (df['employment'] == \"unemployed\") &\n",
    "          (df['age'] > 30) &\n",
    "          (df['credit_amount'] > 10000)]).select(F.sum('credit_amount')).show()"
   ]
  },
  {
   "cell_type": "markdown",
   "metadata": {},
   "source": [
    "### Credit Amount distribution as function of personal status"
   ]
  },
  {
   "cell_type": "markdown",
   "metadata": {},
   "source": [
    "graph:"
   ]
  },
  {
   "cell_type": "code",
   "execution_count": 13,
   "metadata": {},
   "outputs": [
    {
     "name": "stderr",
     "output_type": "stream",
     "text": [
      "C:\\Users\\Yair\\Anaconda3\\lib\\site-packages\\seaborn\\categorical.py:588: FutureWarning: remove_na is deprecated and is a private function. Do not use.\n",
      "  kde_data = remove_na(group_data)\n",
      "C:\\Users\\Yair\\Anaconda3\\lib\\site-packages\\seaborn\\categorical.py:816: FutureWarning: remove_na is deprecated and is a private function. Do not use.\n",
      "  violin_data = remove_na(group_data)\n"
     ]
    },
    {
     "data": {
      "text/plain": [
       "<matplotlib.axes._subplots.AxesSubplot at 0x1d393291160>"
      ]
     },
     "execution_count": 13,
     "metadata": {},
     "output_type": "execute_result"
    },
    {
     "data": {
      "image/png": "[encoded data removed]",
      "text/plain": [
       "<matplotlib.figure.Figure at 0x1d3931e57f0>"
      ]
     },
     "metadata": {
      "needs_background": "light"
     },
     "output_type": "display_data"
    }
   ],
   "source": [
    "fractions = df.groupby(\"personal_status\").agg(F.lit(0.8)).rdd.collectAsMap()\n",
    "plt.figure(figsize=(15,10))\n",
    "sns.violinplot(x=\"personal_status\", y=\"credit_amount\", data=df.sampleBy(\"personal_status\",fractions).toPandas())"
   ]
  },
  {
   "cell_type": "markdown",
   "metadata": {},
   "source": [
    "table:"
   ]
  },
  {
   "cell_type": "code",
   "execution_count": 14,
   "metadata": {},
   "outputs": [
    {
     "data": {
      "text/html": [
       "<div>\n",
       "<style scoped>\n",
       "    .dataframe tbody tr th:only-of-type {\n",
       "        vertical-align: middle;\n",
       "    }\n",
       "\n",
       "    .dataframe tbody tr th {\n",
       "        vertical-align: top;\n",
       "    }\n",
       "\n",
       "    .dataframe thead th {\n",
       "        text-align: right;\n",
       "    }\n",
       "</style>\n",
       "<table border=\"1\" class=\"dataframe\">\n",
       "  <thead>\n",
       "    <tr style=\"text-align: right;\">\n",
       "      <th></th>\n",
       "      <th>personal_status</th>\n",
       "      <th>avg(credit_amount)</th>\n",
       "      <th>max(credit_amount)</th>\n",
       "      <th>min(credit_amount)</th>\n",
       "      <th>sum(credit_amount)</th>\n",
       "      <th>count(credit_amount)</th>\n",
       "    </tr>\n",
       "  </thead>\n",
       "  <tbody>\n",
       "    <tr>\n",
       "      <th>1</th>\n",
       "      <td>'male div/sep'</td>\n",
       "      <td>3684.700000</td>\n",
       "      <td>15857</td>\n",
       "      <td>640</td>\n",
       "      <td>184235</td>\n",
       "      <td>50</td>\n",
       "    </tr>\n",
       "    <tr>\n",
       "      <th>2</th>\n",
       "      <td>'male single'</td>\n",
       "      <td>3661.903285</td>\n",
       "      <td>15945</td>\n",
       "      <td>338</td>\n",
       "      <td>2006723</td>\n",
       "      <td>548</td>\n",
       "    </tr>\n",
       "    <tr>\n",
       "      <th>0</th>\n",
       "      <td>'female div/dep/mar'</td>\n",
       "      <td>2877.774194</td>\n",
       "      <td>18424</td>\n",
       "      <td>250</td>\n",
       "      <td>892110</td>\n",
       "      <td>310</td>\n",
       "    </tr>\n",
       "    <tr>\n",
       "      <th>3</th>\n",
       "      <td>'male mar/wid'</td>\n",
       "      <td>2045.543478</td>\n",
       "      <td>9398</td>\n",
       "      <td>276</td>\n",
       "      <td>188190</td>\n",
       "      <td>92</td>\n",
       "    </tr>\n",
       "  </tbody>\n",
       "</table>\n",
       "</div>"
      ],
      "text/plain": [
       "        personal_status  avg(credit_amount)  max(credit_amount)  \\\n",
       "1        'male div/sep'         3684.700000               15857   \n",
       "2         'male single'         3661.903285               15945   \n",
       "0  'female div/dep/mar'         2877.774194               18424   \n",
       "3        'male mar/wid'         2045.543478                9398   \n",
       "\n",
       "   min(credit_amount)  sum(credit_amount)  count(credit_amount)  \n",
       "1                 640              184235                    50  \n",
       "2                 338             2006723                   548  \n",
       "0                 250              892110                   310  \n",
       "3                 276              188190                    92  "
      ]
     },
     "execution_count": 14,
     "metadata": {},
     "output_type": "execute_result"
    }
   ],
   "source": [
    "grouped = df.groupby('personal_status')\n",
    "grouped.agg(*aggFuncList).toPandas().sort_values('avg(credit_amount)', ascending = False)"
   ]
  },
  {
   "cell_type": "markdown",
   "metadata": {},
   "source": [
    "### Number of Customers who are employed over 4 years"
   ]
  },
  {
   "cell_type": "code",
   "execution_count": 15,
   "metadata": {},
   "outputs": [
    {
     "name": "stdout",
     "output_type": "stream",
     "text": [
      "+----------+\n",
      "|employment|\n",
      "+----------+\n",
      "|  '4<=X<7'|\n",
      "|     '>=7'|\n",
      "|  '1<=X<4'|\n",
      "|      '<1'|\n",
      "|unemployed|\n",
      "+----------+\n",
      "\n"
     ]
    }
   ],
   "source": [
    "df.select('employment').distinct().show()"
   ]
  },
  {
   "cell_type": "code",
   "execution_count": 16,
   "metadata": {},
   "outputs": [
    {
     "data": {
      "text/plain": [
       "427"
      ]
     },
     "execution_count": 16,
     "metadata": {},
     "output_type": "execute_result"
    }
   ],
   "source": [
    "df[(df['employment'] == \"'>=7'\") | (df['employment'] == \"'4<=X<7'\")].count()"
   ]
  },
  {
   "cell_type": "markdown",
   "metadata": {},
   "source": [
    "## Train a Model, Test and Evaluate"
   ]
  },
  {
   "cell_type": "markdown",
   "metadata": {},
   "source": [
    "split to train and test:"
   ]
  },
  {
   "cell_type": "code",
   "execution_count": 17,
   "metadata": {},
   "outputs": [
    {
     "data": {
      "text/html": [
       "<div>\n",
       "<style scoped>\n",
       "    .dataframe tbody tr th:only-of-type {\n",
       "        vertical-align: middle;\n",
       "    }\n",
       "\n",
       "    .dataframe tbody tr th {\n",
       "        vertical-align: top;\n",
       "    }\n",
       "\n",
       "    .dataframe thead th {\n",
       "        text-align: right;\n",
       "    }\n",
       "</style>\n",
       "<table border=\"1\" class=\"dataframe\">\n",
       "  <thead>\n",
       "    <tr style=\"text-align: right;\">\n",
       "      <th></th>\n",
       "      <th>checking_status</th>\n",
       "      <th>duration</th>\n",
       "      <th>credit_history</th>\n",
       "      <th>purpose</th>\n",
       "      <th>credit_amount</th>\n",
       "      <th>savings_status</th>\n",
       "      <th>employment</th>\n",
       "      <th>installment_commitment</th>\n",
       "      <th>personal_status</th>\n",
       "      <th>other_parties</th>\n",
       "      <th>...</th>\n",
       "      <th>property_magnitude</th>\n",
       "      <th>age</th>\n",
       "      <th>other_payment_plans</th>\n",
       "      <th>housing</th>\n",
       "      <th>existing_credits</th>\n",
       "      <th>job</th>\n",
       "      <th>num_dependents</th>\n",
       "      <th>own_telephone</th>\n",
       "      <th>foreign_worker</th>\n",
       "      <th>class</th>\n",
       "    </tr>\n",
       "  </thead>\n",
       "  <tbody>\n",
       "    <tr>\n",
       "      <th>0</th>\n",
       "      <td>'0&lt;=X&lt;200'</td>\n",
       "      <td>6</td>\n",
       "      <td>'all paid'</td>\n",
       "      <td>'new car'</td>\n",
       "      <td>931</td>\n",
       "      <td>'100&lt;=X&lt;500'</td>\n",
       "      <td>'&lt;1'</td>\n",
       "      <td>1</td>\n",
       "      <td>'female div/dep/mar'</td>\n",
       "      <td>none</td>\n",
       "      <td>...</td>\n",
       "      <td>'life insurance'</td>\n",
       "      <td>32</td>\n",
       "      <td>stores</td>\n",
       "      <td>own</td>\n",
       "      <td>1</td>\n",
       "      <td>'unskilled resident'</td>\n",
       "      <td>1</td>\n",
       "      <td>none</td>\n",
       "      <td>yes</td>\n",
       "      <td>bad</td>\n",
       "    </tr>\n",
       "    <tr>\n",
       "      <th>1</th>\n",
       "      <td>'0&lt;=X&lt;200'</td>\n",
       "      <td>6</td>\n",
       "      <td>'delayed previously'</td>\n",
       "      <td>business</td>\n",
       "      <td>1449</td>\n",
       "      <td>'100&lt;=X&lt;500'</td>\n",
       "      <td>'&gt;=7'</td>\n",
       "      <td>1</td>\n",
       "      <td>'male div/sep'</td>\n",
       "      <td>none</td>\n",
       "      <td>...</td>\n",
       "      <td>car</td>\n",
       "      <td>31</td>\n",
       "      <td>bank</td>\n",
       "      <td>own</td>\n",
       "      <td>2</td>\n",
       "      <td>skilled</td>\n",
       "      <td>2</td>\n",
       "      <td>none</td>\n",
       "      <td>yes</td>\n",
       "      <td>good</td>\n",
       "    </tr>\n",
       "    <tr>\n",
       "      <th>2</th>\n",
       "      <td>'0&lt;=X&lt;200'</td>\n",
       "      <td>6</td>\n",
       "      <td>'delayed previously'</td>\n",
       "      <td>furniture/equipment</td>\n",
       "      <td>1050</td>\n",
       "      <td>'&lt;100'</td>\n",
       "      <td>unemployed</td>\n",
       "      <td>4</td>\n",
       "      <td>'male single'</td>\n",
       "      <td>none</td>\n",
       "      <td>...</td>\n",
       "      <td>'life insurance'</td>\n",
       "      <td>35</td>\n",
       "      <td>stores</td>\n",
       "      <td>own</td>\n",
       "      <td>2</td>\n",
       "      <td>'high qualif/self emp/mgmt'</td>\n",
       "      <td>1</td>\n",
       "      <td>yes</td>\n",
       "      <td>yes</td>\n",
       "      <td>good</td>\n",
       "    </tr>\n",
       "    <tr>\n",
       "      <th>3</th>\n",
       "      <td>'0&lt;=X&lt;200'</td>\n",
       "      <td>6</td>\n",
       "      <td>'existing paid'</td>\n",
       "      <td>'new car'</td>\n",
       "      <td>14555</td>\n",
       "      <td>'no known savings'</td>\n",
       "      <td>unemployed</td>\n",
       "      <td>1</td>\n",
       "      <td>'male single'</td>\n",
       "      <td>none</td>\n",
       "      <td>...</td>\n",
       "      <td>'life insurance'</td>\n",
       "      <td>23</td>\n",
       "      <td>none</td>\n",
       "      <td>own</td>\n",
       "      <td>1</td>\n",
       "      <td>'unemp/unskilled non res'</td>\n",
       "      <td>1</td>\n",
       "      <td>yes</td>\n",
       "      <td>yes</td>\n",
       "      <td>bad</td>\n",
       "    </tr>\n",
       "    <tr>\n",
       "      <th>4</th>\n",
       "      <td>'0&lt;=X&lt;200'</td>\n",
       "      <td>6</td>\n",
       "      <td>'existing paid'</td>\n",
       "      <td>radio/tv</td>\n",
       "      <td>368</td>\n",
       "      <td>'no known savings'</td>\n",
       "      <td>'&gt;=7'</td>\n",
       "      <td>4</td>\n",
       "      <td>'male single'</td>\n",
       "      <td>none</td>\n",
       "      <td>...</td>\n",
       "      <td>'life insurance'</td>\n",
       "      <td>38</td>\n",
       "      <td>none</td>\n",
       "      <td>own</td>\n",
       "      <td>1</td>\n",
       "      <td>skilled</td>\n",
       "      <td>1</td>\n",
       "      <td>none</td>\n",
       "      <td>yes</td>\n",
       "      <td>good</td>\n",
       "    </tr>\n",
       "  </tbody>\n",
       "</table>\n",
       "<p>5 rows × 21 columns</p>\n",
       "</div>"
      ],
      "text/plain": [
       "  checking_status  duration        credit_history              purpose  \\\n",
       "0      '0<=X<200'         6            'all paid'            'new car'   \n",
       "1      '0<=X<200'         6  'delayed previously'             business   \n",
       "2      '0<=X<200'         6  'delayed previously'  furniture/equipment   \n",
       "3      '0<=X<200'         6       'existing paid'            'new car'   \n",
       "4      '0<=X<200'         6       'existing paid'             radio/tv   \n",
       "\n",
       "   credit_amount      savings_status  employment  installment_commitment  \\\n",
       "0            931        '100<=X<500'        '<1'                       1   \n",
       "1           1449        '100<=X<500'       '>=7'                       1   \n",
       "2           1050              '<100'  unemployed                       4   \n",
       "3          14555  'no known savings'  unemployed                       1   \n",
       "4            368  'no known savings'       '>=7'                       4   \n",
       "\n",
       "        personal_status other_parties  ...   property_magnitude age  \\\n",
       "0  'female div/dep/mar'          none  ...     'life insurance'  32   \n",
       "1        'male div/sep'          none  ...                  car  31   \n",
       "2         'male single'          none  ...     'life insurance'  35   \n",
       "3         'male single'          none  ...     'life insurance'  23   \n",
       "4         'male single'          none  ...     'life insurance'  38   \n",
       "\n",
       "   other_payment_plans housing existing_credits                          job  \\\n",
       "0               stores     own                1         'unskilled resident'   \n",
       "1                 bank     own                2                      skilled   \n",
       "2               stores     own                2  'high qualif/self emp/mgmt'   \n",
       "3                 none     own                1    'unemp/unskilled non res'   \n",
       "4                 none     own                1                      skilled   \n",
       "\n",
       "  num_dependents  own_telephone foreign_worker class  \n",
       "0              1           none            yes   bad  \n",
       "1              2           none            yes  good  \n",
       "2              1            yes            yes  good  \n",
       "3              1            yes            yes   bad  \n",
       "4              1           none            yes  good  \n",
       "\n",
       "[5 rows x 21 columns]"
      ]
     },
     "execution_count": 17,
     "metadata": {},
     "output_type": "execute_result"
    }
   ],
   "source": [
    "TRAIN_FRAC = 0.8\n",
    "df_train, df_test = df.randomSplit([TRAIN_FRAC, 1-TRAIN_FRAC], seed=42)\n",
    "df_train.limit(5).toPandas()"
   ]
  },
  {
   "cell_type": "code",
   "execution_count": 18,
   "metadata": {},
   "outputs": [],
   "source": [
    "#sampled version for df_train for plotting purpose:\n",
    "samp_df_train = sample_df(df_train)"
   ]
  },
  {
   "cell_type": "code",
   "execution_count": 19,
   "metadata": {},
   "outputs": [
    {
     "data": {
      "text/plain": [
       "0"
      ]
     },
     "execution_count": 19,
     "metadata": {},
     "output_type": "execute_result"
    }
   ],
   "source": [
    "df_train.subtract(samp_df_train).count()"
   ]
  },
  {
   "cell_type": "markdown",
   "metadata": {},
   "source": [
    "check the types of the columns:"
   ]
  },
  {
   "cell_type": "code",
   "execution_count": 20,
   "metadata": {},
   "outputs": [
    {
     "data": {
      "text/plain": [
       "[('checking_status', 'string'),\n",
       " ('duration', 'int'),\n",
       " ('credit_history', 'string'),\n",
       " ('purpose', 'string'),\n",
       " ('credit_amount', 'int'),\n",
       " ('savings_status', 'string'),\n",
       " ('employment', 'string'),\n",
       " ('installment_commitment', 'int'),\n",
       " ('personal_status', 'string'),\n",
       " ('other_parties', 'string'),\n",
       " ('residence_since', 'int'),\n",
       " ('property_magnitude', 'string'),\n",
       " ('age', 'int'),\n",
       " ('other_payment_plans', 'string'),\n",
       " ('housing', 'string'),\n",
       " ('existing_credits', 'int'),\n",
       " ('job', 'string'),\n",
       " ('num_dependents', 'int'),\n",
       " ('own_telephone', 'string'),\n",
       " ('foreign_worker', 'string'),\n",
       " ('class', 'string')]"
      ]
     },
     "execution_count": 20,
     "metadata": {},
     "output_type": "execute_result"
    }
   ],
   "source": [
    "df_train.dtypes"
   ]
  },
  {
   "cell_type": "code",
   "execution_count": 21,
   "metadata": {},
   "outputs": [],
   "source": [
    "strings = [feature for feature, dtype in df_train.dtypes if dtype == 'string']\n",
    "ints = [feature for feature, dtype in df_train.dtypes if dtype == 'int']"
   ]
  },
  {
   "cell_type": "markdown",
   "metadata": {},
   "source": [
    "statistics of the numerical columns:"
   ]
  },
  {
   "cell_type": "code",
   "execution_count": 22,
   "metadata": {
    "scrolled": true
   },
   "outputs": [
    {
     "data": {
      "text/html": [
       "<div>\n",
       "<style scoped>\n",
       "    .dataframe tbody tr th:only-of-type {\n",
       "        vertical-align: middle;\n",
       "    }\n",
       "\n",
       "    .dataframe tbody tr th {\n",
       "        vertical-align: top;\n",
       "    }\n",
       "\n",
       "    .dataframe thead th {\n",
       "        text-align: right;\n",
       "    }\n",
       "</style>\n",
       "<table border=\"1\" class=\"dataframe\">\n",
       "  <thead>\n",
       "    <tr style=\"text-align: right;\">\n",
       "      <th></th>\n",
       "      <th>summary</th>\n",
       "      <th>duration</th>\n",
       "      <th>credit_amount</th>\n",
       "      <th>installment_commitment</th>\n",
       "      <th>residence_since</th>\n",
       "      <th>age</th>\n",
       "      <th>existing_credits</th>\n",
       "      <th>num_dependents</th>\n",
       "    </tr>\n",
       "  </thead>\n",
       "  <tbody>\n",
       "    <tr>\n",
       "      <th>0</th>\n",
       "      <td>count</td>\n",
       "      <td>806</td>\n",
       "      <td>806</td>\n",
       "      <td>806</td>\n",
       "      <td>806</td>\n",
       "      <td>806</td>\n",
       "      <td>806</td>\n",
       "      <td>806</td>\n",
       "    </tr>\n",
       "    <tr>\n",
       "      <th>1</th>\n",
       "      <td>mean</td>\n",
       "      <td>21.049627791563275</td>\n",
       "      <td>3277.681141439206</td>\n",
       "      <td>2.956575682382134</td>\n",
       "      <td>2.8436724565756824</td>\n",
       "      <td>35.42679900744417</td>\n",
       "      <td>1.4081885856079404</td>\n",
       "      <td>1.150124069478908</td>\n",
       "    </tr>\n",
       "    <tr>\n",
       "      <th>2</th>\n",
       "      <td>stddev</td>\n",
       "      <td>12.166955293068384</td>\n",
       "      <td>2843.3991867956215</td>\n",
       "      <td>1.1198270434797244</td>\n",
       "      <td>1.1046500975076445</td>\n",
       "      <td>11.259071216035123</td>\n",
       "      <td>0.5905108382625797</td>\n",
       "      <td>0.35741478173482033</td>\n",
       "    </tr>\n",
       "    <tr>\n",
       "      <th>3</th>\n",
       "      <td>min</td>\n",
       "      <td>4</td>\n",
       "      <td>250</td>\n",
       "      <td>1</td>\n",
       "      <td>1</td>\n",
       "      <td>19</td>\n",
       "      <td>1</td>\n",
       "      <td>1</td>\n",
       "    </tr>\n",
       "    <tr>\n",
       "      <th>5</th>\n",
       "      <td>25%</td>\n",
       "      <td>12</td>\n",
       "      <td>1355</td>\n",
       "      <td>2</td>\n",
       "      <td>2</td>\n",
       "      <td>27</td>\n",
       "      <td>1</td>\n",
       "      <td>1</td>\n",
       "    </tr>\n",
       "    <tr>\n",
       "      <th>6</th>\n",
       "      <td>50%</td>\n",
       "      <td>18</td>\n",
       "      <td>2302</td>\n",
       "      <td>3</td>\n",
       "      <td>3</td>\n",
       "      <td>33</td>\n",
       "      <td>1</td>\n",
       "      <td>1</td>\n",
       "    </tr>\n",
       "    <tr>\n",
       "      <th>7</th>\n",
       "      <td>75%</td>\n",
       "      <td>24</td>\n",
       "      <td>4020</td>\n",
       "      <td>4</td>\n",
       "      <td>4</td>\n",
       "      <td>42</td>\n",
       "      <td>2</td>\n",
       "      <td>1</td>\n",
       "    </tr>\n",
       "    <tr>\n",
       "      <th>4</th>\n",
       "      <td>max</td>\n",
       "      <td>60</td>\n",
       "      <td>15945</td>\n",
       "      <td>4</td>\n",
       "      <td>4</td>\n",
       "      <td>75</td>\n",
       "      <td>4</td>\n",
       "      <td>2</td>\n",
       "    </tr>\n",
       "  </tbody>\n",
       "</table>\n",
       "</div>"
      ],
      "text/plain": [
       "  summary            duration       credit_amount installment_commitment  \\\n",
       "0   count                 806                 806                    806   \n",
       "1    mean  21.049627791563275   3277.681141439206      2.956575682382134   \n",
       "2  stddev  12.166955293068384  2843.3991867956215     1.1198270434797244   \n",
       "3     min                   4                 250                      1   \n",
       "5     25%                  12                1355                      2   \n",
       "6     50%                  18                2302                      3   \n",
       "7     75%                  24                4020                      4   \n",
       "4     max                  60               15945                      4   \n",
       "\n",
       "      residence_since                 age    existing_credits  \\\n",
       "0                 806                 806                 806   \n",
       "1  2.8436724565756824   35.42679900744417  1.4081885856079404   \n",
       "2  1.1046500975076445  11.259071216035123  0.5905108382625797   \n",
       "3                   1                  19                   1   \n",
       "5                   2                  27                   1   \n",
       "6                   3                  33                   1   \n",
       "7                   4                  42                   2   \n",
       "4                   4                  75                   4   \n",
       "\n",
       "        num_dependents  \n",
       "0                  806  \n",
       "1    1.150124069478908  \n",
       "2  0.35741478173482033  \n",
       "3                    1  \n",
       "5                    1  \n",
       "6                    1  \n",
       "7                    1  \n",
       "4                    2  "
      ]
     },
     "execution_count": 22,
     "metadata": {},
     "output_type": "execute_result"
    }
   ],
   "source": [
    "df_desc = df_train[ints].describe().toPandas()\n",
    "df_quantiles = pd.DataFrame(df_train.approxQuantile(ints,[0.25,0.5,0.75],0), index = ints).transpose()\n",
    "df_quantiles['summary'] = ['25%','50%','75%']\n",
    "df_desc = df_desc.append(df_quantiles, sort = False).reset_index(drop=True)\n",
    "index = df_desc.index.tolist()\n",
    "index = index[:4] + index[-3:] + [index[4]]\n",
    "df_desc.reindex(index)"
   ]
  },
  {
   "cell_type": "markdown",
   "metadata": {},
   "source": [
    "1. From the numeric columns, only duration, credit amount and age can be treated as numbers and the rest as categoricals.\n",
    "2. There are no missing values."
   ]
  },
  {
   "cell_type": "markdown",
   "metadata": {},
   "source": [
    "statistics of the categorical columns:"
   ]
  },
  {
   "cell_type": "code",
   "execution_count": 23,
   "metadata": {
    "scrolled": false
   },
   "outputs": [
    {
     "data": {
      "text/html": [
       "<div>\n",
       "<style scoped>\n",
       "    .dataframe tbody tr th:only-of-type {\n",
       "        vertical-align: middle;\n",
       "    }\n",
       "\n",
       "    .dataframe tbody tr th {\n",
       "        vertical-align: top;\n",
       "    }\n",
       "\n",
       "    .dataframe thead th {\n",
       "        text-align: right;\n",
       "    }\n",
       "</style>\n",
       "<table border=\"1\" class=\"dataframe\">\n",
       "  <thead>\n",
       "    <tr style=\"text-align: right;\">\n",
       "      <th></th>\n",
       "      <th>checking_status</th>\n",
       "      <th>credit_history</th>\n",
       "      <th>purpose</th>\n",
       "      <th>savings_status</th>\n",
       "      <th>employment</th>\n",
       "      <th>personal_status</th>\n",
       "      <th>other_parties</th>\n",
       "      <th>property_magnitude</th>\n",
       "      <th>other_payment_plans</th>\n",
       "      <th>housing</th>\n",
       "      <th>job</th>\n",
       "      <th>own_telephone</th>\n",
       "      <th>foreign_worker</th>\n",
       "      <th>class</th>\n",
       "    </tr>\n",
       "  </thead>\n",
       "  <tbody>\n",
       "    <tr>\n",
       "      <th>count</th>\n",
       "      <td>806</td>\n",
       "      <td>806</td>\n",
       "      <td>806</td>\n",
       "      <td>806</td>\n",
       "      <td>806</td>\n",
       "      <td>806</td>\n",
       "      <td>806</td>\n",
       "      <td>806</td>\n",
       "      <td>806</td>\n",
       "      <td>806</td>\n",
       "      <td>806</td>\n",
       "      <td>806</td>\n",
       "      <td>806</td>\n",
       "      <td>806</td>\n",
       "    </tr>\n",
       "    <tr>\n",
       "      <th>countDistinct</th>\n",
       "      <td>4</td>\n",
       "      <td>5</td>\n",
       "      <td>10</td>\n",
       "      <td>5</td>\n",
       "      <td>5</td>\n",
       "      <td>4</td>\n",
       "      <td>3</td>\n",
       "      <td>4</td>\n",
       "      <td>3</td>\n",
       "      <td>3</td>\n",
       "      <td>4</td>\n",
       "      <td>2</td>\n",
       "      <td>2</td>\n",
       "      <td>2</td>\n",
       "    </tr>\n",
       "    <tr>\n",
       "      <th>top</th>\n",
       "      <td>'no checking'</td>\n",
       "      <td>'no credits/all paid'</td>\n",
       "      <td>retraining</td>\n",
       "      <td>'no known savings'</td>\n",
       "      <td>unemployed</td>\n",
       "      <td>'male single'</td>\n",
       "      <td>none</td>\n",
       "      <td>car</td>\n",
       "      <td>stores</td>\n",
       "      <td>rent</td>\n",
       "      <td>skilled</td>\n",
       "      <td>yes</td>\n",
       "      <td>yes</td>\n",
       "      <td>good</td>\n",
       "    </tr>\n",
       "    <tr>\n",
       "      <th>freq</th>\n",
       "      <td>310</td>\n",
       "      <td>430</td>\n",
       "      <td>227</td>\n",
       "      <td>475</td>\n",
       "      <td>272</td>\n",
       "      <td>435</td>\n",
       "      <td>730</td>\n",
       "      <td>277</td>\n",
       "      <td>667</td>\n",
       "      <td>576</td>\n",
       "      <td>511</td>\n",
       "      <td>484</td>\n",
       "      <td>774</td>\n",
       "      <td>569</td>\n",
       "    </tr>\n",
       "  </tbody>\n",
       "</table>\n",
       "</div>"
      ],
      "text/plain": [
       "              checking_status         credit_history     purpose  \\\n",
       "count                     806                    806         806   \n",
       "countDistinct               4                      5          10   \n",
       "top             'no checking'  'no credits/all paid'  retraining   \n",
       "freq                      310                    430         227   \n",
       "\n",
       "                   savings_status  employment personal_status other_parties  \\\n",
       "count                         806         806             806           806   \n",
       "countDistinct                   5           5               4             3   \n",
       "top            'no known savings'  unemployed   'male single'          none   \n",
       "freq                          475         272             435           730   \n",
       "\n",
       "              property_magnitude other_payment_plans housing      job  \\\n",
       "count                        806                 806     806      806   \n",
       "countDistinct                  4                   3       3        4   \n",
       "top                          car              stores    rent  skilled   \n",
       "freq                         277                 667     576      511   \n",
       "\n",
       "              own_telephone foreign_worker class  \n",
       "count                   806            806   806  \n",
       "countDistinct             2              2     2  \n",
       "top                     yes            yes  good  \n",
       "freq                    484            774   569  "
      ]
     },
     "execution_count": 23,
     "metadata": {},
     "output_type": "execute_result"
    }
   ],
   "source": [
    "# less efficient version: loop on cols for all the 4 statistics\n",
    "agg_funcs = ['count','countDistinct']\n",
    "desc_df = pd.DataFrame(columns= ['feature',*agg_funcs])\n",
    "top = []\n",
    "freq = []\n",
    "for col in strings:\n",
    "    desc_df = desc_df.append(df_train.select([eval('F.' + agg_func)(col).alias(agg_func) \n",
    "                     for agg_func in agg_funcs]).\n",
    "                       withColumn('feature',F.lit(col)).\n",
    "                       toPandas(), sort = False)\n",
    "    top_freq = df_train.groupby(col).agg(F.count(col).alias('count')).toPandas().max()\n",
    "    top.append(top_freq[col])\n",
    "    freq.append(top_freq['count'])\n",
    "desc_df['top'] = top\n",
    "desc_df['freq'] = freq\n",
    "desc_df = desc_df.set_index('feature').transpose()\n",
    "desc_df.columns.name = None\n",
    "desc_df"
   ]
  },
  {
   "cell_type": "code",
   "execution_count": 24,
   "metadata": {
    "scrolled": false
   },
   "outputs": [
    {
     "data": {
      "text/html": [
       "<div>\n",
       "<style scoped>\n",
       "    .dataframe tbody tr th:only-of-type {\n",
       "        vertical-align: middle;\n",
       "    }\n",
       "\n",
       "    .dataframe tbody tr th {\n",
       "        vertical-align: top;\n",
       "    }\n",
       "\n",
       "    .dataframe thead th {\n",
       "        text-align: right;\n",
       "    }\n",
       "</style>\n",
       "<table border=\"1\" class=\"dataframe\">\n",
       "  <thead>\n",
       "    <tr style=\"text-align: right;\">\n",
       "      <th></th>\n",
       "      <th>checking_status</th>\n",
       "      <th>credit_history</th>\n",
       "      <th>purpose</th>\n",
       "      <th>savings_status</th>\n",
       "      <th>employment</th>\n",
       "      <th>personal_status</th>\n",
       "      <th>other_parties</th>\n",
       "      <th>property_magnitude</th>\n",
       "      <th>other_payment_plans</th>\n",
       "      <th>housing</th>\n",
       "      <th>job</th>\n",
       "      <th>own_telephone</th>\n",
       "      <th>foreign_worker</th>\n",
       "      <th>class</th>\n",
       "    </tr>\n",
       "  </thead>\n",
       "  <tbody>\n",
       "    <tr>\n",
       "      <th>count</th>\n",
       "      <td>806</td>\n",
       "      <td>806</td>\n",
       "      <td>806</td>\n",
       "      <td>806</td>\n",
       "      <td>806</td>\n",
       "      <td>806</td>\n",
       "      <td>806</td>\n",
       "      <td>806</td>\n",
       "      <td>806</td>\n",
       "      <td>806</td>\n",
       "      <td>806</td>\n",
       "      <td>806</td>\n",
       "      <td>806</td>\n",
       "      <td>806</td>\n",
       "    </tr>\n",
       "    <tr>\n",
       "      <th>countDistinct</th>\n",
       "      <td>4</td>\n",
       "      <td>5</td>\n",
       "      <td>10</td>\n",
       "      <td>5</td>\n",
       "      <td>5</td>\n",
       "      <td>4</td>\n",
       "      <td>3</td>\n",
       "      <td>4</td>\n",
       "      <td>3</td>\n",
       "      <td>3</td>\n",
       "      <td>4</td>\n",
       "      <td>2</td>\n",
       "      <td>2</td>\n",
       "      <td>2</td>\n",
       "    </tr>\n",
       "    <tr>\n",
       "      <th>top</th>\n",
       "      <td>'no checking'</td>\n",
       "      <td>'no credits/all paid'</td>\n",
       "      <td>retraining</td>\n",
       "      <td>'no known savings'</td>\n",
       "      <td>unemployed</td>\n",
       "      <td>'male single'</td>\n",
       "      <td>none</td>\n",
       "      <td>car</td>\n",
       "      <td>stores</td>\n",
       "      <td>rent</td>\n",
       "      <td>skilled</td>\n",
       "      <td>yes</td>\n",
       "      <td>yes</td>\n",
       "      <td>good</td>\n",
       "    </tr>\n",
       "    <tr>\n",
       "      <th>freq</th>\n",
       "      <td>310</td>\n",
       "      <td>430</td>\n",
       "      <td>227</td>\n",
       "      <td>475</td>\n",
       "      <td>272</td>\n",
       "      <td>435</td>\n",
       "      <td>730</td>\n",
       "      <td>277</td>\n",
       "      <td>667</td>\n",
       "      <td>576</td>\n",
       "      <td>511</td>\n",
       "      <td>484</td>\n",
       "      <td>774</td>\n",
       "      <td>569</td>\n",
       "    </tr>\n",
       "  </tbody>\n",
       "</table>\n",
       "</div>"
      ],
      "text/plain": [
       "              checking_status         credit_history     purpose  \\\n",
       "count                     806                    806         806   \n",
       "countDistinct               4                      5          10   \n",
       "top             'no checking'  'no credits/all paid'  retraining   \n",
       "freq                      310                    430         227   \n",
       "\n",
       "                   savings_status  employment personal_status other_parties  \\\n",
       "count                         806         806             806           806   \n",
       "countDistinct                   5           5               4             3   \n",
       "top            'no known savings'  unemployed   'male single'          none   \n",
       "freq                          475         272             435           730   \n",
       "\n",
       "              property_magnitude other_payment_plans housing      job  \\\n",
       "count                        806                 806     806      806   \n",
       "countDistinct                  4                   3       3        4   \n",
       "top                          car              stores    rent  skilled   \n",
       "freq                         277                 667     576      511   \n",
       "\n",
       "              own_telephone foreign_worker class  \n",
       "count                   806            806   806  \n",
       "countDistinct             2              2     2  \n",
       "top                     yes            yes  good  \n",
       "freq                    484            774   569  "
      ]
     },
     "execution_count": 24,
     "metadata": {},
     "output_type": "execute_result"
    }
   ],
   "source": [
    "# more efficien version: loop on the statistic functions for the built-in ones (count and countDistinct)\n",
    "# and on the columns for the ones that need seperate groupby on each feature (top and freq)\n",
    "agg_funcs = ['count','countDistinct']\n",
    "desc_df = pd.DataFrame(columns= ['agg_func',*strings])\n",
    "for agg_func in agg_funcs:\n",
    "    desc_df = desc_df.append(df_train.select([eval('F.' + agg_func)(col).alias(col) \n",
    "                     for col in strings]).\n",
    "                       withColumn('agg_func',F.lit(agg_func)).\n",
    "                       toPandas(), sort = False)\n",
    "top = []\n",
    "freq = []\n",
    "for col in strings:\n",
    "    top_freq = df_train.groupby(col).agg(F.count(col).alias('count')).toPandas().max()\n",
    "    top.append(top_freq[col])\n",
    "    freq.append(top_freq['count'])\n",
    "top_freq_df = pd.DataFrame([top,freq], columns=strings, index = ['top','freq'])\n",
    "desc_df = desc_df.set_index('agg_func')\n",
    "desc_df.columns.name = None\n",
    "desc_df = desc_df.append(top_freq_df)\n",
    "desc_df"
   ]
  },
  {
   "cell_type": "markdown",
   "metadata": {},
   "source": [
    "1. It seems that all the categoricals features have small amount of unique values - no need in aggregation\n",
    "2. No missing values"
   ]
  },
  {
   "cell_type": "code",
   "execution_count": 25,
   "metadata": {},
   "outputs": [
    {
     "name": "stdout",
     "output_type": "stream",
     "text": [
      "Wall time: 61.8 ms\n",
      "Wall time: 57.8 ms\n"
     ]
    },
    {
     "data": {
      "text/html": [
       "<div>\n",
       "<style scoped>\n",
       "    .dataframe tbody tr th:only-of-type {\n",
       "        vertical-align: middle;\n",
       "    }\n",
       "\n",
       "    .dataframe tbody tr th {\n",
       "        vertical-align: top;\n",
       "    }\n",
       "\n",
       "    .dataframe thead th {\n",
       "        text-align: right;\n",
       "    }\n",
       "</style>\n",
       "<table border=\"1\" class=\"dataframe\">\n",
       "  <thead>\n",
       "    <tr style=\"text-align: right;\">\n",
       "      <th></th>\n",
       "      <th>age</th>\n",
       "    </tr>\n",
       "  </thead>\n",
       "  <tbody>\n",
       "    <tr>\n",
       "      <th>0</th>\n",
       "      <td>32</td>\n",
       "    </tr>\n",
       "    <tr>\n",
       "      <th>1</th>\n",
       "      <td>31</td>\n",
       "    </tr>\n",
       "    <tr>\n",
       "      <th>2</th>\n",
       "      <td>35</td>\n",
       "    </tr>\n",
       "    <tr>\n",
       "      <th>3</th>\n",
       "      <td>23</td>\n",
       "    </tr>\n",
       "    <tr>\n",
       "      <th>4</th>\n",
       "      <td>38</td>\n",
       "    </tr>\n",
       "  </tbody>\n",
       "</table>\n",
       "</div>"
      ],
      "text/plain": [
       "   age\n",
       "0   32\n",
       "1   31\n",
       "2   35\n",
       "3   23\n",
       "4   38"
      ]
     },
     "execution_count": 25,
     "metadata": {},
     "output_type": "execute_result"
    }
   ],
   "source": [
    "# efficency check: to list or toPandas?\n",
    "# answer: same time\n",
    "%time [row.age for row in df_train.select('age').collect()]\n",
    "%time df_train.select('age').toPandas().head()"
   ]
  },
  {
   "cell_type": "markdown",
   "metadata": {},
   "source": [
    "Distribution of the numericals and their log:"
   ]
  },
  {
   "cell_type": "code",
   "execution_count": 26,
   "metadata": {},
   "outputs": [
    {
     "data": {
      "image/png": "[encoded data removed]",
      "text/plain": [
       "<matplotlib.figure.Figure at 0x1d39324def0>"
      ]
     },
     "metadata": {},
     "output_type": "display_data"
    }
   ],
   "source": [
    "plt.figure(figsize=(18,20))\n",
    "numericals = ['age','duration', 'credit_amount']\n",
    "\n",
    "for i, feature in enumerate(numericals):\n",
    "    ax1 = plt.subplot(3,2,2*i+1)\n",
    "    sns.distplot(samp_df_train.select(feature).toPandas(), ax = ax1)\n",
    "    plt.xlabel(feature)\n",
    "    ax2 = plt.subplot(3,2,2*i+2)\n",
    "    sns.distplot(samp_df_train.select(F.log(feature)).toPandas(), ax = ax2)\n",
    "    plt.xlabel('log ' + feature)"
   ]
  },
  {
   "cell_type": "markdown",
   "metadata": {},
   "source": [
    "Since the distributions of the log of the numerics are more close to a normal dist. it make sense to add them as features.\n",
    "Also, first the numeric features will be used as is. After, based on the first results, maybe some of them will be categorized in order to improve performance."
   ]
  },
  {
   "cell_type": "markdown",
   "metadata": {},
   "source": [
    "Define categoricals and numericals column names lists:"
   ]
  },
  {
   "cell_type": "code",
   "execution_count": 27,
   "metadata": {},
   "outputs": [
    {
     "data": {
      "text/plain": [
       "['checking_status',\n",
       " 'duration',\n",
       " 'credit_history',\n",
       " 'purpose',\n",
       " 'credit_amount',\n",
       " 'savings_status',\n",
       " 'employment',\n",
       " 'installment_commitment',\n",
       " 'personal_status',\n",
       " 'other_parties',\n",
       " 'residence_since',\n",
       " 'property_magnitude',\n",
       " 'age',\n",
       " 'other_payment_plans',\n",
       " 'housing',\n",
       " 'existing_credits',\n",
       " 'job',\n",
       " 'num_dependents',\n",
       " 'own_telephone',\n",
       " 'foreign_worker',\n",
       " 'class']"
      ]
     },
     "execution_count": 27,
     "metadata": {},
     "output_type": "execute_result"
    }
   ],
   "source": [
    "df_train.columns"
   ]
  },
  {
   "cell_type": "code",
   "execution_count": 28,
   "metadata": {},
   "outputs": [],
   "source": [
    "categorical_features = ['checking_status', 'credit_history', 'purpose', 'savings_status', 'employment',\n",
    "       'installment_commitment', 'personal_status', 'other_parties', 'residence_since', 'property_magnitude',\n",
    "        'other_payment_plans', 'housing', 'existing_credits', 'job', 'num_dependents', 'own_telephone', 'foreign_worker']\n",
    "numerical_features = ['duration', 'credit_amount', 'age']"
   ]
  },
  {
   "cell_type": "code",
   "execution_count": 29,
   "metadata": {},
   "outputs": [
    {
     "data": {
      "text/plain": [
       "['duration', 'credit_amount', 'age']"
      ]
     },
     "execution_count": 29,
     "metadata": {},
     "output_type": "execute_result"
    }
   ],
   "source": [
    "numerical_features"
   ]
  },
  {
   "cell_type": "markdown",
   "metadata": {},
   "source": [
    "add the log of the numericals:"
   ]
  },
  {
   "cell_type": "code",
   "execution_count": 30,
   "metadata": {},
   "outputs": [
    {
     "data": {
      "text/plain": [
       "['duration',\n",
       " 'credit_amount',\n",
       " 'age',\n",
       " 'log_duration',\n",
       " 'log_credit_amount',\n",
       " 'log_age']"
      ]
     },
     "execution_count": 30,
     "metadata": {},
     "output_type": "execute_result"
    }
   ],
   "source": [
    "log_numericals = []\n",
    "for numerical in numerical_features:\n",
    "    df_train = df_train.withColumn('log_' + numerical, F.log(numerical))\n",
    "    df_test = df_test.withColumn('log_' + numerical, F.log(numerical))\n",
    "    log_numericals += ['log_' + numerical]\n",
    "numerical_features += log_numericals\n",
    "numerical_features"
   ]
  },
  {
   "cell_type": "code",
   "execution_count": 31,
   "metadata": {
    "scrolled": true
   },
   "outputs": [
    {
     "data": {
      "text/html": [
       "<div>\n",
       "<style scoped>\n",
       "    .dataframe tbody tr th:only-of-type {\n",
       "        vertical-align: middle;\n",
       "    }\n",
       "\n",
       "    .dataframe tbody tr th {\n",
       "        vertical-align: top;\n",
       "    }\n",
       "\n",
       "    .dataframe thead th {\n",
       "        text-align: right;\n",
       "    }\n",
       "</style>\n",
       "<table border=\"1\" class=\"dataframe\">\n",
       "  <thead>\n",
       "    <tr style=\"text-align: right;\">\n",
       "      <th></th>\n",
       "      <th>duration</th>\n",
       "      <th>credit_amount</th>\n",
       "      <th>age</th>\n",
       "      <th>log_duration</th>\n",
       "      <th>log_credit_amount</th>\n",
       "      <th>log_age</th>\n",
       "    </tr>\n",
       "  </thead>\n",
       "  <tbody>\n",
       "    <tr>\n",
       "      <th>0</th>\n",
       "      <td>6</td>\n",
       "      <td>931</td>\n",
       "      <td>32</td>\n",
       "      <td>1.791759</td>\n",
       "      <td>6.836259</td>\n",
       "      <td>3.465736</td>\n",
       "    </tr>\n",
       "    <tr>\n",
       "      <th>1</th>\n",
       "      <td>6</td>\n",
       "      <td>1449</td>\n",
       "      <td>31</td>\n",
       "      <td>1.791759</td>\n",
       "      <td>7.278629</td>\n",
       "      <td>3.433987</td>\n",
       "    </tr>\n",
       "    <tr>\n",
       "      <th>2</th>\n",
       "      <td>6</td>\n",
       "      <td>1050</td>\n",
       "      <td>35</td>\n",
       "      <td>1.791759</td>\n",
       "      <td>6.956545</td>\n",
       "      <td>3.555348</td>\n",
       "    </tr>\n",
       "    <tr>\n",
       "      <th>3</th>\n",
       "      <td>6</td>\n",
       "      <td>14555</td>\n",
       "      <td>23</td>\n",
       "      <td>1.791759</td>\n",
       "      <td>9.585690</td>\n",
       "      <td>3.135494</td>\n",
       "    </tr>\n",
       "    <tr>\n",
       "      <th>4</th>\n",
       "      <td>6</td>\n",
       "      <td>368</td>\n",
       "      <td>38</td>\n",
       "      <td>1.791759</td>\n",
       "      <td>5.908083</td>\n",
       "      <td>3.637586</td>\n",
       "    </tr>\n",
       "  </tbody>\n",
       "</table>\n",
       "</div>"
      ],
      "text/plain": [
       "   duration  credit_amount  age  log_duration  log_credit_amount   log_age\n",
       "0         6            931   32      1.791759           6.836259  3.465736\n",
       "1         6           1449   31      1.791759           7.278629  3.433987\n",
       "2         6           1050   35      1.791759           6.956545  3.555348\n",
       "3         6          14555   23      1.791759           9.585690  3.135494\n",
       "4         6            368   38      1.791759           5.908083  3.637586"
      ]
     },
     "execution_count": 31,
     "metadata": {},
     "output_type": "execute_result"
    }
   ],
   "source": [
    "# check that the log of the numericals added correctly:\n",
    "df_train[numerical_features].limit(5).toPandas()"
   ]
  },
  {
   "cell_type": "markdown",
   "metadata": {},
   "source": [
    "vectorize categoricals and scale numericals of the train data:"
   ]
  },
  {
   "cell_type": "code",
   "execution_count": 32,
   "metadata": {},
   "outputs": [],
   "source": [
    "from pyspark.ml import Pipeline\n",
    "from pyspark.ml.feature import StringIndexer, OneHotEncoderEstimator, VectorAssembler, StandardScaler\n",
    "\n",
    "# goal: get numeric dataframe in a pyspark.ml format (2 columns: label and features)\n",
    "# while holding ordered names of all the features for later use (evaluating the model)\n",
    "\n",
    "# initiate new columns names\n",
    "strInd_outputs = [feature + '_ind' for feature in categorical_features]\n",
    "oh_outputs = [feature + '_oh' for feature in categorical_features]\n",
    "scaled_num_outputs = [feature + '_scaled' for feature in numerical_features]\n",
    "\n",
    "# convert all the categroical features to indices\n",
    "features_strIndList = []\n",
    "for i,feature in enumerate(categorical_features):\n",
    "    features_strIndList.append(StringIndexer(inputCol=feature, outputCol=strInd_outputs[i]))\n",
    "\n",
    "# convert all the categorical indices columns to one hot encoding vectors\n",
    "oh_encoder = OneHotEncoderEstimator(inputCols=strInd_outputs, outputCols=oh_outputs, dropLast=False)\n",
    "\n",
    "# standard scaling of the numericals features\n",
    "stdScalerList = []\n",
    "for i,feature in enumerate(numerical_features):\n",
    "    stdScalerList.append(VectorAssembler(inputCols=[feature], outputCol = feature + '_vec'))\n",
    "    stdScalerList.append(StandardScaler(withMean=True, inputCol=feature + '_vec', outputCol=scaled_num_outputs[i]))\n",
    "\n",
    "# assemble all the output vectors: one hot encoded categoricals and scaled numericals\n",
    "vecAssembler = VectorAssembler(inputCols = oh_outputs + scaled_num_outputs, outputCol=\"features\")\n",
    "\n",
    "# label the class column\n",
    "label_strInd = StringIndexer(inputCol='class', outputCol = 'label')\n",
    "\n",
    "# fit all the above in a pipeline\n",
    "pipe = Pipeline(stages = features_strIndList + stdScalerList + [oh_encoder,vecAssembler, label_strInd])\n",
    "pipeModel = pipe.fit(df_train)"
   ]
  },
  {
   "cell_type": "code",
   "execution_count": 33,
   "metadata": {},
   "outputs": [
    {
     "data": {
      "text/html": [
       "<div>\n",
       "<style scoped>\n",
       "    .dataframe tbody tr th:only-of-type {\n",
       "        vertical-align: middle;\n",
       "    }\n",
       "\n",
       "    .dataframe tbody tr th {\n",
       "        vertical-align: top;\n",
       "    }\n",
       "\n",
       "    .dataframe thead th {\n",
       "        text-align: right;\n",
       "    }\n",
       "</style>\n",
       "<table border=\"1\" class=\"dataframe\">\n",
       "  <thead>\n",
       "    <tr style=\"text-align: right;\">\n",
       "      <th></th>\n",
       "      <th>features</th>\n",
       "      <th>class</th>\n",
       "      <th>label</th>\n",
       "    </tr>\n",
       "  </thead>\n",
       "  <tbody>\n",
       "    <tr>\n",
       "      <th>0</th>\n",
       "      <td>(0.0, 1.0, 0.0, 0.0, 0.0, 0.0, 0.0, 1.0, 0.0, ...</td>\n",
       "      <td>bad</td>\n",
       "      <td>1.0</td>\n",
       "    </tr>\n",
       "    <tr>\n",
       "      <th>1</th>\n",
       "      <td>(0.0, 1.0, 0.0, 0.0, 0.0, 0.0, 1.0, 0.0, 0.0, ...</td>\n",
       "      <td>good</td>\n",
       "      <td>0.0</td>\n",
       "    </tr>\n",
       "    <tr>\n",
       "      <th>2</th>\n",
       "      <td>(0.0, 1.0, 0.0, 0.0, 0.0, 0.0, 1.0, 0.0, 0.0, ...</td>\n",
       "      <td>good</td>\n",
       "      <td>0.0</td>\n",
       "    </tr>\n",
       "    <tr>\n",
       "      <th>3</th>\n",
       "      <td>(0.0, 1.0, 0.0, 0.0, 1.0, 0.0, 0.0, 0.0, 0.0, ...</td>\n",
       "      <td>bad</td>\n",
       "      <td>1.0</td>\n",
       "    </tr>\n",
       "    <tr>\n",
       "      <th>4</th>\n",
       "      <td>(0.0, 1.0, 0.0, 0.0, 1.0, 0.0, 0.0, 0.0, 0.0, ...</td>\n",
       "      <td>good</td>\n",
       "      <td>0.0</td>\n",
       "    </tr>\n",
       "  </tbody>\n",
       "</table>\n",
       "</div>"
      ],
      "text/plain": [
       "                                            features class  label\n",
       "0  (0.0, 1.0, 0.0, 0.0, 0.0, 0.0, 0.0, 1.0, 0.0, ...   bad    1.0\n",
       "1  (0.0, 1.0, 0.0, 0.0, 0.0, 0.0, 1.0, 0.0, 0.0, ...  good    0.0\n",
       "2  (0.0, 1.0, 0.0, 0.0, 0.0, 0.0, 1.0, 0.0, 0.0, ...  good    0.0\n",
       "3  (0.0, 1.0, 0.0, 0.0, 1.0, 0.0, 0.0, 0.0, 0.0, ...   bad    1.0\n",
       "4  (0.0, 1.0, 0.0, 0.0, 1.0, 0.0, 0.0, 0.0, 0.0, ...  good    0.0"
      ]
     },
     "execution_count": 33,
     "metadata": {},
     "output_type": "execute_result"
    }
   ],
   "source": [
    "df_train = pipeModel.transform(df_train)\n",
    "df_test = pipeModel.transform(df_test)\n",
    "df_train.select(['features','class','label']).limit(5).toPandas()"
   ]
  },
  {
   "cell_type": "code",
   "execution_count": 34,
   "metadata": {},
   "outputs": [
    {
     "name": "stdout",
     "output_type": "stream",
     "text": [
      "[\"checking_status='no checking'\", \"checking_status='0<=X<200'\", \"checking_status='<0'\", \"checking_status='>=200'\", \"credit_history='existing paid'\", \"credit_history='critical/other existing credit'\", \"credit_history='delayed previously'\", \"credit_history='all paid'\", \"credit_history='no credits/all paid'\", 'purpose=radio/tv', \"purpose='new car'\", 'purpose=furniture/equipment', \"purpose='used car'\", 'purpose=business', 'purpose=education', 'purpose=repairs', \"purpose='domestic appliance'\", 'purpose=other', 'purpose=retraining', \"savings_status='<100'\", \"savings_status='no known savings'\", \"savings_status='100<=X<500'\", \"savings_status='500<=X<1000'\", \"savings_status='>=1000'\", \"employment='1<=X<4'\", \"employment='>=7'\", \"employment='4<=X<7'\", \"employment='<1'\", 'employment=unemployed', 'installment_commitment=4', 'installment_commitment=2', 'installment_commitment=3', 'installment_commitment=1', \"personal_status='male single'\", \"personal_status='female div/dep/mar'\", \"personal_status='male mar/wid'\", \"personal_status='male div/sep'\", 'other_parties=none', 'other_parties=guarantor', \"other_parties='co applicant'\", 'residence_since=4', 'residence_since=2', 'residence_since=3', 'residence_since=1', 'property_magnitude=car', \"property_magnitude='real estate'\", \"property_magnitude='life insurance'\", \"property_magnitude='no known property'\", 'other_payment_plans=none', 'other_payment_plans=bank', 'other_payment_plans=stores', 'housing=own', 'housing=rent', \"housing='for free'\", 'existing_credits=1', 'existing_credits=2', 'existing_credits=3', 'existing_credits=4', 'job=skilled', \"job='unskilled resident'\", \"job='high qualif/self emp/mgmt'\", \"job='unemp/unskilled non res'\", 'num_dependents=1', 'num_dependents=2', 'own_telephone=none', 'own_telephone=yes', 'foreign_worker=yes', 'foreign_worker=no', 'duration', 'credit_amount', 'age', 'log_duration', 'log_credit_amount', 'log_age']\n",
      "74\n"
     ]
    }
   ],
   "source": [
    "oh_features = []\n",
    "for i,feature in enumerate(categorical_features):\n",
    "    oh_features += [feature + '=' + label for label in pipeModel.stages[i].labels]\n",
    "features = oh_features + numerical_features\n",
    "print(features)\n",
    "print(len(features))"
   ]
  },
  {
   "cell_type": "code",
   "execution_count": 35,
   "metadata": {},
   "outputs": [
    {
     "data": {
      "text/plain": [
       "[Row((sum(label) / 806)=0.29404466501240695)]"
      ]
     },
     "execution_count": 35,
     "metadata": {},
     "output_type": "execute_result"
    }
   ],
   "source": [
    "df_train.agg(F.sum('label') / df_train.count()).collect()"
   ]
  },
  {
   "cell_type": "markdown",
   "metadata": {},
   "source": [
    "29.4% of the loans are bad - the data is naturally imbalanced (most of the pepole return the loan...) hence we can't use accuracy as performance measure (just predict all as good loans and we get accuracy of 70%...).\n",
    "\n",
    "Under the general purpose of 80% \"success\" we need to refine the goal. In our case of loans, we want to detect as much as bad loans but we also want to ensure not to reject too much potenially good loans. Now if we define bad loans as the positive class (1), as we did, and good loans as negative (0) that's mean we want to maximaize recall and minimize false positive rate (FPR). Thats exactly what The ROC curve gives along with the AUC-score which give us a single number of the goodness of the ROC.\n",
    "\n",
    "Nonetheless due to the imbalance of the data it should be noted that it is quite \"easy\" to get good/low FPR and even if the recall is not so high, still get good auc score. To take care of it we will also look at the f1-score which concentrates on the performance of detecting the positive class (harmonic mean of the precision and recall)."
   ]
  },
  {
   "cell_type": "markdown",
   "metadata": {},
   "source": [
    "start with logistic regression with default parameters:"
   ]
  },
  {
   "cell_type": "code",
   "execution_count": 36,
   "metadata": {},
   "outputs": [
    {
     "name": "stdout",
     "output_type": "stream",
     "text": [
      "+-----+------------------------------+-----+----------+------------------------------+\n",
      "|class|                   probability|label|prediction|                 rawPrediction|\n",
      "+-----+------------------------------+-----+----------+------------------------------+\n",
      "|  bad|[0.03381508490337079,0.9661...|  1.0|       1.0|[-3.3524482375453246,3.3524...|\n",
      "|  bad|[0.09115583044992029,0.9088...|  1.0|       1.0|[-2.2996031843239155,2.2996...|\n",
      "|  bad|[0.0968229491075955,0.90317...|  1.0|       1.0|[-2.23303456010424,2.233034...|\n",
      "|  bad|[0.11259762834837729,0.8874...|  1.0|       1.0|[-2.0644778586675465,2.0644...|\n",
      "|  bad|[0.12468108666848823,0.8753...|  1.0|       1.0|[-1.948829121811411,1.94882...|\n",
      "|  bad|[0.1269993882948743,0.87300...|  1.0|       1.0|[-1.9277539866613145,1.9277...|\n",
      "| good|[0.14201197122650844,0.8579...|  0.0|       1.0|[-1.7986787884523028,1.7986...|\n",
      "| good|[0.1820936095327871,0.81790...|  0.0|       1.0|[-1.5022270000301448,1.5022...|\n",
      "|  bad|[0.18739702726953467,0.8126...|  1.0|       1.0|[-1.467013135186129,1.46701...|\n",
      "|  bad|[0.20750121970681457,0.7924...|  1.0|       1.0|[-1.3400537489294173,1.3400...|\n",
      "+-----+------------------------------+-----+----------+------------------------------+\n",
      "only showing top 10 rows\n",
      "\n"
     ]
    }
   ],
   "source": [
    "from pyspark.ml.classification import LogisticRegression\n",
    "\n",
    "lr = LogisticRegression()\n",
    "lrModel = lr.fit(df_train)\n",
    "predictions = lrModel.transform(df_test)\n",
    "predictions.filter(predictions['prediction'] == 1) \\\n",
    "    .select(\"class\",\"probability\",\"label\",\"prediction\",\"rawPrediction\") \\\n",
    "    .orderBy(\"probability\", ascending=True) \\\n",
    "    .show(n = 10, truncate = 30)"
   ]
  },
  {
   "cell_type": "markdown",
   "metadata": {},
   "source": [
    "auc of test data:"
   ]
  },
  {
   "cell_type": "code",
   "execution_count": 37,
   "metadata": {},
   "outputs": [
    {
     "data": {
      "text/plain": [
       "0.8137646916272873"
      ]
     },
     "execution_count": 37,
     "metadata": {},
     "output_type": "execute_result"
    }
   ],
   "source": [
    "lrModel.evaluate(df_test).areaUnderROC"
   ]
  },
  {
   "cell_type": "code",
   "execution_count": 38,
   "metadata": {},
   "outputs": [
    {
     "data": {
      "text/plain": [
       "<pyspark.ml.classification.BinaryLogisticRegressionSummary at 0x1d394881358>"
      ]
     },
     "execution_count": 38,
     "metadata": {},
     "output_type": "execute_result"
    }
   ],
   "source": [
    "# just check the type returned by evaluate():\n",
    "lrModel.evaluate(df_test)"
   ]
  },
  {
   "cell_type": "code",
   "execution_count": 39,
   "metadata": {},
   "outputs": [
    {
     "data": {
      "text/plain": [
       "[0.8458781362007167, 0.6055045871559633]"
      ]
     },
     "execution_count": 39,
     "metadata": {},
     "output_type": "execute_result"
    }
   ],
   "source": [
    "lrModel.evaluate(df_test).fMeasureByLabel()"
   ]
  },
  {
   "cell_type": "markdown",
   "metadata": {},
   "source": [
    "note that summary of the model is the *training* summary (in contrary to evaluate(df_test) that gives summary of the test data):"
   ]
  },
  {
   "cell_type": "code",
   "execution_count": 40,
   "metadata": {},
   "outputs": [
    {
     "name": "stdout",
     "output_type": "stream",
     "text": [
      "[0.8597816960537363, 0.6033254156769596]\n",
      "0.8426175168516826\n"
     ]
    }
   ],
   "source": [
    "print(lrModel.summary.fMeasureByLabel())\n",
    "print(lrModel.summary.areaUnderROC)"
   ]
  },
  {
   "cell_type": "markdown",
   "metadata": {},
   "source": [
    "Now lets do some cross-validation with the LR parameters:"
   ]
  },
  {
   "cell_type": "code",
   "execution_count": 41,
   "metadata": {},
   "outputs": [
    {
     "data": {
      "text/plain": [
       "0.8143705319277837"
      ]
     },
     "execution_count": 41,
     "metadata": {},
     "output_type": "execute_result"
    }
   ],
   "source": [
    "lr = LogisticRegression()\n",
    "from pyspark.ml.tuning import ParamGridBuilder, CrossValidator\n",
    "from pyspark.ml.evaluation import BinaryClassificationEvaluator\n",
    "# Create ParamGrid for Cross Validation\n",
    "paramGrid = (ParamGridBuilder()\n",
    "             .addGrid(lr.regParam, [0.0, 0.01, 0.03, 0.1, 0.3, 1.0, 3.0, 10.0]) # regularization parameter\n",
    "             .addGrid(lr.elasticNetParam, [0.0, 0.1, 0.3, 1.0]) # Elastic Net Parameter (Ridge = 0)\n",
    "#            .addGrid(model.maxIter, [10, 20, 50]) #Number of iterations\n",
    "#            .addGrid(idf.numFeatures, [10, 100, 1000]) # Number of features\n",
    "             .build())\n",
    "evaluator = BinaryClassificationEvaluator() # the default metric is roc-auc\n",
    "# Create 5-fold CrossValidator\n",
    "cv = CrossValidator(estimator=lr, \\\n",
    "                    estimatorParamMaps=paramGrid, \\\n",
    "                    evaluator=evaluator, \\\n",
    "                    numFolds=5)\n",
    "cvModel = cv.fit(df_train)\n",
    "\n",
    "predictions = cvModel.transform(df_test)\n",
    "# Evaluate best model\n",
    "evaluator.evaluate(predictions)"
   ]
  },
  {
   "cell_type": "markdown",
   "metadata": {},
   "source": [
    "We get slightly worse performnce than with LR with deafult parameters. lets investigate the cv reulsts in detail:"
   ]
  },
  {
   "cell_type": "code",
   "execution_count": 42,
   "metadata": {},
   "outputs": [
    {
     "data": {
      "text/html": [
       "<div>\n",
       "<style scoped>\n",
       "    .dataframe tbody tr th:only-of-type {\n",
       "        vertical-align: middle;\n",
       "    }\n",
       "\n",
       "    .dataframe tbody tr th {\n",
       "        vertical-align: top;\n",
       "    }\n",
       "\n",
       "    .dataframe thead th {\n",
       "        text-align: right;\n",
       "    }\n",
       "</style>\n",
       "<table border=\"1\" class=\"dataframe\">\n",
       "  <thead>\n",
       "    <tr style=\"text-align: right;\">\n",
       "      <th></th>\n",
       "      <th>regParam</th>\n",
       "      <th>elasticNetParam</th>\n",
       "      <th>score</th>\n",
       "    </tr>\n",
       "  </thead>\n",
       "  <tbody>\n",
       "    <tr>\n",
       "      <th>16</th>\n",
       "      <td>0.30</td>\n",
       "      <td>0.0</td>\n",
       "      <td>0.782248</td>\n",
       "    </tr>\n",
       "    <tr>\n",
       "      <th>20</th>\n",
       "      <td>1.00</td>\n",
       "      <td>0.0</td>\n",
       "      <td>0.781331</td>\n",
       "    </tr>\n",
       "    <tr>\n",
       "      <th>13</th>\n",
       "      <td>0.10</td>\n",
       "      <td>0.1</td>\n",
       "      <td>0.779923</td>\n",
       "    </tr>\n",
       "    <tr>\n",
       "      <th>12</th>\n",
       "      <td>0.10</td>\n",
       "      <td>0.0</td>\n",
       "      <td>0.779130</td>\n",
       "    </tr>\n",
       "    <tr>\n",
       "      <th>9</th>\n",
       "      <td>0.03</td>\n",
       "      <td>0.1</td>\n",
       "      <td>0.778104</td>\n",
       "    </tr>\n",
       "    <tr>\n",
       "      <th>24</th>\n",
       "      <td>3.00</td>\n",
       "      <td>0.0</td>\n",
       "      <td>0.777785</td>\n",
       "    </tr>\n",
       "    <tr>\n",
       "      <th>10</th>\n",
       "      <td>0.03</td>\n",
       "      <td>0.3</td>\n",
       "      <td>0.776730</td>\n",
       "    </tr>\n",
       "    <tr>\n",
       "      <th>6</th>\n",
       "      <td>0.01</td>\n",
       "      <td>0.3</td>\n",
       "      <td>0.776475</td>\n",
       "    </tr>\n",
       "    <tr>\n",
       "      <th>28</th>\n",
       "      <td>10.00</td>\n",
       "      <td>0.0</td>\n",
       "      <td>0.776447</td>\n",
       "    </tr>\n",
       "    <tr>\n",
       "      <th>8</th>\n",
       "      <td>0.03</td>\n",
       "      <td>0.0</td>\n",
       "      <td>0.775472</td>\n",
       "    </tr>\n",
       "    <tr>\n",
       "      <th>5</th>\n",
       "      <td>0.01</td>\n",
       "      <td>0.1</td>\n",
       "      <td>0.775454</td>\n",
       "    </tr>\n",
       "    <tr>\n",
       "      <th>7</th>\n",
       "      <td>0.01</td>\n",
       "      <td>1.0</td>\n",
       "      <td>0.774720</td>\n",
       "    </tr>\n",
       "    <tr>\n",
       "      <th>4</th>\n",
       "      <td>0.01</td>\n",
       "      <td>0.0</td>\n",
       "      <td>0.774103</td>\n",
       "    </tr>\n",
       "    <tr>\n",
       "      <th>1</th>\n",
       "      <td>0.00</td>\n",
       "      <td>0.1</td>\n",
       "      <td>0.772687</td>\n",
       "    </tr>\n",
       "    <tr>\n",
       "      <th>0</th>\n",
       "      <td>0.00</td>\n",
       "      <td>0.0</td>\n",
       "      <td>0.772687</td>\n",
       "    </tr>\n",
       "    <tr>\n",
       "      <th>3</th>\n",
       "      <td>0.00</td>\n",
       "      <td>1.0</td>\n",
       "      <td>0.772687</td>\n",
       "    </tr>\n",
       "    <tr>\n",
       "      <th>2</th>\n",
       "      <td>0.00</td>\n",
       "      <td>0.3</td>\n",
       "      <td>0.772687</td>\n",
       "    </tr>\n",
       "    <tr>\n",
       "      <th>17</th>\n",
       "      <td>0.30</td>\n",
       "      <td>0.1</td>\n",
       "      <td>0.758034</td>\n",
       "    </tr>\n",
       "    <tr>\n",
       "      <th>14</th>\n",
       "      <td>0.10</td>\n",
       "      <td>0.3</td>\n",
       "      <td>0.749772</td>\n",
       "    </tr>\n",
       "    <tr>\n",
       "      <th>11</th>\n",
       "      <td>0.03</td>\n",
       "      <td>1.0</td>\n",
       "      <td>0.744741</td>\n",
       "    </tr>\n",
       "    <tr>\n",
       "      <th>18</th>\n",
       "      <td>0.30</td>\n",
       "      <td>0.3</td>\n",
       "      <td>0.717812</td>\n",
       "    </tr>\n",
       "    <tr>\n",
       "      <th>21</th>\n",
       "      <td>1.00</td>\n",
       "      <td>0.1</td>\n",
       "      <td>0.694812</td>\n",
       "    </tr>\n",
       "    <tr>\n",
       "      <th>15</th>\n",
       "      <td>0.10</td>\n",
       "      <td>1.0</td>\n",
       "      <td>0.672222</td>\n",
       "    </tr>\n",
       "    <tr>\n",
       "      <th>27</th>\n",
       "      <td>3.00</td>\n",
       "      <td>1.0</td>\n",
       "      <td>0.500000</td>\n",
       "    </tr>\n",
       "    <tr>\n",
       "      <th>30</th>\n",
       "      <td>10.00</td>\n",
       "      <td>0.3</td>\n",
       "      <td>0.500000</td>\n",
       "    </tr>\n",
       "    <tr>\n",
       "      <th>29</th>\n",
       "      <td>10.00</td>\n",
       "      <td>0.1</td>\n",
       "      <td>0.500000</td>\n",
       "    </tr>\n",
       "    <tr>\n",
       "      <th>23</th>\n",
       "      <td>1.00</td>\n",
       "      <td>1.0</td>\n",
       "      <td>0.500000</td>\n",
       "    </tr>\n",
       "    <tr>\n",
       "      <th>26</th>\n",
       "      <td>3.00</td>\n",
       "      <td>0.3</td>\n",
       "      <td>0.500000</td>\n",
       "    </tr>\n",
       "    <tr>\n",
       "      <th>25</th>\n",
       "      <td>3.00</td>\n",
       "      <td>0.1</td>\n",
       "      <td>0.500000</td>\n",
       "    </tr>\n",
       "    <tr>\n",
       "      <th>22</th>\n",
       "      <td>1.00</td>\n",
       "      <td>0.3</td>\n",
       "      <td>0.500000</td>\n",
       "    </tr>\n",
       "    <tr>\n",
       "      <th>19</th>\n",
       "      <td>0.30</td>\n",
       "      <td>1.0</td>\n",
       "      <td>0.500000</td>\n",
       "    </tr>\n",
       "    <tr>\n",
       "      <th>31</th>\n",
       "      <td>10.00</td>\n",
       "      <td>1.0</td>\n",
       "      <td>0.500000</td>\n",
       "    </tr>\n",
       "  </tbody>\n",
       "</table>\n",
       "</div>"
      ],
      "text/plain": [
       "    regParam  elasticNetParam     score\n",
       "16      0.30              0.0  0.782248\n",
       "20      1.00              0.0  0.781331\n",
       "13      0.10              0.1  0.779923\n",
       "12      0.10              0.0  0.779130\n",
       "9       0.03              0.1  0.778104\n",
       "24      3.00              0.0  0.777785\n",
       "10      0.03              0.3  0.776730\n",
       "6       0.01              0.3  0.776475\n",
       "28     10.00              0.0  0.776447\n",
       "8       0.03              0.0  0.775472\n",
       "5       0.01              0.1  0.775454\n",
       "7       0.01              1.0  0.774720\n",
       "4       0.01              0.0  0.774103\n",
       "1       0.00              0.1  0.772687\n",
       "0       0.00              0.0  0.772687\n",
       "3       0.00              1.0  0.772687\n",
       "2       0.00              0.3  0.772687\n",
       "17      0.30              0.1  0.758034\n",
       "14      0.10              0.3  0.749772\n",
       "11      0.03              1.0  0.744741\n",
       "18      0.30              0.3  0.717812\n",
       "21      1.00              0.1  0.694812\n",
       "15      0.10              1.0  0.672222\n",
       "27      3.00              1.0  0.500000\n",
       "30     10.00              0.3  0.500000\n",
       "29     10.00              0.1  0.500000\n",
       "23      1.00              1.0  0.500000\n",
       "26      3.00              0.3  0.500000\n",
       "25      3.00              0.1  0.500000\n",
       "22      1.00              0.3  0.500000\n",
       "19      0.30              1.0  0.500000\n",
       "31     10.00              1.0  0.500000"
      ]
     },
     "execution_count": 42,
     "metadata": {},
     "output_type": "execute_result"
    }
   ],
   "source": [
    "param_names = [param.name for param in cvModel.getEstimatorParamMaps()[0]]\n",
    "cv_results = pd.DataFrame(columns=param_names + ['score'])    \n",
    "for i,(params,score) in enumerate(zip(cvModel.getEstimatorParamMaps(),cvModel.avgMetrics)):\n",
    "    cv_results.loc[i] = list(params.values()) + [score]\n",
    "cv_results.sort_values(by=['score'],ascending=False)    "
   ]
  },
  {
   "cell_type": "markdown",
   "metadata": {},
   "source": [
    "the results demonstrate that some regularization is needed and we should use L2 loss. lets plot the roc curve:"
   ]
  },
  {
   "cell_type": "code",
   "execution_count": 43,
   "metadata": {},
   "outputs": [
    {
     "data": {
      "image/png": "[encoded data removed]",
      "text/plain": [
       "<matplotlib.figure.Figure at 0x1d39424b6a0>"
      ]
     },
     "metadata": {},
     "output_type": "display_data"
    }
   ],
   "source": [
    "summary = cvModel.bestModel.evaluate(df_test)\n",
    "roc = summary.roc.toPandas()\n",
    "roc_auc = summary.areaUnderROC\n",
    "rawPrediction = summary.predictions.select('rawPrediction').rdd.map(lambda x: x[0][1]).collect()\n",
    "plot_utils_spark.plot_roc_curve(roc,roc_auc,rawPrediction)"
   ]
  },
  {
   "cell_type": "code",
   "execution_count": 45,
   "metadata": {},
   "outputs": [
    {
     "name": "stdout",
     "output_type": "stream",
     "text": [
      "train auc score:  0.8306934217258791\n",
      "train f1-score:  0.37500000000000006\n",
      "train precision:  0.7228915662650602\n",
      "train recall:  0.25316455696202533\n",
      "True Negatives: 546\n",
      "False Positives: 23\n",
      "False Negatives: 177\n",
      "True Positives: 60\n",
      "Total 806\n",
      "test auc score:  0.8143705319277837\n",
      "test f1-score:  0.4186046511627907\n",
      "test precision:  0.782608695652174\n",
      "test recall:  0.2857142857142857\n",
      "True Negatives: 126\n",
      "False Positives: 5\n",
      "False Negatives: 45\n",
      "True Positives: 18\n",
      "Total 194\n"
     ]
    }
   ],
   "source": [
    "utils.model_summary(cvModel.bestModel.summary, summary, cvModel.transform(df_train), predictions)"
   ]
  },
  {
   "cell_type": "markdown",
   "metadata": {},
   "source": [
    "We can see that though the model presents good auc (0.81) there is in fact very small f1-score, mainly due to very low recall.. so this is not what we want - maximize f1 score under the constrain of auc = 0.8. lets see some of the positive predictions:"
   ]
  },
  {
   "cell_type": "code",
   "execution_count": 46,
   "metadata": {},
   "outputs": [
    {
     "name": "stdout",
     "output_type": "stream",
     "text": [
      "+-----+------------------------------+-----+----------+------------------------------+\n",
      "|class|                   probability|label|prediction|                 rawPrediction|\n",
      "+-----+------------------------------+-----+----------+------------------------------+\n",
      "|  bad|[0.30893890044450756,0.6910...|  1.0|       1.0|[-0.8050847176347116,0.8050...|\n",
      "|  bad|[0.32177966617407705,0.6782...|  1.0|       1.0|[-0.7456051665044396,0.7456...|\n",
      "| good|[0.3554937492008712,0.64450...|  0.0|       1.0|[-0.5949768550432082,0.5949...|\n",
      "|  bad|[0.38836651240144227,0.6116...|  1.0|       1.0|[-0.45418371329894014,0.454...|\n",
      "|  bad|[0.4051382674851403,0.59486...|  1.0|       1.0|[-0.3841005861724176,0.3841...|\n",
      "|  bad|[0.435440214191827,0.564559...|  1.0|       1.0|[-0.2596887812731883,0.2596...|\n",
      "|  bad|[0.44001155735828784,0.5599...|  1.0|       1.0|[-0.241115152085702,0.24111...|\n",
      "|  bad|[0.44908021869912734,0.5509...|  1.0|       1.0|[-0.20438767849414652,0.204...|\n",
      "|  bad|[0.4556721737884795,0.54432...|  1.0|       1.0|[-0.17777805322573137,0.177...|\n",
      "|  bad|[0.45789476469028695,0.5421...|  1.0|       1.0|[-0.16882075738675262,0.168...|\n",
      "+-----+------------------------------+-----+----------+------------------------------+\n",
      "only showing top 10 rows\n",
      "\n"
     ]
    }
   ],
   "source": [
    "predictions.filter(predictions['prediction'] == 1) \\\n",
    "    .select(\"class\",\"probability\",\"label\",\"prediction\",\"rawPrediction\") \\\n",
    "    .orderBy(\"probability\", ascending=True) \\\n",
    "    .show(n = 10, truncate = 30)"
   ]
  },
  {
   "cell_type": "markdown",
   "metadata": {},
   "source": [
    "we can see that the minimum probability is 0.3 and it is gt closer to 0.5 very closely - explains the low recall. lets try to fix it. there are several way to do it:\n",
    "\n",
    "1. choose another point on the roc curve/ select another threshold - as can be seen in the roc curve we can achieve recall of 0.4 with less than 10% of FPR.\n",
    "2. Do cross-validation again with the areaUnderPR metric that is more close to the f1 score.\n",
    "\n",
    "Lets try the PR cv:"
   ]
  },
  {
   "cell_type": "code",
   "execution_count": 47,
   "metadata": {},
   "outputs": [
    {
     "data": {
      "text/plain": [
       "0.6827544778361765"
      ]
     },
     "execution_count": 47,
     "metadata": {},
     "output_type": "execute_result"
    }
   ],
   "source": [
    "# Create ParamGrid for Cross Validation\n",
    "paramGrid = (ParamGridBuilder()\n",
    "             .addGrid(lr.regParam, [0.0, 0.01, 0.03, 0.1, 0.3, 1.0, 3.0, 10.0]) # regularization parameter\n",
    "             .build())\n",
    "evaluator = BinaryClassificationEvaluator(metricName='areaUnderPR')\n",
    "# Create 5-fold CrossValidator\n",
    "cv = CrossValidator(estimator=lr, \\\n",
    "                    estimatorParamMaps=paramGrid, \\\n",
    "                    evaluator=evaluator, \\\n",
    "                    numFolds=5)\n",
    "cvModel = cv.fit(df_train)\n",
    "\n",
    "predictions = cvModel.transform(df_test)\n",
    "# Evaluate best model\n",
    "evaluator.evaluate(predictions)"
   ]
  },
  {
   "cell_type": "markdown",
   "metadata": {},
   "source": [
    "the cv results:"
   ]
  },
  {
   "cell_type": "code",
   "execution_count": 48,
   "metadata": {},
   "outputs": [
    {
     "data": {
      "text/html": [
       "<div>\n",
       "<style scoped>\n",
       "    .dataframe tbody tr th:only-of-type {\n",
       "        vertical-align: middle;\n",
       "    }\n",
       "\n",
       "    .dataframe tbody tr th {\n",
       "        vertical-align: top;\n",
       "    }\n",
       "\n",
       "    .dataframe thead th {\n",
       "        text-align: right;\n",
       "    }\n",
       "</style>\n",
       "<table border=\"1\" class=\"dataframe\">\n",
       "  <thead>\n",
       "    <tr style=\"text-align: right;\">\n",
       "      <th></th>\n",
       "      <th>regParam</th>\n",
       "      <th>score</th>\n",
       "    </tr>\n",
       "  </thead>\n",
       "  <tbody>\n",
       "    <tr>\n",
       "      <th>3</th>\n",
       "      <td>0.10</td>\n",
       "      <td>0.594866</td>\n",
       "    </tr>\n",
       "    <tr>\n",
       "      <th>2</th>\n",
       "      <td>0.03</td>\n",
       "      <td>0.589532</td>\n",
       "    </tr>\n",
       "    <tr>\n",
       "      <th>1</th>\n",
       "      <td>0.01</td>\n",
       "      <td>0.589451</td>\n",
       "    </tr>\n",
       "    <tr>\n",
       "      <th>4</th>\n",
       "      <td>0.30</td>\n",
       "      <td>0.588993</td>\n",
       "    </tr>\n",
       "    <tr>\n",
       "      <th>0</th>\n",
       "      <td>0.00</td>\n",
       "      <td>0.584506</td>\n",
       "    </tr>\n",
       "    <tr>\n",
       "      <th>5</th>\n",
       "      <td>1.00</td>\n",
       "      <td>0.581227</td>\n",
       "    </tr>\n",
       "    <tr>\n",
       "      <th>6</th>\n",
       "      <td>3.00</td>\n",
       "      <td>0.571399</td>\n",
       "    </tr>\n",
       "    <tr>\n",
       "      <th>7</th>\n",
       "      <td>10.00</td>\n",
       "      <td>0.570134</td>\n",
       "    </tr>\n",
       "  </tbody>\n",
       "</table>\n",
       "</div>"
      ],
      "text/plain": [
       "   regParam     score\n",
       "3      0.10  0.594866\n",
       "2      0.03  0.589532\n",
       "1      0.01  0.589451\n",
       "4      0.30  0.588993\n",
       "0      0.00  0.584506\n",
       "5      1.00  0.581227\n",
       "6      3.00  0.571399\n",
       "7     10.00  0.570134"
      ]
     },
     "execution_count": 48,
     "metadata": {},
     "output_type": "execute_result"
    }
   ],
   "source": [
    "param_names = [param.name for param in cvModel.getEstimatorParamMaps()[0]]\n",
    "cv_results = pd.DataFrame(columns=param_names + ['score'])    \n",
    "for i,(params,score) in enumerate(zip(cvModel.getEstimatorParamMaps(),cvModel.avgMetrics)):\n",
    "    cv_results.loc[i] = list(params.values()) + [score]\n",
    "cv_results.sort_values(by=['score'],ascending=False)    "
   ]
  },
  {
   "cell_type": "code",
   "execution_count": 49,
   "metadata": {},
   "outputs": [
    {
     "data": {
      "text/plain": [
       "<matplotlib.axes._subplots.AxesSubplot at 0x1d3943ad080>"
      ]
     },
     "execution_count": 49,
     "metadata": {},
     "output_type": "execute_result"
    },
    {
     "data": {
      "image/png": "[encoded data removed]",
      "text/plain": [
       "<matplotlib.figure.Figure at 0x1d3936f36d8>"
      ]
     },
     "metadata": {},
     "output_type": "display_data"
    }
   ],
   "source": [
    "cv_results['regParamPlusEps'] = cv_results['regParam'] + 0.001\n",
    "cv_results.plot(x='regParamPlusEps', y = 'score', logx=True)"
   ]
  },
  {
   "cell_type": "markdown",
   "metadata": {},
   "source": [
    "The beahavior of the score as function of the regParam is as expected: at very low values there is overfitting and low score, mid range values are optimal and too high values cause to underfitting"
   ]
  },
  {
   "cell_type": "code",
   "execution_count": 50,
   "metadata": {},
   "outputs": [
    {
     "data": {
      "image/png": "[encoded data removed]",
      "text/plain": [
       "<matplotlib.figure.Figure at 0x1d3949442b0>"
      ]
     },
     "metadata": {},
     "output_type": "display_data"
    }
   ],
   "source": [
    "summary = cvModel.bestModel.evaluate(df_test)\n",
    "roc = summary.roc.toPandas()\n",
    "roc_auc = summary.areaUnderROC\n",
    "rawPrediction = summary.predictions.select('rawPrediction').rdd.map(lambda x: x[0][1]).collect()\n",
    "plot_utils_spark.plot_roc_curve(roc,roc_auc,rawPrediction)"
   ]
  },
  {
   "cell_type": "code",
   "execution_count": 51,
   "metadata": {},
   "outputs": [
    {
     "data": {
      "text/plain": [
       "[0.9236641221374046, 0.4126984126984127]"
      ]
     },
     "execution_count": 51,
     "metadata": {},
     "output_type": "execute_result"
    }
   ],
   "source": [
    "summary.recallByLabel"
   ]
  },
  {
   "cell_type": "markdown",
   "metadata": {},
   "source": [
    "we can see that this roc is better and we can achieve more than 0.5 recall with only 10% of FPR (although the loss functions brings us to 0.41 recall but with change of the threshold we can improve the recall with almost no decrease in the FPR)"
   ]
  },
  {
   "cell_type": "code",
   "execution_count": 52,
   "metadata": {},
   "outputs": [
    {
     "name": "stdout",
     "output_type": "stream",
     "text": [
      "train auc score:  0.8344308246757577\n",
      "train f1-score:  0.5469168900804289\n",
      "train precision:  0.75\n",
      "train recall:  0.43037974683544306\n",
      "True Negatives: 535\n",
      "False Positives: 34\n",
      "False Negatives: 135\n",
      "True Positives: 102\n",
      "Total 806\n",
      "test auc score:  0.8189749182115598\n",
      "test f1-score:  0.5252525252525252\n",
      "test precision:  0.7222222222222222\n",
      "test recall:  0.4126984126984127\n",
      "True Negatives: 121\n",
      "False Positives: 10\n",
      "False Negatives: 37\n",
      "True Positives: 26\n",
      "Total 194\n"
     ]
    }
   ],
   "source": [
    "utils.model_summary(cvModel.bestModel.summary, summary, \n",
    "                    cvModel.transform(df_train), cvModel.transform(df_test))"
   ]
  },
  {
   "cell_type": "code",
   "execution_count": 53,
   "metadata": {},
   "outputs": [
    {
     "name": "stdout",
     "output_type": "stream",
     "text": [
      "+-----+------------------------------+-----+----------+------------------------------+\n",
      "|class|                   probability|label|prediction|                 rawPrediction|\n",
      "+-----+------------------------------+-----+----------+------------------------------+\n",
      "|  bad|[0.48164632388448864,0.5183...|  1.0|       1.0|[-0.07344770486351693,0.073...|\n",
      "| good|[0.4824987346838203,0.51750...|  0.0|       1.0|[-0.07003367183330544,0.070...|\n",
      "| good|[0.4933798215735955,0.50662...|  0.0|       1.0|[-0.026482261286999265,0.02...|\n",
      "|  bad|[0.4943414982325189,0.50565...|  1.0|       1.0|[-0.022634973424418225,0.02...|\n",
      "| good|[0.525222660196674,0.474777...|  0.0|       0.0|[0.1009763515164217,-0.1009...|\n",
      "|  bad|[0.5338696559442749,0.46613...|  1.0|       0.0|[0.1356864158847222,-0.1356...|\n",
      "|  bad|[0.5373829791266432,0.46261...|  1.0|       0.0|[0.14981147999273792,-0.149...|\n",
      "| good|[0.5389820541454388,0.46101...|  0.0|       0.0|[0.1562453052938526,-0.1562...|\n",
      "|  bad|[0.5403491568754973,0.45965...|  1.0|       0.0|[0.16174835283453182,-0.161...|\n",
      "|  bad|[0.5431757208143023,0.45682...|  1.0|       0.0|[0.1731340711482201,-0.1731...|\n",
      "+-----+------------------------------+-----+----------+------------------------------+\n",
      "only showing top 10 rows\n",
      "\n"
     ]
    }
   ],
   "source": [
    "# the following code just to experience accessing element in a vector in a dataframe so we can look\n",
    "# in a specific location of predictions dataframe, more specificly - where the threshold is (prob=0.5)\n",
    "# https://stackoverflow.com/questions/44425159/access-element-of-a-vector-in-a-spark-dataframe-logistic-regression-probability\n",
    "from pyspark.sql.types import FloatType\n",
    "first_element = F.udf(lambda v: float(v[0]), FloatType()) # cast to float since udf supports\n",
    "# only python types whie pyspark.ml Vectors automatically converts the numbers to numpy types.\n",
    "# see https://issues.apache.org/jira/browse/SPARK-12157\n",
    "predictions = predictions.withColumn('prob0', first_element('probability'))\n",
    "predictions.filter(predictions['prob0'] > 0.48) \\\n",
    "    .select(\"class\",\"probability\",\"label\",\"prediction\",\"rawPrediction\") \\\n",
    "    .orderBy(\"probability\", ascending=True) \\\n",
    "    .show(n = 10, truncate = 30)"
   ]
  },
  {
   "cell_type": "markdown",
   "metadata": {},
   "source": [
    "To summarize -  we got satisfing results! the test auc score is 0.82 - larger than 0.8!\n",
    "\n",
    "Anyway, if we dig deeper we find that while the model keeps FPR rate low (10%)as needed, the recall is quite low - only 0.56, and it is reflected in test f1-score of only 0.59.\n",
    "\n",
    "So, we can stop here and be content with the current results or the seek for better models that treat the positive class better (not on the expense of low FPR)."
   ]
  },
  {
   "cell_type": "markdown",
   "metadata": {},
   "source": [
    "### feature importance/ selection:"
   ]
  },
  {
   "cell_type": "markdown",
   "metadata": {},
   "source": [
    "Altough we are not in high variance situation (so we don't need to reduce the number of features) it is interesting to see which are the more important predictors:"
   ]
  },
  {
   "cell_type": "code",
   "execution_count": 54,
   "metadata": {},
   "outputs": [
    {
     "data": {
      "text/plain": [
       "array([-0.59962979,  0.22922455,  0.51507416, -0.06571917,  0.14031337,\n",
       "       -0.3603605 , -0.09757503,  0.43022918,  0.76638015, -0.17264814,\n",
       "        0.35156191, -0.00319261, -0.51974464, -0.08755403,  0.60185863,\n",
       "        0.0746367 ,  0.13833841, -0.15305177, -0.44167531,  0.26887734,\n",
       "       -0.27427728,  0.16852523, -0.26461709, -0.5435827 ,  0.02310975,\n",
       "       -0.04646977, -0.30762102,  0.29718536,  0.11496875,  0.20903227,\n",
       "       -0.11530556, -0.01506547, -0.24635148, -0.17082891,  0.14553723,\n",
       "       -0.02677124,  0.27964506,  0.10544122, -0.46519377,  0.32391144,\n",
       "       -0.05307585,  0.11831655,  0.06098974, -0.17426555, -0.01599175,\n",
       "       -0.17855595,  0.00332271,  0.29380554, -0.20480072,  0.16582266,\n",
       "        0.25838686, -0.14362271,  0.18827607,  0.02152002, -0.01473668,\n",
       "        0.0194428 , -0.08451243,  0.22835214,  0.0070478 ,  0.00103824,\n",
       "       -0.0080016 , -0.03113152, -0.04559541,  0.04559332,  0.12170056,\n",
       "       -0.12170167,  0.48401937, -0.48402639,  0.13040537,  0.14354164,\n",
       "       -0.04979555,  0.16272149, -0.00091953, -0.07244851])"
      ]
     },
     "execution_count": 54,
     "metadata": {},
     "output_type": "execute_result"
    }
   ],
   "source": [
    "# first glance at the coefs:\n",
    "coef = cvModel.bestModel.coefficients.toArray()\n",
    "coef"
   ]
  },
  {
   "cell_type": "code",
   "execution_count": 55,
   "metadata": {},
   "outputs": [
    {
     "data": {
      "text/plain": [
       "array([ 8, 14,  0, 23, 12,  2, 67, 66, 38, 18,  7,  5, 10, 39, 26, 27, 47,\n",
       "       36, 20, 19, 22, 50, 32,  1, 57, 29, 48, 52, 45, 43,  9, 33, 21, 49,\n",
       "       71, 17, 34, 51, 69,  4, 16, 68, 65, 64, 41, 30, 28, 37,  6, 13, 56,\n",
       "       15, 73,  3, 42, 40, 70, 25, 62, 63, 61, 35, 24, 53, 55, 44, 31, 54,\n",
       "       60, 58, 46, 11, 59, 72], dtype=int64)"
      ]
     },
     "execution_count": 55,
     "metadata": {},
     "output_type": "execute_result"
    }
   ],
   "source": [
    "# let sort them w.r.t thier abs value:\n",
    "importance_idx = np.argsort(abs(coef))[::-1]\n",
    "importance_idx"
   ]
  },
  {
   "cell_type": "code",
   "execution_count": 56,
   "metadata": {},
   "outputs": [
    {
     "data": {
      "text/plain": [
       "[\"credit_history='no credits/all paid'\",\n",
       " 'purpose=education',\n",
       " \"checking_status='no checking'\",\n",
       " \"savings_status='>=1000'\",\n",
       " \"purpose='used car'\",\n",
       " \"checking_status='<0'\",\n",
       " 'foreign_worker=no',\n",
       " 'foreign_worker=yes',\n",
       " 'other_parties=guarantor',\n",
       " 'purpose=retraining',\n",
       " \"credit_history='all paid'\",\n",
       " \"credit_history='critical/other existing credit'\",\n",
       " \"purpose='new car'\",\n",
       " \"other_parties='co applicant'\",\n",
       " \"employment='4<=X<7'\",\n",
       " \"employment='<1'\",\n",
       " \"property_magnitude='no known property'\",\n",
       " \"personal_status='male div/sep'\",\n",
       " \"savings_status='no known savings'\",\n",
       " \"savings_status='<100'\",\n",
       " \"savings_status='500<=X<1000'\",\n",
       " 'other_payment_plans=stores',\n",
       " 'installment_commitment=1',\n",
       " \"checking_status='0<=X<200'\",\n",
       " 'existing_credits=4',\n",
       " 'installment_commitment=4',\n",
       " 'other_payment_plans=none',\n",
       " 'housing=rent',\n",
       " \"property_magnitude='real estate'\",\n",
       " 'residence_since=1',\n",
       " 'purpose=radio/tv',\n",
       " \"personal_status='male single'\",\n",
       " \"savings_status='100<=X<500'\",\n",
       " 'other_payment_plans=bank',\n",
       " 'log_duration',\n",
       " 'purpose=other',\n",
       " \"personal_status='female div/dep/mar'\",\n",
       " 'housing=own',\n",
       " 'credit_amount',\n",
       " \"credit_history='existing paid'\",\n",
       " \"purpose='domestic appliance'\",\n",
       " 'duration',\n",
       " 'own_telephone=yes',\n",
       " 'own_telephone=none',\n",
       " 'residence_since=2',\n",
       " 'installment_commitment=2',\n",
       " 'employment=unemployed',\n",
       " 'other_parties=none',\n",
       " \"credit_history='delayed previously'\",\n",
       " 'purpose=business',\n",
       " 'existing_credits=3',\n",
       " 'purpose=repairs',\n",
       " 'log_age',\n",
       " \"checking_status='>=200'\",\n",
       " 'residence_since=3',\n",
       " 'residence_since=4',\n",
       " 'age',\n",
       " \"employment='>=7'\",\n",
       " 'num_dependents=1',\n",
       " 'num_dependents=2',\n",
       " \"job='unemp/unskilled non res'\",\n",
       " \"personal_status='male mar/wid'\",\n",
       " \"employment='1<=X<4'\",\n",
       " \"housing='for free'\",\n",
       " 'existing_credits=2',\n",
       " 'property_magnitude=car',\n",
       " 'installment_commitment=3',\n",
       " 'existing_credits=1',\n",
       " \"job='high qualif/self emp/mgmt'\",\n",
       " 'job=skilled',\n",
       " \"property_magnitude='life insurance'\",\n",
       " 'purpose=furniture/equipment',\n",
       " \"job='unskilled resident'\",\n",
       " 'log_credit_amount']"
      ]
     },
     "execution_count": 56,
     "metadata": {},
     "output_type": "execute_result"
    }
   ],
   "source": [
    "# feature sorted by importance:\n",
    "[features[idx] for idx in importance_idx]"
   ]
  },
  {
   "cell_type": "markdown",
   "metadata": {},
   "source": [
    "plot the most N important features:"
   ]
  },
  {
   "cell_type": "code",
   "execution_count": 57,
   "metadata": {},
   "outputs": [
    {
     "name": "stderr",
     "output_type": "stream",
     "text": [
      "C:\\Users\\Yair\\Anaconda3\\lib\\site-packages\\seaborn\\categorical.py:1428: FutureWarning: remove_na is deprecated and is a private function. Do not use.\n",
      "  stat_data = remove_na(group_data)\n"
     ]
    },
    {
     "data": {
      "text/plain": [
       "(array([0, 1, 2, 3, 4, 5, 6, 7, 8, 9]), <a list of 10 Text xticklabel objects>)"
      ]
     },
     "execution_count": 57,
     "metadata": {},
     "output_type": "execute_result"
    },
    {
     "data": {
      "image/png": "[encoded data removed]",
      "text/plain": [
       "<matplotlib.figure.Figure at 0x1d3944d9e48>"
      ]
     },
     "metadata": {},
     "output_type": "display_data"
    }
   ],
   "source": [
    "plt.figure(figsize=(18,14))\n",
    "# ax = plt.bar(np.arange(10), model.coef_[0][importance_idx][:10],\n",
    "#              tick_label = [features_names[idx] for idx in importance_idx][:10])\n",
    "sns.barplot([features[idx] for idx in importance_idx][:10], coef[importance_idx][:10])\n",
    "plt.xticks(rotation = 45, size = 12)"
   ]
  },
  {
   "cell_type": "markdown",
   "metadata": {},
   "source": [
    "From the top 10 we can see that there aren't features with significant higher importance (the coefs value decrease slowly from the begining).\n",
    "\n",
    "Some insights:\n",
    "1. purpose=education are good predictors of bad loans. (reasonable)\n",
    "2. Big amount of savings (>1000) are good predictor for good loans. (also, resonable)\n",
    "3. suprisingly, no credits/all paid is good predictor for bad loans"
   ]
  },
  {
   "cell_type": "markdown",
   "metadata": {},
   "source": [
    "an overall look on feature importance:"
   ]
  },
  {
   "cell_type": "code",
   "execution_count": 58,
   "metadata": {},
   "outputs": [
    {
     "name": "stderr",
     "output_type": "stream",
     "text": [
      "C:\\Users\\Yair\\Anaconda3\\lib\\site-packages\\seaborn\\categorical.py:1428: FutureWarning: remove_na is deprecated and is a private function. Do not use.\n",
      "  stat_data = remove_na(group_data)\n"
     ]
    },
    {
     "data": {
      "text/plain": [
       "<matplotlib.axes._subplots.AxesSubplot at 0x1d3944f8ac8>"
      ]
     },
     "execution_count": 58,
     "metadata": {},
     "output_type": "execute_result"
    },
    {
     "data": {
      "image/png": "[encoded data removed]",
      "text/plain": [
       "<matplotlib.figure.Figure at 0x1d395f387b8>"
      ]
     },
     "metadata": {},
     "output_type": "display_data"
    }
   ],
   "source": [
    "plt.figure(figsize=(18,10))\n",
    "sns.barplot([features[idx] for idx in importance_idx], coef[importance_idx])"
   ]
  },
  {
   "cell_type": "markdown",
   "metadata": {},
   "source": [
    "predictors of bad loans:"
   ]
  },
  {
   "cell_type": "code",
   "execution_count": 59,
   "metadata": {},
   "outputs": [
    {
     "name": "stdout",
     "output_type": "stream",
     "text": [
      "[\"credit_history='no credits/all paid'\", 'purpose=education', \"checking_status='<0'\", 'foreign_worker=yes', \"credit_history='all paid'\", \"purpose='new car'\", \"other_parties='co applicant'\", \"employment='<1'\", \"property_magnitude='no known property'\", \"personal_status='male div/sep'\", \"savings_status='<100'\", 'other_payment_plans=stores', \"checking_status='0<=X<200'\", 'existing_credits=4', 'installment_commitment=4', 'housing=rent', \"savings_status='100<=X<500'\", 'other_payment_plans=bank', 'log_duration', \"personal_status='female div/dep/mar'\", 'credit_amount', \"credit_history='existing paid'\", \"purpose='domestic appliance'\", 'duration', 'own_telephone=none', 'residence_since=2', 'employment=unemployed', 'other_parties=none', 'purpose=repairs', 'residence_since=3', 'num_dependents=2', \"employment='1<=X<4'\", \"housing='for free'\", 'existing_credits=2', 'job=skilled', \"property_magnitude='life insurance'\", \"job='unskilled resident'\"]\n"
     ]
    }
   ],
   "source": [
    "print([features[idx] for idx in importance_idx if coef[idx] > 0 ])"
   ]
  },
  {
   "cell_type": "markdown",
   "metadata": {},
   "source": [
    "predictors of good loans:"
   ]
  },
  {
   "cell_type": "code",
   "execution_count": 60,
   "metadata": {
    "scrolled": true
   },
   "outputs": [
    {
     "name": "stdout",
     "output_type": "stream",
     "text": [
      "[\"checking_status='no checking'\", \"savings_status='>=1000'\", \"purpose='used car'\", 'foreign_worker=no', 'other_parties=guarantor', 'purpose=retraining', \"credit_history='critical/other existing credit'\", \"employment='4<=X<7'\", \"savings_status='no known savings'\", \"savings_status='500<=X<1000'\", 'installment_commitment=1', 'other_payment_plans=none', \"property_magnitude='real estate'\", 'residence_since=1', 'purpose=radio/tv', \"personal_status='male single'\", 'purpose=other', 'housing=own', 'own_telephone=yes', 'installment_commitment=2', \"credit_history='delayed previously'\", 'purpose=business', 'existing_credits=3', 'log_age', \"checking_status='>=200'\", 'residence_since=4', 'age', \"employment='>=7'\", 'num_dependents=1', \"job='unemp/unskilled non res'\", \"personal_status='male mar/wid'\", 'property_magnitude=car', 'installment_commitment=3', 'existing_credits=1', \"job='high qualif/self emp/mgmt'\", 'purpose=furniture/equipment', 'log_credit_amount']\n"
     ]
    }
   ],
   "source": [
    "print([features[idx] for idx in importance_idx if coef[idx] < 0 ])"
   ]
  },
  {
   "cell_type": "markdown",
   "metadata": {},
   "source": [
    "From inspection of the predictors above there are some which make sense ,like savings_status='>=1000' -> good loan, but not a few which not make sense, like credit_history='critical/other existing credit' -> good loan. Thats correspond with the low f1-score of the current model."
   ]
  },
  {
   "cell_type": "markdown",
   "metadata": {},
   "source": [
    "A function to inspect samples and their prediction, compared to the true value:"
   ]
  },
  {
   "cell_type": "code",
   "execution_count": 61,
   "metadata": {},
   "outputs": [],
   "source": [
    "def getrows(df, rownums=None):\n",
    "    return df.rdd.zipWithIndex().filter(lambda x: x[1] in rownums).map(lambda x: x[0])\n",
    "\n",
    "def examine_predictions(sample_num):\n",
    "    row = getrows(predictions, rownums=[sample_num]).collect()[0]\n",
    "    for i in range(10):\n",
    "        print([features[idx] for idx in importance_idx][i].ljust(50) + str(row.features[int(importance_idx[i])]))\n",
    "    print()\n",
    "    print('true class value: {}'.format('bad' if row.label == 1 else 'good'))\n",
    "    print('predicted class value: {}'.format('bad' if row.prediction == 1 else 'good'))"
   ]
  },
  {
   "cell_type": "code",
   "execution_count": 62,
   "metadata": {},
   "outputs": [
    {
     "name": "stdout",
     "output_type": "stream",
     "text": [
      "credit_history='no credits/all paid'              0.0\n",
      "purpose=education                                 1.0\n",
      "checking_status='no checking'                     0.0\n",
      "savings_status='>=1000'                           1.0\n",
      "purpose='used car'                                0.0\n",
      "checking_status='<0'                              0.0\n",
      "foreign_worker=no                                 0.0\n",
      "foreign_worker=yes                                1.0\n",
      "other_parties=guarantor                           0.0\n",
      "purpose=retraining                                0.0\n",
      "\n",
      "true class value: bad\n",
      "predicted class value: bad\n"
     ]
    }
   ],
   "source": [
    "examine_predictions(0)"
   ]
  },
  {
   "cell_type": "markdown",
   "metadata": {},
   "source": [
    "Comparision of the features importance as obtained from the LR coefficients vs the selected features that are obtained from the ChiSqSelector:"
   ]
  },
  {
   "cell_type": "code",
   "execution_count": 63,
   "metadata": {
    "scrolled": true
   },
   "outputs": [
    {
     "data": {
      "text/plain": [
       "[\"checking_status='no checking'\",\n",
       " \"checking_status='<0'\",\n",
       " \"credit_history='critical/other existing credit'\",\n",
       " \"credit_history='no credits/all paid'\",\n",
       " \"savings_status='<100'\",\n",
       " 'duration',\n",
       " 'log_duration',\n",
       " 'housing=own',\n",
       " \"property_magnitude='no known property'\",\n",
       " \"employment='<1'\"]"
      ]
     },
     "execution_count": 63,
     "metadata": {},
     "output_type": "execute_result"
    }
   ],
   "source": [
    "from pyspark.ml.feature import ChiSqSelector\n",
    "\n",
    "selector = ChiSqSelector(numTopFeatures=10, outputCol=\"selectedFeatures\")\n",
    "selector_model = selector.fit(df_train)\n",
    "[features[idx] for idx in selector_model.selectedFeatures]"
   ]
  },
  {
   "cell_type": "markdown",
   "metadata": {},
   "source": [
    "From the comparision it seems that checking_status and credit_history are probably the most importanat features."
   ]
  },
  {
   "cell_type": "markdown",
   "metadata": {},
   "source": [
    "Lets compare the performance of using the LR 10 largest coefs vs ChiSq top-10: "
   ]
  },
  {
   "cell_type": "code",
   "execution_count": 64,
   "metadata": {},
   "outputs": [],
   "source": [
    "from pyspark.ml.linalg import DenseVector, SparseVector, VectorUDT\n",
    "from functools import partial\n",
    "\n",
    "# function to get slice of specific indices from SparseVector\n",
    "def sliced_sparse_vector(v, ids):\n",
    "    ids_and_values = list(zip(*[(i, v[idx]) for i, idx in enumerate(ids) if v[idx] != 0.0]))\n",
    "    return SparseVector(len(ids), *ids_and_values)\n",
    "\n",
    "# since udf cannot take arguments we need to bypass this limit.\n",
    "# one way is to use parital function application.\n",
    "# see: https://stackoverflow.com/questions/48443892/pyspark-using-udf-with-arguments-to-create-a-new-column\n",
    "\n",
    "lr_most_important_idx = importance_idx[:10].tolist()\n",
    "lr_sliced_sparse_vector = partial(sliced_sparse_vector, ids=lr_most_important_idx)\n",
    "lr_sliced_sparse_vector = F.udf(lr_sliced_sparse_vector, VectorUDT())\n",
    "\n",
    "chiSq_sliced_sparse_vector = partial(sliced_sparse_vector, ids=selector_model.selectedFeatures)\n",
    "chiSq_sliced_sparse_vector = F.udf(chiSq_sliced_sparse_vector, VectorUDT())\n"
   ]
  },
  {
   "cell_type": "code",
   "execution_count": 65,
   "metadata": {},
   "outputs": [
    {
     "name": "stdout",
     "output_type": "stream",
     "text": [
      "[3.0, -4.0, 0.0, 0.0]\n",
      "(2,[0],[-4.0])\n",
      "+------------------------+\n",
      "|add_empty_col_(features)|\n",
      "+------------------------+\n",
      "|    (75,[1,7,10,21,27...|\n",
      "|    (75,[1,6,13,21,25...|\n",
      "|    (75,[1,6,11,19,28...|\n",
      "|    (75,[1,4,10,20,28...|\n",
      "|    (75,[1,4,9,20,25,...|\n",
      "|    (75,[1,4,9,19,26,...|\n",
      "|    (75,[1,4,9,19,27,...|\n",
      "|    (75,[1,4,9,19,24,...|\n",
      "|    (75,[1,4,9,19,25,...|\n",
      "|    (75,[1,4,9,19,27,...|\n",
      "|    (75,[1,4,9,19,27,...|\n",
      "|    (75,[1,4,9,19,24,...|\n",
      "|    (75,[1,4,13,19,27...|\n",
      "|    (75,[1,4,11,19,24...|\n",
      "|    (75,[1,4,9,19,26,...|\n",
      "|    (75,[1,4,9,19,24,...|\n",
      "|    (75,[1,7,10,21,26...|\n",
      "|    (75,[1,7,12,19,25...|\n",
      "|    (75,[1,5,14,23,25...|\n",
      "|    (75,[1,5,14,19,25...|\n",
      "+------------------------+\n",
      "only showing top 20 rows\n",
      "\n"
     ]
    }
   ],
   "source": [
    "from pyspark.sql.types import ArrayType\n",
    "# another related SparseVector transformations:\n",
    "\n",
    "def sparse_to_array(v):\n",
    "    v = DenseVector(v)\n",
    "    new_array = list([float(x) for x in v])\n",
    "    return new_array\n",
    "\n",
    "sparse_to_array_udf = F.udf(sparse_to_array, ArrayType(FloatType()))\n",
    "a = SparseVector(4, [0, 1], [3., -4.])\n",
    "print(sparse_to_array(a))\n",
    "print(sliced_sparse_vector(a, [1,2]))\n",
    "\n",
    "def add_empty_col_(v):\n",
    "    return SparseVector(v.size + 1, v.indices, v.values)\n",
    "\n",
    "add_empty_col = F.udf(add_empty_col_, VectorUDT())\n",
    "df_train.select(add_empty_col(\"features\")).show()"
   ]
  },
  {
   "cell_type": "code",
   "execution_count": 66,
   "metadata": {},
   "outputs": [
    {
     "name": "stdout",
     "output_type": "stream",
     "text": [
      "LR auc: 0.707197382769902\n",
      "chiSq auc: 0.7721434629831577\n",
      "LR f1: 0.5172413793103449\n",
      "chiSq f1: 0.5192307692307693\n"
     ]
    }
   ],
   "source": [
    "\n",
    "# add the 2 sliced vectors as columns to df_train and df_test and fit LR model:\n",
    "df_train = df_train.withColumn('lr_sliced_features',lr_sliced_sparse_vector('features')) \\\n",
    "                   .withColumn('chiSq_sliced_features',chiSq_sliced_sparse_vector('features'))\n",
    "df_test = df_test.withColumn('lr_sliced_features',lr_sliced_sparse_vector('features')) \\\n",
    "                   .withColumn('chiSq_sliced_features',chiSq_sliced_sparse_vector('features'))\n",
    "\n",
    "lr = LogisticRegression(featuresCol='lr_sliced_features')\n",
    "lrModel = lr.fit(df_train)\n",
    "\n",
    "chiSq = LogisticRegression(featuresCol='chiSq_sliced_features')\n",
    "chiSqModel = chiSq.fit(df_train)\n",
    "\n",
    "lr_summary = lrModel.evaluate(df_test)\n",
    "chiSq_summary = chiSqModel.evaluate(df_test)\n",
    "\n",
    "print('LR auc:', lr_summary.areaUnderROC)\n",
    "print('chiSq auc:', chiSq_summary.areaUnderROC)\n",
    "print('LR f1:', lr_summary.fMeasureByLabel()[1])\n",
    "print('chiSq f1:', chiSq_summary.fMeasureByLabel()[1])"
   ]
  },
  {
   "cell_type": "code",
   "execution_count": 67,
   "metadata": {},
   "outputs": [
    {
     "name": "stdout",
     "output_type": "stream",
     "text": [
      "Detailed LR results with top-10 largest coefs features:\n",
      "train auc score:  0.7557636834182407\n",
      "train f1-score:  0.5023255813953488\n",
      "train precision:  0.5595854922279793\n",
      "train recall:  0.45569620253164556\n",
      "True Negatives: 484\n",
      "False Positives: 85\n",
      "False Negatives: 129\n",
      "True Positives: 108\n",
      "Total 806\n",
      "test auc score:  0.707197382769902\n",
      "test f1-score:  0.5172413793103449\n",
      "test precision:  0.5660377358490566\n",
      "test recall:  0.47619047619047616\n",
      "True Negatives: 108\n",
      "False Positives: 23\n",
      "False Negatives: 33\n",
      "True Positives: 30\n",
      "Total 194\n"
     ]
    }
   ],
   "source": [
    "print('Detailed LR results with top-10 largest coefs features:')\n",
    "utils.model_summary(lrModel.summary, lr_summary, \n",
    "                    lrModel.transform(df_train), lrModel.transform(df_test))"
   ]
  },
  {
   "cell_type": "code",
   "execution_count": 68,
   "metadata": {},
   "outputs": [
    {
     "name": "stdout",
     "output_type": "stream",
     "text": [
      "Detailed ChiSq results with top-10 largest coefs features:\n",
      "train auc score:  0.7808910443223362\n",
      "train f1-score:  0.4923857868020305\n",
      "train precision:  0.6178343949044586\n",
      "train recall:  0.4092827004219409\n",
      "True Negatives: 509\n",
      "False Positives: 60\n",
      "False Negatives: 140\n",
      "True Positives: 97\n",
      "Total 806\n",
      "test auc score:  0.7721434629831577\n",
      "test f1-score:  0.5192307692307693\n",
      "test precision:  0.6585365853658537\n",
      "test recall:  0.42857142857142855\n",
      "True Negatives: 117\n",
      "False Positives: 14\n",
      "False Negatives: 36\n",
      "True Positives: 27\n",
      "Total 194\n"
     ]
    }
   ],
   "source": [
    "print('Detailed ChiSq results with top-10 largest coefs features:')\n",
    "utils.model_summary(chiSqModel.summary, chiSq_summary, \n",
    "                    chiSqModel.transform(df_train), chiSqModel.transform(df_test))"
   ]
  },
  {
   "cell_type": "markdown",
   "metadata": {},
   "source": [
    "So it seems that chiSq is more accurate in predicting to most important features than the abolute values of the LR coef. with only 10 features we got only minor decrease (~0.05) in the auc."
   ]
  },
  {
   "cell_type": "markdown",
   "metadata": {},
   "source": [
    "Indeed, using only those 49 features are enough to get the same results as with all the 64."
   ]
  },
  {
   "cell_type": "markdown",
   "metadata": {},
   "source": [
    "## Tries to improve results"
   ]
  },
  {
   "cell_type": "markdown",
   "metadata": {},
   "source": [
    "let add another feature: The credit amount-duration ratio:"
   ]
  },
  {
   "cell_type": "code",
   "execution_count": 70,
   "metadata": {},
   "outputs": [
    {
     "name": "stdout",
     "output_type": "stream",
     "text": [
      "+---------------------+\n",
      "|credit_duration_ratio|\n",
      "+---------------------+\n",
      "|   155.16666666666666|\n",
      "|                241.5|\n",
      "|                175.0|\n",
      "|   2425.8333333333335|\n",
      "|   61.333333333333336|\n",
      "+---------------------+\n",
      "only showing top 5 rows\n",
      "\n"
     ]
    }
   ],
   "source": [
    "df_train = df_train.withColumn('credit_duration_ratio', df_train.credit_amount / df_train.duration)\n",
    "df_test = df_test.withColumn('credit_duration_ratio', df_test.credit_amount / df_test.duration)\n",
    "df_train.select('credit_duration_ratio').show(5)"
   ]
  },
  {
   "cell_type": "code",
   "execution_count": 71,
   "metadata": {},
   "outputs": [
    {
     "data": {
      "text/plain": [
       "<matplotlib.text.Text at 0x1d39633ba58>"
      ]
     },
     "execution_count": 71,
     "metadata": {},
     "output_type": "execute_result"
    },
    {
     "data": {
      "image/png": "[encoded data removed]",
      "text/plain": [
       "<matplotlib.figure.Figure at 0x1d39426ccf8>"
      ]
     },
     "metadata": {},
     "output_type": "display_data"
    }
   ],
   "source": [
    "samp_df_train = sample_df(df_train)\n",
    "\n",
    "plt.figure(figsize=(18,6))\n",
    "ax1 = plt.subplot(1,2,1)\n",
    "sns.distplot(samp_df_train.select('credit_duration_ratio').toPandas(), ax = ax1)\n",
    "plt.xlabel('credit_duration_ratio')\n",
    "ax2 = plt.subplot(1,2,2)\n",
    "sns.distplot(samp_df_train.select(F.log('credit_duration_ratio')).toPandas(), ax = ax2)\n",
    "plt.xlabel('log ' + 'credit_duration_ratio')"
   ]
  },
  {
   "cell_type": "markdown",
   "metadata": {},
   "source": [
    "From the graph it seems that the log of the principal may be a good/ better feature. need to add it:"
   ]
  },
  {
   "cell_type": "code",
   "execution_count": 72,
   "metadata": {},
   "outputs": [
    {
     "name": "stdout",
     "output_type": "stream",
     "text": [
      "+-------------------------+\n",
      "|log_credit_duration_ratio|\n",
      "+-------------------------+\n",
      "|        5.044499808049012|\n",
      "|        5.486869473092628|\n",
      "|       5.1647859739235145|\n",
      "|       7.7939303869516685|\n",
      "|        4.116323468940876|\n",
      "+-------------------------+\n",
      "only showing top 5 rows\n",
      "\n"
     ]
    }
   ],
   "source": [
    "df_train = df_train.withColumn('log_credit_duration_ratio',\n",
    "                               F.log('credit_duration_ratio'))\n",
    "df_test = df_test.withColumn('log_credit_duration_ratio',\n",
    "                               F.log('credit_duration_ratio'))\n",
    "df_train.select('log_credit_duration_ratio').show(5)"
   ]
  },
  {
   "cell_type": "code",
   "execution_count": 82,
   "metadata": {},
   "outputs": [],
   "source": [
    "# initiate new columns names\n",
    "\n",
    "vecAssembler1 = VectorAssembler(inputCols = ['credit_duration_ratio', 'log_credit_duration_ratio'],\n",
    "                               outputCol=\"temp1\")\n",
    "stdScaler = StandardScaler(withMean=True, inputCol='temp1', outputCol='temp2')\n",
    "\n",
    "vecAssembler2 = VectorAssembler(inputCols = ['features','temp2'], outputCol=\"features1\")\n",
    "\n",
    "# fit all the above in a pipeline\n",
    "pipe = Pipeline(stages = [vecAssembler1, stdScaler, vecAssembler2])\n",
    "pipeModel = pipe.fit(df_train)"
   ]
  },
  {
   "cell_type": "code",
   "execution_count": 85,
   "metadata": {},
   "outputs": [
    {
     "name": "stdout",
     "output_type": "stream",
     "text": [
      "+--------------------+\n",
      "|            features|\n",
      "+--------------------+\n",
      "|(76,[1,7,10,21,27...|\n",
      "|(76,[1,6,13,21,25...|\n",
      "|(76,[1,6,11,19,28...|\n",
      "|(76,[1,4,10,20,28...|\n",
      "|(76,[1,4,9,20,25,...|\n",
      "+--------------------+\n",
      "only showing top 5 rows\n",
      "\n"
     ]
    }
   ],
   "source": [
    "df_train = pipeModel.transform(df_train)\n",
    "df_test = pipeModel.transform(df_test)\n",
    "df_train = df_train.drop('temp1','temp2','features').withColumnRenamed('features1','features')\n",
    "df_test = df_test.drop('temp1','temp2','features').withColumnRenamed('features1','features')\n",
    "df_train.select('features').show(5)"
   ]
  },
  {
   "cell_type": "code",
   "execution_count": 89,
   "metadata": {},
   "outputs": [
    {
     "data": {
      "text/plain": [
       "['duration',\n",
       " 'credit_amount',\n",
       " 'age',\n",
       " 'log_duration',\n",
       " 'log_credit_amount',\n",
       " 'log_age',\n",
       " 'credit_duration_ratio',\n",
       " 'log_credit_duration_ratio']"
      ]
     },
     "execution_count": 89,
     "metadata": {},
     "output_type": "execute_result"
    }
   ],
   "source": [
    "numerical_features = numerical_features + ['credit_duration_ratio', 'log_credit_duration_ratio']\n",
    "features += ['credit_duration_ratio', 'log_credit_duration_ratio']\n",
    "numerical_features"
   ]
  },
  {
   "cell_type": "markdown",
   "metadata": {},
   "source": [
    "let's check if it does something to the results:"
   ]
  },
  {
   "cell_type": "code",
   "execution_count": 90,
   "metadata": {},
   "outputs": [],
   "source": [
    "lr = LogisticRegression()\n",
    "lrModel = lr.fit(df_train)"
   ]
  },
  {
   "cell_type": "code",
   "execution_count": 92,
   "metadata": {},
   "outputs": [
    {
     "data": {
      "image/png": "[encoded data removed]",
      "text/plain": [
       "<matplotlib.figure.Figure at 0x1d394252198>"
      ]
     },
     "metadata": {},
     "output_type": "display_data"
    },
    {
     "name": "stdout",
     "output_type": "stream",
     "text": [
      "train auc score:  0.8461176243761727\n",
      "train f1-score:  0.6232558139534883\n",
      "train precision:  0.694300518134715\n",
      "train recall:  0.5654008438818565\n",
      "True Negatives: 510\n",
      "False Positives: 59\n",
      "False Negatives: 103\n",
      "True Positives: 134\n",
      "Total 806\n",
      "test auc score:  0.8188537501514606\n",
      "test f1-score:  0.6238532110091742\n",
      "test precision:  0.7391304347826086\n",
      "test recall:  0.5396825396825397\n",
      "True Negatives: 119\n",
      "False Positives: 12\n",
      "False Negatives: 29\n",
      "True Positives: 34\n",
      "Total 194\n"
     ]
    }
   ],
   "source": [
    "summary = lrModel.evaluate(df_test)\n",
    "roc = summary.roc.toPandas()\n",
    "roc_auc = summary.areaUnderROC\n",
    "rawPrediction = summary.predictions.select('rawPrediction').rdd.map(lambda x: x[0][1]).collect()\n",
    "plot_utils_spark.plot_roc_curve(roc,roc_auc,rawPrediction)\n",
    "utils.model_summary(lrModel.summary, summary, \n",
    "                    lrModel.transform(df_train), lrModel.transform(df_test))"
   ]
  },
  {
   "cell_type": "markdown",
   "metadata": {},
   "source": [
    "Nice. The new 2 features add some little improvement to the results. Let's validate it:"
   ]
  },
  {
   "cell_type": "code",
   "execution_count": 103,
   "metadata": {
    "scrolled": true
   },
   "outputs": [
    {
     "data": {
      "text/plain": [
       "[\"checking_status='no checking'\",\n",
       " \"checking_status='<0'\",\n",
       " \"credit_history='critical/other existing credit'\",\n",
       " \"credit_history='no credits/all paid'\",\n",
       " \"savings_status='<100'\",\n",
       " 'duration',\n",
       " 'log_duration',\n",
       " 'housing=own',\n",
       " \"property_magnitude='no known property'\",\n",
       " \"employment='<1'\",\n",
       " \"property_magnitude='real estate'\",\n",
       " \"checking_status='0<=X<200'\",\n",
       " 'purpose=radio/tv',\n",
       " \"savings_status='no known savings'\",\n",
       " \"credit_history='all paid'\",\n",
       " \"savings_status='>=1000'\",\n",
       " 'foreign_worker=yes',\n",
       " 'foreign_worker=no',\n",
       " 'purpose=education',\n",
       " \"purpose='used car'\",\n",
       " \"purpose='new car'\",\n",
       " \"housing='for free'\",\n",
       " \"employment='4<=X<7'\",\n",
       " 'housing=rent',\n",
       " 'other_payment_plans=none',\n",
       " \"personal_status='female div/dep/mar'\",\n",
       " \"savings_status='500<=X<1000'\",\n",
       " 'installment_commitment=4',\n",
       " \"personal_status='male single'\",\n",
       " 'other_parties=guarantor',\n",
       " \"employment='>=7'\",\n",
       " 'other_payment_plans=bank',\n",
       " \"other_parties='co applicant'\",\n",
       " 'existing_credits=1',\n",
       " \"credit_history='existing paid'\",\n",
       " 'other_payment_plans=stores',\n",
       " 'own_telephone=none',\n",
       " 'own_telephone=yes',\n",
       " 'installment_commitment=1',\n",
       " 'existing_credits=2',\n",
       " \"savings_status='100<=X<500'\",\n",
       " 'employment=unemployed',\n",
       " 'existing_credits=3',\n",
       " \"personal_status='male div/sep'\",\n",
       " 'purpose=other',\n",
       " 'log_credit_amount',\n",
       " 'credit_amount',\n",
       " 'installment_commitment=2',\n",
       " \"job='high qualif/self emp/mgmt'\",\n",
       " 'credit_duration_ratio',\n",
       " 'log_credit_duration_ratio',\n",
       " \"personal_status='male mar/wid'\",\n",
       " 'purpose=retraining',\n",
       " \"checking_status='>=200'\",\n",
       " 'purpose=furniture/equipment',\n",
       " 'installment_commitment=3',\n",
       " 'age',\n",
       " 'log_age',\n",
       " \"purpose='domestic appliance'\",\n",
       " \"job='unskilled resident'\"]"
      ]
     },
     "execution_count": 103,
     "metadata": {},
     "output_type": "execute_result"
    }
   ],
   "source": [
    "selector = ChiSqSelector(numTopFeatures=60, outputCol=\"selectedFeatures\")\n",
    "selector_model = selector.fit(df_train)\n",
    "[features[idx] for idx in selector_model.selectedFeatures]"
   ]
  },
  {
   "cell_type": "markdown",
   "metadata": {},
   "source": [
    "Surprisingly the chiSqSelector score the new features quite low (~50 from 76). let see what is the absulute value of their coef:"
   ]
  },
  {
   "cell_type": "code",
   "execution_count": 107,
   "metadata": {},
   "outputs": [
    {
     "data": {
      "text/plain": [
       "[\"savings_status='>=1000'\",\n",
       " 'purpose=retraining',\n",
       " \"credit_history='no credits/all paid'\",\n",
       " 'foreign_worker=no',\n",
       " 'purpose=education',\n",
       " 'other_parties=guarantor',\n",
       " \"checking_status='no checking'\",\n",
       " \"purpose='used car'\",\n",
       " 'log_credit_duration_ratio',\n",
       " 'credit_duration_ratio']"
      ]
     },
     "execution_count": 107,
     "metadata": {},
     "output_type": "execute_result"
    }
   ],
   "source": [
    "importance_idx = np.argsort(abs(lrModel.coefficients.toArray()))[::-1]\n",
    "[features[idx] for idx in importance_idx[:10]]"
   ]
  },
  {
   "cell_type": "markdown",
   "metadata": {},
   "source": [
    "Indeed, according to the coefs values the credit-duration-ratio and the log of it are the 10th and 9th most important features"
   ]
  },
  {
   "cell_type": "markdown",
   "metadata": {},
   "source": [
    "## Summary"
   ]
  },
  {
   "cell_type": "markdown",
   "metadata": {},
   "source": [
    "Linear regression with no regularization and default features seems to get the desired results with 83% success to predict the quality of the loan, or more precisely the model has probability of 0.83 to rank a randomly chosen positive example (bad loan) above a randomly chosen negative one (good loan).\n",
    "\n",
    "While the results are good there is more to do in order to improve recall and precision of predicting bad loans."
   ]
  },
  {
   "cell_type": "markdown",
   "metadata": {},
   "source": [
    "## Try non-linear classifier:"
   ]
  },
  {
   "cell_type": "code",
   "execution_count": 72,
   "metadata": {},
   "outputs": [
    {
     "data": {
      "text/plain": [
       "SVC(C=1.0, cache_size=200, class_weight='balanced', coef0=0.0,\n",
       "  decision_function_shape=None, degree=3, gamma='auto', kernel='rbf',\n",
       "  max_iter=-1, probability=False, random_state=42, shrinking=True,\n",
       "  tol=0.001, verbose=False)"
      ]
     },
     "execution_count": 72,
     "metadata": {},
     "output_type": "execute_result"
    }
   ],
   "source": [
    "model_svc = SVC(class_weight='balanced', random_state=42)\n",
    "model_svc.fit(X_train, y_train)"
   ]
  },
  {
   "cell_type": "code",
   "execution_count": 73,
   "metadata": {},
   "outputs": [
    {
     "name": "stdout",
     "output_type": "stream",
     "text": [
      "train auc score:  0.848261937811\n",
      "train f1-score:  0.663194444444\n",
      "             precision    recall  f1-score   support\n",
      "\n",
      "          0       0.89      0.74      0.81       559\n",
      "          1       0.57      0.79      0.66       241\n",
      "\n",
      "avg / total       0.80      0.76      0.77       800\n",
      "\n",
      "[[415 144]\n",
      " [ 50 191]]\n",
      "test auc score:  0.820771727371\n",
      "test f1-score:  0.63309352518\n",
      "             precision    recall  f1-score   support\n",
      "\n",
      "          0       0.88      0.74      0.80       141\n",
      "          1       0.55      0.75      0.63        59\n",
      "\n",
      "avg / total       0.78      0.74      0.75       200\n",
      "\n",
      "[[105  36]\n",
      " [ 15  44]]\n"
     ]
    },
    {
     "data": {
      "image/png": "[encoded data removed]",
      "text/plain": [
       "<matplotlib.figure.Figure at 0x2d6cb5520b8>"
      ]
     },
     "metadata": {},
     "output_type": "display_data"
    }
   ],
   "source": [
    "# Predict\n",
    "pred_train = model_svc.predict(X_train)\n",
    "pred_test = model_svc.predict(X_test)\n",
    "\n",
    "y_train_score = model_svc.decision_function(X_train)\n",
    "print('train auc score: ', roc_auc_score(y_train, y_train_score))\n",
    "print('train f1-score: ', f1_score(y_train, pred_train))\n",
    "print(classification_report(y_train, pred_train))\n",
    "print(confusion_matrix(y_train, pred_train))\n",
    "\n",
    "y_test_score = model_svc.decision_function(X_test)\n",
    "print('test auc score: ', roc_auc_score(y_test, y_test_score))\n",
    "print('test f1-score: ', f1_score(y_test, pred_test))\n",
    "print(classification_report(y_test, pred_test))\n",
    "print(confusion_matrix(y_test, pred_test))\n",
    "\n",
    "plot_utils.plot_roc_curve(model_svc, X_test, y_test)"
   ]
  },
  {
   "cell_type": "markdown",
   "metadata": {},
   "source": [
    "With non-linear classifier, svc with rbf kernel, we achieved same auc score as lr. However, the svc threshold lie in different point on the roc curve with higher recall on the expense on undesirable FPR of 0.26.\n",
    "\n",
    "Anyway this is only a prilaminary results there is a need to do hyper-parameter tuning and maybe check for other algorithms."
   ]
  },
  {
   "cell_type": "markdown",
   "metadata": {
    "collapsed": true
   },
   "source": [
    "## Random Forest"
   ]
  },
  {
   "cell_type": "code",
   "execution_count": 74,
   "metadata": {},
   "outputs": [
    {
     "data": {
      "text/plain": [
       "RandomForestClassifier(bootstrap=True, class_weight='balanced',\n",
       "            criterion='gini', max_depth=4, max_features='auto',\n",
       "            max_leaf_nodes=None, min_impurity_split=1e-07,\n",
       "            min_samples_leaf=1, min_samples_split=2,\n",
       "            min_weight_fraction_leaf=0.0, n_estimators=12, n_jobs=1,\n",
       "            oob_score=False, random_state=42, verbose=0, warm_start=False)"
      ]
     },
     "execution_count": 74,
     "metadata": {},
     "output_type": "execute_result"
    }
   ],
   "source": [
    "model_rf = RandomForestClassifier(class_weight='balanced', n_estimators=12, max_depth=4, random_state=42)\n",
    "model_rf.fit(X_train, y_train)"
   ]
  },
  {
   "cell_type": "code",
   "execution_count": 75,
   "metadata": {},
   "outputs": [
    {
     "name": "stdout",
     "output_type": "stream",
     "text": [
      "train auc score:  0.857310401651\n",
      "train f1-score:  0.673952641166\n",
      "             precision    recall  f1-score   support\n",
      "\n",
      "          0       0.89      0.78      0.83       559\n",
      "          1       0.60      0.77      0.67       241\n",
      "\n",
      "avg / total       0.80      0.78      0.78       800\n",
      "\n",
      "[[436 123]\n",
      " [ 56 185]]\n",
      "test auc score:  0.746003125376\n",
      "test f1-score:  0.569230769231\n",
      "             precision    recall  f1-score   support\n",
      "\n",
      "          0       0.83      0.76      0.79       141\n",
      "          1       0.52      0.63      0.57        59\n",
      "\n",
      "avg / total       0.74      0.72      0.73       200\n",
      "\n",
      "[[107  34]\n",
      " [ 22  37]]\n"
     ]
    },
    {
     "data": {
      "image/png": "[encoded data removed]",
      "text/plain": [
       "<matplotlib.figure.Figure at 0x2d6cb5bb358>"
      ]
     },
     "metadata": {},
     "output_type": "display_data"
    }
   ],
   "source": [
    "# Predict\n",
    "pred_train = model_rf.predict(X_train)\n",
    "pred_test = model_rf.predict(X_test)\n",
    "\n",
    "y_train_score = model_rf.predict_proba(X_train)[:,1]\n",
    "print('train auc score: ', roc_auc_score(y_train, y_train_score))\n",
    "print('train f1-score: ', f1_score(y_train, pred_train))\n",
    "print(classification_report(y_train, pred_train))\n",
    "print(confusion_matrix(y_train, pred_train))\n",
    "\n",
    "y_test_score = model_rf.predict_proba(X_test)[:,1]\n",
    "print('test auc score: ', roc_auc_score(y_test, y_test_score))\n",
    "print('test f1-score: ', f1_score(y_test, pred_test))\n",
    "print(classification_report(y_test, pred_test))\n",
    "print(confusion_matrix(y_test, pred_test))\n",
    "\n",
    "plot_utils.plot_roc_curve(model_rf, X_test, y_test)"
   ]
  },
  {
   "cell_type": "markdown",
   "metadata": {},
   "source": [
    "random forest with arbitrary parameters gives over-fitted model. Lets try tuning hyper parameters with cross-validated grid search. To prevent data leakage we need to do different pre-processing for each fold. For that we will use customized class (more about using customized class and its benefit and importance while using pipline and grid-search cv you can find [in this link](https://ramhiser.com/post/2018-04-16-building-scikit-learn-pipeline-with-pandas-dataframe/)."
   ]
  },
  {
   "cell_type": "code",
   "execution_count": 76,
   "metadata": {
    "collapsed": true
   },
   "outputs": [],
   "source": [
    "# a cusotm transformer class wich enables transform, pre and/or post-processing on part of the data \n",
    "# good to use in FeatureUnion class\n",
    "class DfFeatures(BaseEstimator, TransformerMixin):\n",
    "    def __init__(self, cols=None, trf = None, to_dict = False, sparse = False, to_array = False):\n",
    "#         print(\"in init\")\n",
    "#         print(trf)\n",
    "        self.cols = cols\n",
    "        self.trf = trf\n",
    "        self.to_dict = to_dict\n",
    "        self.sparse = sparse\n",
    "        self.to_array = to_array\n",
    "        \n",
    "    def df_pre_process(self, df):\n",
    "        if self.cols is not None:\n",
    "            df = df[self.cols]\n",
    "        if self.to_dict:\n",
    "            df = df.to_dict('records')\n",
    "        return df\n",
    "    \n",
    "    def df_post_process(self, U):\n",
    "        if self.sparse:\n",
    "            U = coo_matrix(U)\n",
    "        if self.to_array:\n",
    "            U = U.toarray()\n",
    "        return U\n",
    "    \n",
    "    def transform(self, df):\n",
    "        X = self.df_pre_process(df)\n",
    "        U = self.trf.transform(X) if self.trf is not None else X\n",
    "        U = self.df_post_process(U)\n",
    "        return U\n",
    "    \n",
    "    def fit_transform(self, df, y=None):\n",
    "        X = self.df_pre_process(df)\n",
    "        U = self.trf.fit_transform(X) if self.trf is not None else X       \n",
    "        U = self.df_post_process(U)\n",
    "        return U"
   ]
  },
  {
   "cell_type": "markdown",
   "metadata": {},
   "source": [
    "hyper-parameter optimization for random forest:"
   ]
  },
  {
   "cell_type": "code",
   "execution_count": 77,
   "metadata": {},
   "outputs": [
    {
     "name": "stdout",
     "output_type": "stream",
     "text": [
      "Fitting 3 folds for each of 30 candidates, totalling 90 fits\n"
     ]
    },
    {
     "name": "stderr",
     "output_type": "stream",
     "text": [
      "[Parallel(n_jobs=1)]: Done  90 out of  90 | elapsed:    5.5s finished\n"
     ]
    },
    {
     "data": {
      "text/plain": [
       "GridSearchCV(cv=None, error_score='raise',\n",
       "       estimator=Pipeline(steps=[('f_union', FeatureUnion(n_jobs=1,\n",
       "       transformer_list=[('cat_to_vect', DfFeatures(cols=['checking_status', 'credit_history', 'purpose', 'savings_status', 'employment', 'personal_status', 'other_parties', 'property_magnitude', 'other_payment_plans', 'housing', 'job', 'own_telephone', 'for...stimators=10, n_jobs=1,\n",
       "            oob_score=False, random_state=42, verbose=0, warm_start=False))]),\n",
       "       fit_params={}, iid=True, n_jobs=1,\n",
       "       param_grid={'rnd_forest__max_depth': [2, 3, 4, 5, 6], 'rnd_forest__n_estimators': [5, 7, 10, 12, 15, 18]},\n",
       "       pre_dispatch='2*n_jobs', refit=True, return_train_score=True,\n",
       "       scoring='roc_auc', verbose=1)"
      ]
     },
     "execution_count": 77,
     "metadata": {},
     "output_type": "execute_result"
    }
   ],
   "source": [
    "# FeatureUnion is used to concatenate different features. We must use it because we want GridSearchCV to do it seperately \n",
    "# for each fold to prevent data leakage (until now we did it to the entire train data). Since each transformer does not applied\n",
    "# to all the data we need the customized class, DFfeaures, that enables choosing only part of the data for each transformer.\n",
    "f_union = (FeatureUnion([('cat_to_vect', DfFeatures(cols = categorical_features, trf = DictVectorizer(sparse = False), to_dict = True)),\n",
    "                        ('scale_numericals',DfFeatures(cols = numerical_features, trf = StandardScaler())),\n",
    "                        ('ohe', DfFeatures(cols = int_features, trf = OneHotEncoder(sparse = False)))]))\n",
    "estimators = [('f_union', f_union), ('rnd_forest', RandomForestClassifier(class_weight='balanced', random_state=42))]\n",
    "pipe = Pipeline(estimators)\n",
    "param_grid = dict(rnd_forest__max_depth = [2, 3 ,4, 5, 6], rnd_forest__n_estimators = [5, 7, 10, 12, 15, 18])\n",
    "clf = GridSearchCV(pipe, param_grid=param_grid, verbose = 1, scoring= 'roc_auc', return_train_score = True)\n",
    "clf.fit(df_train, y_train)"
   ]
  },
  {
   "cell_type": "code",
   "execution_count": 78,
   "metadata": {},
   "outputs": [
    {
     "data": {
      "text/html": [
       "<div>\n",
       "<style>\n",
       "    .dataframe thead tr:only-child th {\n",
       "        text-align: right;\n",
       "    }\n",
       "\n",
       "    .dataframe thead th {\n",
       "        text-align: left;\n",
       "    }\n",
       "\n",
       "    .dataframe tbody tr th {\n",
       "        vertical-align: top;\n",
       "    }\n",
       "</style>\n",
       "<table border=\"1\" class=\"dataframe\">\n",
       "  <thead>\n",
       "    <tr style=\"text-align: right;\">\n",
       "      <th></th>\n",
       "      <th>mean_fit_time</th>\n",
       "      <th>mean_score_time</th>\n",
       "      <th>mean_test_score</th>\n",
       "      <th>mean_train_score</th>\n",
       "      <th>param_rnd_forest__max_depth</th>\n",
       "      <th>param_rnd_forest__n_estimators</th>\n",
       "      <th>params</th>\n",
       "      <th>rank_test_score</th>\n",
       "      <th>split0_test_score</th>\n",
       "      <th>split0_train_score</th>\n",
       "      <th>split1_test_score</th>\n",
       "      <th>split1_train_score</th>\n",
       "      <th>split2_test_score</th>\n",
       "      <th>split2_train_score</th>\n",
       "      <th>std_fit_time</th>\n",
       "      <th>std_score_time</th>\n",
       "      <th>std_test_score</th>\n",
       "      <th>std_train_score</th>\n",
       "    </tr>\n",
       "  </thead>\n",
       "  <tbody>\n",
       "    <tr>\n",
       "      <th>0</th>\n",
       "      <td>0.024653</td>\n",
       "      <td>0.010659</td>\n",
       "      <td>0.730603</td>\n",
       "      <td>0.766076</td>\n",
       "      <td>2</td>\n",
       "      <td>5</td>\n",
       "      <td>{'rnd_forest__max_depth': 2, 'rnd_forest__n_es...</td>\n",
       "      <td>25</td>\n",
       "      <td>0.703473</td>\n",
       "      <td>0.767347</td>\n",
       "      <td>0.743347</td>\n",
       "      <td>0.776564</td>\n",
       "      <td>0.745195</td>\n",
       "      <td>0.754317</td>\n",
       "      <td>0.000942</td>\n",
       "      <td>4.703071e-04</td>\n",
       "      <td>0.019271</td>\n",
       "      <td>0.009127</td>\n",
       "    </tr>\n",
       "    <tr>\n",
       "      <th>1</th>\n",
       "      <td>0.025317</td>\n",
       "      <td>0.008682</td>\n",
       "      <td>0.739628</td>\n",
       "      <td>0.778935</td>\n",
       "      <td>2</td>\n",
       "      <td>7</td>\n",
       "      <td>{'rnd_forest__max_depth': 2, 'rnd_forest__n_es...</td>\n",
       "      <td>18</td>\n",
       "      <td>0.707665</td>\n",
       "      <td>0.772421</td>\n",
       "      <td>0.752319</td>\n",
       "      <td>0.790976</td>\n",
       "      <td>0.759140</td>\n",
       "      <td>0.773408</td>\n",
       "      <td>0.000469</td>\n",
       "      <td>2.586872e-03</td>\n",
       "      <td>0.022856</td>\n",
       "      <td>0.008524</td>\n",
       "    </tr>\n",
       "    <tr>\n",
       "      <th>2</th>\n",
       "      <td>0.031859</td>\n",
       "      <td>0.010661</td>\n",
       "      <td>0.740697</td>\n",
       "      <td>0.793651</td>\n",
       "      <td>2</td>\n",
       "      <td>10</td>\n",
       "      <td>{'rnd_forest__max_depth': 2, 'rnd_forest__n_es...</td>\n",
       "      <td>17</td>\n",
       "      <td>0.698950</td>\n",
       "      <td>0.791633</td>\n",
       "      <td>0.771203</td>\n",
       "      <td>0.806463</td>\n",
       "      <td>0.752251</td>\n",
       "      <td>0.782858</td>\n",
       "      <td>0.004145</td>\n",
       "      <td>4.713279e-04</td>\n",
       "      <td>0.030621</td>\n",
       "      <td>0.009741</td>\n",
       "    </tr>\n",
       "    <tr>\n",
       "      <th>3</th>\n",
       "      <td>0.031309</td>\n",
       "      <td>0.010333</td>\n",
       "      <td>0.732739</td>\n",
       "      <td>0.794702</td>\n",
       "      <td>2</td>\n",
       "      <td>12</td>\n",
       "      <td>{'rnd_forest__max_depth': 2, 'rnd_forest__n_es...</td>\n",
       "      <td>22</td>\n",
       "      <td>0.699809</td>\n",
       "      <td>0.797723</td>\n",
       "      <td>0.755108</td>\n",
       "      <td>0.805372</td>\n",
       "      <td>0.743548</td>\n",
       "      <td>0.781010</td>\n",
       "      <td>0.000474</td>\n",
       "      <td>4.792378e-04</td>\n",
       "      <td>0.023843</td>\n",
       "      <td>0.010173</td>\n",
       "    </tr>\n",
       "    <tr>\n",
       "      <th>4</th>\n",
       "      <td>0.034569</td>\n",
       "      <td>0.010994</td>\n",
       "      <td>0.734571</td>\n",
       "      <td>0.801207</td>\n",
       "      <td>2</td>\n",
       "      <td>15</td>\n",
       "      <td>{'rnd_forest__max_depth': 2, 'rnd_forest__n_es...</td>\n",
       "      <td>20</td>\n",
       "      <td>0.699941</td>\n",
       "      <td>0.796623</td>\n",
       "      <td>0.755679</td>\n",
       "      <td>0.811242</td>\n",
       "      <td>0.748353</td>\n",
       "      <td>0.795755</td>\n",
       "      <td>0.001581</td>\n",
       "      <td>4.052337e-07</td>\n",
       "      <td>0.024760</td>\n",
       "      <td>0.007105</td>\n",
       "    </tr>\n",
       "    <tr>\n",
       "      <th>5</th>\n",
       "      <td>0.040321</td>\n",
       "      <td>0.008692</td>\n",
       "      <td>0.742848</td>\n",
       "      <td>0.803569</td>\n",
       "      <td>2</td>\n",
       "      <td>18</td>\n",
       "      <td>{'rnd_forest__max_depth': 2, 'rnd_forest__n_es...</td>\n",
       "      <td>13</td>\n",
       "      <td>0.713310</td>\n",
       "      <td>0.802403</td>\n",
       "      <td>0.763138</td>\n",
       "      <td>0.810392</td>\n",
       "      <td>0.752319</td>\n",
       "      <td>0.797912</td>\n",
       "      <td>0.005445</td>\n",
       "      <td>3.258402e-03</td>\n",
       "      <td>0.021424</td>\n",
       "      <td>0.005162</td>\n",
       "    </tr>\n",
       "    <tr>\n",
       "      <th>6</th>\n",
       "      <td>0.024322</td>\n",
       "      <td>0.010328</td>\n",
       "      <td>0.723615</td>\n",
       "      <td>0.811877</td>\n",
       "      <td>3</td>\n",
       "      <td>5</td>\n",
       "      <td>{'rnd_forest__max_depth': 3, 'rnd_forest__n_es...</td>\n",
       "      <td>29</td>\n",
       "      <td>0.718030</td>\n",
       "      <td>0.804629</td>\n",
       "      <td>0.711895</td>\n",
       "      <td>0.819260</td>\n",
       "      <td>0.740961</td>\n",
       "      <td>0.811741</td>\n",
       "      <td>0.000474</td>\n",
       "      <td>4.703588e-04</td>\n",
       "      <td>0.012497</td>\n",
       "      <td>0.005974</td>\n",
       "    </tr>\n",
       "    <tr>\n",
       "      <th>7</th>\n",
       "      <td>0.021839</td>\n",
       "      <td>0.011875</td>\n",
       "      <td>0.725923</td>\n",
       "      <td>0.830288</td>\n",
       "      <td>3</td>\n",
       "      <td>7</td>\n",
       "      <td>{'rnd_forest__max_depth': 3, 'rnd_forest__n_es...</td>\n",
       "      <td>27</td>\n",
       "      <td>0.703077</td>\n",
       "      <td>0.811979</td>\n",
       "      <td>0.715995</td>\n",
       "      <td>0.842189</td>\n",
       "      <td>0.758871</td>\n",
       "      <td>0.836694</td>\n",
       "      <td>0.005174</td>\n",
       "      <td>2.660028e-03</td>\n",
       "      <td>0.023845</td>\n",
       "      <td>0.013139</td>\n",
       "    </tr>\n",
       "    <tr>\n",
       "      <th>8</th>\n",
       "      <td>0.028981</td>\n",
       "      <td>0.010327</td>\n",
       "      <td>0.731761</td>\n",
       "      <td>0.843022</td>\n",
       "      <td>3</td>\n",
       "      <td>10</td>\n",
       "      <td>{'rnd_forest__max_depth': 3, 'rnd_forest__n_es...</td>\n",
       "      <td>24</td>\n",
       "      <td>0.691721</td>\n",
       "      <td>0.835845</td>\n",
       "      <td>0.752789</td>\n",
       "      <td>0.849766</td>\n",
       "      <td>0.751075</td>\n",
       "      <td>0.843455</td>\n",
       "      <td>0.000004</td>\n",
       "      <td>4.710332e-04</td>\n",
       "      <td>0.028428</td>\n",
       "      <td>0.005691</td>\n",
       "    </tr>\n",
       "    <tr>\n",
       "      <th>9</th>\n",
       "      <td>0.031108</td>\n",
       "      <td>0.008035</td>\n",
       "      <td>0.733103</td>\n",
       "      <td>0.846168</td>\n",
       "      <td>3</td>\n",
       "      <td>12</td>\n",
       "      <td>{'rnd_forest__max_depth': 3, 'rnd_forest__n_es...</td>\n",
       "      <td>21</td>\n",
       "      <td>0.697993</td>\n",
       "      <td>0.842918</td>\n",
       "      <td>0.756149</td>\n",
       "      <td>0.851506</td>\n",
       "      <td>0.745430</td>\n",
       "      <td>0.844079</td>\n",
       "      <td>0.000654</td>\n",
       "      <td>4.196652e-03</td>\n",
       "      <td>0.025300</td>\n",
       "      <td>0.003804</td>\n",
       "    </tr>\n",
       "    <tr>\n",
       "      <th>10</th>\n",
       "      <td>0.034315</td>\n",
       "      <td>0.010994</td>\n",
       "      <td>0.745053</td>\n",
       "      <td>0.850355</td>\n",
       "      <td>3</td>\n",
       "      <td>15</td>\n",
       "      <td>{'rnd_forest__max_depth': 3, 'rnd_forest__n_es...</td>\n",
       "      <td>10</td>\n",
       "      <td>0.709117</td>\n",
       "      <td>0.843481</td>\n",
       "      <td>0.758972</td>\n",
       "      <td>0.855478</td>\n",
       "      <td>0.767339</td>\n",
       "      <td>0.852106</td>\n",
       "      <td>0.000474</td>\n",
       "      <td>1.123916e-07</td>\n",
       "      <td>0.025733</td>\n",
       "      <td>0.005052</td>\n",
       "    </tr>\n",
       "    <tr>\n",
       "      <th>11</th>\n",
       "      <td>0.035071</td>\n",
       "      <td>0.012538</td>\n",
       "      <td>0.751101</td>\n",
       "      <td>0.851333</td>\n",
       "      <td>3</td>\n",
       "      <td>18</td>\n",
       "      <td>{'rnd_forest__max_depth': 3, 'rnd_forest__n_es...</td>\n",
       "      <td>6</td>\n",
       "      <td>0.720902</td>\n",
       "      <td>0.853243</td>\n",
       "      <td>0.764550</td>\n",
       "      <td>0.852922</td>\n",
       "      <td>0.768078</td>\n",
       "      <td>0.847834</td>\n",
       "      <td>0.002694</td>\n",
       "      <td>2.184724e-03</td>\n",
       "      <td>0.021482</td>\n",
       "      <td>0.002477</td>\n",
       "    </tr>\n",
       "    <tr>\n",
       "      <th>12</th>\n",
       "      <td>0.023987</td>\n",
       "      <td>0.010327</td>\n",
       "      <td>0.736086</td>\n",
       "      <td>0.852021</td>\n",
       "      <td>4</td>\n",
       "      <td>5</td>\n",
       "      <td>{'rnd_forest__max_depth': 4, 'rnd_forest__n_es...</td>\n",
       "      <td>19</td>\n",
       "      <td>0.713970</td>\n",
       "      <td>0.863592</td>\n",
       "      <td>0.747715</td>\n",
       "      <td>0.846186</td>\n",
       "      <td>0.746741</td>\n",
       "      <td>0.846286</td>\n",
       "      <td>0.000816</td>\n",
       "      <td>4.713718e-04</td>\n",
       "      <td>0.015703</td>\n",
       "      <td>0.008182</td>\n",
       "    </tr>\n",
       "    <tr>\n",
       "      <th>13</th>\n",
       "      <td>0.027740</td>\n",
       "      <td>0.006662</td>\n",
       "      <td>0.744804</td>\n",
       "      <td>0.868191</td>\n",
       "      <td>4</td>\n",
       "      <td>7</td>\n",
       "      <td>{'rnd_forest__max_depth': 4, 'rnd_forest__n_es...</td>\n",
       "      <td>11</td>\n",
       "      <td>0.732521</td>\n",
       "      <td>0.875008</td>\n",
       "      <td>0.752117</td>\n",
       "      <td>0.865968</td>\n",
       "      <td>0.749866</td>\n",
       "      <td>0.863595</td>\n",
       "      <td>0.002481</td>\n",
       "      <td>4.711006e-03</td>\n",
       "      <td>0.008766</td>\n",
       "      <td>0.004917</td>\n",
       "    </tr>\n",
       "    <tr>\n",
       "      <th>14</th>\n",
       "      <td>0.029983</td>\n",
       "      <td>0.010322</td>\n",
       "      <td>0.741633</td>\n",
       "      <td>0.880813</td>\n",
       "      <td>4</td>\n",
       "      <td>10</td>\n",
       "      <td>{'rnd_forest__max_depth': 4, 'rnd_forest__n_es...</td>\n",
       "      <td>15</td>\n",
       "      <td>0.725457</td>\n",
       "      <td>0.895539</td>\n",
       "      <td>0.753293</td>\n",
       "      <td>0.871538</td>\n",
       "      <td>0.746270</td>\n",
       "      <td>0.875360</td>\n",
       "      <td>0.000816</td>\n",
       "      <td>4.754254e-04</td>\n",
       "      <td>0.011833</td>\n",
       "      <td>0.010530</td>\n",
       "    </tr>\n",
       "    <tr>\n",
       "      <th>15</th>\n",
       "      <td>0.031648</td>\n",
       "      <td>0.010995</td>\n",
       "      <td>0.741512</td>\n",
       "      <td>0.883727</td>\n",
       "      <td>4</td>\n",
       "      <td>12</td>\n",
       "      <td>{'rnd_forest__max_depth': 4, 'rnd_forest__n_es...</td>\n",
       "      <td>16</td>\n",
       "      <td>0.718459</td>\n",
       "      <td>0.896699</td>\n",
       "      <td>0.751344</td>\n",
       "      <td>0.873279</td>\n",
       "      <td>0.754906</td>\n",
       "      <td>0.881205</td>\n",
       "      <td>0.000942</td>\n",
       "      <td>1.910657e-06</td>\n",
       "      <td>0.016426</td>\n",
       "      <td>0.009726</td>\n",
       "    </tr>\n",
       "    <tr>\n",
       "      <th>16</th>\n",
       "      <td>0.034310</td>\n",
       "      <td>0.010996</td>\n",
       "      <td>0.749816</td>\n",
       "      <td>0.889206</td>\n",
       "      <td>4</td>\n",
       "      <td>15</td>\n",
       "      <td>{'rnd_forest__max_depth': 4, 'rnd_forest__n_es...</td>\n",
       "      <td>7</td>\n",
       "      <td>0.727240</td>\n",
       "      <td>0.898505</td>\n",
       "      <td>0.760820</td>\n",
       "      <td>0.879831</td>\n",
       "      <td>0.761559</td>\n",
       "      <td>0.889281</td>\n",
       "      <td>0.000470</td>\n",
       "      <td>8.177038e-04</td>\n",
       "      <td>0.016027</td>\n",
       "      <td>0.007624</td>\n",
       "    </tr>\n",
       "    <tr>\n",
       "      <th>17</th>\n",
       "      <td>0.038482</td>\n",
       "      <td>0.012870</td>\n",
       "      <td>0.753060</td>\n",
       "      <td>0.889536</td>\n",
       "      <td>4</td>\n",
       "      <td>18</td>\n",
       "      <td>{'rnd_forest__max_depth': 4, 'rnd_forest__n_es...</td>\n",
       "      <td>4</td>\n",
       "      <td>0.732653</td>\n",
       "      <td>0.906947</td>\n",
       "      <td>0.763105</td>\n",
       "      <td>0.877442</td>\n",
       "      <td>0.763575</td>\n",
       "      <td>0.884219</td>\n",
       "      <td>0.010212</td>\n",
       "      <td>1.989175e-03</td>\n",
       "      <td>0.014485</td>\n",
       "      <td>0.012619</td>\n",
       "    </tr>\n",
       "    <tr>\n",
       "      <th>18</th>\n",
       "      <td>0.024320</td>\n",
       "      <td>0.009994</td>\n",
       "      <td>0.714798</td>\n",
       "      <td>0.880080</td>\n",
       "      <td>5</td>\n",
       "      <td>5</td>\n",
       "      <td>{'rnd_forest__max_depth': 5, 'rnd_forest__n_es...</td>\n",
       "      <td>30</td>\n",
       "      <td>0.721529</td>\n",
       "      <td>0.880494</td>\n",
       "      <td>0.684039</td>\n",
       "      <td>0.870789</td>\n",
       "      <td>0.738777</td>\n",
       "      <td>0.888956</td>\n",
       "      <td>0.000471</td>\n",
       "      <td>2.247832e-07</td>\n",
       "      <td>0.022824</td>\n",
       "      <td>0.007423</td>\n",
       "    </tr>\n",
       "    <tr>\n",
       "      <th>19</th>\n",
       "      <td>0.028408</td>\n",
       "      <td>0.012204</td>\n",
       "      <td>0.727324</td>\n",
       "      <td>0.899713</td>\n",
       "      <td>5</td>\n",
       "      <td>7</td>\n",
       "      <td>{'rnd_forest__max_depth': 5, 'rnd_forest__n_es...</td>\n",
       "      <td>26</td>\n",
       "      <td>0.737506</td>\n",
       "      <td>0.893632</td>\n",
       "      <td>0.701008</td>\n",
       "      <td>0.898198</td>\n",
       "      <td>0.743380</td>\n",
       "      <td>0.907307</td>\n",
       "      <td>0.002017</td>\n",
       "      <td>2.455329e-03</td>\n",
       "      <td>0.018727</td>\n",
       "      <td>0.005684</td>\n",
       "    </tr>\n",
       "    <tr>\n",
       "      <th>20</th>\n",
       "      <td>0.029979</td>\n",
       "      <td>0.011660</td>\n",
       "      <td>0.743671</td>\n",
       "      <td>0.915466</td>\n",
       "      <td>5</td>\n",
       "      <td>10</td>\n",
       "      <td>{'rnd_forest__max_depth': 5, 'rnd_forest__n_es...</td>\n",
       "      <td>12</td>\n",
       "      <td>0.740180</td>\n",
       "      <td>0.922018</td>\n",
       "      <td>0.735753</td>\n",
       "      <td>0.906100</td>\n",
       "      <td>0.755108</td>\n",
       "      <td>0.918281</td>\n",
       "      <td>0.000811</td>\n",
       "      <td>4.711456e-04</td>\n",
       "      <td>0.008272</td>\n",
       "      <td>0.006796</td>\n",
       "    </tr>\n",
       "    <tr>\n",
       "      <th>21</th>\n",
       "      <td>0.031653</td>\n",
       "      <td>0.010661</td>\n",
       "      <td>0.745538</td>\n",
       "      <td>0.923234</td>\n",
       "      <td>5</td>\n",
       "      <td>12</td>\n",
       "      <td>{'rnd_forest__max_depth': 5, 'rnd_forest__n_es...</td>\n",
       "      <td>9</td>\n",
       "      <td>0.736615</td>\n",
       "      <td>0.924630</td>\n",
       "      <td>0.737097</td>\n",
       "      <td>0.919188</td>\n",
       "      <td>0.762970</td>\n",
       "      <td>0.925882</td>\n",
       "      <td>0.000465</td>\n",
       "      <td>4.712580e-04</td>\n",
       "      <td>0.012305</td>\n",
       "      <td>0.002906</td>\n",
       "    </tr>\n",
       "    <tr>\n",
       "      <th>22</th>\n",
       "      <td>0.035319</td>\n",
       "      <td>0.011326</td>\n",
       "      <td>0.751928</td>\n",
       "      <td>0.928230</td>\n",
       "      <td>5</td>\n",
       "      <td>15</td>\n",
       "      <td>{'rnd_forest__max_depth': 5, 'rnd_forest__n_es...</td>\n",
       "      <td>5</td>\n",
       "      <td>0.746484</td>\n",
       "      <td>0.928797</td>\n",
       "      <td>0.739651</td>\n",
       "      <td>0.926132</td>\n",
       "      <td>0.769691</td>\n",
       "      <td>0.929762</td>\n",
       "      <td>0.000470</td>\n",
       "      <td>4.694035e-04</td>\n",
       "      <td>0.012844</td>\n",
       "      <td>0.001535</td>\n",
       "    </tr>\n",
       "    <tr>\n",
       "      <th>23</th>\n",
       "      <td>0.038637</td>\n",
       "      <td>0.011332</td>\n",
       "      <td>0.756707</td>\n",
       "      <td>0.930900</td>\n",
       "      <td>5</td>\n",
       "      <td>18</td>\n",
       "      <td>{'rnd_forest__max_depth': 5, 'rnd_forest__n_es...</td>\n",
       "      <td>2</td>\n",
       "      <td>0.747475</td>\n",
       "      <td>0.932342</td>\n",
       "      <td>0.753293</td>\n",
       "      <td>0.933242</td>\n",
       "      <td>0.769422</td>\n",
       "      <td>0.927114</td>\n",
       "      <td>0.000475</td>\n",
       "      <td>4.794064e-04</td>\n",
       "      <td>0.009284</td>\n",
       "      <td>0.002702</td>\n",
       "    </tr>\n",
       "    <tr>\n",
       "      <th>24</th>\n",
       "      <td>0.027110</td>\n",
       "      <td>0.009311</td>\n",
       "      <td>0.724696</td>\n",
       "      <td>0.920906</td>\n",
       "      <td>6</td>\n",
       "      <td>5</td>\n",
       "      <td>{'rnd_forest__max_depth': 6, 'rnd_forest__n_es...</td>\n",
       "      <td>28</td>\n",
       "      <td>0.696310</td>\n",
       "      <td>0.934316</td>\n",
       "      <td>0.713710</td>\n",
       "      <td>0.910146</td>\n",
       "      <td>0.764281</td>\n",
       "      <td>0.918256</td>\n",
       "      <td>0.002926</td>\n",
       "      <td>7.339244e-03</td>\n",
       "      <td>0.028829</td>\n",
       "      <td>0.010044</td>\n",
       "    </tr>\n",
       "    <tr>\n",
       "      <th>25</th>\n",
       "      <td>0.026986</td>\n",
       "      <td>0.010655</td>\n",
       "      <td>0.732232</td>\n",
       "      <td>0.938156</td>\n",
       "      <td>6</td>\n",
       "      <td>7</td>\n",
       "      <td>{'rnd_forest__max_depth': 6, 'rnd_forest__n_es...</td>\n",
       "      <td>23</td>\n",
       "      <td>0.713772</td>\n",
       "      <td>0.944153</td>\n",
       "      <td>0.736626</td>\n",
       "      <td>0.933725</td>\n",
       "      <td>0.746438</td>\n",
       "      <td>0.936589</td>\n",
       "      <td>0.000818</td>\n",
       "      <td>4.667172e-04</td>\n",
       "      <td>0.013700</td>\n",
       "      <td>0.004399</td>\n",
       "    </tr>\n",
       "    <tr>\n",
       "      <th>26</th>\n",
       "      <td>0.030312</td>\n",
       "      <td>0.010994</td>\n",
       "      <td>0.742823</td>\n",
       "      <td>0.950369</td>\n",
       "      <td>6</td>\n",
       "      <td>10</td>\n",
       "      <td>{'rnd_forest__max_depth': 6, 'rnd_forest__n_es...</td>\n",
       "      <td>14</td>\n",
       "      <td>0.723774</td>\n",
       "      <td>0.957846</td>\n",
       "      <td>0.763978</td>\n",
       "      <td>0.937472</td>\n",
       "      <td>0.740860</td>\n",
       "      <td>0.955789</td>\n",
       "      <td>0.000465</td>\n",
       "      <td>1.946680e-07</td>\n",
       "      <td>0.016482</td>\n",
       "      <td>0.009158</td>\n",
       "    </tr>\n",
       "    <tr>\n",
       "      <th>27</th>\n",
       "      <td>0.032653</td>\n",
       "      <td>0.010994</td>\n",
       "      <td>0.746573</td>\n",
       "      <td>0.953507</td>\n",
       "      <td>6</td>\n",
       "      <td>12</td>\n",
       "      <td>{'rnd_forest__max_depth': 6, 'rnd_forest__n_es...</td>\n",
       "      <td>8</td>\n",
       "      <td>0.725094</td>\n",
       "      <td>0.960400</td>\n",
       "      <td>0.761492</td>\n",
       "      <td>0.945165</td>\n",
       "      <td>0.753293</td>\n",
       "      <td>0.954956</td>\n",
       "      <td>0.000465</td>\n",
       "      <td>6.257699e-07</td>\n",
       "      <td>0.015607</td>\n",
       "      <td>0.006303</td>\n",
       "    </tr>\n",
       "    <tr>\n",
       "      <th>28</th>\n",
       "      <td>0.034407</td>\n",
       "      <td>0.012872</td>\n",
       "      <td>0.755285</td>\n",
       "      <td>0.961245</td>\n",
       "      <td>6</td>\n",
       "      <td>15</td>\n",
       "      <td>{'rnd_forest__max_depth': 6, 'rnd_forest__n_es...</td>\n",
       "      <td>3</td>\n",
       "      <td>0.732290</td>\n",
       "      <td>0.964197</td>\n",
       "      <td>0.763172</td>\n",
       "      <td>0.955273</td>\n",
       "      <td>0.770565</td>\n",
       "      <td>0.964265</td>\n",
       "      <td>0.002366</td>\n",
       "      <td>1.985085e-03</td>\n",
       "      <td>0.016597</td>\n",
       "      <td>0.004223</td>\n",
       "    </tr>\n",
       "    <tr>\n",
       "      <th>29</th>\n",
       "      <td>0.039971</td>\n",
       "      <td>0.011331</td>\n",
       "      <td>0.757971</td>\n",
       "      <td>0.964327</td>\n",
       "      <td>6</td>\n",
       "      <td>18</td>\n",
       "      <td>{'rnd_forest__max_depth': 6, 'rnd_forest__n_es...</td>\n",
       "      <td>1</td>\n",
       "      <td>0.743646</td>\n",
       "      <td>0.970346</td>\n",
       "      <td>0.759409</td>\n",
       "      <td>0.959169</td>\n",
       "      <td>0.770968</td>\n",
       "      <td>0.963466</td>\n",
       "      <td>0.000812</td>\n",
       "      <td>4.680832e-04</td>\n",
       "      <td>0.011207</td>\n",
       "      <td>0.004603</td>\n",
       "    </tr>\n",
       "  </tbody>\n",
       "</table>\n",
       "</div>"
      ],
      "text/plain": [
       "    mean_fit_time  mean_score_time  mean_test_score  mean_train_score  \\\n",
       "0        0.024653         0.010659         0.730603          0.766076   \n",
       "1        0.025317         0.008682         0.739628          0.778935   \n",
       "2        0.031859         0.010661         0.740697          0.793651   \n",
       "3        0.031309         0.010333         0.732739          0.794702   \n",
       "4        0.034569         0.010994         0.734571          0.801207   \n",
       "5        0.040321         0.008692         0.742848          0.803569   \n",
       "6        0.024322         0.010328         0.723615          0.811877   \n",
       "7        0.021839         0.011875         0.725923          0.830288   \n",
       "8        0.028981         0.010327         0.731761          0.843022   \n",
       "9        0.031108         0.008035         0.733103          0.846168   \n",
       "10       0.034315         0.010994         0.745053          0.850355   \n",
       "11       0.035071         0.012538         0.751101          0.851333   \n",
       "12       0.023987         0.010327         0.736086          0.852021   \n",
       "13       0.027740         0.006662         0.744804          0.868191   \n",
       "14       0.029983         0.010322         0.741633          0.880813   \n",
       "15       0.031648         0.010995         0.741512          0.883727   \n",
       "16       0.034310         0.010996         0.749816          0.889206   \n",
       "17       0.038482         0.012870         0.753060          0.889536   \n",
       "18       0.024320         0.009994         0.714798          0.880080   \n",
       "19       0.028408         0.012204         0.727324          0.899713   \n",
       "20       0.029979         0.011660         0.743671          0.915466   \n",
       "21       0.031653         0.010661         0.745538          0.923234   \n",
       "22       0.035319         0.011326         0.751928          0.928230   \n",
       "23       0.038637         0.011332         0.756707          0.930900   \n",
       "24       0.027110         0.009311         0.724696          0.920906   \n",
       "25       0.026986         0.010655         0.732232          0.938156   \n",
       "26       0.030312         0.010994         0.742823          0.950369   \n",
       "27       0.032653         0.010994         0.746573          0.953507   \n",
       "28       0.034407         0.012872         0.755285          0.961245   \n",
       "29       0.039971         0.011331         0.757971          0.964327   \n",
       "\n",
       "   param_rnd_forest__max_depth param_rnd_forest__n_estimators  \\\n",
       "0                            2                              5   \n",
       "1                            2                              7   \n",
       "2                            2                             10   \n",
       "3                            2                             12   \n",
       "4                            2                             15   \n",
       "5                            2                             18   \n",
       "6                            3                              5   \n",
       "7                            3                              7   \n",
       "8                            3                             10   \n",
       "9                            3                             12   \n",
       "10                           3                             15   \n",
       "11                           3                             18   \n",
       "12                           4                              5   \n",
       "13                           4                              7   \n",
       "14                           4                             10   \n",
       "15                           4                             12   \n",
       "16                           4                             15   \n",
       "17                           4                             18   \n",
       "18                           5                              5   \n",
       "19                           5                              7   \n",
       "20                           5                             10   \n",
       "21                           5                             12   \n",
       "22                           5                             15   \n",
       "23                           5                             18   \n",
       "24                           6                              5   \n",
       "25                           6                              7   \n",
       "26                           6                             10   \n",
       "27                           6                             12   \n",
       "28                           6                             15   \n",
       "29                           6                             18   \n",
       "\n",
       "                                               params  rank_test_score  \\\n",
       "0   {'rnd_forest__max_depth': 2, 'rnd_forest__n_es...               25   \n",
       "1   {'rnd_forest__max_depth': 2, 'rnd_forest__n_es...               18   \n",
       "2   {'rnd_forest__max_depth': 2, 'rnd_forest__n_es...               17   \n",
       "3   {'rnd_forest__max_depth': 2, 'rnd_forest__n_es...               22   \n",
       "4   {'rnd_forest__max_depth': 2, 'rnd_forest__n_es...               20   \n",
       "5   {'rnd_forest__max_depth': 2, 'rnd_forest__n_es...               13   \n",
       "6   {'rnd_forest__max_depth': 3, 'rnd_forest__n_es...               29   \n",
       "7   {'rnd_forest__max_depth': 3, 'rnd_forest__n_es...               27   \n",
       "8   {'rnd_forest__max_depth': 3, 'rnd_forest__n_es...               24   \n",
       "9   {'rnd_forest__max_depth': 3, 'rnd_forest__n_es...               21   \n",
       "10  {'rnd_forest__max_depth': 3, 'rnd_forest__n_es...               10   \n",
       "11  {'rnd_forest__max_depth': 3, 'rnd_forest__n_es...                6   \n",
       "12  {'rnd_forest__max_depth': 4, 'rnd_forest__n_es...               19   \n",
       "13  {'rnd_forest__max_depth': 4, 'rnd_forest__n_es...               11   \n",
       "14  {'rnd_forest__max_depth': 4, 'rnd_forest__n_es...               15   \n",
       "15  {'rnd_forest__max_depth': 4, 'rnd_forest__n_es...               16   \n",
       "16  {'rnd_forest__max_depth': 4, 'rnd_forest__n_es...                7   \n",
       "17  {'rnd_forest__max_depth': 4, 'rnd_forest__n_es...                4   \n",
       "18  {'rnd_forest__max_depth': 5, 'rnd_forest__n_es...               30   \n",
       "19  {'rnd_forest__max_depth': 5, 'rnd_forest__n_es...               26   \n",
       "20  {'rnd_forest__max_depth': 5, 'rnd_forest__n_es...               12   \n",
       "21  {'rnd_forest__max_depth': 5, 'rnd_forest__n_es...                9   \n",
       "22  {'rnd_forest__max_depth': 5, 'rnd_forest__n_es...                5   \n",
       "23  {'rnd_forest__max_depth': 5, 'rnd_forest__n_es...                2   \n",
       "24  {'rnd_forest__max_depth': 6, 'rnd_forest__n_es...               28   \n",
       "25  {'rnd_forest__max_depth': 6, 'rnd_forest__n_es...               23   \n",
       "26  {'rnd_forest__max_depth': 6, 'rnd_forest__n_es...               14   \n",
       "27  {'rnd_forest__max_depth': 6, 'rnd_forest__n_es...                8   \n",
       "28  {'rnd_forest__max_depth': 6, 'rnd_forest__n_es...                3   \n",
       "29  {'rnd_forest__max_depth': 6, 'rnd_forest__n_es...                1   \n",
       "\n",
       "    split0_test_score  split0_train_score  split1_test_score  \\\n",
       "0            0.703473            0.767347           0.743347   \n",
       "1            0.707665            0.772421           0.752319   \n",
       "2            0.698950            0.791633           0.771203   \n",
       "3            0.699809            0.797723           0.755108   \n",
       "4            0.699941            0.796623           0.755679   \n",
       "5            0.713310            0.802403           0.763138   \n",
       "6            0.718030            0.804629           0.711895   \n",
       "7            0.703077            0.811979           0.715995   \n",
       "8            0.691721            0.835845           0.752789   \n",
       "9            0.697993            0.842918           0.756149   \n",
       "10           0.709117            0.843481           0.758972   \n",
       "11           0.720902            0.853243           0.764550   \n",
       "12           0.713970            0.863592           0.747715   \n",
       "13           0.732521            0.875008           0.752117   \n",
       "14           0.725457            0.895539           0.753293   \n",
       "15           0.718459            0.896699           0.751344   \n",
       "16           0.727240            0.898505           0.760820   \n",
       "17           0.732653            0.906947           0.763105   \n",
       "18           0.721529            0.880494           0.684039   \n",
       "19           0.737506            0.893632           0.701008   \n",
       "20           0.740180            0.922018           0.735753   \n",
       "21           0.736615            0.924630           0.737097   \n",
       "22           0.746484            0.928797           0.739651   \n",
       "23           0.747475            0.932342           0.753293   \n",
       "24           0.696310            0.934316           0.713710   \n",
       "25           0.713772            0.944153           0.736626   \n",
       "26           0.723774            0.957846           0.763978   \n",
       "27           0.725094            0.960400           0.761492   \n",
       "28           0.732290            0.964197           0.763172   \n",
       "29           0.743646            0.970346           0.759409   \n",
       "\n",
       "    split1_train_score  split2_test_score  split2_train_score  std_fit_time  \\\n",
       "0             0.776564           0.745195            0.754317      0.000942   \n",
       "1             0.790976           0.759140            0.773408      0.000469   \n",
       "2             0.806463           0.752251            0.782858      0.004145   \n",
       "3             0.805372           0.743548            0.781010      0.000474   \n",
       "4             0.811242           0.748353            0.795755      0.001581   \n",
       "5             0.810392           0.752319            0.797912      0.005445   \n",
       "6             0.819260           0.740961            0.811741      0.000474   \n",
       "7             0.842189           0.758871            0.836694      0.005174   \n",
       "8             0.849766           0.751075            0.843455      0.000004   \n",
       "9             0.851506           0.745430            0.844079      0.000654   \n",
       "10            0.855478           0.767339            0.852106      0.000474   \n",
       "11            0.852922           0.768078            0.847834      0.002694   \n",
       "12            0.846186           0.746741            0.846286      0.000816   \n",
       "13            0.865968           0.749866            0.863595      0.002481   \n",
       "14            0.871538           0.746270            0.875360      0.000816   \n",
       "15            0.873279           0.754906            0.881205      0.000942   \n",
       "16            0.879831           0.761559            0.889281      0.000470   \n",
       "17            0.877442           0.763575            0.884219      0.010212   \n",
       "18            0.870789           0.738777            0.888956      0.000471   \n",
       "19            0.898198           0.743380            0.907307      0.002017   \n",
       "20            0.906100           0.755108            0.918281      0.000811   \n",
       "21            0.919188           0.762970            0.925882      0.000465   \n",
       "22            0.926132           0.769691            0.929762      0.000470   \n",
       "23            0.933242           0.769422            0.927114      0.000475   \n",
       "24            0.910146           0.764281            0.918256      0.002926   \n",
       "25            0.933725           0.746438            0.936589      0.000818   \n",
       "26            0.937472           0.740860            0.955789      0.000465   \n",
       "27            0.945165           0.753293            0.954956      0.000465   \n",
       "28            0.955273           0.770565            0.964265      0.002366   \n",
       "29            0.959169           0.770968            0.963466      0.000812   \n",
       "\n",
       "    std_score_time  std_test_score  std_train_score  \n",
       "0     4.703071e-04        0.019271         0.009127  \n",
       "1     2.586872e-03        0.022856         0.008524  \n",
       "2     4.713279e-04        0.030621         0.009741  \n",
       "3     4.792378e-04        0.023843         0.010173  \n",
       "4     4.052337e-07        0.024760         0.007105  \n",
       "5     3.258402e-03        0.021424         0.005162  \n",
       "6     4.703588e-04        0.012497         0.005974  \n",
       "7     2.660028e-03        0.023845         0.013139  \n",
       "8     4.710332e-04        0.028428         0.005691  \n",
       "9     4.196652e-03        0.025300         0.003804  \n",
       "10    1.123916e-07        0.025733         0.005052  \n",
       "11    2.184724e-03        0.021482         0.002477  \n",
       "12    4.713718e-04        0.015703         0.008182  \n",
       "13    4.711006e-03        0.008766         0.004917  \n",
       "14    4.754254e-04        0.011833         0.010530  \n",
       "15    1.910657e-06        0.016426         0.009726  \n",
       "16    8.177038e-04        0.016027         0.007624  \n",
       "17    1.989175e-03        0.014485         0.012619  \n",
       "18    2.247832e-07        0.022824         0.007423  \n",
       "19    2.455329e-03        0.018727         0.005684  \n",
       "20    4.711456e-04        0.008272         0.006796  \n",
       "21    4.712580e-04        0.012305         0.002906  \n",
       "22    4.694035e-04        0.012844         0.001535  \n",
       "23    4.794064e-04        0.009284         0.002702  \n",
       "24    7.339244e-03        0.028829         0.010044  \n",
       "25    4.667172e-04        0.013700         0.004399  \n",
       "26    1.946680e-07        0.016482         0.009158  \n",
       "27    6.257699e-07        0.015607         0.006303  \n",
       "28    1.985085e-03        0.016597         0.004223  \n",
       "29    4.680832e-04        0.011207         0.004603  "
      ]
     },
     "execution_count": 78,
     "metadata": {},
     "output_type": "execute_result"
    }
   ],
   "source": [
    "pd.DataFrame(clf.cv_results_)"
   ]
  },
  {
   "cell_type": "code",
   "execution_count": 79,
   "metadata": {
    "scrolled": true
   },
   "outputs": [
    {
     "name": "stdout",
     "output_type": "stream",
     "text": [
      "Grid best parameter (max. roc_auc):  {'rnd_forest__max_depth': 6, 'rnd_forest__n_estimators': 18}\n",
      "Grid best score (roc_auc):  0.757971412549\n",
      "             precision    recall  f1-score   support\n",
      "\n",
      "          0       0.80      0.87      0.83       141\n",
      "          1       0.60      0.49      0.54        59\n",
      "\n",
      "avg / total       0.74      0.76      0.75       200\n",
      "\n"
     ]
    },
    {
     "data": {
      "image/png": "[encoded data removed]",
      "text/plain": [
       "<matplotlib.figure.Figure at 0x2d6cb5cac88>"
      ]
     },
     "metadata": {},
     "output_type": "display_data"
    }
   ],
   "source": [
    "print('Grid best parameter (max. roc_auc): ', clf.best_params_)\n",
    "print('Grid best score (roc_auc): ', clf.best_score_)\n",
    "print(classification_report(y_test,clf.predict(df_test)))\n",
    "plot_utils.plot_roc_curve(clf, df_test, y_test)"
   ]
  },
  {
   "cell_type": "markdown",
   "metadata": {},
   "source": [
    "The hyper-parameter optimization helped elliminate the over-fitting but the results are still worse than Logistic regression. Notice that scaling was used on the numericals. Since random forest does not need scaling lets try it without it:"
   ]
  },
  {
   "cell_type": "code",
   "execution_count": 80,
   "metadata": {},
   "outputs": [
    {
     "name": "stdout",
     "output_type": "stream",
     "text": [
      "Fitting 3 folds for each of 30 candidates, totalling 90 fits\n"
     ]
    },
    {
     "name": "stderr",
     "output_type": "stream",
     "text": [
      "[Parallel(n_jobs=1)]: Done  90 out of  90 | elapsed:    5.1s finished\n"
     ]
    },
    {
     "data": {
      "text/plain": [
       "GridSearchCV(cv=None, error_score='raise',\n",
       "       estimator=Pipeline(steps=[('f_union', FeatureUnion(n_jobs=1,\n",
       "       transformer_list=[('cat_to_vect', DfFeatures(cols=['checking_status', 'credit_history', 'purpose', 'savings_status', 'employment', 'personal_status', 'other_parties', 'property_magnitude', 'other_payment_plans', 'housing', 'job', 'own_telephone', 'for...stimators=10, n_jobs=1,\n",
       "            oob_score=False, random_state=42, verbose=0, warm_start=False))]),\n",
       "       fit_params={}, iid=True, n_jobs=1,\n",
       "       param_grid={'rnd_forest__max_depth': [2, 3, 4, 5, 6], 'rnd_forest__n_estimators': [5, 7, 10, 12, 15, 18]},\n",
       "       pre_dispatch='2*n_jobs', refit=True, return_train_score=True,\n",
       "       scoring='roc_auc', verbose=1)"
      ]
     },
     "execution_count": 80,
     "metadata": {},
     "output_type": "execute_result"
    }
   ],
   "source": [
    "f_union = (FeatureUnion([('cat_to_vect', DfFeatures(cols = categorical_features, trf = DictVectorizer(sparse = False), to_dict = True)),\n",
    "                        ('numericals',DfFeatures(cols = numerical_features + int_features))]))\n",
    "estimators = [('f_union', f_union), ('rnd_forest', RandomForestClassifier(class_weight='balanced', random_state=42))]\n",
    "pipe = Pipeline(estimators)\n",
    "param_grid = dict(rnd_forest__max_depth = [2, 3 ,4, 5, 6], rnd_forest__n_estimators = [5, 7, 10, 12, 15, 18])\n",
    "clf = GridSearchCV(pipe, param_grid=param_grid, verbose = 1, scoring= 'roc_auc', return_train_score = True)\n",
    "clf.fit(df_train, y_train)"
   ]
  },
  {
   "cell_type": "code",
   "execution_count": 81,
   "metadata": {},
   "outputs": [
    {
     "name": "stdout",
     "output_type": "stream",
     "text": [
      "Grid best parameter (max. roc_auc):  {'rnd_forest__max_depth': 5, 'rnd_forest__n_estimators': 18}\n",
      "Grid best score (roc_auc):  0.768681657924\n",
      "             precision    recall  f1-score   support\n",
      "\n",
      "          0       0.84      0.80      0.82       141\n",
      "          1       0.58      0.64      0.61        59\n",
      "\n",
      "avg / total       0.76      0.76      0.76       200\n",
      "\n"
     ]
    },
    {
     "data": {
      "image/png": "[encoded data removed]",
      "text/plain": [
       "<matplotlib.figure.Figure at 0x2d6cb8f90f0>"
      ]
     },
     "metadata": {},
     "output_type": "display_data"
    }
   ],
   "source": [
    "print('Grid best parameter (max. roc_auc): ', clf.best_params_)\n",
    "print('Grid best score (roc_auc): ', clf.best_score_)\n",
    "print(classification_report(y_test,clf.predict(df_test)))\n",
    "plot_utils.plot_roc_curve(clf, df_test, y_test)"
   ]
  },
  {
   "cell_type": "markdown",
   "metadata": {},
   "source": [
    "A better test result but the train cv results is the same so we cannot conclude nothing. Lets try grid search on svc:"
   ]
  },
  {
   "cell_type": "code",
   "execution_count": 82,
   "metadata": {},
   "outputs": [
    {
     "name": "stdout",
     "output_type": "stream",
     "text": [
      "Fitting 3 folds for each of 56 candidates, totalling 168 fits\n"
     ]
    },
    {
     "name": "stderr",
     "output_type": "stream",
     "text": [
      "[Parallel(n_jobs=1)]: Done 168 out of 168 | elapsed:   17.0s finished\n"
     ]
    },
    {
     "data": {
      "text/plain": [
       "GridSearchCV(cv=None, error_score='raise',\n",
       "       estimator=Pipeline(steps=[('f_union', FeatureUnion(n_jobs=1,\n",
       "       transformer_list=[('cat_to_vect', DfFeatures(cols=['checking_status', 'credit_history', 'purpose', 'savings_status', 'employment', 'personal_status', 'other_parties', 'property_magnitude', 'other_payment_plans', 'housing', 'job', 'own_telephone', 'for...f',\n",
       "  max_iter=-1, probability=False, random_state=42, shrinking=True,\n",
       "  tol=0.001, verbose=False))]),\n",
       "       fit_params={}, iid=True, n_jobs=1,\n",
       "       param_grid={'svc__C': [0.01, 0.03, 0.1, 0.3, 1, 3, 10, 30], 'svc__gamma': [0.001, 0.003, 0.01, 0.03, 0.1, 0.3, 1]},\n",
       "       pre_dispatch='2*n_jobs', refit=True, return_train_score=True,\n",
       "       scoring='roc_auc', verbose=1)"
      ]
     },
     "execution_count": 82,
     "metadata": {},
     "output_type": "execute_result"
    }
   ],
   "source": [
    "f_union = (FeatureUnion([('cat_to_vect', DfFeatures(cols = categorical_features, trf = DictVectorizer(sparse = False), to_dict = True)),\n",
    "                        ('scale_numericals',DfFeatures(cols = numerical_features, trf = StandardScaler())),\n",
    "                        ('ohe', DfFeatures(cols = int_features, trf = OneHotEncoder(sparse = False)))]))\n",
    "estimators = [('f_union', f_union), ('svc', SVC(class_weight='balanced', random_state=42))]\n",
    "pipe = Pipeline(estimators)\n",
    "param_grid = dict(svc__C = [0.01 , 0.03, 0.1, 0.3, 1, 3, 10, 30], svc__gamma = [0.001, 0.003, 0.01, 0.03, 0.1, 0.3, 1])\n",
    "clf = GridSearchCV(pipe, param_grid=param_grid, verbose = 1, scoring= 'roc_auc', return_train_score = True)\n",
    "clf.fit(df_train, y_train)"
   ]
  },
  {
   "cell_type": "code",
   "execution_count": 83,
   "metadata": {},
   "outputs": [
    {
     "name": "stdout",
     "output_type": "stream",
     "text": [
      "Grid best parameter (max. roc_auc):  {'svc__C': 1, 'svc__gamma': 0.01}\n",
      "Grid best score (roc_auc):  0.775879699676\n",
      "             precision    recall  f1-score   support\n",
      "\n",
      "          0       0.88      0.70      0.78       141\n",
      "          1       0.52      0.76      0.62        59\n",
      "\n",
      "avg / total       0.77      0.72      0.73       200\n",
      "\n"
     ]
    },
    {
     "data": {
      "image/png": "[encoded data removed]",
      "text/plain": [
       "<matplotlib.figure.Figure at 0x2d6cb5bfa20>"
      ]
     },
     "metadata": {},
     "output_type": "display_data"
    }
   ],
   "source": [
    "print('Grid best parameter (max. roc_auc): ', clf.best_params_)\n",
    "print('Grid best score (roc_auc): ', clf.best_score_)\n",
    "print(classification_report(y_test,clf.predict(df_test)))\n",
    "plot_utils.plot_roc_curve(clf, df_test, y_test)"
   ]
  },
  {
   "cell_type": "markdown",
   "metadata": {},
   "source": [
    "Interestingly the deafult parameters are the best one... C = 1 and gamma = 0.01 ~= 1/n_feauters (the auto defualt number) and the result is the same. However notice that the train score is lower than the case we use all the train data. This is reasonable due the small amount of data -> the model is trained only on 66% of the data each time..."
   ]
  },
  {
   "cell_type": "markdown",
   "metadata": {
    "collapsed": true
   },
   "source": [
    "Let's check naive Bayes. first, only on the categoricals:"
   ]
  },
  {
   "cell_type": "code",
   "execution_count": 84,
   "metadata": {},
   "outputs": [
    {
     "name": "stdout",
     "output_type": "stream",
     "text": [
      "[ 3.29708155 -0.00805096 -1.27925578 -0.00805096 -0.77077385  0.24619\n",
      " -1.27925578  0.24619     0.24619    -0.26229193]\n",
      "[ 0.  0.  0.  0.  0.  0.  0.  0.  0.  0.]\n"
     ]
    }
   ],
   "source": [
    "print(X_train[:10,-8])\n",
    "print(X_train[:10,-9])"
   ]
  },
  {
   "cell_type": "code",
   "execution_count": 85,
   "metadata": {},
   "outputs": [
    {
     "data": {
      "text/plain": [
       "BernoulliNB(alpha=1.0, binarize=0.0, class_prior=None, fit_prior=True)"
      ]
     },
     "execution_count": 85,
     "metadata": {},
     "output_type": "execute_result"
    }
   ],
   "source": [
    "model_nb = BernoulliNB()\n",
    "X_train_cat = X_train[:,:-8]\n",
    "model_nb.fit(X_train_cat, y_train)"
   ]
  },
  {
   "cell_type": "code",
   "execution_count": 86,
   "metadata": {},
   "outputs": [
    {
     "name": "stdout",
     "output_type": "stream",
     "text": [
      "train auc score:  0.795522532085\n",
      "train f1-score:  0.583162217659\n",
      "             precision    recall  f1-score   support\n",
      "\n",
      "          0       0.82      0.81      0.82       559\n",
      "          1       0.58      0.59      0.58       241\n",
      "\n",
      "avg / total       0.75      0.75      0.75       800\n",
      "\n",
      "[[455 104]\n",
      " [ 99 142]]\n",
      "test auc score:  0.800336578916\n",
      "test f1-score:  0.610687022901\n",
      "             precision    recall  f1-score   support\n",
      "\n",
      "          0       0.85      0.77      0.81       141\n",
      "          1       0.56      0.68      0.61        59\n",
      "\n",
      "avg / total       0.76      0.74      0.75       200\n",
      "\n",
      "[[109  32]\n",
      " [ 19  40]]\n"
     ]
    },
    {
     "data": {
      "image/png": "[encoded data removed]",
      "text/plain": [
       "<matplotlib.figure.Figure at 0x2d6cb5d1f60>"
      ]
     },
     "metadata": {},
     "output_type": "display_data"
    }
   ],
   "source": [
    "# Predict\n",
    "X_test_cat = X_test[:,:-8]\n",
    "pred_train = model_nb.predict(X_train_cat)\n",
    "pred_test = model_nb.predict(X_test_cat)\n",
    "\n",
    "y_train_score_nb = model_nb.predict_proba(X_train_cat)\n",
    "print('train auc score: ', roc_auc_score(y_train, y_train_score_nb[:,1]))\n",
    "print('train f1-score: ', f1_score(y_train, pred_train))\n",
    "print(classification_report(y_train, pred_train))\n",
    "print(confusion_matrix(y_train, pred_train))\n",
    "\n",
    "y_test_score_nb = model_nb.predict_proba(X_test_cat)\n",
    "print('test auc score: ', roc_auc_score(y_test, y_test_score_nb[:,1]))\n",
    "print('test f1-score: ', f1_score(y_test, pred_test))\n",
    "print(classification_report(y_test, pred_test))\n",
    "print(confusion_matrix(y_test, pred_test))\n",
    "\n",
    "plot_utils.plot_roc_curve(model_nb, X_test_cat, y_test)"
   ]
  },
  {
   "cell_type": "markdown",
   "metadata": {},
   "source": [
    "Not bad with NB only with the categoricals. Now, only the numericals:"
   ]
  },
  {
   "cell_type": "code",
   "execution_count": 87,
   "metadata": {},
   "outputs": [
    {
     "data": {
      "text/plain": [
       "GaussianNB(priors=None)"
      ]
     },
     "execution_count": 87,
     "metadata": {},
     "output_type": "execute_result"
    }
   ],
   "source": [
    "model_gnb = GaussianNB()\n",
    "X_train_num = X_train[:,-8:]\n",
    "model_gnb.fit(X_train_num, y_train)"
   ]
  },
  {
   "cell_type": "code",
   "execution_count": 88,
   "metadata": {},
   "outputs": [
    {
     "name": "stdout",
     "output_type": "stream",
     "text": [
      "train auc score:  0.665125186499\n",
      "train f1-score:  0.373401534527\n",
      "             precision    recall  f1-score   support\n",
      "\n",
      "          0       0.74      0.86      0.80       559\n",
      "          1       0.49      0.30      0.37       241\n",
      "\n",
      "avg / total       0.66      0.69      0.67       800\n",
      "\n",
      "[[482  77]\n",
      " [168  73]]\n",
      "test auc score:  0.602957086188\n",
      "test f1-score:  0.263736263736\n",
      "             precision    recall  f1-score   support\n",
      "\n",
      "          0       0.72      0.86      0.78       141\n",
      "          1       0.38      0.20      0.26        59\n",
      "\n",
      "avg / total       0.62      0.67      0.63       200\n",
      "\n",
      "[[121  20]\n",
      " [ 47  12]]\n"
     ]
    },
    {
     "data": {
      "image/png": "[encoded data removed]",
      "text/plain": [
       "<matplotlib.figure.Figure at 0x2d6c976ec50>"
      ]
     },
     "metadata": {},
     "output_type": "display_data"
    }
   ],
   "source": [
    "# Predict\n",
    "X_test_num = X_test[:,-8:]\n",
    "pred_train = model_gnb.predict(X_train_num)\n",
    "pred_test = model_gnb.predict(X_test_num)\n",
    "\n",
    "y_train_score_gnb = model_gnb.predict_proba(X_train_num)\n",
    "print('train auc score: ', roc_auc_score(y_train, y_train_score_gnb[:,1]))\n",
    "print('train f1-score: ', f1_score(y_train, pred_train))\n",
    "print(classification_report(y_train, pred_train))\n",
    "print(confusion_matrix(y_train, pred_train))\n",
    "\n",
    "y_test_score_gnb = model_gnb.predict_proba(X_test_num)\n",
    "print('test auc score: ', roc_auc_score(y_test, y_test_score_gnb[:,1]))\n",
    "print('test f1-score: ', f1_score(y_test, pred_test))\n",
    "print(classification_report(y_test, pred_test))\n",
    "print(confusion_matrix(y_test, pred_test))\n",
    "\n",
    "plot_utils.plot_roc_curve(model_gnb, X_test_num, y_test)"
   ]
  },
  {
   "cell_type": "markdown",
   "metadata": {},
   "source": [
    "As expected - very bad results. The categoricals are much better predictors than the numericals. Lets try to combine the results for the categoricals and the numericals (maybe there will be sinergetic effect). First we will use a soft voting based on the predicted probabilities of each classifier - we will choose the class that have the higher sum of probabilities:"
   ]
  },
  {
   "cell_type": "code",
   "execution_count": 89,
   "metadata": {},
   "outputs": [
    {
     "name": "stdout",
     "output_type": "stream",
     "text": [
      "train auc score:  0.798692092429\n",
      "train f1-score:  0.531764705882\n",
      "             precision    recall  f1-score   support\n",
      "\n",
      "          0       0.79      0.87      0.83       559\n",
      "          1       0.61      0.47      0.53       241\n",
      "\n",
      "avg / total       0.74      0.75      0.74       800\n",
      "\n",
      "[[488  71]\n",
      " [128 113]]\n",
      "test auc score:  0.751893256401\n",
      "test f1-score:  0.484848484848\n",
      "             precision    recall  f1-score   support\n",
      "\n",
      "          0       0.78      0.89      0.83       141\n",
      "          1       0.60      0.41      0.48        59\n",
      "\n",
      "avg / total       0.73      0.74      0.73       200\n",
      "\n",
      "[[125  16]\n",
      " [ 35  24]]\n"
     ]
    }
   ],
   "source": [
    "train_prob_sum = y_train_score_nb + y_train_score_gnb\n",
    "pred_train = np.argmax(train_prob_sum,axis = 1)\n",
    "print('train auc score: ', roc_auc_score(y_train, train_prob_sum[:,1]/2))\n",
    "print('train f1-score: ', f1_score(y_train, pred_train))\n",
    "print(classification_report(y_train, pred_train))\n",
    "print(confusion_matrix(y_train, pred_train))\n",
    "\n",
    "test_prob_sum = y_test_score_nb + y_test_score_gnb\n",
    "pred_test = np.argmax(test_prob_sum,axis = 1)\n",
    "print('test auc score: ', roc_auc_score(y_test, test_prob_sum[:,1]/2))\n",
    "print('test f1-score: ', f1_score(y_test, pred_test))\n",
    "print(classification_report(y_test, pred_test))\n",
    "print(confusion_matrix(y_test, pred_test))"
   ]
  },
  {
   "cell_type": "markdown",
   "metadata": {},
   "source": [
    "No. Worse results than only with categoricals. Lets try to add weights to the probabilities: the weight will be higher as the probability is closer to 0 or 1 (meaning the model is more confident with its decision):"
   ]
  },
  {
   "cell_type": "code",
   "execution_count": 90,
   "metadata": {},
   "outputs": [
    {
     "name": "stdout",
     "output_type": "stream",
     "text": [
      "train auc score:  0.793533206155\n",
      "train f1-score:  0.531764705882\n",
      "             precision    recall  f1-score   support\n",
      "\n",
      "          0       0.79      0.87      0.83       559\n",
      "          1       0.61      0.47      0.53       241\n",
      "\n",
      "avg / total       0.74      0.75      0.74       800\n",
      "\n",
      "[[488  71]\n",
      " [128 113]]\n"
     ]
    }
   ],
   "source": [
    "w_cat_train = np.abs(y_train_score_nb[:,1] - 0.5)\n",
    "w_num_train = np.abs(y_train_score_gnb[:,1] - 0.5)\n",
    "sum_w_train = w_cat_train + w_num_train\n",
    "w_train_probs = (w_cat_train * y_train_score_nb[:,1] + w_num_train * y_train_score_gnb[:,1]) / sum_w_train\n",
    "pred_train = w_train_probs > 0.5\n",
    "\n",
    "print('train auc score: ', roc_auc_score(y_train, w_train_probs))\n",
    "print('train f1-score: ', f1_score(y_train, pred_train))\n",
    "print(classification_report(y_train, pred_train))\n",
    "print(confusion_matrix(y_train, pred_train))"
   ]
  },
  {
   "cell_type": "markdown",
   "metadata": {},
   "source": [
    "No improvement in train data -> there's no point in trying with test data "
   ]
  },
  {
   "cell_type": "markdown",
   "metadata": {
    "collapsed": true
   },
   "source": [
    "2 of the categoricals are in fact ordinal:  saving status and employment. lets see their unique values:"
   ]
  },
  {
   "cell_type": "code",
   "execution_count": 91,
   "metadata": {},
   "outputs": [
    {
     "name": "stdout",
     "output_type": "stream",
     "text": [
      "[\"'<100'\" \"'500<=X<1000'\" \"'no known savings'\" \"'100<=X<500'\" \"'>=1000'\"]\n",
      "[\"'>=7'\" \"'<1'\" \"'1<=X<4'\" \"'4<=X<7'\" 'unemployed']\n"
     ]
    }
   ],
   "source": [
    "print(df_train['savings_status'].unique())\n",
    "print(df_train['employment'].unique())"
   ]
  },
  {
   "cell_type": "markdown",
   "metadata": {},
   "source": [
    "So lets add numerical integer features so maybe the random forest classifier will take advantage of them:"
   ]
  },
  {
   "cell_type": "code",
   "execution_count": 92,
   "metadata": {
    "collapsed": true
   },
   "outputs": [],
   "source": [
    "savings_dict = dict([(\"'no known savings'\",0),(\"'<100'\",50),(\"'100<=X<500'\",300),(\"'500<=X<1000'\",750),(\"'>=1000'\",1000)])\n",
    "employment_dict = dict([('unemployed',0),(\"'<1'\",1),(\"'1<=X<4'\",2.5),(\"'4<=X<7'\",5.5),(\"'>=7'\",7)])\n",
    "df_train['savings_status_ord'] = df_train['savings_status'].apply(lambda x: savings_dict[x])\n",
    "df_train['employment_ord'] = df_train['employment'].apply(lambda x: employment_dict[x])\n",
    "df_test['savings_status_ord'] = df_test['savings_status'].apply(lambda x: savings_dict[x])\n",
    "df_test['employment_ord'] = df_test['employment'].apply(lambda x: employment_dict[x])\n",
    "ordinal_features = ['savings_status_ord','employment_ord']"
   ]
  },
  {
   "cell_type": "markdown",
   "metadata": {},
   "source": [
    "lets try random forest with this 2 new ordinal features:"
   ]
  },
  {
   "cell_type": "code",
   "execution_count": 93,
   "metadata": {},
   "outputs": [
    {
     "name": "stdout",
     "output_type": "stream",
     "text": [
      "Fitting 3 folds for each of 30 candidates, totalling 90 fits\n"
     ]
    },
    {
     "name": "stderr",
     "output_type": "stream",
     "text": [
      "[Parallel(n_jobs=1)]: Done  90 out of  90 | elapsed:    5.1s finished\n"
     ]
    },
    {
     "data": {
      "text/plain": [
       "GridSearchCV(cv=None, error_score='raise',\n",
       "       estimator=Pipeline(steps=[('f_union', FeatureUnion(n_jobs=1,\n",
       "       transformer_list=[('cat_to_vect', DfFeatures(cols=['checking_status', 'credit_history', 'purpose', 'savings_status', 'employment', 'personal_status', 'other_parties', 'property_magnitude', 'other_payment_plans', 'housing', 'job', 'own_telephone', 'for...stimators=10, n_jobs=1,\n",
       "            oob_score=False, random_state=42, verbose=0, warm_start=False))]),\n",
       "       fit_params={}, iid=True, n_jobs=1,\n",
       "       param_grid={'rnd_forest__max_depth': [2, 3, 4, 5, 6], 'rnd_forest__n_estimators': [5, 7, 10, 12, 15, 18]},\n",
       "       pre_dispatch='2*n_jobs', refit=True, return_train_score=True,\n",
       "       scoring='roc_auc', verbose=1)"
      ]
     },
     "execution_count": 93,
     "metadata": {},
     "output_type": "execute_result"
    }
   ],
   "source": [
    "f_union = (FeatureUnion([('cat_to_vect', DfFeatures(cols = categorical_features, trf = DictVectorizer(sparse = False), to_dict = True)),\n",
    "                        ('numericals',DfFeatures(cols = numerical_features + int_features + ordinal_features))]))\n",
    "estimators = [('f_union', f_union), ('rnd_forest', RandomForestClassifier(class_weight='balanced', random_state=42))]\n",
    "pipe = Pipeline(estimators)\n",
    "param_grid = dict(rnd_forest__max_depth = [2, 3 ,4, 5, 6], rnd_forest__n_estimators = [5, 7, 10, 12, 15, 18])\n",
    "clf = GridSearchCV(pipe, param_grid=param_grid, verbose = 1, scoring= 'roc_auc', return_train_score = True)\n",
    "clf.fit(df_train, y_train)"
   ]
  },
  {
   "cell_type": "code",
   "execution_count": 94,
   "metadata": {},
   "outputs": [
    {
     "name": "stdout",
     "output_type": "stream",
     "text": [
      "Grid best parameter (max. roc_auc):  {'rnd_forest__max_depth': 5, 'rnd_forest__n_estimators': 15}\n",
      "Grid best score (roc_auc):  0.755799261857\n",
      "             precision    recall  f1-score   support\n",
      "\n",
      "          0       0.81      0.72      0.76       141\n",
      "          1       0.47      0.61      0.53        59\n",
      "\n",
      "avg / total       0.71      0.69      0.69       200\n",
      "\n"
     ]
    },
    {
     "data": {
      "image/png": "[encoded data removed]",
      "text/plain": [
       "<matplotlib.figure.Figure at 0x2d6c972cba8>"
      ]
     },
     "metadata": {},
     "output_type": "display_data"
    }
   ],
   "source": [
    "print('Grid best parameter (max. roc_auc): ', clf.best_params_)\n",
    "print('Grid best score (roc_auc): ', clf.best_score_)\n",
    "print(classification_report(y_test,clf.predict(df_test)))\n",
    "plot_utils.plot_roc_curve(clf, df_test, y_test)"
   ]
  },
  {
   "cell_type": "markdown",
   "metadata": {},
   "source": [
    "no improvement"
   ]
  },
  {
   "cell_type": "code",
   "execution_count": 95,
   "metadata": {},
   "outputs": [
    {
     "data": {
      "text/plain": [
       "array([ 0.00560883,  0.05214608,  0.00711015,  0.10847387,  0.0170766 ,\n",
       "        0.05314603,  0.01077153,  0.00480139,  0.00897651,  0.00654667,\n",
       "        0.00482131,  0.00168191,  0.00487747,  0.007829  ,  0.        ,\n",
       "        0.00541948,  0.00576348,  0.02803811,  0.01211701,  0.00633868,\n",
       "        0.        ,  0.00292834,  0.00495328,  0.00312619,  0.01269532,\n",
       "        0.00535399,  0.01696271,  0.01041326,  0.00432915,  0.00095803,\n",
       "        0.00302852,  0.01517293,  0.00519024,  0.00228587,  0.01016622,\n",
       "        0.00507256,  0.00801404,  0.01106112,  0.00403472,  0.        ,\n",
       "        0.01413111,  0.01081966,  0.00171526,  0.00205789,  0.00244057,\n",
       "        0.        ,  0.00069404,  0.00618385,  0.        ,  0.00418719,\n",
       "        0.00125675,  0.01658952,  0.00086114,  0.00093845,  0.06557264,\n",
       "        0.0322018 ,  0.034333  ,  0.03945751,  0.0778511 ,  0.02179244,\n",
       "        0.05258806,  0.04052745,  0.02560506,  0.01110812,  0.00509856,\n",
       "        0.00703535,  0.02161915,  0.02604368])"
      ]
     },
     "execution_count": 95,
     "metadata": {},
     "output_type": "execute_result"
    }
   ],
   "source": [
    "clf.best_estimator_.named_steps['rnd_forest'].feature_importances_"
   ]
  },
  {
   "cell_type": "code",
   "execution_count": 96,
   "metadata": {},
   "outputs": [
    {
     "data": {
      "text/plain": [
       "[\"checking_status='no checking'\",\n",
       " 'log_duration',\n",
       " 'duration',\n",
       " \"credit_history='critical/other existing credit'\",\n",
       " 'log_age',\n",
       " \"checking_status='<0'\",\n",
       " 'log_credit_duration_ratio',\n",
       " 'credit_duration_ratio',\n",
       " 'age',\n",
       " 'credit_amount',\n",
       " 'housing=own',\n",
       " 'employment_ord',\n",
       " 'installment_commitment',\n",
       " 'log_credit_amount',\n",
       " 'savings_status_ord',\n",
       " \"credit_history='all paid'\",\n",
       " 'other_payment_plans=bank',\n",
       " \"savings_status='<100'\",\n",
       " \"personal_status='female div/dep/mar'\",\n",
       " \"purpose='new car'\",\n",
       " 'other_parties=guarantor',\n",
       " 'housing=rent',\n",
       " 'residence_since',\n",
       " \"property_magnitude='real estate'\",\n",
       " \"purpose='used car'\",\n",
       " \"credit_history='delayed previously'\",\n",
       " 'other_payment_plans=none',\n",
       " \"personal_status='male single'\",\n",
       " \"credit_history='no credits/all paid'\",\n",
       " \"property_magnitude='no known property'\",\n",
       " 'employment=unemployed',\n",
       " \"checking_status='>=200'\",\n",
       " 'num_dependents',\n",
       " \"employment='1<=X<4'\",\n",
       " \"job='high qualif/self emp/mgmt'\",\n",
       " 'purpose=repairs',\n",
       " \"housing='for free'\",\n",
       " \"checking_status='0<=X<200'\",\n",
       " 'foreign_worker=yes',\n",
       " 'other_parties=none',\n",
       " \"personal_status='male div/sep'\",\n",
       " 'existing_credits',\n",
       " \"property_magnitude='life insurance'\",\n",
       " 'job=skilled',\n",
       " \"employment='>=7'\",\n",
       " \"employment='4<=X<7'\",\n",
       " \"credit_history='existing paid'\",\n",
       " 'other_payment_plans=stores',\n",
       " \"savings_status='100<=X<500'\",\n",
       " 'property_magnitude=car',\n",
       " \"other_parties='co applicant'\",\n",
       " 'own_telephone=yes',\n",
       " \"job='unskilled resident'\",\n",
       " 'purpose=furniture/equipment',\n",
       " \"personal_status='male mar/wid'\",\n",
       " 'purpose=education',\n",
       " 'purpose=business',\n",
       " \"employment='<1'\",\n",
       " \"savings_status='500<=X<1000'\",\n",
       " 'own_telephone=none',\n",
       " \"savings_status='no known savings'\",\n",
       " \"savings_status='>=1000'\",\n",
       " 'purpose=radio/tv']"
      ]
     },
     "execution_count": 96,
     "metadata": {},
     "output_type": "execute_result"
    }
   ],
   "source": [
    "feature_names = dict_vect.feature_names_ + numerical_features + int_features + ordinal_features\n",
    "feature_importances = clf.best_estimator_.named_steps['rnd_forest'].feature_importances_\n",
    "importance_idx = np.argsort(abs(feature_importances))[::-1]\n",
    "[feature_names[idx] for idx in importance_idx if feature_importances[idx] > 0]\n",
    "# print(len(feature_names))\n",
    "# print(len(importance_idx))"
   ]
  },
  {
   "cell_type": "markdown",
   "metadata": {},
   "source": [
    "However we can see that these 2 new features are in the top 15 "
   ]
  },
  {
   "cell_type": "markdown",
   "metadata": {},
   "source": [
    "Lets try adding the categorized continous features as new features:"
   ]
  },
  {
   "cell_type": "code",
   "execution_count": null,
   "metadata": {},
   "outputs": [],
   "source": [
    "numericals_cat_features = []\n",
    "for feature in numerical_features[:len(numerical_features)//2]: # /2 because we want to categorize only the original features,\n",
    "# not the log of them\n",
    "    df_train[feature + '_cat'], bins = pd.qcut(df_train[feature],4, retbins=True)\n",
    "    df_train[feature + '_cat'] = df_train[feature + '_cat'].astype(str)\n",
    "    df_test[feature + '_cat'] = pd.cut(df_test[feature],bins=bins)\n",
    "    df_test[feature + '_cat'] = df_test[feature + '_cat'].astype(str)\n",
    "    numericals_cat_features += [feature + '_cat']\n",
    "num_cat_dict = df_train[numericals_cat_features].to_dict('records')\n",
    "dict_vect_num = DictVectorizer(sparse = False)\n",
    "num_cat_train = dict_vect_num.fit_transform(num_cat_dict)\n",
    "X_train = np.hstack((X_train, num_cat_train))\n",
    "\n",
    "num_cat_dict = df_test[numericals_cat_features].to_dict('records')\n",
    "num_cat_test = dict_vect_num.transform(num_cat_dict)\n",
    "X_test = np.hstack((X_test, num_cat_test))"
   ]
  },
  {
   "cell_type": "markdown",
   "metadata": {},
   "source": [
    "We expect to get 76 (the former number of features) + 4 * 4 = 92 feauters. (4*4 becuase we categorize into quartiles and there is 4 numerical features):"
   ]
  },
  {
   "cell_type": "code",
   "execution_count": 132,
   "metadata": {
    "scrolled": true
   },
   "outputs": [
    {
     "name": "stdout",
     "output_type": "stream",
     "text": [
      "92\n",
      "[\"checking_status='0<=X<200'\", \"checking_status='<0'\", \"checking_status='>=200'\", \"checking_status='no checking'\", \"credit_history='all paid'\", \"credit_history='critical/other existing credit'\", \"credit_history='delayed previously'\", \"credit_history='existing paid'\", \"credit_history='no credits/all paid'\", \"employment='1<=X<4'\", \"employment='4<=X<7'\", \"employment='<1'\", \"employment='>=7'\", 'employment=unemployed', 'foreign_worker=no', 'foreign_worker=yes', \"housing='for free'\", 'housing=own', 'housing=rent', \"job='high qualif/self emp/mgmt'\", \"job='unemp/unskilled non res'\", \"job='unskilled resident'\", 'job=skilled', \"other_parties='co applicant'\", 'other_parties=guarantor', 'other_parties=none', 'other_payment_plans=bank', 'other_payment_plans=none', 'other_payment_plans=stores', 'own_telephone=none', 'own_telephone=yes', \"personal_status='female div/dep/mar'\", \"personal_status='male div/sep'\", \"personal_status='male mar/wid'\", \"personal_status='male single'\", \"property_magnitude='life insurance'\", \"property_magnitude='no known property'\", \"property_magnitude='real estate'\", 'property_magnitude=car', \"purpose='domestic appliance'\", \"purpose='new car'\", \"purpose='used car'\", 'purpose=business', 'purpose=education', 'purpose=furniture/equipment', 'purpose=other', 'purpose=radio/tv', 'purpose=repairs', 'purpose=retraining', \"savings_status='100<=X<500'\", \"savings_status='500<=X<1000'\", \"savings_status='<100'\", \"savings_status='>=1000'\", \"savings_status='no known savings'\", 'installment_commitment_1', 'installment_commitment_2', 'installment_commitment_3', 'installment_commitment_4', 'residence_since_1', 'residence_since_2', 'residence_since_3', 'residence_since_4', 'existing_credits_1', 'existing_credits_2', 'existing_credits_3', 'existing_credits_4', 'num_dependents_1', 'num_dependents_2', 'duration', 'credit_amount', 'age', 'credit_duration_ratio', 'log_duration', 'log_credit_amount', 'log_age', 'log_credit_duration_ratio', 'age_cat=(18.999, 27.0]', 'age_cat=(27.0, 33.0]', 'age_cat=(33.0, 42.0]', 'age_cat=(42.0, 75.0]', 'credit_amount_cat=(1380.0, 2333.0]', 'credit_amount_cat=(2333.0, 4154.5]', 'credit_amount_cat=(249.999, 1380.0]', 'credit_amount_cat=(4154.5, 18424.0]', 'credit_duration_ratio_cat=(130.742, 208.125]', 'credit_duration_ratio_cat=(208.125, 2425.833]', 'credit_duration_ratio_cat=(24.055, 90.229]', 'credit_duration_ratio_cat=(90.229, 130.742]', 'duration_cat=(12.0, 18.0]', 'duration_cat=(18.0, 24.0]', 'duration_cat=(24.0, 60.0]', 'duration_cat=(3.999, 12.0]']\n"
     ]
    }
   ],
   "source": [
    "feature_names = dict_vect.feature_names_ + one_hot_names + numerical_features + dict_vect_num.feature_names_\n",
    "print(len(feature_names))\n",
    "print(feature_names)"
   ]
  },
  {
   "cell_type": "code",
   "execution_count": 131,
   "metadata": {},
   "outputs": [
    {
     "data": {
      "text/plain": [
       "(800, 92)"
      ]
     },
     "execution_count": 131,
     "metadata": {},
     "output_type": "execute_result"
    }
   ],
   "source": [
    "X_train.shape"
   ]
  },
  {
   "cell_type": "markdown",
   "metadata": {},
   "source": [
    "Yes. we got 92. Now lets try lr on the new data:"
   ]
  },
  {
   "cell_type": "code",
   "execution_count": 133,
   "metadata": {
    "scrolled": true
   },
   "outputs": [
    {
     "name": "stdout",
     "output_type": "stream",
     "text": [
      "train auc score:  0.850681789503\n",
      "train f1-score:  0.531764705882\n",
      "             precision    recall  f1-score   support\n",
      "\n",
      "          0       0.79      0.87      0.83       559\n",
      "          1       0.61      0.47      0.53       241\n",
      "\n",
      "avg / total       0.74      0.75      0.74       800\n",
      "\n",
      "[[488  71]\n",
      " [128 113]]\n",
      "test auc score:  0.796970789758\n",
      "test f1-score:  0.484848484848\n",
      "             precision    recall  f1-score   support\n",
      "\n",
      "          0       0.78      0.89      0.83       141\n",
      "          1       0.60      0.41      0.48        59\n",
      "\n",
      "avg / total       0.73      0.74      0.73       200\n",
      "\n",
      "[[125  16]\n",
      " [ 35  24]]\n"
     ]
    },
    {
     "data": {
      "image/png": "[encoded data removed]",
      "text/plain": [
       "<matplotlib.figure.Figure at 0x2d6cb6e9128>"
      ]
     },
     "metadata": {},
     "output_type": "display_data"
    }
   ],
   "source": [
    "model = LogisticRegression(C = 10000, random_state=42) \n",
    "model.fit(X_train, y_train)\n",
    "\n",
    "y_train_score = model.decision_function(X_train)\n",
    "print('train auc score: ', roc_auc_score(y_train, y_train_score))\n",
    "print('train f1-score: ', f1_score(y_train, pred_train))\n",
    "print(classification_report(y_train, pred_train))\n",
    "print(confusion_matrix(y_train, pred_train))\n",
    "\n",
    "y_test_score = model.decision_function(X_test)\n",
    "print('test auc score: ', roc_auc_score(y_test, y_test_score))\n",
    "print('test f1-score: ', f1_score(y_test, pred_test))\n",
    "print(classification_report(y_test, pred_test))\n",
    "print(confusion_matrix(y_test, pred_test))\n",
    "\n",
    "plot_utils.plot_roc_curve(model, X_test, y_test)"
   ]
  },
  {
   "cell_type": "markdown",
   "metadata": {},
   "source": [
    "Ok, now the over-fitting is well seen. So the one-hot encoding was the opening shot and now with the addition of of the above categoricals features the over-fitiing is clear... So:\n",
    "### It seems that with the given amount of data a roc-auc of 0.82-3 is the best we can get."
   ]
  },
  {
   "cell_type": "markdown",
   "metadata": {},
   "source": [
    "Though we have over-fitiing it is interesting to see if the new features are in the top 20:"
   ]
  },
  {
   "cell_type": "code",
   "execution_count": 135,
   "metadata": {
    "scrolled": true
   },
   "outputs": [
    {
     "data": {
      "text/plain": [
       "['purpose=retraining',\n",
       " 'purpose=education',\n",
       " 'log_duration',\n",
       " \"credit_history='critical/other existing credit'\",\n",
       " \"purpose='used car'\",\n",
       " \"checking_status='no checking'\",\n",
       " \"job='unemp/unskilled non res'\",\n",
       " 'foreign_worker=no',\n",
       " \"checking_status='<0'\",\n",
       " 'credit_amount_cat=(2333.0, 4154.5]',\n",
       " \"credit_history='no credits/all paid'\",\n",
       " 'log_credit_amount',\n",
       " 'log_age',\n",
       " 'other_parties=guarantor',\n",
       " \"purpose='new car'\",\n",
       " 'credit_amount_cat=(249.999, 1380.0]',\n",
       " \"savings_status='>=1000'\",\n",
       " 'duration_cat=(3.999, 12.0]',\n",
       " 'foreign_worker=yes',\n",
       " \"personal_status='male single'\"]"
      ]
     },
     "execution_count": 135,
     "metadata": {},
     "output_type": "execute_result"
    }
   ],
   "source": [
    "importance_idx = np.argsort(abs(model.coef_[0]))[::-1]\n",
    "[feature_names[idx] for idx in importance_idx[:20]]"
   ]
  },
  {
   "cell_type": "markdown",
   "metadata": {},
   "source": [
    "Yes, 3 of them"
   ]
  },
  {
   "cell_type": "code",
   "execution_count": null,
   "metadata": {
    "collapsed": true
   },
   "outputs": [],
   "source": []
  }
 ],
 "metadata": {
  "anaconda-cloud": {},
  "kernelspec": {
   "display_name": "Python 3",
   "language": "python",
   "name": "python3"
  },
  "language_info": {
   "codemirror_mode": {
    "name": "ipython",
    "version": 3
   },
   "file_extension": ".py",
   "mimetype": "text/x-python",
   "name": "python",
   "nbconvert_exporter": "python",
   "pygments_lexer": "ipython3",
   "version": "3.6.7"
  }
 },
 "nbformat": 4,
 "nbformat_minor": 2
}
